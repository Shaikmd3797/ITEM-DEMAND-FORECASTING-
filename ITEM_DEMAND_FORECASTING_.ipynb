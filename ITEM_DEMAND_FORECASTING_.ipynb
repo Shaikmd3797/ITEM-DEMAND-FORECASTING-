{
  "cells": [
    {
      "cell_type": "markdown",
      "metadata": {
        "id": "view-in-github",
        "colab_type": "text"
      },
      "source": [
        "<a href=\"https://colab.research.google.com/github/Shaikmd3797/ITEM-DEMAND-FORECASTING-/blob/main/ITEM_DEMAND_FORECASTING_.ipynb\" target=\"_parent\"><img src=\"https://colab.research.google.com/assets/colab-badge.svg\" alt=\"Open In Colab\"/></a>"
      ]
    },
    {
      "cell_type": "markdown",
      "metadata": {
        "id": "ULRh9BFd-VpV"
      },
      "source": [
        "# ***ITEM DEMAND FORCASTING FOR 3 MONTHS.***\n",
        "\n",
        " # ***AIM:***\n",
        "     \n",
        "*  # *This model was analysing the 5 years of sales of 50+ items in 10+ different shops at every day .It will be find the demand of next three months of items .*\n",
        "\n",
        "\n",
        "1.  *data cleaning.*\n",
        "2.  *EDA for dataset.*\n",
        "3.  *splitting of data*\n",
        "4.  *scaling of the data*\n",
        "5.  *build the model* \n",
        "\n",
        " *   linear regression algorithm\n",
        " *   KNN regressor algorithm\n",
        " *   Decision tree regressor algorithm\n",
        " *   Random forest regressor algorithm\n",
        " *   Xgboost algorithm\n",
        " *   voting regressor algorithm\n",
        "\n",
        "6.  *evaluate the all models*\n",
        "\n",
        " \n",
        "\n",
        "\n",
        "\n",
        "\n",
        "\n",
        "\n"
      ]
    },
    {
      "cell_type": "markdown",
      "metadata": {
        "id": "HIjfxmb6F8OC"
      },
      "source": [
        "# **1. Data Cleaning**"
      ]
    },
    {
      "cell_type": "code",
      "execution_count": 1,
      "metadata": {
        "id": "5N-T3FqlF7Wd"
      },
      "outputs": [],
      "source": [
        "# import all neccessary libraries for data reading, cleaning and EDA\n",
        "import pandas as pd \n",
        "import numpy as np\n",
        "import matplotlib.pyplot as plt\n",
        "import seaborn as sns\n",
        "import warnings \n",
        "warnings.filterwarnings('ignore')"
      ]
    },
    {
      "cell_type": "code",
      "execution_count": 2,
      "metadata": {
        "colab": {
          "base_uri": "https://localhost:8080/"
        },
        "id": "hqTEf2maGfrT",
        "outputId": "a9dc1367-0a97-4908-950a-09ea97b81eba"
      },
      "outputs": [
        {
          "output_type": "stream",
          "name": "stdout",
          "text": [
            "Shape of Raw dataset : (913000, 4)\n"
          ]
        }
      ],
      "source": [
        "df=pd.read_csv('train 2.csv')               # read the dataset\n",
        "print('Shape of Raw dataset :', df.shape)   # shape of dataframe before dropping duplicates"
      ]
    },
    {
      "cell_type": "code",
      "source": [
        "df=df.drop_duplicates()\n",
        "print('Shape of  Dataframe after remove duplicates :',df.shape)"
      ],
      "metadata": {
        "colab": {
          "base_uri": "https://localhost:8080/"
        },
        "id": "3ng3uufyqRb-",
        "outputId": "436a9869-aa04-4d04-ec67-5f1bc33e096f"
      },
      "execution_count": 3,
      "outputs": [
        {
          "output_type": "stream",
          "name": "stdout",
          "text": [
            "Shape of  Dataframe after remove duplicates : (913000, 4)\n"
          ]
        }
      ]
    },
    {
      "cell_type": "markdown",
      "source": [
        "**NO Duplicates are presents in the dataset**"
      ],
      "metadata": {
        "id": "u-YrdwH0ZUAh"
      }
    },
    {
      "cell_type": "code",
      "source": [
        "df.isnull().sum()"
      ],
      "metadata": {
        "colab": {
          "base_uri": "https://localhost:8080/"
        },
        "id": "_gXhABUIqUeq",
        "outputId": "f4b6bcb4-c6d4-4f8a-d49e-ad045102e58f"
      },
      "execution_count": 4,
      "outputs": [
        {
          "output_type": "execute_result",
          "data": {
            "text/plain": [
              "date     0\n",
              "store    0\n",
              "item     0\n",
              "sales    0\n",
              "dtype: int64"
            ]
          },
          "metadata": {},
          "execution_count": 4
        }
      ]
    },
    {
      "cell_type": "code",
      "execution_count": 5,
      "metadata": {
        "colab": {
          "base_uri": "https://localhost:8080/"
        },
        "id": "keHO1nKv0DBt",
        "outputId": "b2c23ffe-19ed-485b-a9a2-2caf92e51ed1"
      },
      "outputs": [
        {
          "output_type": "stream",
          "name": "stdout",
          "text": [
            "<class 'pandas.core.frame.DataFrame'>\n",
            "Int64Index: 913000 entries, 0 to 912999\n",
            "Data columns (total 4 columns):\n",
            " #   Column  Non-Null Count   Dtype \n",
            "---  ------  --------------   ----- \n",
            " 0   date    913000 non-null  object\n",
            " 1   store   913000 non-null  int64 \n",
            " 2   item    913000 non-null  int64 \n",
            " 3   sales   913000 non-null  int64 \n",
            "dtypes: int64(3), object(1)\n",
            "memory usage: 34.8+ MB\n"
          ]
        }
      ],
      "source": [
        "df.info()                              # check the datatypes are in right format"
      ]
    },
    {
      "cell_type": "markdown",
      "source": [
        " **Datatype of date column is not meaningful.So it will change into \"datetime\" datatype.**"
      ],
      "metadata": {
        "id": "fZst5CUdZt5-"
      }
    },
    {
      "cell_type": "code",
      "execution_count": 6,
      "metadata": {
        "id": "yHGgkT5p1sBS",
        "colab": {
          "base_uri": "https://localhost:8080/",
          "height": 206
        },
        "outputId": "d56b2775-6a08-44a5-c418-8b969551520a"
      },
      "outputs": [
        {
          "output_type": "execute_result",
          "data": {
            "text/plain": [
              "           date  store  item  sales\n",
              "0    2013-01-01      1     1     13\n",
              "1826 2013-01-01      2     1     12\n",
              "3652 2013-01-01      3     1     19\n",
              "5478 2013-01-01      4     1     10\n",
              "7304 2013-01-01      5     1     11"
            ],
            "text/html": [
              "\n",
              "  <div id=\"df-764c232a-6df1-4e33-a174-0da2555590e3\">\n",
              "    <div class=\"colab-df-container\">\n",
              "      <div>\n",
              "<style scoped>\n",
              "    .dataframe tbody tr th:only-of-type {\n",
              "        vertical-align: middle;\n",
              "    }\n",
              "\n",
              "    .dataframe tbody tr th {\n",
              "        vertical-align: top;\n",
              "    }\n",
              "\n",
              "    .dataframe thead th {\n",
              "        text-align: right;\n",
              "    }\n",
              "</style>\n",
              "<table border=\"1\" class=\"dataframe\">\n",
              "  <thead>\n",
              "    <tr style=\"text-align: right;\">\n",
              "      <th></th>\n",
              "      <th>date</th>\n",
              "      <th>store</th>\n",
              "      <th>item</th>\n",
              "      <th>sales</th>\n",
              "    </tr>\n",
              "  </thead>\n",
              "  <tbody>\n",
              "    <tr>\n",
              "      <th>0</th>\n",
              "      <td>2013-01-01</td>\n",
              "      <td>1</td>\n",
              "      <td>1</td>\n",
              "      <td>13</td>\n",
              "    </tr>\n",
              "    <tr>\n",
              "      <th>1826</th>\n",
              "      <td>2013-01-01</td>\n",
              "      <td>2</td>\n",
              "      <td>1</td>\n",
              "      <td>12</td>\n",
              "    </tr>\n",
              "    <tr>\n",
              "      <th>3652</th>\n",
              "      <td>2013-01-01</td>\n",
              "      <td>3</td>\n",
              "      <td>1</td>\n",
              "      <td>19</td>\n",
              "    </tr>\n",
              "    <tr>\n",
              "      <th>5478</th>\n",
              "      <td>2013-01-01</td>\n",
              "      <td>4</td>\n",
              "      <td>1</td>\n",
              "      <td>10</td>\n",
              "    </tr>\n",
              "    <tr>\n",
              "      <th>7304</th>\n",
              "      <td>2013-01-01</td>\n",
              "      <td>5</td>\n",
              "      <td>1</td>\n",
              "      <td>11</td>\n",
              "    </tr>\n",
              "  </tbody>\n",
              "</table>\n",
              "</div>\n",
              "      <button class=\"colab-df-convert\" onclick=\"convertToInteractive('df-764c232a-6df1-4e33-a174-0da2555590e3')\"\n",
              "              title=\"Convert this dataframe to an interactive table.\"\n",
              "              style=\"display:none;\">\n",
              "        \n",
              "  <svg xmlns=\"http://www.w3.org/2000/svg\" height=\"24px\"viewBox=\"0 0 24 24\"\n",
              "       width=\"24px\">\n",
              "    <path d=\"M0 0h24v24H0V0z\" fill=\"none\"/>\n",
              "    <path d=\"M18.56 5.44l.94 2.06.94-2.06 2.06-.94-2.06-.94-.94-2.06-.94 2.06-2.06.94zm-11 1L8.5 8.5l.94-2.06 2.06-.94-2.06-.94L8.5 2.5l-.94 2.06-2.06.94zm10 10l.94 2.06.94-2.06 2.06-.94-2.06-.94-.94-2.06-.94 2.06-2.06.94z\"/><path d=\"M17.41 7.96l-1.37-1.37c-.4-.4-.92-.59-1.43-.59-.52 0-1.04.2-1.43.59L10.3 9.45l-7.72 7.72c-.78.78-.78 2.05 0 2.83L4 21.41c.39.39.9.59 1.41.59.51 0 1.02-.2 1.41-.59l7.78-7.78 2.81-2.81c.8-.78.8-2.07 0-2.86zM5.41 20L4 18.59l7.72-7.72 1.47 1.35L5.41 20z\"/>\n",
              "  </svg>\n",
              "      </button>\n",
              "      \n",
              "  <style>\n",
              "    .colab-df-container {\n",
              "      display:flex;\n",
              "      flex-wrap:wrap;\n",
              "      gap: 12px;\n",
              "    }\n",
              "\n",
              "    .colab-df-convert {\n",
              "      background-color: #E8F0FE;\n",
              "      border: none;\n",
              "      border-radius: 50%;\n",
              "      cursor: pointer;\n",
              "      display: none;\n",
              "      fill: #1967D2;\n",
              "      height: 32px;\n",
              "      padding: 0 0 0 0;\n",
              "      width: 32px;\n",
              "    }\n",
              "\n",
              "    .colab-df-convert:hover {\n",
              "      background-color: #E2EBFA;\n",
              "      box-shadow: 0px 1px 2px rgba(60, 64, 67, 0.3), 0px 1px 3px 1px rgba(60, 64, 67, 0.15);\n",
              "      fill: #174EA6;\n",
              "    }\n",
              "\n",
              "    [theme=dark] .colab-df-convert {\n",
              "      background-color: #3B4455;\n",
              "      fill: #D2E3FC;\n",
              "    }\n",
              "\n",
              "    [theme=dark] .colab-df-convert:hover {\n",
              "      background-color: #434B5C;\n",
              "      box-shadow: 0px 1px 3px 1px rgba(0, 0, 0, 0.15);\n",
              "      filter: drop-shadow(0px 1px 2px rgba(0, 0, 0, 0.3));\n",
              "      fill: #FFFFFF;\n",
              "    }\n",
              "  </style>\n",
              "\n",
              "      <script>\n",
              "        const buttonEl =\n",
              "          document.querySelector('#df-764c232a-6df1-4e33-a174-0da2555590e3 button.colab-df-convert');\n",
              "        buttonEl.style.display =\n",
              "          google.colab.kernel.accessAllowed ? 'block' : 'none';\n",
              "\n",
              "        async function convertToInteractive(key) {\n",
              "          const element = document.querySelector('#df-764c232a-6df1-4e33-a174-0da2555590e3');\n",
              "          const dataTable =\n",
              "            await google.colab.kernel.invokeFunction('convertToInteractive',\n",
              "                                                     [key], {});\n",
              "          if (!dataTable) return;\n",
              "\n",
              "          const docLinkHtml = 'Like what you see? Visit the ' +\n",
              "            '<a target=\"_blank\" href=https://colab.research.google.com/notebooks/data_table.ipynb>data table notebook</a>'\n",
              "            + ' to learn more about interactive tables.';\n",
              "          element.innerHTML = '';\n",
              "          dataTable['output_type'] = 'display_data';\n",
              "          await google.colab.output.renderOutput(dataTable, element);\n",
              "          const docLink = document.createElement('div');\n",
              "          docLink.innerHTML = docLinkHtml;\n",
              "          element.appendChild(docLink);\n",
              "        }\n",
              "      </script>\n",
              "    </div>\n",
              "  </div>\n",
              "  "
            ]
          },
          "metadata": {},
          "execution_count": 6
        }
      ],
      "source": [
        "df['date']=pd.to_datetime(df['date']) # change the datatype of date column\n",
        "df=df.sort_values(by=['date','item']) # dataset is changing into ascending order with respect to date\n",
        "df.head()"
      ]
    },
    {
      "cell_type": "code",
      "source": [
        "df.describe()"
      ],
      "metadata": {
        "colab": {
          "base_uri": "https://localhost:8080/",
          "height": 300
        },
        "id": "RJtRO7dAqjjG",
        "outputId": "fc37b124-cd10-4f85-cfdc-e416400f5446"
      },
      "execution_count": 7,
      "outputs": [
        {
          "output_type": "execute_result",
          "data": {
            "text/plain": [
              "               store           item          sales\n",
              "count  913000.000000  913000.000000  913000.000000\n",
              "mean        5.500000      25.500000      52.250287\n",
              "std         2.872283      14.430878      28.801144\n",
              "min         1.000000       1.000000       0.000000\n",
              "25%         3.000000      13.000000      30.000000\n",
              "50%         5.500000      25.500000      47.000000\n",
              "75%         8.000000      38.000000      70.000000\n",
              "max        10.000000      50.000000     231.000000"
            ],
            "text/html": [
              "\n",
              "  <div id=\"df-5957195c-cddd-4d7b-aaa6-31d4385cec82\">\n",
              "    <div class=\"colab-df-container\">\n",
              "      <div>\n",
              "<style scoped>\n",
              "    .dataframe tbody tr th:only-of-type {\n",
              "        vertical-align: middle;\n",
              "    }\n",
              "\n",
              "    .dataframe tbody tr th {\n",
              "        vertical-align: top;\n",
              "    }\n",
              "\n",
              "    .dataframe thead th {\n",
              "        text-align: right;\n",
              "    }\n",
              "</style>\n",
              "<table border=\"1\" class=\"dataframe\">\n",
              "  <thead>\n",
              "    <tr style=\"text-align: right;\">\n",
              "      <th></th>\n",
              "      <th>store</th>\n",
              "      <th>item</th>\n",
              "      <th>sales</th>\n",
              "    </tr>\n",
              "  </thead>\n",
              "  <tbody>\n",
              "    <tr>\n",
              "      <th>count</th>\n",
              "      <td>913000.000000</td>\n",
              "      <td>913000.000000</td>\n",
              "      <td>913000.000000</td>\n",
              "    </tr>\n",
              "    <tr>\n",
              "      <th>mean</th>\n",
              "      <td>5.500000</td>\n",
              "      <td>25.500000</td>\n",
              "      <td>52.250287</td>\n",
              "    </tr>\n",
              "    <tr>\n",
              "      <th>std</th>\n",
              "      <td>2.872283</td>\n",
              "      <td>14.430878</td>\n",
              "      <td>28.801144</td>\n",
              "    </tr>\n",
              "    <tr>\n",
              "      <th>min</th>\n",
              "      <td>1.000000</td>\n",
              "      <td>1.000000</td>\n",
              "      <td>0.000000</td>\n",
              "    </tr>\n",
              "    <tr>\n",
              "      <th>25%</th>\n",
              "      <td>3.000000</td>\n",
              "      <td>13.000000</td>\n",
              "      <td>30.000000</td>\n",
              "    </tr>\n",
              "    <tr>\n",
              "      <th>50%</th>\n",
              "      <td>5.500000</td>\n",
              "      <td>25.500000</td>\n",
              "      <td>47.000000</td>\n",
              "    </tr>\n",
              "    <tr>\n",
              "      <th>75%</th>\n",
              "      <td>8.000000</td>\n",
              "      <td>38.000000</td>\n",
              "      <td>70.000000</td>\n",
              "    </tr>\n",
              "    <tr>\n",
              "      <th>max</th>\n",
              "      <td>10.000000</td>\n",
              "      <td>50.000000</td>\n",
              "      <td>231.000000</td>\n",
              "    </tr>\n",
              "  </tbody>\n",
              "</table>\n",
              "</div>\n",
              "      <button class=\"colab-df-convert\" onclick=\"convertToInteractive('df-5957195c-cddd-4d7b-aaa6-31d4385cec82')\"\n",
              "              title=\"Convert this dataframe to an interactive table.\"\n",
              "              style=\"display:none;\">\n",
              "        \n",
              "  <svg xmlns=\"http://www.w3.org/2000/svg\" height=\"24px\"viewBox=\"0 0 24 24\"\n",
              "       width=\"24px\">\n",
              "    <path d=\"M0 0h24v24H0V0z\" fill=\"none\"/>\n",
              "    <path d=\"M18.56 5.44l.94 2.06.94-2.06 2.06-.94-2.06-.94-.94-2.06-.94 2.06-2.06.94zm-11 1L8.5 8.5l.94-2.06 2.06-.94-2.06-.94L8.5 2.5l-.94 2.06-2.06.94zm10 10l.94 2.06.94-2.06 2.06-.94-2.06-.94-.94-2.06-.94 2.06-2.06.94z\"/><path d=\"M17.41 7.96l-1.37-1.37c-.4-.4-.92-.59-1.43-.59-.52 0-1.04.2-1.43.59L10.3 9.45l-7.72 7.72c-.78.78-.78 2.05 0 2.83L4 21.41c.39.39.9.59 1.41.59.51 0 1.02-.2 1.41-.59l7.78-7.78 2.81-2.81c.8-.78.8-2.07 0-2.86zM5.41 20L4 18.59l7.72-7.72 1.47 1.35L5.41 20z\"/>\n",
              "  </svg>\n",
              "      </button>\n",
              "      \n",
              "  <style>\n",
              "    .colab-df-container {\n",
              "      display:flex;\n",
              "      flex-wrap:wrap;\n",
              "      gap: 12px;\n",
              "    }\n",
              "\n",
              "    .colab-df-convert {\n",
              "      background-color: #E8F0FE;\n",
              "      border: none;\n",
              "      border-radius: 50%;\n",
              "      cursor: pointer;\n",
              "      display: none;\n",
              "      fill: #1967D2;\n",
              "      height: 32px;\n",
              "      padding: 0 0 0 0;\n",
              "      width: 32px;\n",
              "    }\n",
              "\n",
              "    .colab-df-convert:hover {\n",
              "      background-color: #E2EBFA;\n",
              "      box-shadow: 0px 1px 2px rgba(60, 64, 67, 0.3), 0px 1px 3px 1px rgba(60, 64, 67, 0.15);\n",
              "      fill: #174EA6;\n",
              "    }\n",
              "\n",
              "    [theme=dark] .colab-df-convert {\n",
              "      background-color: #3B4455;\n",
              "      fill: #D2E3FC;\n",
              "    }\n",
              "\n",
              "    [theme=dark] .colab-df-convert:hover {\n",
              "      background-color: #434B5C;\n",
              "      box-shadow: 0px 1px 3px 1px rgba(0, 0, 0, 0.15);\n",
              "      filter: drop-shadow(0px 1px 2px rgba(0, 0, 0, 0.3));\n",
              "      fill: #FFFFFF;\n",
              "    }\n",
              "  </style>\n",
              "\n",
              "      <script>\n",
              "        const buttonEl =\n",
              "          document.querySelector('#df-5957195c-cddd-4d7b-aaa6-31d4385cec82 button.colab-df-convert');\n",
              "        buttonEl.style.display =\n",
              "          google.colab.kernel.accessAllowed ? 'block' : 'none';\n",
              "\n",
              "        async function convertToInteractive(key) {\n",
              "          const element = document.querySelector('#df-5957195c-cddd-4d7b-aaa6-31d4385cec82');\n",
              "          const dataTable =\n",
              "            await google.colab.kernel.invokeFunction('convertToInteractive',\n",
              "                                                     [key], {});\n",
              "          if (!dataTable) return;\n",
              "\n",
              "          const docLinkHtml = 'Like what you see? Visit the ' +\n",
              "            '<a target=\"_blank\" href=https://colab.research.google.com/notebooks/data_table.ipynb>data table notebook</a>'\n",
              "            + ' to learn more about interactive tables.';\n",
              "          element.innerHTML = '';\n",
              "          dataTable['output_type'] = 'display_data';\n",
              "          await google.colab.output.renderOutput(dataTable, element);\n",
              "          const docLink = document.createElement('div');\n",
              "          docLink.innerHTML = docLinkHtml;\n",
              "          element.appendChild(docLink);\n",
              "        }\n",
              "      </script>\n",
              "    </div>\n",
              "  </div>\n",
              "  "
            ]
          },
          "metadata": {},
          "execution_count": 7
        }
      ]
    },
    {
      "cell_type": "code",
      "source": [
        "#df=df.drop('store',axis=1)"
      ],
      "metadata": {
        "id": "mGm9bted7PUQ"
      },
      "execution_count": 8,
      "outputs": []
    },
    {
      "cell_type": "code",
      "source": [
        "df=pd.DataFrame(df.groupby(['date','item'])['sales'].sum())\n",
        "df.reset_index(inplace=True)\n",
        "df"
      ],
      "metadata": {
        "id": "IhFdqvuz56EK",
        "colab": {
          "base_uri": "https://localhost:8080/",
          "height": 424
        },
        "outputId": "660cf508-1a08-4f0d-9774-3d6a7180f01c"
      },
      "execution_count": 9,
      "outputs": [
        {
          "output_type": "execute_result",
          "data": {
            "text/plain": [
              "            date  item  sales\n",
              "0     2013-01-01     1    133\n",
              "1     2013-01-01     2    327\n",
              "2     2013-01-01     3    172\n",
              "3     2013-01-01     4    102\n",
              "4     2013-01-01     5     83\n",
              "...          ...   ...    ...\n",
              "91295 2017-12-31    46    605\n",
              "91296 2017-12-31    47    211\n",
              "91297 2017-12-31    48    494\n",
              "91298 2017-12-31    49    285\n",
              "91299 2017-12-31    50    626\n",
              "\n",
              "[91300 rows x 3 columns]"
            ],
            "text/html": [
              "\n",
              "  <div id=\"df-3c15de7c-482a-4475-9e41-c9f2f3baaac5\">\n",
              "    <div class=\"colab-df-container\">\n",
              "      <div>\n",
              "<style scoped>\n",
              "    .dataframe tbody tr th:only-of-type {\n",
              "        vertical-align: middle;\n",
              "    }\n",
              "\n",
              "    .dataframe tbody tr th {\n",
              "        vertical-align: top;\n",
              "    }\n",
              "\n",
              "    .dataframe thead th {\n",
              "        text-align: right;\n",
              "    }\n",
              "</style>\n",
              "<table border=\"1\" class=\"dataframe\">\n",
              "  <thead>\n",
              "    <tr style=\"text-align: right;\">\n",
              "      <th></th>\n",
              "      <th>date</th>\n",
              "      <th>item</th>\n",
              "      <th>sales</th>\n",
              "    </tr>\n",
              "  </thead>\n",
              "  <tbody>\n",
              "    <tr>\n",
              "      <th>0</th>\n",
              "      <td>2013-01-01</td>\n",
              "      <td>1</td>\n",
              "      <td>133</td>\n",
              "    </tr>\n",
              "    <tr>\n",
              "      <th>1</th>\n",
              "      <td>2013-01-01</td>\n",
              "      <td>2</td>\n",
              "      <td>327</td>\n",
              "    </tr>\n",
              "    <tr>\n",
              "      <th>2</th>\n",
              "      <td>2013-01-01</td>\n",
              "      <td>3</td>\n",
              "      <td>172</td>\n",
              "    </tr>\n",
              "    <tr>\n",
              "      <th>3</th>\n",
              "      <td>2013-01-01</td>\n",
              "      <td>4</td>\n",
              "      <td>102</td>\n",
              "    </tr>\n",
              "    <tr>\n",
              "      <th>4</th>\n",
              "      <td>2013-01-01</td>\n",
              "      <td>5</td>\n",
              "      <td>83</td>\n",
              "    </tr>\n",
              "    <tr>\n",
              "      <th>...</th>\n",
              "      <td>...</td>\n",
              "      <td>...</td>\n",
              "      <td>...</td>\n",
              "    </tr>\n",
              "    <tr>\n",
              "      <th>91295</th>\n",
              "      <td>2017-12-31</td>\n",
              "      <td>46</td>\n",
              "      <td>605</td>\n",
              "    </tr>\n",
              "    <tr>\n",
              "      <th>91296</th>\n",
              "      <td>2017-12-31</td>\n",
              "      <td>47</td>\n",
              "      <td>211</td>\n",
              "    </tr>\n",
              "    <tr>\n",
              "      <th>91297</th>\n",
              "      <td>2017-12-31</td>\n",
              "      <td>48</td>\n",
              "      <td>494</td>\n",
              "    </tr>\n",
              "    <tr>\n",
              "      <th>91298</th>\n",
              "      <td>2017-12-31</td>\n",
              "      <td>49</td>\n",
              "      <td>285</td>\n",
              "    </tr>\n",
              "    <tr>\n",
              "      <th>91299</th>\n",
              "      <td>2017-12-31</td>\n",
              "      <td>50</td>\n",
              "      <td>626</td>\n",
              "    </tr>\n",
              "  </tbody>\n",
              "</table>\n",
              "<p>91300 rows × 3 columns</p>\n",
              "</div>\n",
              "      <button class=\"colab-df-convert\" onclick=\"convertToInteractive('df-3c15de7c-482a-4475-9e41-c9f2f3baaac5')\"\n",
              "              title=\"Convert this dataframe to an interactive table.\"\n",
              "              style=\"display:none;\">\n",
              "        \n",
              "  <svg xmlns=\"http://www.w3.org/2000/svg\" height=\"24px\"viewBox=\"0 0 24 24\"\n",
              "       width=\"24px\">\n",
              "    <path d=\"M0 0h24v24H0V0z\" fill=\"none\"/>\n",
              "    <path d=\"M18.56 5.44l.94 2.06.94-2.06 2.06-.94-2.06-.94-.94-2.06-.94 2.06-2.06.94zm-11 1L8.5 8.5l.94-2.06 2.06-.94-2.06-.94L8.5 2.5l-.94 2.06-2.06.94zm10 10l.94 2.06.94-2.06 2.06-.94-2.06-.94-.94-2.06-.94 2.06-2.06.94z\"/><path d=\"M17.41 7.96l-1.37-1.37c-.4-.4-.92-.59-1.43-.59-.52 0-1.04.2-1.43.59L10.3 9.45l-7.72 7.72c-.78.78-.78 2.05 0 2.83L4 21.41c.39.39.9.59 1.41.59.51 0 1.02-.2 1.41-.59l7.78-7.78 2.81-2.81c.8-.78.8-2.07 0-2.86zM5.41 20L4 18.59l7.72-7.72 1.47 1.35L5.41 20z\"/>\n",
              "  </svg>\n",
              "      </button>\n",
              "      \n",
              "  <style>\n",
              "    .colab-df-container {\n",
              "      display:flex;\n",
              "      flex-wrap:wrap;\n",
              "      gap: 12px;\n",
              "    }\n",
              "\n",
              "    .colab-df-convert {\n",
              "      background-color: #E8F0FE;\n",
              "      border: none;\n",
              "      border-radius: 50%;\n",
              "      cursor: pointer;\n",
              "      display: none;\n",
              "      fill: #1967D2;\n",
              "      height: 32px;\n",
              "      padding: 0 0 0 0;\n",
              "      width: 32px;\n",
              "    }\n",
              "\n",
              "    .colab-df-convert:hover {\n",
              "      background-color: #E2EBFA;\n",
              "      box-shadow: 0px 1px 2px rgba(60, 64, 67, 0.3), 0px 1px 3px 1px rgba(60, 64, 67, 0.15);\n",
              "      fill: #174EA6;\n",
              "    }\n",
              "\n",
              "    [theme=dark] .colab-df-convert {\n",
              "      background-color: #3B4455;\n",
              "      fill: #D2E3FC;\n",
              "    }\n",
              "\n",
              "    [theme=dark] .colab-df-convert:hover {\n",
              "      background-color: #434B5C;\n",
              "      box-shadow: 0px 1px 3px 1px rgba(0, 0, 0, 0.15);\n",
              "      filter: drop-shadow(0px 1px 2px rgba(0, 0, 0, 0.3));\n",
              "      fill: #FFFFFF;\n",
              "    }\n",
              "  </style>\n",
              "\n",
              "      <script>\n",
              "        const buttonEl =\n",
              "          document.querySelector('#df-3c15de7c-482a-4475-9e41-c9f2f3baaac5 button.colab-df-convert');\n",
              "        buttonEl.style.display =\n",
              "          google.colab.kernel.accessAllowed ? 'block' : 'none';\n",
              "\n",
              "        async function convertToInteractive(key) {\n",
              "          const element = document.querySelector('#df-3c15de7c-482a-4475-9e41-c9f2f3baaac5');\n",
              "          const dataTable =\n",
              "            await google.colab.kernel.invokeFunction('convertToInteractive',\n",
              "                                                     [key], {});\n",
              "          if (!dataTable) return;\n",
              "\n",
              "          const docLinkHtml = 'Like what you see? Visit the ' +\n",
              "            '<a target=\"_blank\" href=https://colab.research.google.com/notebooks/data_table.ipynb>data table notebook</a>'\n",
              "            + ' to learn more about interactive tables.';\n",
              "          element.innerHTML = '';\n",
              "          dataTable['output_type'] = 'display_data';\n",
              "          await google.colab.output.renderOutput(dataTable, element);\n",
              "          const docLink = document.createElement('div');\n",
              "          docLink.innerHTML = docLinkHtml;\n",
              "          element.appendChild(docLink);\n",
              "        }\n",
              "      </script>\n",
              "    </div>\n",
              "  </div>\n",
              "  "
            ]
          },
          "metadata": {},
          "execution_count": 9
        }
      ]
    },
    {
      "cell_type": "code",
      "source": [
        "df['end_date']=df['date']+pd.DateOffset(months=+3)"
      ],
      "metadata": {
        "id": "OWcvoabWOkgH"
      },
      "execution_count": 10,
      "outputs": []
    },
    {
      "cell_type": "code",
      "source": [
        "df['duration']=(df['end_date']-df['date']).dt.days\n",
        "df"
      ],
      "metadata": {
        "colab": {
          "base_uri": "https://localhost:8080/",
          "height": 424
        },
        "id": "5ZiXnCJuPCtx",
        "outputId": "2b766f61-5844-44f8-e117-489306fbbfee"
      },
      "execution_count": 11,
      "outputs": [
        {
          "output_type": "execute_result",
          "data": {
            "text/plain": [
              "            date  item  sales   end_date  duration\n",
              "0     2013-01-01     1    133 2013-04-01        90\n",
              "1     2013-01-01     2    327 2013-04-01        90\n",
              "2     2013-01-01     3    172 2013-04-01        90\n",
              "3     2013-01-01     4    102 2013-04-01        90\n",
              "4     2013-01-01     5     83 2013-04-01        90\n",
              "...          ...   ...    ...        ...       ...\n",
              "91295 2017-12-31    46    605 2018-03-31        90\n",
              "91296 2017-12-31    47    211 2018-03-31        90\n",
              "91297 2017-12-31    48    494 2018-03-31        90\n",
              "91298 2017-12-31    49    285 2018-03-31        90\n",
              "91299 2017-12-31    50    626 2018-03-31        90\n",
              "\n",
              "[91300 rows x 5 columns]"
            ],
            "text/html": [
              "\n",
              "  <div id=\"df-a49351a2-8bc5-4445-b079-6083b73db9d3\">\n",
              "    <div class=\"colab-df-container\">\n",
              "      <div>\n",
              "<style scoped>\n",
              "    .dataframe tbody tr th:only-of-type {\n",
              "        vertical-align: middle;\n",
              "    }\n",
              "\n",
              "    .dataframe tbody tr th {\n",
              "        vertical-align: top;\n",
              "    }\n",
              "\n",
              "    .dataframe thead th {\n",
              "        text-align: right;\n",
              "    }\n",
              "</style>\n",
              "<table border=\"1\" class=\"dataframe\">\n",
              "  <thead>\n",
              "    <tr style=\"text-align: right;\">\n",
              "      <th></th>\n",
              "      <th>date</th>\n",
              "      <th>item</th>\n",
              "      <th>sales</th>\n",
              "      <th>end_date</th>\n",
              "      <th>duration</th>\n",
              "    </tr>\n",
              "  </thead>\n",
              "  <tbody>\n",
              "    <tr>\n",
              "      <th>0</th>\n",
              "      <td>2013-01-01</td>\n",
              "      <td>1</td>\n",
              "      <td>133</td>\n",
              "      <td>2013-04-01</td>\n",
              "      <td>90</td>\n",
              "    </tr>\n",
              "    <tr>\n",
              "      <th>1</th>\n",
              "      <td>2013-01-01</td>\n",
              "      <td>2</td>\n",
              "      <td>327</td>\n",
              "      <td>2013-04-01</td>\n",
              "      <td>90</td>\n",
              "    </tr>\n",
              "    <tr>\n",
              "      <th>2</th>\n",
              "      <td>2013-01-01</td>\n",
              "      <td>3</td>\n",
              "      <td>172</td>\n",
              "      <td>2013-04-01</td>\n",
              "      <td>90</td>\n",
              "    </tr>\n",
              "    <tr>\n",
              "      <th>3</th>\n",
              "      <td>2013-01-01</td>\n",
              "      <td>4</td>\n",
              "      <td>102</td>\n",
              "      <td>2013-04-01</td>\n",
              "      <td>90</td>\n",
              "    </tr>\n",
              "    <tr>\n",
              "      <th>4</th>\n",
              "      <td>2013-01-01</td>\n",
              "      <td>5</td>\n",
              "      <td>83</td>\n",
              "      <td>2013-04-01</td>\n",
              "      <td>90</td>\n",
              "    </tr>\n",
              "    <tr>\n",
              "      <th>...</th>\n",
              "      <td>...</td>\n",
              "      <td>...</td>\n",
              "      <td>...</td>\n",
              "      <td>...</td>\n",
              "      <td>...</td>\n",
              "    </tr>\n",
              "    <tr>\n",
              "      <th>91295</th>\n",
              "      <td>2017-12-31</td>\n",
              "      <td>46</td>\n",
              "      <td>605</td>\n",
              "      <td>2018-03-31</td>\n",
              "      <td>90</td>\n",
              "    </tr>\n",
              "    <tr>\n",
              "      <th>91296</th>\n",
              "      <td>2017-12-31</td>\n",
              "      <td>47</td>\n",
              "      <td>211</td>\n",
              "      <td>2018-03-31</td>\n",
              "      <td>90</td>\n",
              "    </tr>\n",
              "    <tr>\n",
              "      <th>91297</th>\n",
              "      <td>2017-12-31</td>\n",
              "      <td>48</td>\n",
              "      <td>494</td>\n",
              "      <td>2018-03-31</td>\n",
              "      <td>90</td>\n",
              "    </tr>\n",
              "    <tr>\n",
              "      <th>91298</th>\n",
              "      <td>2017-12-31</td>\n",
              "      <td>49</td>\n",
              "      <td>285</td>\n",
              "      <td>2018-03-31</td>\n",
              "      <td>90</td>\n",
              "    </tr>\n",
              "    <tr>\n",
              "      <th>91299</th>\n",
              "      <td>2017-12-31</td>\n",
              "      <td>50</td>\n",
              "      <td>626</td>\n",
              "      <td>2018-03-31</td>\n",
              "      <td>90</td>\n",
              "    </tr>\n",
              "  </tbody>\n",
              "</table>\n",
              "<p>91300 rows × 5 columns</p>\n",
              "</div>\n",
              "      <button class=\"colab-df-convert\" onclick=\"convertToInteractive('df-a49351a2-8bc5-4445-b079-6083b73db9d3')\"\n",
              "              title=\"Convert this dataframe to an interactive table.\"\n",
              "              style=\"display:none;\">\n",
              "        \n",
              "  <svg xmlns=\"http://www.w3.org/2000/svg\" height=\"24px\"viewBox=\"0 0 24 24\"\n",
              "       width=\"24px\">\n",
              "    <path d=\"M0 0h24v24H0V0z\" fill=\"none\"/>\n",
              "    <path d=\"M18.56 5.44l.94 2.06.94-2.06 2.06-.94-2.06-.94-.94-2.06-.94 2.06-2.06.94zm-11 1L8.5 8.5l.94-2.06 2.06-.94-2.06-.94L8.5 2.5l-.94 2.06-2.06.94zm10 10l.94 2.06.94-2.06 2.06-.94-2.06-.94-.94-2.06-.94 2.06-2.06.94z\"/><path d=\"M17.41 7.96l-1.37-1.37c-.4-.4-.92-.59-1.43-.59-.52 0-1.04.2-1.43.59L10.3 9.45l-7.72 7.72c-.78.78-.78 2.05 0 2.83L4 21.41c.39.39.9.59 1.41.59.51 0 1.02-.2 1.41-.59l7.78-7.78 2.81-2.81c.8-.78.8-2.07 0-2.86zM5.41 20L4 18.59l7.72-7.72 1.47 1.35L5.41 20z\"/>\n",
              "  </svg>\n",
              "      </button>\n",
              "      \n",
              "  <style>\n",
              "    .colab-df-container {\n",
              "      display:flex;\n",
              "      flex-wrap:wrap;\n",
              "      gap: 12px;\n",
              "    }\n",
              "\n",
              "    .colab-df-convert {\n",
              "      background-color: #E8F0FE;\n",
              "      border: none;\n",
              "      border-radius: 50%;\n",
              "      cursor: pointer;\n",
              "      display: none;\n",
              "      fill: #1967D2;\n",
              "      height: 32px;\n",
              "      padding: 0 0 0 0;\n",
              "      width: 32px;\n",
              "    }\n",
              "\n",
              "    .colab-df-convert:hover {\n",
              "      background-color: #E2EBFA;\n",
              "      box-shadow: 0px 1px 2px rgba(60, 64, 67, 0.3), 0px 1px 3px 1px rgba(60, 64, 67, 0.15);\n",
              "      fill: #174EA6;\n",
              "    }\n",
              "\n",
              "    [theme=dark] .colab-df-convert {\n",
              "      background-color: #3B4455;\n",
              "      fill: #D2E3FC;\n",
              "    }\n",
              "\n",
              "    [theme=dark] .colab-df-convert:hover {\n",
              "      background-color: #434B5C;\n",
              "      box-shadow: 0px 1px 3px 1px rgba(0, 0, 0, 0.15);\n",
              "      filter: drop-shadow(0px 1px 2px rgba(0, 0, 0, 0.3));\n",
              "      fill: #FFFFFF;\n",
              "    }\n",
              "  </style>\n",
              "\n",
              "      <script>\n",
              "        const buttonEl =\n",
              "          document.querySelector('#df-a49351a2-8bc5-4445-b079-6083b73db9d3 button.colab-df-convert');\n",
              "        buttonEl.style.display =\n",
              "          google.colab.kernel.accessAllowed ? 'block' : 'none';\n",
              "\n",
              "        async function convertToInteractive(key) {\n",
              "          const element = document.querySelector('#df-a49351a2-8bc5-4445-b079-6083b73db9d3');\n",
              "          const dataTable =\n",
              "            await google.colab.kernel.invokeFunction('convertToInteractive',\n",
              "                                                     [key], {});\n",
              "          if (!dataTable) return;\n",
              "\n",
              "          const docLinkHtml = 'Like what you see? Visit the ' +\n",
              "            '<a target=\"_blank\" href=https://colab.research.google.com/notebooks/data_table.ipynb>data table notebook</a>'\n",
              "            + ' to learn more about interactive tables.';\n",
              "          element.innerHTML = '';\n",
              "          dataTable['output_type'] = 'display_data';\n",
              "          await google.colab.output.renderOutput(dataTable, element);\n",
              "          const docLink = document.createElement('div');\n",
              "          docLink.innerHTML = docLinkHtml;\n",
              "          element.appendChild(docLink);\n",
              "        }\n",
              "      </script>\n",
              "    </div>\n",
              "  </div>\n",
              "  "
            ]
          },
          "metadata": {},
          "execution_count": 11
        }
      ]
    },
    {
      "cell_type": "code",
      "execution_count": 12,
      "metadata": {
        "id": "ycS_Mmyy3uac",
        "colab": {
          "base_uri": "https://localhost:8080/",
          "height": 424
        },
        "outputId": "d19df3c1-11bd-43d7-ea6c-12b3c005fb7e"
      },
      "outputs": [
        {
          "output_type": "execute_result",
          "data": {
            "text/plain": [
              "            date  item  sales   end_date  duration\n",
              "1     2013-01-01     2    327 2013-04-01        90\n",
              "51    2013-01-02     2    279 2013-04-02        90\n",
              "101   2013-01-03     2    304 2013-04-03        90\n",
              "151   2013-01-04     2    359 2013-04-04        90\n",
              "201   2013-01-05     2    377 2013-04-05        90\n",
              "...          ...   ...    ...        ...       ...\n",
              "91051 2017-12-27     2    500 2018-03-27        90\n",
              "91101 2017-12-28     2    495 2018-03-28        90\n",
              "91151 2017-12-29     2    515 2018-03-29        90\n",
              "91201 2017-12-30     2    538 2018-03-30        90\n",
              "91251 2017-12-31     2    634 2018-03-31        90\n",
              "\n",
              "[1826 rows x 5 columns]"
            ],
            "text/html": [
              "\n",
              "  <div id=\"df-3daf3ce5-cb07-48ef-95dd-3cf7c81d765c\">\n",
              "    <div class=\"colab-df-container\">\n",
              "      <div>\n",
              "<style scoped>\n",
              "    .dataframe tbody tr th:only-of-type {\n",
              "        vertical-align: middle;\n",
              "    }\n",
              "\n",
              "    .dataframe tbody tr th {\n",
              "        vertical-align: top;\n",
              "    }\n",
              "\n",
              "    .dataframe thead th {\n",
              "        text-align: right;\n",
              "    }\n",
              "</style>\n",
              "<table border=\"1\" class=\"dataframe\">\n",
              "  <thead>\n",
              "    <tr style=\"text-align: right;\">\n",
              "      <th></th>\n",
              "      <th>date</th>\n",
              "      <th>item</th>\n",
              "      <th>sales</th>\n",
              "      <th>end_date</th>\n",
              "      <th>duration</th>\n",
              "    </tr>\n",
              "  </thead>\n",
              "  <tbody>\n",
              "    <tr>\n",
              "      <th>1</th>\n",
              "      <td>2013-01-01</td>\n",
              "      <td>2</td>\n",
              "      <td>327</td>\n",
              "      <td>2013-04-01</td>\n",
              "      <td>90</td>\n",
              "    </tr>\n",
              "    <tr>\n",
              "      <th>51</th>\n",
              "      <td>2013-01-02</td>\n",
              "      <td>2</td>\n",
              "      <td>279</td>\n",
              "      <td>2013-04-02</td>\n",
              "      <td>90</td>\n",
              "    </tr>\n",
              "    <tr>\n",
              "      <th>101</th>\n",
              "      <td>2013-01-03</td>\n",
              "      <td>2</td>\n",
              "      <td>304</td>\n",
              "      <td>2013-04-03</td>\n",
              "      <td>90</td>\n",
              "    </tr>\n",
              "    <tr>\n",
              "      <th>151</th>\n",
              "      <td>2013-01-04</td>\n",
              "      <td>2</td>\n",
              "      <td>359</td>\n",
              "      <td>2013-04-04</td>\n",
              "      <td>90</td>\n",
              "    </tr>\n",
              "    <tr>\n",
              "      <th>201</th>\n",
              "      <td>2013-01-05</td>\n",
              "      <td>2</td>\n",
              "      <td>377</td>\n",
              "      <td>2013-04-05</td>\n",
              "      <td>90</td>\n",
              "    </tr>\n",
              "    <tr>\n",
              "      <th>...</th>\n",
              "      <td>...</td>\n",
              "      <td>...</td>\n",
              "      <td>...</td>\n",
              "      <td>...</td>\n",
              "      <td>...</td>\n",
              "    </tr>\n",
              "    <tr>\n",
              "      <th>91051</th>\n",
              "      <td>2017-12-27</td>\n",
              "      <td>2</td>\n",
              "      <td>500</td>\n",
              "      <td>2018-03-27</td>\n",
              "      <td>90</td>\n",
              "    </tr>\n",
              "    <tr>\n",
              "      <th>91101</th>\n",
              "      <td>2017-12-28</td>\n",
              "      <td>2</td>\n",
              "      <td>495</td>\n",
              "      <td>2018-03-28</td>\n",
              "      <td>90</td>\n",
              "    </tr>\n",
              "    <tr>\n",
              "      <th>91151</th>\n",
              "      <td>2017-12-29</td>\n",
              "      <td>2</td>\n",
              "      <td>515</td>\n",
              "      <td>2018-03-29</td>\n",
              "      <td>90</td>\n",
              "    </tr>\n",
              "    <tr>\n",
              "      <th>91201</th>\n",
              "      <td>2017-12-30</td>\n",
              "      <td>2</td>\n",
              "      <td>538</td>\n",
              "      <td>2018-03-30</td>\n",
              "      <td>90</td>\n",
              "    </tr>\n",
              "    <tr>\n",
              "      <th>91251</th>\n",
              "      <td>2017-12-31</td>\n",
              "      <td>2</td>\n",
              "      <td>634</td>\n",
              "      <td>2018-03-31</td>\n",
              "      <td>90</td>\n",
              "    </tr>\n",
              "  </tbody>\n",
              "</table>\n",
              "<p>1826 rows × 5 columns</p>\n",
              "</div>\n",
              "      <button class=\"colab-df-convert\" onclick=\"convertToInteractive('df-3daf3ce5-cb07-48ef-95dd-3cf7c81d765c')\"\n",
              "              title=\"Convert this dataframe to an interactive table.\"\n",
              "              style=\"display:none;\">\n",
              "        \n",
              "  <svg xmlns=\"http://www.w3.org/2000/svg\" height=\"24px\"viewBox=\"0 0 24 24\"\n",
              "       width=\"24px\">\n",
              "    <path d=\"M0 0h24v24H0V0z\" fill=\"none\"/>\n",
              "    <path d=\"M18.56 5.44l.94 2.06.94-2.06 2.06-.94-2.06-.94-.94-2.06-.94 2.06-2.06.94zm-11 1L8.5 8.5l.94-2.06 2.06-.94-2.06-.94L8.5 2.5l-.94 2.06-2.06.94zm10 10l.94 2.06.94-2.06 2.06-.94-2.06-.94-.94-2.06-.94 2.06-2.06.94z\"/><path d=\"M17.41 7.96l-1.37-1.37c-.4-.4-.92-.59-1.43-.59-.52 0-1.04.2-1.43.59L10.3 9.45l-7.72 7.72c-.78.78-.78 2.05 0 2.83L4 21.41c.39.39.9.59 1.41.59.51 0 1.02-.2 1.41-.59l7.78-7.78 2.81-2.81c.8-.78.8-2.07 0-2.86zM5.41 20L4 18.59l7.72-7.72 1.47 1.35L5.41 20z\"/>\n",
              "  </svg>\n",
              "      </button>\n",
              "      \n",
              "  <style>\n",
              "    .colab-df-container {\n",
              "      display:flex;\n",
              "      flex-wrap:wrap;\n",
              "      gap: 12px;\n",
              "    }\n",
              "\n",
              "    .colab-df-convert {\n",
              "      background-color: #E8F0FE;\n",
              "      border: none;\n",
              "      border-radius: 50%;\n",
              "      cursor: pointer;\n",
              "      display: none;\n",
              "      fill: #1967D2;\n",
              "      height: 32px;\n",
              "      padding: 0 0 0 0;\n",
              "      width: 32px;\n",
              "    }\n",
              "\n",
              "    .colab-df-convert:hover {\n",
              "      background-color: #E2EBFA;\n",
              "      box-shadow: 0px 1px 2px rgba(60, 64, 67, 0.3), 0px 1px 3px 1px rgba(60, 64, 67, 0.15);\n",
              "      fill: #174EA6;\n",
              "    }\n",
              "\n",
              "    [theme=dark] .colab-df-convert {\n",
              "      background-color: #3B4455;\n",
              "      fill: #D2E3FC;\n",
              "    }\n",
              "\n",
              "    [theme=dark] .colab-df-convert:hover {\n",
              "      background-color: #434B5C;\n",
              "      box-shadow: 0px 1px 3px 1px rgba(0, 0, 0, 0.15);\n",
              "      filter: drop-shadow(0px 1px 2px rgba(0, 0, 0, 0.3));\n",
              "      fill: #FFFFFF;\n",
              "    }\n",
              "  </style>\n",
              "\n",
              "      <script>\n",
              "        const buttonEl =\n",
              "          document.querySelector('#df-3daf3ce5-cb07-48ef-95dd-3cf7c81d765c button.colab-df-convert');\n",
              "        buttonEl.style.display =\n",
              "          google.colab.kernel.accessAllowed ? 'block' : 'none';\n",
              "\n",
              "        async function convertToInteractive(key) {\n",
              "          const element = document.querySelector('#df-3daf3ce5-cb07-48ef-95dd-3cf7c81d765c');\n",
              "          const dataTable =\n",
              "            await google.colab.kernel.invokeFunction('convertToInteractive',\n",
              "                                                     [key], {});\n",
              "          if (!dataTable) return;\n",
              "\n",
              "          const docLinkHtml = 'Like what you see? Visit the ' +\n",
              "            '<a target=\"_blank\" href=https://colab.research.google.com/notebooks/data_table.ipynb>data table notebook</a>'\n",
              "            + ' to learn more about interactive tables.';\n",
              "          element.innerHTML = '';\n",
              "          dataTable['output_type'] = 'display_data';\n",
              "          await google.colab.output.renderOutput(dataTable, element);\n",
              "          const docLink = document.createElement('div');\n",
              "          docLink.innerHTML = docLinkHtml;\n",
              "          element.appendChild(docLink);\n",
              "        }\n",
              "      </script>\n",
              "    </div>\n",
              "  </div>\n",
              "  "
            ]
          },
          "metadata": {},
          "execution_count": 12
        }
      ],
      "source": [
        "items_df=[]                                     # A whole dataframe split into multiple dataframe with respect to items\n",
        "for i in range(1,51):\n",
        "  items_df.append(df.loc[df['item']==i])\n",
        "items_df[1]                                     # Every item have unique dataframe\n",
        "  "
      ]
    },
    {
      "cell_type": "code",
      "execution_count": 13,
      "metadata": {
        "colab": {
          "base_uri": "https://localhost:8080/",
          "height": 206
        },
        "id": "0O6LneQE8-a6",
        "outputId": "0c5007c4-a33c-44c6-f9f9-377f93f20181"
      },
      "outputs": [
        {
          "output_type": "execute_result",
          "data": {
            "text/plain": [
              "          date  item  sales   end_date  duration\n",
              "5   2013-01-01     6    288 2013-04-01        90\n",
              "55  2013-01-02     6    310 2013-04-02        90\n",
              "105 2013-01-03     6    309 2013-04-03        90\n",
              "155 2013-01-04     6    343 2013-04-04        90\n",
              "205 2013-01-05     6    343 2013-04-05        90"
            ],
            "text/html": [
              "\n",
              "  <div id=\"df-ae1f16eb-f4a1-4070-81a0-0c3e960d6d4f\">\n",
              "    <div class=\"colab-df-container\">\n",
              "      <div>\n",
              "<style scoped>\n",
              "    .dataframe tbody tr th:only-of-type {\n",
              "        vertical-align: middle;\n",
              "    }\n",
              "\n",
              "    .dataframe tbody tr th {\n",
              "        vertical-align: top;\n",
              "    }\n",
              "\n",
              "    .dataframe thead th {\n",
              "        text-align: right;\n",
              "    }\n",
              "</style>\n",
              "<table border=\"1\" class=\"dataframe\">\n",
              "  <thead>\n",
              "    <tr style=\"text-align: right;\">\n",
              "      <th></th>\n",
              "      <th>date</th>\n",
              "      <th>item</th>\n",
              "      <th>sales</th>\n",
              "      <th>end_date</th>\n",
              "      <th>duration</th>\n",
              "    </tr>\n",
              "  </thead>\n",
              "  <tbody>\n",
              "    <tr>\n",
              "      <th>5</th>\n",
              "      <td>2013-01-01</td>\n",
              "      <td>6</td>\n",
              "      <td>288</td>\n",
              "      <td>2013-04-01</td>\n",
              "      <td>90</td>\n",
              "    </tr>\n",
              "    <tr>\n",
              "      <th>55</th>\n",
              "      <td>2013-01-02</td>\n",
              "      <td>6</td>\n",
              "      <td>310</td>\n",
              "      <td>2013-04-02</td>\n",
              "      <td>90</td>\n",
              "    </tr>\n",
              "    <tr>\n",
              "      <th>105</th>\n",
              "      <td>2013-01-03</td>\n",
              "      <td>6</td>\n",
              "      <td>309</td>\n",
              "      <td>2013-04-03</td>\n",
              "      <td>90</td>\n",
              "    </tr>\n",
              "    <tr>\n",
              "      <th>155</th>\n",
              "      <td>2013-01-04</td>\n",
              "      <td>6</td>\n",
              "      <td>343</td>\n",
              "      <td>2013-04-04</td>\n",
              "      <td>90</td>\n",
              "    </tr>\n",
              "    <tr>\n",
              "      <th>205</th>\n",
              "      <td>2013-01-05</td>\n",
              "      <td>6</td>\n",
              "      <td>343</td>\n",
              "      <td>2013-04-05</td>\n",
              "      <td>90</td>\n",
              "    </tr>\n",
              "  </tbody>\n",
              "</table>\n",
              "</div>\n",
              "      <button class=\"colab-df-convert\" onclick=\"convertToInteractive('df-ae1f16eb-f4a1-4070-81a0-0c3e960d6d4f')\"\n",
              "              title=\"Convert this dataframe to an interactive table.\"\n",
              "              style=\"display:none;\">\n",
              "        \n",
              "  <svg xmlns=\"http://www.w3.org/2000/svg\" height=\"24px\"viewBox=\"0 0 24 24\"\n",
              "       width=\"24px\">\n",
              "    <path d=\"M0 0h24v24H0V0z\" fill=\"none\"/>\n",
              "    <path d=\"M18.56 5.44l.94 2.06.94-2.06 2.06-.94-2.06-.94-.94-2.06-.94 2.06-2.06.94zm-11 1L8.5 8.5l.94-2.06 2.06-.94-2.06-.94L8.5 2.5l-.94 2.06-2.06.94zm10 10l.94 2.06.94-2.06 2.06-.94-2.06-.94-.94-2.06-.94 2.06-2.06.94z\"/><path d=\"M17.41 7.96l-1.37-1.37c-.4-.4-.92-.59-1.43-.59-.52 0-1.04.2-1.43.59L10.3 9.45l-7.72 7.72c-.78.78-.78 2.05 0 2.83L4 21.41c.39.39.9.59 1.41.59.51 0 1.02-.2 1.41-.59l7.78-7.78 2.81-2.81c.8-.78.8-2.07 0-2.86zM5.41 20L4 18.59l7.72-7.72 1.47 1.35L5.41 20z\"/>\n",
              "  </svg>\n",
              "      </button>\n",
              "      \n",
              "  <style>\n",
              "    .colab-df-container {\n",
              "      display:flex;\n",
              "      flex-wrap:wrap;\n",
              "      gap: 12px;\n",
              "    }\n",
              "\n",
              "    .colab-df-convert {\n",
              "      background-color: #E8F0FE;\n",
              "      border: none;\n",
              "      border-radius: 50%;\n",
              "      cursor: pointer;\n",
              "      display: none;\n",
              "      fill: #1967D2;\n",
              "      height: 32px;\n",
              "      padding: 0 0 0 0;\n",
              "      width: 32px;\n",
              "    }\n",
              "\n",
              "    .colab-df-convert:hover {\n",
              "      background-color: #E2EBFA;\n",
              "      box-shadow: 0px 1px 2px rgba(60, 64, 67, 0.3), 0px 1px 3px 1px rgba(60, 64, 67, 0.15);\n",
              "      fill: #174EA6;\n",
              "    }\n",
              "\n",
              "    [theme=dark] .colab-df-convert {\n",
              "      background-color: #3B4455;\n",
              "      fill: #D2E3FC;\n",
              "    }\n",
              "\n",
              "    [theme=dark] .colab-df-convert:hover {\n",
              "      background-color: #434B5C;\n",
              "      box-shadow: 0px 1px 3px 1px rgba(0, 0, 0, 0.15);\n",
              "      filter: drop-shadow(0px 1px 2px rgba(0, 0, 0, 0.3));\n",
              "      fill: #FFFFFF;\n",
              "    }\n",
              "  </style>\n",
              "\n",
              "      <script>\n",
              "        const buttonEl =\n",
              "          document.querySelector('#df-ae1f16eb-f4a1-4070-81a0-0c3e960d6d4f button.colab-df-convert');\n",
              "        buttonEl.style.display =\n",
              "          google.colab.kernel.accessAllowed ? 'block' : 'none';\n",
              "\n",
              "        async function convertToInteractive(key) {\n",
              "          const element = document.querySelector('#df-ae1f16eb-f4a1-4070-81a0-0c3e960d6d4f');\n",
              "          const dataTable =\n",
              "            await google.colab.kernel.invokeFunction('convertToInteractive',\n",
              "                                                     [key], {});\n",
              "          if (!dataTable) return;\n",
              "\n",
              "          const docLinkHtml = 'Like what you see? Visit the ' +\n",
              "            '<a target=\"_blank\" href=https://colab.research.google.com/notebooks/data_table.ipynb>data table notebook</a>'\n",
              "            + ' to learn more about interactive tables.';\n",
              "          element.innerHTML = '';\n",
              "          dataTable['output_type'] = 'display_data';\n",
              "          await google.colab.output.renderOutput(dataTable, element);\n",
              "          const docLink = document.createElement('div');\n",
              "          docLink.innerHTML = docLinkHtml;\n",
              "          element.appendChild(docLink);\n",
              "        }\n",
              "      </script>\n",
              "    </div>\n",
              "  </div>\n",
              "  "
            ]
          },
          "metadata": {},
          "execution_count": 13
        }
      ],
      "source": [
        "items_df[5].head()"
      ]
    },
    {
      "cell_type": "code",
      "source": [
        "def three_month_sales(data):\n",
        "  three=[]\n",
        "  for i in range(0,len(data)):\n",
        "    sum=data['sales'][i:i+data.iloc[i,4]].sum()\n",
        "    three.append(sum)\n",
        "\n",
        "  data['three_month_sale']=three\n",
        "  data.drop(data.tail(91).index,inplace=True)\n",
        "  return data"
      ],
      "metadata": {
        "id": "1WYUkV8099qO"
      },
      "execution_count": 14,
      "outputs": []
    },
    {
      "cell_type": "code",
      "source": [
        "dataset=[three_month_sales(items_df[k]) for k in range(50)]"
      ],
      "metadata": {
        "id": "TXXjgax6DVdF"
      },
      "execution_count": 15,
      "outputs": []
    },
    {
      "cell_type": "code",
      "source": [
        "dataset[0]"
      ],
      "metadata": {
        "colab": {
          "base_uri": "https://localhost:8080/",
          "height": 424
        },
        "id": "3cKkySHnaqW9",
        "outputId": "6d968ba4-ae02-459d-fa3f-328c573b4baf"
      },
      "execution_count": 16,
      "outputs": [
        {
          "output_type": "execute_result",
          "data": {
            "text/plain": [
              "            date  item  sales   end_date  duration  three_month_sale\n",
              "0     2013-01-01     1    133 2013-04-01        90             12847\n",
              "50    2013-01-02     1     99 2013-04-02        90             12848\n",
              "100   2013-01-03     1    127 2013-04-03        90             12936\n",
              "150   2013-01-04     1    145 2013-04-04        90             13019\n",
              "200   2013-01-05     1    149 2013-04-05        90             13103\n",
              "...          ...   ...    ...        ...       ...               ...\n",
              "86500 2017-09-27     1    249 2017-12-27        91             21126\n",
              "86550 2017-09-28     1    235 2017-12-28        91             21031\n",
              "86600 2017-09-29     1    270 2017-12-29        91             20974\n",
              "86650 2017-09-30     1    269 2017-12-30        91             20911\n",
              "86700 2017-10-01     1    300 2018-01-01        92             21105\n",
              "\n",
              "[1735 rows x 6 columns]"
            ],
            "text/html": [
              "\n",
              "  <div id=\"df-20cc0dbd-980f-4b42-90ad-45d35b7005ac\">\n",
              "    <div class=\"colab-df-container\">\n",
              "      <div>\n",
              "<style scoped>\n",
              "    .dataframe tbody tr th:only-of-type {\n",
              "        vertical-align: middle;\n",
              "    }\n",
              "\n",
              "    .dataframe tbody tr th {\n",
              "        vertical-align: top;\n",
              "    }\n",
              "\n",
              "    .dataframe thead th {\n",
              "        text-align: right;\n",
              "    }\n",
              "</style>\n",
              "<table border=\"1\" class=\"dataframe\">\n",
              "  <thead>\n",
              "    <tr style=\"text-align: right;\">\n",
              "      <th></th>\n",
              "      <th>date</th>\n",
              "      <th>item</th>\n",
              "      <th>sales</th>\n",
              "      <th>end_date</th>\n",
              "      <th>duration</th>\n",
              "      <th>three_month_sale</th>\n",
              "    </tr>\n",
              "  </thead>\n",
              "  <tbody>\n",
              "    <tr>\n",
              "      <th>0</th>\n",
              "      <td>2013-01-01</td>\n",
              "      <td>1</td>\n",
              "      <td>133</td>\n",
              "      <td>2013-04-01</td>\n",
              "      <td>90</td>\n",
              "      <td>12847</td>\n",
              "    </tr>\n",
              "    <tr>\n",
              "      <th>50</th>\n",
              "      <td>2013-01-02</td>\n",
              "      <td>1</td>\n",
              "      <td>99</td>\n",
              "      <td>2013-04-02</td>\n",
              "      <td>90</td>\n",
              "      <td>12848</td>\n",
              "    </tr>\n",
              "    <tr>\n",
              "      <th>100</th>\n",
              "      <td>2013-01-03</td>\n",
              "      <td>1</td>\n",
              "      <td>127</td>\n",
              "      <td>2013-04-03</td>\n",
              "      <td>90</td>\n",
              "      <td>12936</td>\n",
              "    </tr>\n",
              "    <tr>\n",
              "      <th>150</th>\n",
              "      <td>2013-01-04</td>\n",
              "      <td>1</td>\n",
              "      <td>145</td>\n",
              "      <td>2013-04-04</td>\n",
              "      <td>90</td>\n",
              "      <td>13019</td>\n",
              "    </tr>\n",
              "    <tr>\n",
              "      <th>200</th>\n",
              "      <td>2013-01-05</td>\n",
              "      <td>1</td>\n",
              "      <td>149</td>\n",
              "      <td>2013-04-05</td>\n",
              "      <td>90</td>\n",
              "      <td>13103</td>\n",
              "    </tr>\n",
              "    <tr>\n",
              "      <th>...</th>\n",
              "      <td>...</td>\n",
              "      <td>...</td>\n",
              "      <td>...</td>\n",
              "      <td>...</td>\n",
              "      <td>...</td>\n",
              "      <td>...</td>\n",
              "    </tr>\n",
              "    <tr>\n",
              "      <th>86500</th>\n",
              "      <td>2017-09-27</td>\n",
              "      <td>1</td>\n",
              "      <td>249</td>\n",
              "      <td>2017-12-27</td>\n",
              "      <td>91</td>\n",
              "      <td>21126</td>\n",
              "    </tr>\n",
              "    <tr>\n",
              "      <th>86550</th>\n",
              "      <td>2017-09-28</td>\n",
              "      <td>1</td>\n",
              "      <td>235</td>\n",
              "      <td>2017-12-28</td>\n",
              "      <td>91</td>\n",
              "      <td>21031</td>\n",
              "    </tr>\n",
              "    <tr>\n",
              "      <th>86600</th>\n",
              "      <td>2017-09-29</td>\n",
              "      <td>1</td>\n",
              "      <td>270</td>\n",
              "      <td>2017-12-29</td>\n",
              "      <td>91</td>\n",
              "      <td>20974</td>\n",
              "    </tr>\n",
              "    <tr>\n",
              "      <th>86650</th>\n",
              "      <td>2017-09-30</td>\n",
              "      <td>1</td>\n",
              "      <td>269</td>\n",
              "      <td>2017-12-30</td>\n",
              "      <td>91</td>\n",
              "      <td>20911</td>\n",
              "    </tr>\n",
              "    <tr>\n",
              "      <th>86700</th>\n",
              "      <td>2017-10-01</td>\n",
              "      <td>1</td>\n",
              "      <td>300</td>\n",
              "      <td>2018-01-01</td>\n",
              "      <td>92</td>\n",
              "      <td>21105</td>\n",
              "    </tr>\n",
              "  </tbody>\n",
              "</table>\n",
              "<p>1735 rows × 6 columns</p>\n",
              "</div>\n",
              "      <button class=\"colab-df-convert\" onclick=\"convertToInteractive('df-20cc0dbd-980f-4b42-90ad-45d35b7005ac')\"\n",
              "              title=\"Convert this dataframe to an interactive table.\"\n",
              "              style=\"display:none;\">\n",
              "        \n",
              "  <svg xmlns=\"http://www.w3.org/2000/svg\" height=\"24px\"viewBox=\"0 0 24 24\"\n",
              "       width=\"24px\">\n",
              "    <path d=\"M0 0h24v24H0V0z\" fill=\"none\"/>\n",
              "    <path d=\"M18.56 5.44l.94 2.06.94-2.06 2.06-.94-2.06-.94-.94-2.06-.94 2.06-2.06.94zm-11 1L8.5 8.5l.94-2.06 2.06-.94-2.06-.94L8.5 2.5l-.94 2.06-2.06.94zm10 10l.94 2.06.94-2.06 2.06-.94-2.06-.94-.94-2.06-.94 2.06-2.06.94z\"/><path d=\"M17.41 7.96l-1.37-1.37c-.4-.4-.92-.59-1.43-.59-.52 0-1.04.2-1.43.59L10.3 9.45l-7.72 7.72c-.78.78-.78 2.05 0 2.83L4 21.41c.39.39.9.59 1.41.59.51 0 1.02-.2 1.41-.59l7.78-7.78 2.81-2.81c.8-.78.8-2.07 0-2.86zM5.41 20L4 18.59l7.72-7.72 1.47 1.35L5.41 20z\"/>\n",
              "  </svg>\n",
              "      </button>\n",
              "      \n",
              "  <style>\n",
              "    .colab-df-container {\n",
              "      display:flex;\n",
              "      flex-wrap:wrap;\n",
              "      gap: 12px;\n",
              "    }\n",
              "\n",
              "    .colab-df-convert {\n",
              "      background-color: #E8F0FE;\n",
              "      border: none;\n",
              "      border-radius: 50%;\n",
              "      cursor: pointer;\n",
              "      display: none;\n",
              "      fill: #1967D2;\n",
              "      height: 32px;\n",
              "      padding: 0 0 0 0;\n",
              "      width: 32px;\n",
              "    }\n",
              "\n",
              "    .colab-df-convert:hover {\n",
              "      background-color: #E2EBFA;\n",
              "      box-shadow: 0px 1px 2px rgba(60, 64, 67, 0.3), 0px 1px 3px 1px rgba(60, 64, 67, 0.15);\n",
              "      fill: #174EA6;\n",
              "    }\n",
              "\n",
              "    [theme=dark] .colab-df-convert {\n",
              "      background-color: #3B4455;\n",
              "      fill: #D2E3FC;\n",
              "    }\n",
              "\n",
              "    [theme=dark] .colab-df-convert:hover {\n",
              "      background-color: #434B5C;\n",
              "      box-shadow: 0px 1px 3px 1px rgba(0, 0, 0, 0.15);\n",
              "      filter: drop-shadow(0px 1px 2px rgba(0, 0, 0, 0.3));\n",
              "      fill: #FFFFFF;\n",
              "    }\n",
              "  </style>\n",
              "\n",
              "      <script>\n",
              "        const buttonEl =\n",
              "          document.querySelector('#df-20cc0dbd-980f-4b42-90ad-45d35b7005ac button.colab-df-convert');\n",
              "        buttonEl.style.display =\n",
              "          google.colab.kernel.accessAllowed ? 'block' : 'none';\n",
              "\n",
              "        async function convertToInteractive(key) {\n",
              "          const element = document.querySelector('#df-20cc0dbd-980f-4b42-90ad-45d35b7005ac');\n",
              "          const dataTable =\n",
              "            await google.colab.kernel.invokeFunction('convertToInteractive',\n",
              "                                                     [key], {});\n",
              "          if (!dataTable) return;\n",
              "\n",
              "          const docLinkHtml = 'Like what you see? Visit the ' +\n",
              "            '<a target=\"_blank\" href=https://colab.research.google.com/notebooks/data_table.ipynb>data table notebook</a>'\n",
              "            + ' to learn more about interactive tables.';\n",
              "          element.innerHTML = '';\n",
              "          dataTable['output_type'] = 'display_data';\n",
              "          await google.colab.output.renderOutput(dataTable, element);\n",
              "          const docLink = document.createElement('div');\n",
              "          docLink.innerHTML = docLinkHtml;\n",
              "          element.appendChild(docLink);\n",
              "        }\n",
              "      </script>\n",
              "    </div>\n",
              "  </div>\n",
              "  "
            ]
          },
          "metadata": {},
          "execution_count": 16
        }
      ]
    },
    {
      "cell_type": "code",
      "source": [
        "def delete(df,unwanted):                          # delete the unwanted columns         \n",
        "  df.drop(unwanted,axis=1,inplace=True)\n",
        "  return df\n",
        "unwanted_col=['end_date','sales']                    \n",
        "dataset=[delete(dataset[i],unwanted_col) for i in range(50)]             # One day sales ware converted into three month sales both of them gives same informations.\n",
        "dataset[49]"
      ],
      "metadata": {
        "colab": {
          "base_uri": "https://localhost:8080/",
          "height": 424
        },
        "id": "MGLb3134bHmh",
        "outputId": "b4549a33-859c-4cd3-93fa-73911cb7faa7"
      },
      "execution_count": 17,
      "outputs": [
        {
          "output_type": "execute_result",
          "data": {
            "text/plain": [
              "            date  item  duration  three_month_sale\n",
              "49    2013-01-01    50        90             38720\n",
              "99    2013-01-02    50        90             38874\n",
              "149   2013-01-03    50        90             39034\n",
              "199   2013-01-04    50        90             39200\n",
              "249   2013-01-05    50        90             39378\n",
              "...          ...   ...       ...               ...\n",
              "86549 2017-09-27    50        91             63158\n",
              "86599 2017-09-28    50        91             62942\n",
              "86649 2017-09-29    50        91             62787\n",
              "86699 2017-09-30    50        91             62558\n",
              "86749 2017-10-01    50        92             62925\n",
              "\n",
              "[1735 rows x 4 columns]"
            ],
            "text/html": [
              "\n",
              "  <div id=\"df-aa961876-6708-4b71-aed0-60b7db4b31c8\">\n",
              "    <div class=\"colab-df-container\">\n",
              "      <div>\n",
              "<style scoped>\n",
              "    .dataframe tbody tr th:only-of-type {\n",
              "        vertical-align: middle;\n",
              "    }\n",
              "\n",
              "    .dataframe tbody tr th {\n",
              "        vertical-align: top;\n",
              "    }\n",
              "\n",
              "    .dataframe thead th {\n",
              "        text-align: right;\n",
              "    }\n",
              "</style>\n",
              "<table border=\"1\" class=\"dataframe\">\n",
              "  <thead>\n",
              "    <tr style=\"text-align: right;\">\n",
              "      <th></th>\n",
              "      <th>date</th>\n",
              "      <th>item</th>\n",
              "      <th>duration</th>\n",
              "      <th>three_month_sale</th>\n",
              "    </tr>\n",
              "  </thead>\n",
              "  <tbody>\n",
              "    <tr>\n",
              "      <th>49</th>\n",
              "      <td>2013-01-01</td>\n",
              "      <td>50</td>\n",
              "      <td>90</td>\n",
              "      <td>38720</td>\n",
              "    </tr>\n",
              "    <tr>\n",
              "      <th>99</th>\n",
              "      <td>2013-01-02</td>\n",
              "      <td>50</td>\n",
              "      <td>90</td>\n",
              "      <td>38874</td>\n",
              "    </tr>\n",
              "    <tr>\n",
              "      <th>149</th>\n",
              "      <td>2013-01-03</td>\n",
              "      <td>50</td>\n",
              "      <td>90</td>\n",
              "      <td>39034</td>\n",
              "    </tr>\n",
              "    <tr>\n",
              "      <th>199</th>\n",
              "      <td>2013-01-04</td>\n",
              "      <td>50</td>\n",
              "      <td>90</td>\n",
              "      <td>39200</td>\n",
              "    </tr>\n",
              "    <tr>\n",
              "      <th>249</th>\n",
              "      <td>2013-01-05</td>\n",
              "      <td>50</td>\n",
              "      <td>90</td>\n",
              "      <td>39378</td>\n",
              "    </tr>\n",
              "    <tr>\n",
              "      <th>...</th>\n",
              "      <td>...</td>\n",
              "      <td>...</td>\n",
              "      <td>...</td>\n",
              "      <td>...</td>\n",
              "    </tr>\n",
              "    <tr>\n",
              "      <th>86549</th>\n",
              "      <td>2017-09-27</td>\n",
              "      <td>50</td>\n",
              "      <td>91</td>\n",
              "      <td>63158</td>\n",
              "    </tr>\n",
              "    <tr>\n",
              "      <th>86599</th>\n",
              "      <td>2017-09-28</td>\n",
              "      <td>50</td>\n",
              "      <td>91</td>\n",
              "      <td>62942</td>\n",
              "    </tr>\n",
              "    <tr>\n",
              "      <th>86649</th>\n",
              "      <td>2017-09-29</td>\n",
              "      <td>50</td>\n",
              "      <td>91</td>\n",
              "      <td>62787</td>\n",
              "    </tr>\n",
              "    <tr>\n",
              "      <th>86699</th>\n",
              "      <td>2017-09-30</td>\n",
              "      <td>50</td>\n",
              "      <td>91</td>\n",
              "      <td>62558</td>\n",
              "    </tr>\n",
              "    <tr>\n",
              "      <th>86749</th>\n",
              "      <td>2017-10-01</td>\n",
              "      <td>50</td>\n",
              "      <td>92</td>\n",
              "      <td>62925</td>\n",
              "    </tr>\n",
              "  </tbody>\n",
              "</table>\n",
              "<p>1735 rows × 4 columns</p>\n",
              "</div>\n",
              "      <button class=\"colab-df-convert\" onclick=\"convertToInteractive('df-aa961876-6708-4b71-aed0-60b7db4b31c8')\"\n",
              "              title=\"Convert this dataframe to an interactive table.\"\n",
              "              style=\"display:none;\">\n",
              "        \n",
              "  <svg xmlns=\"http://www.w3.org/2000/svg\" height=\"24px\"viewBox=\"0 0 24 24\"\n",
              "       width=\"24px\">\n",
              "    <path d=\"M0 0h24v24H0V0z\" fill=\"none\"/>\n",
              "    <path d=\"M18.56 5.44l.94 2.06.94-2.06 2.06-.94-2.06-.94-.94-2.06-.94 2.06-2.06.94zm-11 1L8.5 8.5l.94-2.06 2.06-.94-2.06-.94L8.5 2.5l-.94 2.06-2.06.94zm10 10l.94 2.06.94-2.06 2.06-.94-2.06-.94-.94-2.06-.94 2.06-2.06.94z\"/><path d=\"M17.41 7.96l-1.37-1.37c-.4-.4-.92-.59-1.43-.59-.52 0-1.04.2-1.43.59L10.3 9.45l-7.72 7.72c-.78.78-.78 2.05 0 2.83L4 21.41c.39.39.9.59 1.41.59.51 0 1.02-.2 1.41-.59l7.78-7.78 2.81-2.81c.8-.78.8-2.07 0-2.86zM5.41 20L4 18.59l7.72-7.72 1.47 1.35L5.41 20z\"/>\n",
              "  </svg>\n",
              "      </button>\n",
              "      \n",
              "  <style>\n",
              "    .colab-df-container {\n",
              "      display:flex;\n",
              "      flex-wrap:wrap;\n",
              "      gap: 12px;\n",
              "    }\n",
              "\n",
              "    .colab-df-convert {\n",
              "      background-color: #E8F0FE;\n",
              "      border: none;\n",
              "      border-radius: 50%;\n",
              "      cursor: pointer;\n",
              "      display: none;\n",
              "      fill: #1967D2;\n",
              "      height: 32px;\n",
              "      padding: 0 0 0 0;\n",
              "      width: 32px;\n",
              "    }\n",
              "\n",
              "    .colab-df-convert:hover {\n",
              "      background-color: #E2EBFA;\n",
              "      box-shadow: 0px 1px 2px rgba(60, 64, 67, 0.3), 0px 1px 3px 1px rgba(60, 64, 67, 0.15);\n",
              "      fill: #174EA6;\n",
              "    }\n",
              "\n",
              "    [theme=dark] .colab-df-convert {\n",
              "      background-color: #3B4455;\n",
              "      fill: #D2E3FC;\n",
              "    }\n",
              "\n",
              "    [theme=dark] .colab-df-convert:hover {\n",
              "      background-color: #434B5C;\n",
              "      box-shadow: 0px 1px 3px 1px rgba(0, 0, 0, 0.15);\n",
              "      filter: drop-shadow(0px 1px 2px rgba(0, 0, 0, 0.3));\n",
              "      fill: #FFFFFF;\n",
              "    }\n",
              "  </style>\n",
              "\n",
              "      <script>\n",
              "        const buttonEl =\n",
              "          document.querySelector('#df-aa961876-6708-4b71-aed0-60b7db4b31c8 button.colab-df-convert');\n",
              "        buttonEl.style.display =\n",
              "          google.colab.kernel.accessAllowed ? 'block' : 'none';\n",
              "\n",
              "        async function convertToInteractive(key) {\n",
              "          const element = document.querySelector('#df-aa961876-6708-4b71-aed0-60b7db4b31c8');\n",
              "          const dataTable =\n",
              "            await google.colab.kernel.invokeFunction('convertToInteractive',\n",
              "                                                     [key], {});\n",
              "          if (!dataTable) return;\n",
              "\n",
              "          const docLinkHtml = 'Like what you see? Visit the ' +\n",
              "            '<a target=\"_blank\" href=https://colab.research.google.com/notebooks/data_table.ipynb>data table notebook</a>'\n",
              "            + ' to learn more about interactive tables.';\n",
              "          element.innerHTML = '';\n",
              "          dataTable['output_type'] = 'display_data';\n",
              "          await google.colab.output.renderOutput(dataTable, element);\n",
              "          const docLink = document.createElement('div');\n",
              "          docLink.innerHTML = docLinkHtml;\n",
              "          element.appendChild(docLink);\n",
              "        }\n",
              "      </script>\n",
              "    </div>\n",
              "  </div>\n",
              "  "
            ]
          },
          "metadata": {},
          "execution_count": 17
        }
      ]
    },
    {
      "cell_type": "code",
      "source": [
        "def dataframe(data):\n",
        "  df=data[0]\n",
        "  for i in range(1,50):\n",
        "    df=df.append(data[i],ignore_index=True)\n",
        "  return df"
      ],
      "metadata": {
        "id": "FWJis0w_r5tr"
      },
      "execution_count": 18,
      "outputs": []
    },
    {
      "cell_type": "code",
      "source": [
        "df=dataframe(dataset)\n",
        "df"
      ],
      "metadata": {
        "id": "CBNwYhqkuaDH",
        "colab": {
          "base_uri": "https://localhost:8080/",
          "height": 424
        },
        "outputId": "b3f81d89-37d8-4fda-f02a-5d73ad7aa690"
      },
      "execution_count": 19,
      "outputs": [
        {
          "output_type": "execute_result",
          "data": {
            "text/plain": [
              "            date  item  duration  three_month_sale\n",
              "0     2013-01-01     1        90             12847\n",
              "1     2013-01-02     1        90             12848\n",
              "2     2013-01-03     1        90             12936\n",
              "3     2013-01-04     1        90             13019\n",
              "4     2013-01-05     1        90             13103\n",
              "...          ...   ...       ...               ...\n",
              "86745 2017-09-27    50        91             63158\n",
              "86746 2017-09-28    50        91             62942\n",
              "86747 2017-09-29    50        91             62787\n",
              "86748 2017-09-30    50        91             62558\n",
              "86749 2017-10-01    50        92             62925\n",
              "\n",
              "[86750 rows x 4 columns]"
            ],
            "text/html": [
              "\n",
              "  <div id=\"df-c98cb50d-dc29-43b1-8faa-d8c3ce4a26d0\">\n",
              "    <div class=\"colab-df-container\">\n",
              "      <div>\n",
              "<style scoped>\n",
              "    .dataframe tbody tr th:only-of-type {\n",
              "        vertical-align: middle;\n",
              "    }\n",
              "\n",
              "    .dataframe tbody tr th {\n",
              "        vertical-align: top;\n",
              "    }\n",
              "\n",
              "    .dataframe thead th {\n",
              "        text-align: right;\n",
              "    }\n",
              "</style>\n",
              "<table border=\"1\" class=\"dataframe\">\n",
              "  <thead>\n",
              "    <tr style=\"text-align: right;\">\n",
              "      <th></th>\n",
              "      <th>date</th>\n",
              "      <th>item</th>\n",
              "      <th>duration</th>\n",
              "      <th>three_month_sale</th>\n",
              "    </tr>\n",
              "  </thead>\n",
              "  <tbody>\n",
              "    <tr>\n",
              "      <th>0</th>\n",
              "      <td>2013-01-01</td>\n",
              "      <td>1</td>\n",
              "      <td>90</td>\n",
              "      <td>12847</td>\n",
              "    </tr>\n",
              "    <tr>\n",
              "      <th>1</th>\n",
              "      <td>2013-01-02</td>\n",
              "      <td>1</td>\n",
              "      <td>90</td>\n",
              "      <td>12848</td>\n",
              "    </tr>\n",
              "    <tr>\n",
              "      <th>2</th>\n",
              "      <td>2013-01-03</td>\n",
              "      <td>1</td>\n",
              "      <td>90</td>\n",
              "      <td>12936</td>\n",
              "    </tr>\n",
              "    <tr>\n",
              "      <th>3</th>\n",
              "      <td>2013-01-04</td>\n",
              "      <td>1</td>\n",
              "      <td>90</td>\n",
              "      <td>13019</td>\n",
              "    </tr>\n",
              "    <tr>\n",
              "      <th>4</th>\n",
              "      <td>2013-01-05</td>\n",
              "      <td>1</td>\n",
              "      <td>90</td>\n",
              "      <td>13103</td>\n",
              "    </tr>\n",
              "    <tr>\n",
              "      <th>...</th>\n",
              "      <td>...</td>\n",
              "      <td>...</td>\n",
              "      <td>...</td>\n",
              "      <td>...</td>\n",
              "    </tr>\n",
              "    <tr>\n",
              "      <th>86745</th>\n",
              "      <td>2017-09-27</td>\n",
              "      <td>50</td>\n",
              "      <td>91</td>\n",
              "      <td>63158</td>\n",
              "    </tr>\n",
              "    <tr>\n",
              "      <th>86746</th>\n",
              "      <td>2017-09-28</td>\n",
              "      <td>50</td>\n",
              "      <td>91</td>\n",
              "      <td>62942</td>\n",
              "    </tr>\n",
              "    <tr>\n",
              "      <th>86747</th>\n",
              "      <td>2017-09-29</td>\n",
              "      <td>50</td>\n",
              "      <td>91</td>\n",
              "      <td>62787</td>\n",
              "    </tr>\n",
              "    <tr>\n",
              "      <th>86748</th>\n",
              "      <td>2017-09-30</td>\n",
              "      <td>50</td>\n",
              "      <td>91</td>\n",
              "      <td>62558</td>\n",
              "    </tr>\n",
              "    <tr>\n",
              "      <th>86749</th>\n",
              "      <td>2017-10-01</td>\n",
              "      <td>50</td>\n",
              "      <td>92</td>\n",
              "      <td>62925</td>\n",
              "    </tr>\n",
              "  </tbody>\n",
              "</table>\n",
              "<p>86750 rows × 4 columns</p>\n",
              "</div>\n",
              "      <button class=\"colab-df-convert\" onclick=\"convertToInteractive('df-c98cb50d-dc29-43b1-8faa-d8c3ce4a26d0')\"\n",
              "              title=\"Convert this dataframe to an interactive table.\"\n",
              "              style=\"display:none;\">\n",
              "        \n",
              "  <svg xmlns=\"http://www.w3.org/2000/svg\" height=\"24px\"viewBox=\"0 0 24 24\"\n",
              "       width=\"24px\">\n",
              "    <path d=\"M0 0h24v24H0V0z\" fill=\"none\"/>\n",
              "    <path d=\"M18.56 5.44l.94 2.06.94-2.06 2.06-.94-2.06-.94-.94-2.06-.94 2.06-2.06.94zm-11 1L8.5 8.5l.94-2.06 2.06-.94-2.06-.94L8.5 2.5l-.94 2.06-2.06.94zm10 10l.94 2.06.94-2.06 2.06-.94-2.06-.94-.94-2.06-.94 2.06-2.06.94z\"/><path d=\"M17.41 7.96l-1.37-1.37c-.4-.4-.92-.59-1.43-.59-.52 0-1.04.2-1.43.59L10.3 9.45l-7.72 7.72c-.78.78-.78 2.05 0 2.83L4 21.41c.39.39.9.59 1.41.59.51 0 1.02-.2 1.41-.59l7.78-7.78 2.81-2.81c.8-.78.8-2.07 0-2.86zM5.41 20L4 18.59l7.72-7.72 1.47 1.35L5.41 20z\"/>\n",
              "  </svg>\n",
              "      </button>\n",
              "      \n",
              "  <style>\n",
              "    .colab-df-container {\n",
              "      display:flex;\n",
              "      flex-wrap:wrap;\n",
              "      gap: 12px;\n",
              "    }\n",
              "\n",
              "    .colab-df-convert {\n",
              "      background-color: #E8F0FE;\n",
              "      border: none;\n",
              "      border-radius: 50%;\n",
              "      cursor: pointer;\n",
              "      display: none;\n",
              "      fill: #1967D2;\n",
              "      height: 32px;\n",
              "      padding: 0 0 0 0;\n",
              "      width: 32px;\n",
              "    }\n",
              "\n",
              "    .colab-df-convert:hover {\n",
              "      background-color: #E2EBFA;\n",
              "      box-shadow: 0px 1px 2px rgba(60, 64, 67, 0.3), 0px 1px 3px 1px rgba(60, 64, 67, 0.15);\n",
              "      fill: #174EA6;\n",
              "    }\n",
              "\n",
              "    [theme=dark] .colab-df-convert {\n",
              "      background-color: #3B4455;\n",
              "      fill: #D2E3FC;\n",
              "    }\n",
              "\n",
              "    [theme=dark] .colab-df-convert:hover {\n",
              "      background-color: #434B5C;\n",
              "      box-shadow: 0px 1px 3px 1px rgba(0, 0, 0, 0.15);\n",
              "      filter: drop-shadow(0px 1px 2px rgba(0, 0, 0, 0.3));\n",
              "      fill: #FFFFFF;\n",
              "    }\n",
              "  </style>\n",
              "\n",
              "      <script>\n",
              "        const buttonEl =\n",
              "          document.querySelector('#df-c98cb50d-dc29-43b1-8faa-d8c3ce4a26d0 button.colab-df-convert');\n",
              "        buttonEl.style.display =\n",
              "          google.colab.kernel.accessAllowed ? 'block' : 'none';\n",
              "\n",
              "        async function convertToInteractive(key) {\n",
              "          const element = document.querySelector('#df-c98cb50d-dc29-43b1-8faa-d8c3ce4a26d0');\n",
              "          const dataTable =\n",
              "            await google.colab.kernel.invokeFunction('convertToInteractive',\n",
              "                                                     [key], {});\n",
              "          if (!dataTable) return;\n",
              "\n",
              "          const docLinkHtml = 'Like what you see? Visit the ' +\n",
              "            '<a target=\"_blank\" href=https://colab.research.google.com/notebooks/data_table.ipynb>data table notebook</a>'\n",
              "            + ' to learn more about interactive tables.';\n",
              "          element.innerHTML = '';\n",
              "          dataTable['output_type'] = 'display_data';\n",
              "          await google.colab.output.renderOutput(dataTable, element);\n",
              "          const docLink = document.createElement('div');\n",
              "          docLink.innerHTML = docLinkHtml;\n",
              "          element.appendChild(docLink);\n",
              "        }\n",
              "      </script>\n",
              "    </div>\n",
              "  </div>\n",
              "  "
            ]
          },
          "metadata": {},
          "execution_count": 19
        }
      ]
    },
    {
      "cell_type": "code",
      "source": [
        "def isweekend(data):\n",
        "  if data < 5 :\n",
        "    return 0\n",
        "  else:\n",
        "    return 1"
      ],
      "metadata": {
        "id": "FevSXJUvgzkf"
      },
      "execution_count": 20,
      "outputs": []
    },
    {
      "cell_type": "code",
      "source": [
        "df['day']=df['date'].dt.day\n",
        "df['dayofyear']=df['date'].dt.dayofyear\n",
        "df['week']=df['date'].dt.week\n",
        "df['weekday']=df['date'].dt.weekday\n",
        "df['weekend']=[isweekend(i) for i in df['weekday']]\n",
        "df['month']=df['date'].dt.month\n",
        "df['quarter']=df['date'].dt.quarter\n",
        "df['year']=df['date'].dt.year\n"
      ],
      "metadata": {
        "id": "aPUipcEuf-mf"
      },
      "execution_count": 21,
      "outputs": []
    },
    {
      "cell_type": "code",
      "source": [
        "df"
      ],
      "metadata": {
        "colab": {
          "base_uri": "https://localhost:8080/",
          "height": 424
        },
        "id": "0frQLUnhisFY",
        "outputId": "fac8fa9c-d33d-4327-f657-ce5c92c8527d"
      },
      "execution_count": 22,
      "outputs": [
        {
          "output_type": "execute_result",
          "data": {
            "text/plain": [
              "            date  item  duration  three_month_sale  day  dayofyear  week  \\\n",
              "0     2013-01-01     1        90             12847    1          1     1   \n",
              "1     2013-01-02     1        90             12848    2          2     1   \n",
              "2     2013-01-03     1        90             12936    3          3     1   \n",
              "3     2013-01-04     1        90             13019    4          4     1   \n",
              "4     2013-01-05     1        90             13103    5          5     1   \n",
              "...          ...   ...       ...               ...  ...        ...   ...   \n",
              "86745 2017-09-27    50        91             63158   27        270    39   \n",
              "86746 2017-09-28    50        91             62942   28        271    39   \n",
              "86747 2017-09-29    50        91             62787   29        272    39   \n",
              "86748 2017-09-30    50        91             62558   30        273    39   \n",
              "86749 2017-10-01    50        92             62925    1        274    39   \n",
              "\n",
              "       weekday  weekend  month  quarter  year  \n",
              "0            1        0      1        1  2013  \n",
              "1            2        0      1        1  2013  \n",
              "2            3        0      1        1  2013  \n",
              "3            4        0      1        1  2013  \n",
              "4            5        1      1        1  2013  \n",
              "...        ...      ...    ...      ...   ...  \n",
              "86745        2        0      9        3  2017  \n",
              "86746        3        0      9        3  2017  \n",
              "86747        4        0      9        3  2017  \n",
              "86748        5        1      9        3  2017  \n",
              "86749        6        1     10        4  2017  \n",
              "\n",
              "[86750 rows x 12 columns]"
            ],
            "text/html": [
              "\n",
              "  <div id=\"df-c7ff9678-64bf-4b96-8e98-518d8ee53315\">\n",
              "    <div class=\"colab-df-container\">\n",
              "      <div>\n",
              "<style scoped>\n",
              "    .dataframe tbody tr th:only-of-type {\n",
              "        vertical-align: middle;\n",
              "    }\n",
              "\n",
              "    .dataframe tbody tr th {\n",
              "        vertical-align: top;\n",
              "    }\n",
              "\n",
              "    .dataframe thead th {\n",
              "        text-align: right;\n",
              "    }\n",
              "</style>\n",
              "<table border=\"1\" class=\"dataframe\">\n",
              "  <thead>\n",
              "    <tr style=\"text-align: right;\">\n",
              "      <th></th>\n",
              "      <th>date</th>\n",
              "      <th>item</th>\n",
              "      <th>duration</th>\n",
              "      <th>three_month_sale</th>\n",
              "      <th>day</th>\n",
              "      <th>dayofyear</th>\n",
              "      <th>week</th>\n",
              "      <th>weekday</th>\n",
              "      <th>weekend</th>\n",
              "      <th>month</th>\n",
              "      <th>quarter</th>\n",
              "      <th>year</th>\n",
              "    </tr>\n",
              "  </thead>\n",
              "  <tbody>\n",
              "    <tr>\n",
              "      <th>0</th>\n",
              "      <td>2013-01-01</td>\n",
              "      <td>1</td>\n",
              "      <td>90</td>\n",
              "      <td>12847</td>\n",
              "      <td>1</td>\n",
              "      <td>1</td>\n",
              "      <td>1</td>\n",
              "      <td>1</td>\n",
              "      <td>0</td>\n",
              "      <td>1</td>\n",
              "      <td>1</td>\n",
              "      <td>2013</td>\n",
              "    </tr>\n",
              "    <tr>\n",
              "      <th>1</th>\n",
              "      <td>2013-01-02</td>\n",
              "      <td>1</td>\n",
              "      <td>90</td>\n",
              "      <td>12848</td>\n",
              "      <td>2</td>\n",
              "      <td>2</td>\n",
              "      <td>1</td>\n",
              "      <td>2</td>\n",
              "      <td>0</td>\n",
              "      <td>1</td>\n",
              "      <td>1</td>\n",
              "      <td>2013</td>\n",
              "    </tr>\n",
              "    <tr>\n",
              "      <th>2</th>\n",
              "      <td>2013-01-03</td>\n",
              "      <td>1</td>\n",
              "      <td>90</td>\n",
              "      <td>12936</td>\n",
              "      <td>3</td>\n",
              "      <td>3</td>\n",
              "      <td>1</td>\n",
              "      <td>3</td>\n",
              "      <td>0</td>\n",
              "      <td>1</td>\n",
              "      <td>1</td>\n",
              "      <td>2013</td>\n",
              "    </tr>\n",
              "    <tr>\n",
              "      <th>3</th>\n",
              "      <td>2013-01-04</td>\n",
              "      <td>1</td>\n",
              "      <td>90</td>\n",
              "      <td>13019</td>\n",
              "      <td>4</td>\n",
              "      <td>4</td>\n",
              "      <td>1</td>\n",
              "      <td>4</td>\n",
              "      <td>0</td>\n",
              "      <td>1</td>\n",
              "      <td>1</td>\n",
              "      <td>2013</td>\n",
              "    </tr>\n",
              "    <tr>\n",
              "      <th>4</th>\n",
              "      <td>2013-01-05</td>\n",
              "      <td>1</td>\n",
              "      <td>90</td>\n",
              "      <td>13103</td>\n",
              "      <td>5</td>\n",
              "      <td>5</td>\n",
              "      <td>1</td>\n",
              "      <td>5</td>\n",
              "      <td>1</td>\n",
              "      <td>1</td>\n",
              "      <td>1</td>\n",
              "      <td>2013</td>\n",
              "    </tr>\n",
              "    <tr>\n",
              "      <th>...</th>\n",
              "      <td>...</td>\n",
              "      <td>...</td>\n",
              "      <td>...</td>\n",
              "      <td>...</td>\n",
              "      <td>...</td>\n",
              "      <td>...</td>\n",
              "      <td>...</td>\n",
              "      <td>...</td>\n",
              "      <td>...</td>\n",
              "      <td>...</td>\n",
              "      <td>...</td>\n",
              "      <td>...</td>\n",
              "    </tr>\n",
              "    <tr>\n",
              "      <th>86745</th>\n",
              "      <td>2017-09-27</td>\n",
              "      <td>50</td>\n",
              "      <td>91</td>\n",
              "      <td>63158</td>\n",
              "      <td>27</td>\n",
              "      <td>270</td>\n",
              "      <td>39</td>\n",
              "      <td>2</td>\n",
              "      <td>0</td>\n",
              "      <td>9</td>\n",
              "      <td>3</td>\n",
              "      <td>2017</td>\n",
              "    </tr>\n",
              "    <tr>\n",
              "      <th>86746</th>\n",
              "      <td>2017-09-28</td>\n",
              "      <td>50</td>\n",
              "      <td>91</td>\n",
              "      <td>62942</td>\n",
              "      <td>28</td>\n",
              "      <td>271</td>\n",
              "      <td>39</td>\n",
              "      <td>3</td>\n",
              "      <td>0</td>\n",
              "      <td>9</td>\n",
              "      <td>3</td>\n",
              "      <td>2017</td>\n",
              "    </tr>\n",
              "    <tr>\n",
              "      <th>86747</th>\n",
              "      <td>2017-09-29</td>\n",
              "      <td>50</td>\n",
              "      <td>91</td>\n",
              "      <td>62787</td>\n",
              "      <td>29</td>\n",
              "      <td>272</td>\n",
              "      <td>39</td>\n",
              "      <td>4</td>\n",
              "      <td>0</td>\n",
              "      <td>9</td>\n",
              "      <td>3</td>\n",
              "      <td>2017</td>\n",
              "    </tr>\n",
              "    <tr>\n",
              "      <th>86748</th>\n",
              "      <td>2017-09-30</td>\n",
              "      <td>50</td>\n",
              "      <td>91</td>\n",
              "      <td>62558</td>\n",
              "      <td>30</td>\n",
              "      <td>273</td>\n",
              "      <td>39</td>\n",
              "      <td>5</td>\n",
              "      <td>1</td>\n",
              "      <td>9</td>\n",
              "      <td>3</td>\n",
              "      <td>2017</td>\n",
              "    </tr>\n",
              "    <tr>\n",
              "      <th>86749</th>\n",
              "      <td>2017-10-01</td>\n",
              "      <td>50</td>\n",
              "      <td>92</td>\n",
              "      <td>62925</td>\n",
              "      <td>1</td>\n",
              "      <td>274</td>\n",
              "      <td>39</td>\n",
              "      <td>6</td>\n",
              "      <td>1</td>\n",
              "      <td>10</td>\n",
              "      <td>4</td>\n",
              "      <td>2017</td>\n",
              "    </tr>\n",
              "  </tbody>\n",
              "</table>\n",
              "<p>86750 rows × 12 columns</p>\n",
              "</div>\n",
              "      <button class=\"colab-df-convert\" onclick=\"convertToInteractive('df-c7ff9678-64bf-4b96-8e98-518d8ee53315')\"\n",
              "              title=\"Convert this dataframe to an interactive table.\"\n",
              "              style=\"display:none;\">\n",
              "        \n",
              "  <svg xmlns=\"http://www.w3.org/2000/svg\" height=\"24px\"viewBox=\"0 0 24 24\"\n",
              "       width=\"24px\">\n",
              "    <path d=\"M0 0h24v24H0V0z\" fill=\"none\"/>\n",
              "    <path d=\"M18.56 5.44l.94 2.06.94-2.06 2.06-.94-2.06-.94-.94-2.06-.94 2.06-2.06.94zm-11 1L8.5 8.5l.94-2.06 2.06-.94-2.06-.94L8.5 2.5l-.94 2.06-2.06.94zm10 10l.94 2.06.94-2.06 2.06-.94-2.06-.94-.94-2.06-.94 2.06-2.06.94z\"/><path d=\"M17.41 7.96l-1.37-1.37c-.4-.4-.92-.59-1.43-.59-.52 0-1.04.2-1.43.59L10.3 9.45l-7.72 7.72c-.78.78-.78 2.05 0 2.83L4 21.41c.39.39.9.59 1.41.59.51 0 1.02-.2 1.41-.59l7.78-7.78 2.81-2.81c.8-.78.8-2.07 0-2.86zM5.41 20L4 18.59l7.72-7.72 1.47 1.35L5.41 20z\"/>\n",
              "  </svg>\n",
              "      </button>\n",
              "      \n",
              "  <style>\n",
              "    .colab-df-container {\n",
              "      display:flex;\n",
              "      flex-wrap:wrap;\n",
              "      gap: 12px;\n",
              "    }\n",
              "\n",
              "    .colab-df-convert {\n",
              "      background-color: #E8F0FE;\n",
              "      border: none;\n",
              "      border-radius: 50%;\n",
              "      cursor: pointer;\n",
              "      display: none;\n",
              "      fill: #1967D2;\n",
              "      height: 32px;\n",
              "      padding: 0 0 0 0;\n",
              "      width: 32px;\n",
              "    }\n",
              "\n",
              "    .colab-df-convert:hover {\n",
              "      background-color: #E2EBFA;\n",
              "      box-shadow: 0px 1px 2px rgba(60, 64, 67, 0.3), 0px 1px 3px 1px rgba(60, 64, 67, 0.15);\n",
              "      fill: #174EA6;\n",
              "    }\n",
              "\n",
              "    [theme=dark] .colab-df-convert {\n",
              "      background-color: #3B4455;\n",
              "      fill: #D2E3FC;\n",
              "    }\n",
              "\n",
              "    [theme=dark] .colab-df-convert:hover {\n",
              "      background-color: #434B5C;\n",
              "      box-shadow: 0px 1px 3px 1px rgba(0, 0, 0, 0.15);\n",
              "      filter: drop-shadow(0px 1px 2px rgba(0, 0, 0, 0.3));\n",
              "      fill: #FFFFFF;\n",
              "    }\n",
              "  </style>\n",
              "\n",
              "      <script>\n",
              "        const buttonEl =\n",
              "          document.querySelector('#df-c7ff9678-64bf-4b96-8e98-518d8ee53315 button.colab-df-convert');\n",
              "        buttonEl.style.display =\n",
              "          google.colab.kernel.accessAllowed ? 'block' : 'none';\n",
              "\n",
              "        async function convertToInteractive(key) {\n",
              "          const element = document.querySelector('#df-c7ff9678-64bf-4b96-8e98-518d8ee53315');\n",
              "          const dataTable =\n",
              "            await google.colab.kernel.invokeFunction('convertToInteractive',\n",
              "                                                     [key], {});\n",
              "          if (!dataTable) return;\n",
              "\n",
              "          const docLinkHtml = 'Like what you see? Visit the ' +\n",
              "            '<a target=\"_blank\" href=https://colab.research.google.com/notebooks/data_table.ipynb>data table notebook</a>'\n",
              "            + ' to learn more about interactive tables.';\n",
              "          element.innerHTML = '';\n",
              "          dataTable['output_type'] = 'display_data';\n",
              "          await google.colab.output.renderOutput(dataTable, element);\n",
              "          const docLink = document.createElement('div');\n",
              "          docLink.innerHTML = docLinkHtml;\n",
              "          element.appendChild(docLink);\n",
              "        }\n",
              "      </script>\n",
              "    </div>\n",
              "  </div>\n",
              "  "
            ]
          },
          "metadata": {},
          "execution_count": 22
        }
      ]
    },
    {
      "cell_type": "markdown",
      "metadata": {
        "id": "PV_LtGyVOCbi"
      },
      "source": [
        "# **2. EDA of dataset**"
      ]
    },
    {
      "cell_type": "code",
      "source": [
        "def EDA (data, cat_feature,num_feature,target,item):\n",
        "  data=data[data['item']==item]\n",
        "  # histogram for continuous variables\n",
        "  for i in num_feature:\n",
        "    fig,axes=plt.subplots(1,1,sharex=False,figsize=(15,10))\n",
        "    fig.suptitle(f'histogram of column {i}')\n",
        "    sns.barplot(x=i,data=data,y=target,palette='Set2')\n",
        "    plt.show()\n",
        "    \n",
        "\n",
        "  #scatter plot for contious varibles\n",
        "  plt.figure(figsize=(15, 10))\n",
        "  for i in num_feature:  \n",
        "    sns.scatterplot(data=data,x=i,y=target)\n",
        "  plt.show()\n",
        "\n",
        "  for i in cat_feature:\n",
        "    plt.figure(figsize=(15, 10))\n",
        "    fig.suptitle(f'counting of column {i}')\n",
        "    data.groupby(i)[target].mean().sort_values().plot(kind='barh')\n",
        "    plt.show()\n",
        "\n",
        "  #correlation heatmap\n",
        "  plt.figure(figsize=(15, 10))\n",
        "  sns.heatmap(data.corr(),cmap='RdBu_r',annot=True)\n",
        "  plt.show()"
      ],
      "metadata": {
        "id": "-qP1Y59ia4Qp"
      },
      "execution_count": 23,
      "outputs": []
    },
    {
      "cell_type": "code",
      "source": [
        "num_features=['date']\n",
        "cat_features=['day','week','weekday','month','year','weekend','duration','quarter']\n",
        "EDA(df,cat_features,num_features,'three_month_sale',1)"
      ],
      "metadata": {
        "colab": {
          "base_uri": "https://localhost:8080/",
          "height": 1000
        },
        "id": "70oKEjhwcd6g",
        "outputId": "8af0150e-6009-4509-9eb4-4a73f1ac20a7"
      },
      "execution_count": 24,
      "outputs": [
        {
          "output_type": "display_data",
          "data": {
            "text/plain": [
              "<Figure size 1080x720 with 1 Axes>"
            ],
            "image/png": "[encoded data removed]"
          },
          "metadata": {
            "needs_background": "light"
          }
        },
        {
          "output_type": "display_data",
          "data": {
            "text/plain": [
              "<Figure size 1080x720 with 1 Axes>"
            ],
            "image/png": "[encoded data removed]"
          },
          "metadata": {
            "needs_background": "light"
          }
        },
        {
          "output_type": "display_data",
          "data": {
            "text/plain": [
              "<Figure size 1080x720 with 1 Axes>"
            ],
            "image/png": "[encoded data removed]"
          },
          "metadata": {
            "needs_background": "light"
          }
        },
        {
          "output_type": "display_data",
          "data": {
            "text/plain": [
              "<Figure size 1080x720 with 1 Axes>"
            ],
            "image/png": "[encoded data removed]"
          },
          "metadata": {
            "needs_background": "light"
          }
        },
        {
          "output_type": "display_data",
          "data": {
            "text/plain": [
              "<Figure size 1080x720 with 1 Axes>"
            ],
            "image/png": "[encoded data removed]"
          },
          "metadata": {
            "needs_background": "light"
          }
        },
        {
          "output_type": "display_data",
          "data": {
            "text/plain": [
              "<Figure size 1080x720 with 1 Axes>"
            ],
            "image/png": "[encoded data removed]"
          },
          "metadata": {
            "needs_background": "light"
          }
        },
        {
          "output_type": "display_data",
          "data": {
            "text/plain": [
              "<Figure size 1080x720 with 1 Axes>"
            ],
            "image/png": "[encoded data removed]"
          },
          "metadata": {
            "needs_background": "light"
          }
        },
        {
          "output_type": "display_data",
          "data": {
            "text/plain": [
              "<Figure size 1080x720 with 1 Axes>"
            ],
            "image/png": "[encoded data removed]"
          },
          "metadata": {
            "needs_background": "light"
          }
        },
        {
          "output_type": "display_data",
          "data": {
            "text/plain": [
              "<Figure size 1080x720 with 1 Axes>"
            ],
            "image/png": "[encoded data removed]"
          },
          "metadata": {
            "needs_background": "light"
          }
        },
        {
          "output_type": "display_data",
          "data": {
            "text/plain": [
              "<Figure size 1080x720 with 1 Axes>"
            ],
            "image/png": "[encoded data removed]"
          },
          "metadata": {
            "needs_background": "light"
          }
        },
        {
          "output_type": "display_data",
          "data": {
            "text/plain": [
              "<Figure size 1080x720 with 2 Axes>"
            ],
            "image/png": "[encoded data removed]"
          },
          "metadata": {
            "needs_background": "light"
          }
        }
      ]
    },
    {
      "cell_type": "markdown",
      "metadata": {
        "id": "VguuGK_0c-EZ"
      },
      "source": [
        "# **3. Splitting the data**"
      ]
    },
    {
      "cell_type": "code",
      "source": [
        "df=df.sort_values(by=['date','item'])"
      ],
      "metadata": {
        "id": "tfgIN-ZsVB_4"
      },
      "execution_count": 25,
      "outputs": []
    },
    {
      "cell_type": "code",
      "source": [
        "df"
      ],
      "metadata": {
        "colab": {
          "base_uri": "https://localhost:8080/",
          "height": 424
        },
        "id": "5y0wTSNcVyoK",
        "outputId": "7d85b528-3951-4af5-f5f6-4297aa574028"
      },
      "execution_count": 26,
      "outputs": [
        {
          "output_type": "execute_result",
          "data": {
            "text/plain": [
              "            date  item  duration  three_month_sale  day  dayofyear  week  \\\n",
              "0     2013-01-01     1        90             12847    1          1     1   \n",
              "1735  2013-01-01     2        90             34650    1          1     1   \n",
              "3470  2013-01-01     3        90             21420    1          1     1   \n",
              "5205  2013-01-01     4        90             12884    1          1     1   \n",
              "6940  2013-01-01     5        90             10630    1          1     1   \n",
              "...          ...   ...       ...               ...  ...        ...   ...   \n",
              "79809 2017-10-01    46        92             56785    1        274    39   \n",
              "81544 2017-10-01    47        92             21132    1        274    39   \n",
              "83279 2017-10-01    48        92             49695    1        274    39   \n",
              "85014 2017-10-01    49        92             27934    1        274    39   \n",
              "86749 2017-10-01    50        92             62925    1        274    39   \n",
              "\n",
              "       weekday  weekend  month  quarter  year  \n",
              "0            1        0      1        1  2013  \n",
              "1735         1        0      1        1  2013  \n",
              "3470         1        0      1        1  2013  \n",
              "5205         1        0      1        1  2013  \n",
              "6940         1        0      1        1  2013  \n",
              "...        ...      ...    ...      ...   ...  \n",
              "79809        6        1     10        4  2017  \n",
              "81544        6        1     10        4  2017  \n",
              "83279        6        1     10        4  2017  \n",
              "85014        6        1     10        4  2017  \n",
              "86749        6        1     10        4  2017  \n",
              "\n",
              "[86750 rows x 12 columns]"
            ],
            "text/html": [
              "\n",
              "  <div id=\"df-114bdc4c-515a-4f6c-82cc-23de319d9525\">\n",
              "    <div class=\"colab-df-container\">\n",
              "      <div>\n",
              "<style scoped>\n",
              "    .dataframe tbody tr th:only-of-type {\n",
              "        vertical-align: middle;\n",
              "    }\n",
              "\n",
              "    .dataframe tbody tr th {\n",
              "        vertical-align: top;\n",
              "    }\n",
              "\n",
              "    .dataframe thead th {\n",
              "        text-align: right;\n",
              "    }\n",
              "</style>\n",
              "<table border=\"1\" class=\"dataframe\">\n",
              "  <thead>\n",
              "    <tr style=\"text-align: right;\">\n",
              "      <th></th>\n",
              "      <th>date</th>\n",
              "      <th>item</th>\n",
              "      <th>duration</th>\n",
              "      <th>three_month_sale</th>\n",
              "      <th>day</th>\n",
              "      <th>dayofyear</th>\n",
              "      <th>week</th>\n",
              "      <th>weekday</th>\n",
              "      <th>weekend</th>\n",
              "      <th>month</th>\n",
              "      <th>quarter</th>\n",
              "      <th>year</th>\n",
              "    </tr>\n",
              "  </thead>\n",
              "  <tbody>\n",
              "    <tr>\n",
              "      <th>0</th>\n",
              "      <td>2013-01-01</td>\n",
              "      <td>1</td>\n",
              "      <td>90</td>\n",
              "      <td>12847</td>\n",
              "      <td>1</td>\n",
              "      <td>1</td>\n",
              "      <td>1</td>\n",
              "      <td>1</td>\n",
              "      <td>0</td>\n",
              "      <td>1</td>\n",
              "      <td>1</td>\n",
              "      <td>2013</td>\n",
              "    </tr>\n",
              "    <tr>\n",
              "      <th>1735</th>\n",
              "      <td>2013-01-01</td>\n",
              "      <td>2</td>\n",
              "      <td>90</td>\n",
              "      <td>34650</td>\n",
              "      <td>1</td>\n",
              "      <td>1</td>\n",
              "      <td>1</td>\n",
              "      <td>1</td>\n",
              "      <td>0</td>\n",
              "      <td>1</td>\n",
              "      <td>1</td>\n",
              "      <td>2013</td>\n",
              "    </tr>\n",
              "    <tr>\n",
              "      <th>3470</th>\n",
              "      <td>2013-01-01</td>\n",
              "      <td>3</td>\n",
              "      <td>90</td>\n",
              "      <td>21420</td>\n",
              "      <td>1</td>\n",
              "      <td>1</td>\n",
              "      <td>1</td>\n",
              "      <td>1</td>\n",
              "      <td>0</td>\n",
              "      <td>1</td>\n",
              "      <td>1</td>\n",
              "      <td>2013</td>\n",
              "    </tr>\n",
              "    <tr>\n",
              "      <th>5205</th>\n",
              "      <td>2013-01-01</td>\n",
              "      <td>4</td>\n",
              "      <td>90</td>\n",
              "      <td>12884</td>\n",
              "      <td>1</td>\n",
              "      <td>1</td>\n",
              "      <td>1</td>\n",
              "      <td>1</td>\n",
              "      <td>0</td>\n",
              "      <td>1</td>\n",
              "      <td>1</td>\n",
              "      <td>2013</td>\n",
              "    </tr>\n",
              "    <tr>\n",
              "      <th>6940</th>\n",
              "      <td>2013-01-01</td>\n",
              "      <td>5</td>\n",
              "      <td>90</td>\n",
              "      <td>10630</td>\n",
              "      <td>1</td>\n",
              "      <td>1</td>\n",
              "      <td>1</td>\n",
              "      <td>1</td>\n",
              "      <td>0</td>\n",
              "      <td>1</td>\n",
              "      <td>1</td>\n",
              "      <td>2013</td>\n",
              "    </tr>\n",
              "    <tr>\n",
              "      <th>...</th>\n",
              "      <td>...</td>\n",
              "      <td>...</td>\n",
              "      <td>...</td>\n",
              "      <td>...</td>\n",
              "      <td>...</td>\n",
              "      <td>...</td>\n",
              "      <td>...</td>\n",
              "      <td>...</td>\n",
              "      <td>...</td>\n",
              "      <td>...</td>\n",
              "      <td>...</td>\n",
              "      <td>...</td>\n",
              "    </tr>\n",
              "    <tr>\n",
              "      <th>79809</th>\n",
              "      <td>2017-10-01</td>\n",
              "      <td>46</td>\n",
              "      <td>92</td>\n",
              "      <td>56785</td>\n",
              "      <td>1</td>\n",
              "      <td>274</td>\n",
              "      <td>39</td>\n",
              "      <td>6</td>\n",
              "      <td>1</td>\n",
              "      <td>10</td>\n",
              "      <td>4</td>\n",
              "      <td>2017</td>\n",
              "    </tr>\n",
              "    <tr>\n",
              "      <th>81544</th>\n",
              "      <td>2017-10-01</td>\n",
              "      <td>47</td>\n",
              "      <td>92</td>\n",
              "      <td>21132</td>\n",
              "      <td>1</td>\n",
              "      <td>274</td>\n",
              "      <td>39</td>\n",
              "      <td>6</td>\n",
              "      <td>1</td>\n",
              "      <td>10</td>\n",
              "      <td>4</td>\n",
              "      <td>2017</td>\n",
              "    </tr>\n",
              "    <tr>\n",
              "      <th>83279</th>\n",
              "      <td>2017-10-01</td>\n",
              "      <td>48</td>\n",
              "      <td>92</td>\n",
              "      <td>49695</td>\n",
              "      <td>1</td>\n",
              "      <td>274</td>\n",
              "      <td>39</td>\n",
              "      <td>6</td>\n",
              "      <td>1</td>\n",
              "      <td>10</td>\n",
              "      <td>4</td>\n",
              "      <td>2017</td>\n",
              "    </tr>\n",
              "    <tr>\n",
              "      <th>85014</th>\n",
              "      <td>2017-10-01</td>\n",
              "      <td>49</td>\n",
              "      <td>92</td>\n",
              "      <td>27934</td>\n",
              "      <td>1</td>\n",
              "      <td>274</td>\n",
              "      <td>39</td>\n",
              "      <td>6</td>\n",
              "      <td>1</td>\n",
              "      <td>10</td>\n",
              "      <td>4</td>\n",
              "      <td>2017</td>\n",
              "    </tr>\n",
              "    <tr>\n",
              "      <th>86749</th>\n",
              "      <td>2017-10-01</td>\n",
              "      <td>50</td>\n",
              "      <td>92</td>\n",
              "      <td>62925</td>\n",
              "      <td>1</td>\n",
              "      <td>274</td>\n",
              "      <td>39</td>\n",
              "      <td>6</td>\n",
              "      <td>1</td>\n",
              "      <td>10</td>\n",
              "      <td>4</td>\n",
              "      <td>2017</td>\n",
              "    </tr>\n",
              "  </tbody>\n",
              "</table>\n",
              "<p>86750 rows × 12 columns</p>\n",
              "</div>\n",
              "      <button class=\"colab-df-convert\" onclick=\"convertToInteractive('df-114bdc4c-515a-4f6c-82cc-23de319d9525')\"\n",
              "              title=\"Convert this dataframe to an interactive table.\"\n",
              "              style=\"display:none;\">\n",
              "        \n",
              "  <svg xmlns=\"http://www.w3.org/2000/svg\" height=\"24px\"viewBox=\"0 0 24 24\"\n",
              "       width=\"24px\">\n",
              "    <path d=\"M0 0h24v24H0V0z\" fill=\"none\"/>\n",
              "    <path d=\"M18.56 5.44l.94 2.06.94-2.06 2.06-.94-2.06-.94-.94-2.06-.94 2.06-2.06.94zm-11 1L8.5 8.5l.94-2.06 2.06-.94-2.06-.94L8.5 2.5l-.94 2.06-2.06.94zm10 10l.94 2.06.94-2.06 2.06-.94-2.06-.94-.94-2.06-.94 2.06-2.06.94z\"/><path d=\"M17.41 7.96l-1.37-1.37c-.4-.4-.92-.59-1.43-.59-.52 0-1.04.2-1.43.59L10.3 9.45l-7.72 7.72c-.78.78-.78 2.05 0 2.83L4 21.41c.39.39.9.59 1.41.59.51 0 1.02-.2 1.41-.59l7.78-7.78 2.81-2.81c.8-.78.8-2.07 0-2.86zM5.41 20L4 18.59l7.72-7.72 1.47 1.35L5.41 20z\"/>\n",
              "  </svg>\n",
              "      </button>\n",
              "      \n",
              "  <style>\n",
              "    .colab-df-container {\n",
              "      display:flex;\n",
              "      flex-wrap:wrap;\n",
              "      gap: 12px;\n",
              "    }\n",
              "\n",
              "    .colab-df-convert {\n",
              "      background-color: #E8F0FE;\n",
              "      border: none;\n",
              "      border-radius: 50%;\n",
              "      cursor: pointer;\n",
              "      display: none;\n",
              "      fill: #1967D2;\n",
              "      height: 32px;\n",
              "      padding: 0 0 0 0;\n",
              "      width: 32px;\n",
              "    }\n",
              "\n",
              "    .colab-df-convert:hover {\n",
              "      background-color: #E2EBFA;\n",
              "      box-shadow: 0px 1px 2px rgba(60, 64, 67, 0.3), 0px 1px 3px 1px rgba(60, 64, 67, 0.15);\n",
              "      fill: #174EA6;\n",
              "    }\n",
              "\n",
              "    [theme=dark] .colab-df-convert {\n",
              "      background-color: #3B4455;\n",
              "      fill: #D2E3FC;\n",
              "    }\n",
              "\n",
              "    [theme=dark] .colab-df-convert:hover {\n",
              "      background-color: #434B5C;\n",
              "      box-shadow: 0px 1px 3px 1px rgba(0, 0, 0, 0.15);\n",
              "      filter: drop-shadow(0px 1px 2px rgba(0, 0, 0, 0.3));\n",
              "      fill: #FFFFFF;\n",
              "    }\n",
              "  </style>\n",
              "\n",
              "      <script>\n",
              "        const buttonEl =\n",
              "          document.querySelector('#df-114bdc4c-515a-4f6c-82cc-23de319d9525 button.colab-df-convert');\n",
              "        buttonEl.style.display =\n",
              "          google.colab.kernel.accessAllowed ? 'block' : 'none';\n",
              "\n",
              "        async function convertToInteractive(key) {\n",
              "          const element = document.querySelector('#df-114bdc4c-515a-4f6c-82cc-23de319d9525');\n",
              "          const dataTable =\n",
              "            await google.colab.kernel.invokeFunction('convertToInteractive',\n",
              "                                                     [key], {});\n",
              "          if (!dataTable) return;\n",
              "\n",
              "          const docLinkHtml = 'Like what you see? Visit the ' +\n",
              "            '<a target=\"_blank\" href=https://colab.research.google.com/notebooks/data_table.ipynb>data table notebook</a>'\n",
              "            + ' to learn more about interactive tables.';\n",
              "          element.innerHTML = '';\n",
              "          dataTable['output_type'] = 'display_data';\n",
              "          await google.colab.output.renderOutput(dataTable, element);\n",
              "          const docLink = document.createElement('div');\n",
              "          docLink.innerHTML = docLinkHtml;\n",
              "          element.appendChild(docLink);\n",
              "        }\n",
              "      </script>\n",
              "    </div>\n",
              "  </div>\n",
              "  "
            ]
          },
          "metadata": {},
          "execution_count": 26
        }
      ]
    },
    {
      "cell_type": "code",
      "source": [
        "#unwanted_col=['day','week','weekday','weekend']                    \n",
        "#df=delete(df,unwanted_col)                # One day sales ware converted into three month sales both of them gives same informations.\n",
        "#df"
      ],
      "metadata": {
        "id": "amuVYqF_gL8Z"
      },
      "execution_count": 27,
      "outputs": []
    },
    {
      "cell_type": "code",
      "source": [
        "split_date=pd.to_datetime('24-07-2016')\n",
        "X_train=df[df['date']<split_date].drop(['three_month_sale','date','weekend'],axis=1).values\n",
        "X_test=df[df['date']>=split_date].drop(['three_month_sale','date','weekend'],axis=1).values\n",
        "y_train=df[df['date']<split_date].drop(['dayofyear','month','year','item','date','duration','day','week','weekday','weekend','quarter'],axis=1).values\n",
        "y_test=df[df['date']>=split_date].drop(['dayofyear','month','year','item','date','duration','day','week','weekday','weekend','quarter'],axis=1).values"
      ],
      "metadata": {
        "id": "lDxNgr1Debv-"
      },
      "execution_count": 28,
      "outputs": []
    },
    {
      "cell_type": "code",
      "source": [
        "split_date"
      ],
      "metadata": {
        "colab": {
          "base_uri": "https://localhost:8080/"
        },
        "id": "Vvv4L5bUhzX7",
        "outputId": "16b6e184-3b0c-4799-9e02-71d26d7fa604"
      },
      "execution_count": 29,
      "outputs": [
        {
          "output_type": "execute_result",
          "data": {
            "text/plain": [
              "Timestamp('2016-07-24 00:00:00')"
            ]
          },
          "metadata": {},
          "execution_count": 29
        }
      ]
    },
    {
      "cell_type": "code",
      "source": [
        "y_train=y_train.flatten()\n",
        "y_test=y_test.flatten()"
      ],
      "metadata": {
        "id": "hx52qZPgl16u"
      },
      "execution_count": 30,
      "outputs": []
    },
    {
      "cell_type": "markdown",
      "metadata": {
        "id": "r0qe4Xrifpox"
      },
      "source": [
        "# **4. Scaling the data**"
      ]
    },
    {
      "cell_type": "code",
      "execution_count": 31,
      "metadata": {
        "id": "YyJoyEhfgG9_"
      },
      "outputs": [],
      "source": [
        "def scaling(train,test):                               # scaling the data for important for KNN,voting regressor \n",
        "  from sklearn.preprocessing import StandardScaler\n",
        "  scaler=StandardScaler()\n",
        "  #for ix,i in enumerate(features):\n",
        "  scaler=scaler.fit(train)\n",
        "  X_train_scale=scaler.transform(train)\n",
        "  X_test_scale=scaler.transform(test)\n",
        "  return X_train_scale,X_test_scale"
      ]
    },
    {
      "cell_type": "code",
      "source": [
        "X_test"
      ],
      "metadata": {
        "id": "I0gHXGQ737jR",
        "colab": {
          "base_uri": "https://localhost:8080/"
        },
        "outputId": "e58ba089-d98f-439b-ca13-9582736a1349"
      },
      "execution_count": 32,
      "outputs": [
        {
          "output_type": "execute_result",
          "data": {
            "text/plain": [
              "array([[   1,   92,   24, ...,    7,    3, 2016],\n",
              "       [   2,   92,   24, ...,    7,    3, 2016],\n",
              "       [   3,   92,   24, ...,    7,    3, 2016],\n",
              "       ...,\n",
              "       [  48,   92,    1, ...,   10,    4, 2017],\n",
              "       [  49,   92,    1, ...,   10,    4, 2017],\n",
              "       [  50,   92,    1, ...,   10,    4, 2017]])"
            ]
          },
          "metadata": {},
          "execution_count": 32
        }
      ]
    },
    {
      "cell_type": "code",
      "source": [
        "y_test"
      ],
      "metadata": {
        "colab": {
          "base_uri": "https://localhost:8080/"
        },
        "id": "FOImgOr_AtAj",
        "outputId": "125fbc2f-22e1-4054-816e-710e98d48dff"
      },
      "execution_count": 33,
      "outputs": [
        {
          "output_type": "execute_result",
          "data": {
            "text/plain": [
              "array([23645, 63295, 39317, ..., 49695, 27934, 62925])"
            ]
          },
          "metadata": {},
          "execution_count": 33
        }
      ]
    },
    {
      "cell_type": "code",
      "execution_count": 34,
      "metadata": {
        "id": "9ktDNZSlgsuz",
        "colab": {
          "base_uri": "https://localhost:8080/"
        },
        "outputId": "cb2215ae-a70e-4a0f-cf27-bb8cb4331eac"
      },
      "outputs": [
        {
          "output_type": "stream",
          "name": "stdout",
          "text": [
            "(65000, 9) (21750, 9)\n"
          ]
        }
      ],
      "source": [
        "X_train_scale,X_test_scale=scaling(X_train,X_test)\n",
        "print(X_train_scale.shape,X_test_scale.shape)"
      ]
    },
    {
      "cell_type": "markdown",
      "metadata": {
        "id": "wYkGbq2HiMaD"
      },
      "source": [
        "# **5. Build the model**"
      ]
    },
    {
      "cell_type": "code",
      "execution_count": 35,
      "metadata": {
        "id": "Lya5EkQyiVtZ"
      },
      "outputs": [],
      "source": [
        "from sklearn.linear_model import LinearRegression   # for linear regression\n",
        "from sklearn.neighbors import KNeighborsRegressor   # for KNN regression\n",
        "from sklearn.tree import DecisionTreeRegressor      # for Decision tree regression\n",
        "from sklearn.ensemble import RandomForestRegressor  # for Random Forest regression\n",
        "import xgboost \n",
        "from xgboost import XGBRegressor                    # for XGBoost regression\n",
        "from sklearn.ensemble import VotingRegressor        # for voting regressoin"
      ]
    },
    {
      "cell_type": "code",
      "execution_count": 39,
      "metadata": {
        "id": "41Q0-a3uil5R"
      },
      "outputs": [],
      "source": [
        "def algorithm (model,X_train, X_test, y_train, y_test,k):    # definition of model building for all models\n",
        "  from sklearn.model_selection import cross_val_score\n",
        "  from sklearn.metrics import mean_squared_error,mean_absolute_error\n",
        "  mod=model\n",
        "  mod.fit(X_train, y_train)                                  # fit the training set into the model\n",
        "  y_predict_mod=mod.predict(X_test)                          # predict the result testing set\n",
        "  result= pd.DataFrame({'actual': y_test, 'predict': y_predict_mod}) # dataframe of actual and predicted\n",
        "  score=mod.score(X_test,y_test)                             # score of prediction\n",
        "  MAE=mean_absolute_error(y_test,y_predict_mod)              # squared error of prediction\n",
        "  print('for ' ,k ,' value ',\"Train Accuracy : \",round(mod.score(X_train,y_train),3),\"Val Accuracy :\" ,round(np.mean(cross_val_score_time(mod, X_train, y_train)),3))\n",
        "  return y_predict_mod,result,score,mod,MAE"
      ]
    },
    {
      "cell_type": "code",
      "source": [
        "def cross_val_score_time(mod,X_train,y_train):\n",
        "  from sklearn.model_selection import TimeSeriesSplit\n",
        "  from sklearn.metrics import r2_score\n",
        "  tscv = TimeSeriesSplit(n_splits=3)\n",
        "  scores=[]\n",
        "  for i in tscv.split(X_train):\n",
        "    X_tr,X_te=pd.DataFrame(list(map(X_train.__getitem__,i[0]))),pd.DataFrame(list(map(X_train.__getitem__,i[1])))\n",
        "    y_tr,y_te=pd.Series(list(map(y_train.__getitem__,i[0]))),pd.Series(list(map(y_train.__getitem__,i[1])))\n",
        "    X_tr=X_tr.values\n",
        "    X_te=X_te.values\n",
        "    y_tr=y_tr.values\n",
        "    y_te=y_te.values\n",
        "    #print(X_tr.shape)\n",
        "    #print(X_te.shape)\n",
        "    mod.fit(X_tr,y_tr)\n",
        "    pred=mod.predict(X_te)\n",
        "    sco=r2_score(y_te,pred)\n",
        "    scores.append(sco)\n",
        "  return scores"
      ],
      "metadata": {
        "id": "W-Wqxjg32eGy"
      },
      "execution_count": 40,
      "outputs": []
    },
    {
      "cell_type": "markdown",
      "metadata": {
        "id": "7RYgTKWTuAQP"
      },
      "source": [
        "# **i) Linear Regression algorithm**"
      ]
    },
    {
      "cell_type": "code",
      "execution_count": 41,
      "metadata": {
        "colab": {
          "base_uri": "https://localhost:8080/"
        },
        "id": "KHXWDC6SpSme",
        "outputId": "5cc140b4-1422-4b8c-b45a-4d55674fa5b7"
      },
      "outputs": [
        {
          "output_type": "stream",
          "name": "stdout",
          "text": [
            "for  1  value  Train Accuracy :  0.114 Val Accuracy : -14.653\n",
            "   actual       predict\n",
            "0   23645  55923.062380\n",
            "1   63295  55823.575753\n",
            "2   39317  55724.089125\n",
            "3   23722  55624.602498\n",
            "4   19776  55525.115871\n",
            "MAE error of linear regeression is  19281.599929535256\n",
            " Score of LinearRegression algorithmn is  7.618898727373324\n"
          ]
        }
      ],
      "source": [
        "y_predict_lr,result_L,score_L,lin,MAE_L=algorithm(LinearRegression(),X_train_scale, X_test_scale, y_train, y_test,1)\n",
        "print(result_L.head())\n",
        "print('MAE error of linear regeression is ' ,MAE_L)\n",
        "print(' Score of LinearRegression algorithmn is ', score_L * 100)"
      ]
    },
    {
      "cell_type": "markdown",
      "metadata": {
        "id": "eIP8kJbtuL3A"
      },
      "source": [
        "# **ii) KNN regression model**"
      ]
    },
    {
      "cell_type": "code",
      "execution_count": 42,
      "metadata": {
        "colab": {
          "base_uri": "https://localhost:8080/"
        },
        "id": "L0j073hYxUbS",
        "outputId": "869b1949-c067-4f60-ff1d-3de7ffd7ee41"
      },
      "outputs": [
        {
          "output_type": "stream",
          "name": "stdout",
          "text": [
            "for  1  value  Train Accuracy :  1.0 Val Accuracy : 0.941\n",
            "for  2  value  Train Accuracy :  0.584 Val Accuracy : 0.486\n",
            "for  3  value  Train Accuracy :  0.388 Val Accuracy : 0.327\n",
            "for  4  value  Train Accuracy :  0.261 Val Accuracy : 0.239\n",
            "for  5  value  Train Accuracy :  0.271 Val Accuracy : 0.211\n",
            "for  6  value  Train Accuracy :  0.331 Val Accuracy : 0.267\n",
            "for  7  value  Train Accuracy :  0.339 Val Accuracy : 0.278\n",
            "for  8  value  Train Accuracy :  0.301 Val Accuracy : 0.249\n",
            "for  9  value  Train Accuracy :  0.315 Val Accuracy : 0.255\n"
          ]
        }
      ],
      "source": [
        "for i in range (1,10):\n",
        "  algorithm(KNeighborsRegressor(i),X_train_scale, X_test_scale, y_train, y_test,i)"
      ]
    },
    {
      "cell_type": "code",
      "execution_count": 43,
      "metadata": {
        "colab": {
          "base_uri": "https://localhost:8080/"
        },
        "id": "2WjNBeSMoQ09",
        "outputId": "51412b07-f624-4422-afe0-833159bfb869"
      },
      "outputs": [
        {
          "output_type": "stream",
          "name": "stdout",
          "text": [
            "for  1  value  Train Accuracy :  1.0 Val Accuracy : 0.941\n",
            "       actual  predict\n",
            "21745   56785  49553.0\n",
            "21746   21132  18621.0\n",
            "21747   49695  43335.0\n",
            "21748   27934  24987.0\n",
            "21749   62925  56095.0\n",
            "MAE error of knn regeression is  2727.0490114942527\n",
            " Score of KNN Regression algorithmn is  98.02764909649837\n"
          ]
        }
      ],
      "source": [
        "y_predict_knn,result_K,score_K,knn,MAE_K=algorithm(KNeighborsRegressor(1),X_train_scale, X_test_scale, y_train, y_test,1)\n",
        "print(result_K.tail())\n",
        "print('MAE error of knn regeression is ' , MAE_K)\n",
        "print(' Score of KNN Regression algorithmn is ', score_K * 100)"
      ]
    },
    {
      "cell_type": "markdown",
      "metadata": {
        "id": "kydWymsnvg7P"
      },
      "source": [
        "# **iii)Decision Tree Regression model**"
      ]
    },
    {
      "cell_type": "code",
      "execution_count": 44,
      "metadata": {
        "colab": {
          "base_uri": "https://localhost:8080/"
        },
        "id": "JwmetO2zyCtO",
        "outputId": "021315ad-3b42-420f-f8ac-7e5deeaf91f6"
      },
      "outputs": [
        {
          "output_type": "stream",
          "name": "stdout",
          "text": [
            "for  1  value  Train Accuracy :  0.086 Val Accuracy : 0.034\n",
            "for  2  value  Train Accuracy :  0.196 Val Accuracy : 0.145\n",
            "for  3  value  Train Accuracy :  0.267 Val Accuracy : 0.212\n",
            "for  4  value  Train Accuracy :  0.326 Val Accuracy : 0.282\n",
            "for  5  value  Train Accuracy :  0.391 Val Accuracy : 0.351\n",
            "for  6  value  Train Accuracy :  0.463 Val Accuracy : 0.435\n",
            "for  7  value  Train Accuracy :  0.541 Val Accuracy : 0.507\n",
            "for  8  value  Train Accuracy :  0.611 Val Accuracy : 0.573\n",
            "for  9  value  Train Accuracy :  0.674 Val Accuracy : 0.638\n",
            "for  10  value  Train Accuracy :  0.727 Val Accuracy : 0.68\n",
            "for  11  value  Train Accuracy :  0.765 Val Accuracy : 0.711\n",
            "for  12  value  Train Accuracy :  0.794 Val Accuracy : 0.752\n",
            "for  13  value  Train Accuracy :  0.829 Val Accuracy : 0.78\n",
            "for  14  value  Train Accuracy :  0.853 Val Accuracy : 0.829\n",
            "for  15  value  Train Accuracy :  0.899 Val Accuracy : 0.879\n",
            "for  16  value  Train Accuracy :  0.947 Val Accuracy : 0.902\n",
            "for  17  value  Train Accuracy :  0.971 Val Accuracy : 0.914\n",
            "for  18  value  Train Accuracy :  0.981 Val Accuracy : 0.927\n",
            "for  19  value  Train Accuracy :  0.991 Val Accuracy : 0.935\n",
            "for  20  value  Train Accuracy :  0.995 Val Accuracy : 0.94\n",
            "for  21  value  Train Accuracy :  0.998 Val Accuracy : 0.943\n",
            "for  22  value  Train Accuracy :  0.999 Val Accuracy : 0.944\n",
            "for  23  value  Train Accuracy :  0.999 Val Accuracy : 0.945\n",
            "for  24  value  Train Accuracy :  1.0 Val Accuracy : 0.944\n"
          ]
        }
      ],
      "source": [
        "for i in range(1,25):\n",
        "  algorithm(DecisionTreeRegressor(max_depth=i,random_state=97),X_train, X_test, y_train, y_test,i)"
      ]
    },
    {
      "cell_type": "code",
      "execution_count": 45,
      "metadata": {
        "colab": {
          "base_uri": "https://localhost:8080/"
        },
        "id": "84L0D6Y2c7mf",
        "outputId": "b955d6a4-ad7e-41bd-fb73-bb28895e7ad4"
      },
      "outputs": [
        {
          "output_type": "stream",
          "name": "stdout",
          "text": [
            "for  24  value  Train Accuracy :  1.0 Val Accuracy : 0.944\n",
            "   actual  predict\n",
            "0   23645  23733.0\n",
            "1   63295  63471.0\n",
            "2   39317  39405.0\n",
            "3   23722  23810.0\n",
            "4   19776  19836.0\n",
            "MAE error of Decision Tree regeression is  2601.1654774655003\n",
            " Score of Decision Tree Regression algorithmn is  98.12067947126411\n"
          ]
        }
      ],
      "source": [
        "y_predict_dt,result_D,score_D,dt,MAE_D=algorithm(DecisionTreeRegressor(max_depth=24,random_state=97),X_train_scale, X_test_scale, y_train, y_test,24)\n",
        "print(result_D.head())\n",
        "print('MAE error of Decision Tree regeression is ' , MAE_D)\n",
        "print(' Score of Decision Tree Regression algorithmn is ', score_D * 100)"
      ]
    },
    {
      "cell_type": "markdown",
      "metadata": {
        "id": "eG4ro4KP2hna"
      },
      "source": [
        "# **iv) Random Forest Regression model**"
      ]
    },
    {
      "cell_type": "code",
      "execution_count": 46,
      "metadata": {
        "colab": {
          "base_uri": "https://localhost:8080/"
        },
        "id": "WASqB1ln4LoD",
        "outputId": "9d589c28-a757-46be-ca69-a7e22b54ea69"
      },
      "outputs": [
        {
          "output_type": "stream",
          "name": "stdout",
          "text": [
            "for  10  value  Train Accuracy :  0.339 Val Accuracy : 0.267\n",
            "for  20  value  Train Accuracy :  0.339 Val Accuracy : 0.272\n",
            "for  30  value  Train Accuracy :  0.339 Val Accuracy : 0.271\n",
            "for  40  value  Train Accuracy :  0.336 Val Accuracy : 0.268\n",
            "for  50  value  Train Accuracy :  0.338 Val Accuracy : 0.272\n",
            "for  60  value  Train Accuracy :  0.336 Val Accuracy : 0.27\n",
            "for  70  value  Train Accuracy :  0.338 Val Accuracy : 0.268\n",
            "for  80  value  Train Accuracy :  0.337 Val Accuracy : 0.267\n",
            "for  90  value  Train Accuracy :  0.338 Val Accuracy : 0.266\n",
            "for  100  value  Train Accuracy :  0.337 Val Accuracy : 0.268\n"
          ]
        }
      ],
      "source": [
        "for i in [10,20,30,40,50,60,70,80,90,100]:\n",
        "  algorithm(RandomForestRegressor(max_depth=5,n_estimators=i,random_state=97,max_features='sqrt'),X_train_scale, X_test_scale, y_train, y_test,i)"
      ]
    },
    {
      "cell_type": "code",
      "execution_count": 47,
      "metadata": {
        "colab": {
          "base_uri": "https://localhost:8080/"
        },
        "id": "E9Sk9q7C2rK4",
        "outputId": "2a26ebfd-3bf2-4909-e2f8-3028f1e42263"
      },
      "outputs": [
        {
          "output_type": "stream",
          "name": "stdout",
          "text": [
            "for  40  value  Train Accuracy :  0.336 Val Accuracy : 0.268\n",
            "       actual       predict\n",
            "0       23645  36137.633977\n",
            "1       63295  39908.133336\n",
            "2       39317  39908.133336\n",
            "3       23722  28679.052092\n",
            "4       19776  28119.213660\n",
            "...       ...           ...\n",
            "21745   56785  42295.411299\n",
            "21746   21132  42295.411299\n",
            "21747   49695  42295.411299\n",
            "21748   27934  42295.411299\n",
            "21749   62925  42295.411299\n",
            "\n",
            "[21750 rows x 2 columns]\n",
            "MAE error of Random forest regeression is  16552.531167434907\n",
            " Score of random forest regresssion is  25.493084885455985\n"
          ]
        }
      ],
      "source": [
        "y_predict_rfr,result_R,score_R,rfr,MAE_R=algorithm(RandomForestRegressor(max_depth=5,n_estimators=40,random_state=97,max_features='sqrt'),X_train_scale, X_test_scale, y_train, y_test,40)\n",
        "print(result_R)\n",
        "print('MAE error of Random forest regeression is ' , MAE_R)\n",
        "print(' Score of random forest regresssion is ', score_R * 100)"
      ]
    },
    {
      "cell_type": "markdown",
      "metadata": {
        "id": "vu6vZvQF5Kgd"
      },
      "source": [
        "# **v)Xgboost Regression model**"
      ]
    },
    {
      "cell_type": "code",
      "execution_count": 48,
      "metadata": {
        "colab": {
          "base_uri": "https://localhost:8080/"
        },
        "id": "qsFqpuSl6HlV",
        "outputId": "af428067-e98e-46d8-c6d0-dddbd90f8630"
      },
      "outputs": [
        {
          "output_type": "stream",
          "name": "stdout",
          "text": [
            "for  0.1  value  Train Accuracy :  0.999 Val Accuracy : 0.947\n",
            "for  0.2  value  Train Accuracy :  0.999 Val Accuracy : 0.949\n",
            "for  0.30000000000000004  value  Train Accuracy :  0.999 Val Accuracy : 0.946\n",
            "for  0.4  value  Train Accuracy :  1.0 Val Accuracy : 0.948\n",
            "for  0.5  value  Train Accuracy :  1.0 Val Accuracy : 0.946\n",
            "for  0.6  value  Train Accuracy :  1.0 Val Accuracy : 0.947\n",
            "for  0.7000000000000001  value  Train Accuracy :  1.0 Val Accuracy : 0.947\n",
            "for  0.8  value  Train Accuracy :  1.0 Val Accuracy : 0.947\n",
            "for  0.9  value  Train Accuracy :  1.0 Val Accuracy : 0.944\n",
            "for  1.0  value  Train Accuracy :  1.0 Val Accuracy : 0.94\n"
          ]
        }
      ],
      "source": [
        "for i in np.arange(0.1,1.1,0.1):\n",
        "  algorithm(XGBRegressor(learning_rate=i,n_estimators= 200,random_state=97,objective='reg:squarederror'),X_train_scale, X_test_scale, y_train, y_test,i)"
      ]
    },
    {
      "cell_type": "code",
      "source": [
        "for i in np.arange(0.35,0.45,0.01):\n",
        "  algorithm(XGBRegressor(learning_rate=i,n_estimators= 200,random_state=97,objective='reg:squarederror'),X_train_scale, X_test_scale, y_train, y_test,i)"
      ],
      "metadata": {
        "id": "R0Y8-kolkXo9",
        "colab": {
          "base_uri": "https://localhost:8080/"
        },
        "outputId": "12556484-1a79-4c43-a8ec-bedf46cd5e36"
      },
      "execution_count": 50,
      "outputs": [
        {
          "output_type": "stream",
          "name": "stdout",
          "text": [
            "for  0.35  value  Train Accuracy :  1.0 Val Accuracy : 0.948\n",
            "for  0.36  value  Train Accuracy :  1.0 Val Accuracy : 0.948\n",
            "for  0.37  value  Train Accuracy :  1.0 Val Accuracy : 0.946\n",
            "for  0.38  value  Train Accuracy :  1.0 Val Accuracy : 0.945\n",
            "for  0.39  value  Train Accuracy :  1.0 Val Accuracy : 0.947\n",
            "for  0.4  value  Train Accuracy :  1.0 Val Accuracy : 0.948\n",
            "for  0.41000000000000003  value  Train Accuracy :  1.0 Val Accuracy : 0.947\n",
            "for  0.42000000000000004  value  Train Accuracy :  1.0 Val Accuracy : 0.947\n",
            "for  0.43000000000000005  value  Train Accuracy :  1.0 Val Accuracy : 0.948\n",
            "for  0.44000000000000006  value  Train Accuracy :  1.0 Val Accuracy : 0.947\n",
            "for  0.45000000000000007  value  Train Accuracy :  1.0 Val Accuracy : 0.945\n"
          ]
        }
      ]
    },
    {
      "cell_type": "code",
      "execution_count": 51,
      "metadata": {
        "colab": {
          "base_uri": "https://localhost:8080/"
        },
        "id": "9Jvg4OtW5Yj8",
        "outputId": "4a43eb79-fe38-4a7e-df81-6923707fc05a"
      },
      "outputs": [
        {
          "output_type": "stream",
          "name": "stdout",
          "text": [
            "for  0.35  value  Train Accuracy :  1.0 Val Accuracy : 0.948\n",
            "       actual       predict\n",
            "0       23645  24051.767578\n",
            "1       63295  62789.277344\n",
            "2       39317  39165.121094\n",
            "3       23722  23548.455078\n",
            "4       19776  19557.476562\n",
            "...       ...           ...\n",
            "21745   56785  54542.785156\n",
            "21746   21132  19058.966797\n",
            "21747   49695  47420.031250\n",
            "21748   27934  25956.486328\n",
            "21749   62925  61440.187500\n",
            "\n",
            "[21750 rows x 2 columns]\n",
            "MAE error of XGBoost regeression is  2204.804178295618\n",
            " Score of Xgboost regression is  98.62621662307693\n"
          ]
        }
      ],
      "source": [
        "y_predict_Xgb,result_X,score_X,Xgb,MAE_X=algorithm(XGBRegressor(learning_rate=0.35,n_estimators= 200,random_state=97,objective='reg:squarederror'),X_train_scale, X_test_scale, y_train, y_test,0.35)\n",
        "print(result_X)\n",
        "print('MAE error of XGBoost regeression is ' , MAE_X)\n",
        "print(' Score of Xgboost regression is ', score_X * 100)"
      ]
    },
    {
      "cell_type": "markdown",
      "metadata": {
        "id": "nrDDiyXQ7QhK"
      },
      "source": [
        "# **vi)Voting Regressor algorithm**"
      ]
    },
    {
      "cell_type": "code",
      "execution_count": 52,
      "metadata": {
        "colab": {
          "base_uri": "https://localhost:8080/"
        },
        "id": "x-PDtmTJ7aba",
        "outputId": "dec04f43-d6cf-4b7c-c18f-946165e04ce4"
      },
      "outputs": [
        {
          "output_type": "stream",
          "name": "stdout",
          "text": [
            "for  4 models  value  Train Accuracy :  1.0 Val Accuracy : 0.949\n",
            "       actual       predict\n",
            "0       23645  23839.255859\n",
            "1       63295  63243.759115\n",
            "2       39317  39325.040365\n",
            "3       23722  23722.818359\n",
            "4       19776  19743.158854\n",
            "...       ...           ...\n",
            "21745   56785  51272.261719\n",
            "21746   21132  18824.988932\n",
            "21747   49695  44751.343750\n",
            "21748   27934  25380.495443\n",
            "21749   62925  57953.062500\n",
            "\n",
            "[21750 rows x 2 columns]\n",
            "MAE error of voting regeression is  1697.8277565333515\n",
            " Score of Voting regression algorithmn is  99.21169242895714\n"
          ]
        }
      ],
      "source": [
        "y_predict_vot,result_V,score_V,vot,MAE_V=algorithm(VotingRegressor(estimators= [('KNN',knn),('DT',dt),('XGB',Xgb)]),X_train_scale, X_test_scale, y_train, y_test,'4 models')\n",
        "print(result_V)\n",
        "print('MAE error of voting regeression is ' , MAE_V)\n",
        "print(' Score of Voting regression algorithmn is ', score_V * 100)"
      ]
    },
    {
      "cell_type": "markdown",
      "metadata": {
        "id": "itkrt5aIk_Xn"
      },
      "source": [
        "# **6.  Evaluation metrics**"
      ]
    },
    {
      "cell_type": "code",
      "execution_count": 53,
      "metadata": {
        "id": "E8rUmXjQUDsc"
      },
      "outputs": [],
      "source": [
        "from sklearn.metrics import r2_score          # R2 score  is suitable for regression problem for evaluavating the model"
      ]
    },
    {
      "cell_type": "code",
      "execution_count": 54,
      "metadata": {
        "id": "6dVxj1jFlNZP"
      },
      "outputs": [],
      "source": [
        "def evaluate(mod,X_test,y_test,predict,result):\n",
        "  R2_score=r2_score(y_test,predict)\n",
        "  plt.figure(figsize=(20,10))\n",
        "  sns.jointplot(x=y_test,y=predict,data=result,kind='reg')   # plottig the graph between actual and predicted\n",
        "  plt.show()\n",
        "  print('R2 score of ',mod,' : ', R2_score) "
      ]
    },
    {
      "cell_type": "markdown",
      "metadata": {
        "id": "5sPDxGBZlh1c"
      },
      "source": [
        "# **i) Evaluation metric for logistic regression algorithm**"
      ]
    },
    {
      "cell_type": "code",
      "execution_count": 55,
      "metadata": {
        "colab": {
          "base_uri": "https://localhost:8080/",
          "height": 476
        },
        "id": "0yMw7xEGtgft",
        "outputId": "93b1d4f5-8c12-4046-cc31-b475bc1783d3"
      },
      "outputs": [
        {
          "output_type": "display_data",
          "data": {
            "text/plain": [
              "<Figure size 1440x720 with 0 Axes>"
            ]
          },
          "metadata": {}
        },
        {
          "output_type": "display_data",
          "data": {
            "text/plain": [
              "<Figure size 432x432 with 3 Axes>"
            ],
            "image/png": "[encoded data removed]"
          },
          "metadata": {
            "needs_background": "light"
          }
        },
        {
          "output_type": "stream",
          "name": "stdout",
          "text": [
            "R2 score of  LinearRegression()  :  0.07618898727373324\n"
          ]
        }
      ],
      "source": [
        "evaluate(lin,X_test_scale,y_test,y_predict_lr,result_L)"
      ]
    },
    {
      "cell_type": "markdown",
      "metadata": {
        "id": "IX5jdH8i1GfO"
      },
      "source": [
        "# **ii) Evaluation metric for KNN classifier algorithm**"
      ]
    },
    {
      "cell_type": "code",
      "execution_count": 56,
      "metadata": {
        "colab": {
          "base_uri": "https://localhost:8080/",
          "height": 476
        },
        "id": "uPAPe-m415GT",
        "outputId": "763b9925-989a-4c20-88f4-fea299023858"
      },
      "outputs": [
        {
          "output_type": "display_data",
          "data": {
            "text/plain": [
              "<Figure size 1440x720 with 0 Axes>"
            ]
          },
          "metadata": {}
        },
        {
          "output_type": "display_data",
          "data": {
            "text/plain": [
              "<Figure size 432x432 with 3 Axes>"
            ],
            "image/png": "[encoded data removed]"
          },
          "metadata": {
            "needs_background": "light"
          }
        },
        {
          "output_type": "stream",
          "name": "stdout",
          "text": [
            "R2 score of  KNeighborsRegressor(n_neighbors=1)  :  0.9802764909649836\n"
          ]
        }
      ],
      "source": [
        "evaluate(knn,X_test_scale,y_test,y_predict_knn,result_K)"
      ]
    },
    {
      "cell_type": "markdown",
      "metadata": {
        "id": "_Izvuej72GNC"
      },
      "source": [
        "# **iii) Evaluation metric for Decision Tree classifier algorithm**"
      ]
    },
    {
      "cell_type": "code",
      "execution_count": 57,
      "metadata": {
        "colab": {
          "base_uri": "https://localhost:8080/",
          "height": 476
        },
        "id": "uihAvkYA2V-D",
        "outputId": "36ca7633-0a56-4dc0-a6e8-c3350df04f04"
      },
      "outputs": [
        {
          "output_type": "display_data",
          "data": {
            "text/plain": [
              "<Figure size 1440x720 with 0 Axes>"
            ]
          },
          "metadata": {}
        },
        {
          "output_type": "display_data",
          "data": {
            "text/plain": [
              "<Figure size 432x432 with 3 Axes>"
            ],
            "image/png": "[encoded data removed]"
          },
          "metadata": {
            "needs_background": "light"
          }
        },
        {
          "output_type": "stream",
          "name": "stdout",
          "text": [
            "R2 score of  DecisionTreeRegressor(max_depth=24, random_state=97)  :  0.981206794712641\n"
          ]
        }
      ],
      "source": [
        "evaluate(dt,X_test_scale,y_test,y_predict_dt,result_D)"
      ]
    },
    {
      "cell_type": "code",
      "execution_count": 58,
      "metadata": {
        "id": "wjZC-pVKAmFR"
      },
      "outputs": [],
      "source": [
        "from sklearn import tree"
      ]
    },
    {
      "cell_type": "code",
      "execution_count": 59,
      "metadata": {
        "id": "i6PqHWoOCrv9"
      },
      "outputs": [],
      "source": [
        "#fig, axes = plt.subplots(nrows = 1,ncols = 1,figsize = (30,30), dpi=400)\n",
        "#tree.plot_tree(dt,filled = True);\n",
        "#fig.savefig('imagename2.png')"
      ]
    },
    {
      "cell_type": "markdown",
      "metadata": {
        "id": "NnJi8MLg8tv3"
      },
      "source": [
        "# **iv)Evaluation metric for RandomForest classifier**"
      ]
    },
    {
      "cell_type": "code",
      "execution_count": 60,
      "metadata": {
        "colab": {
          "base_uri": "https://localhost:8080/",
          "height": 493
        },
        "id": "TP5G7XYw8653",
        "outputId": "6eaf882e-e889-40ea-841c-d4c8d29dba57"
      },
      "outputs": [
        {
          "output_type": "display_data",
          "data": {
            "text/plain": [
              "<Figure size 1440x720 with 0 Axes>"
            ]
          },
          "metadata": {}
        },
        {
          "output_type": "display_data",
          "data": {
            "text/plain": [
              "<Figure size 432x432 with 3 Axes>"
            ],
            "image/png": "[encoded data removed]"
          },
          "metadata": {
            "needs_background": "light"
          }
        },
        {
          "output_type": "stream",
          "name": "stdout",
          "text": [
            "R2 score of  RandomForestRegressor(max_depth=5, max_features='sqrt', n_estimators=40,\n",
            "                      random_state=97)  :  0.25493084885455985\n"
          ]
        }
      ],
      "source": [
        "evaluate(rfr,X_test_scale,y_test,y_predict_rfr,result_R)"
      ]
    },
    {
      "cell_type": "markdown",
      "metadata": {
        "id": "2hYCBeWv9mCK"
      },
      "source": [
        "# **v)Evaluation metric for Xgboost classifier**"
      ]
    },
    {
      "cell_type": "code",
      "execution_count": 61,
      "metadata": {
        "colab": {
          "base_uri": "https://localhost:8080/",
          "height": 649
        },
        "id": "RgMpcHBg93lW",
        "outputId": "80a9ff7a-1bdf-4ba7-ae02-4078beb64b27"
      },
      "outputs": [
        {
          "output_type": "display_data",
          "data": {
            "text/plain": [
              "<Figure size 1440x720 with 0 Axes>"
            ]
          },
          "metadata": {}
        },
        {
          "output_type": "display_data",
          "data": {
            "text/plain": [
              "<Figure size 432x432 with 3 Axes>"
            ],
            "image/png": "[encoded data removed]"
          },
          "metadata": {
            "needs_background": "light"
          }
        },
        {
          "output_type": "stream",
          "name": "stdout",
          "text": [
            "R2 score of  XGBRegressor(base_score=None, booster=None, callbacks=None,\n",
            "             colsample_bylevel=None, colsample_bynode=None,\n",
            "             colsample_bytree=None, early_stopping_rounds=None,\n",
            "             enable_categorical=False, eval_metric=None, feature_types=None,\n",
            "             gamma=None, gpu_id=None, grow_policy=None, importance_type=None,\n",
            "             interaction_constraints=None, learning_rate=0.35, max_bin=None,\n",
            "             max_cat_threshold=None, max_cat_to_onehot=None,\n",
            "             max_delta_step=None, max_depth=None, max_leaves=None,\n",
            "             min_child_weight=None, missing=nan, monotone_constraints=None,\n",
            "             n_estimators=200, n_jobs=None, num_parallel_tree=None,\n",
            "             predictor=None, random_state=97, ...)  :  0.9862621662307693\n"
          ]
        }
      ],
      "source": [
        "evaluate(Xgb,X_test_scale,y_test,y_predict_Xgb,result_X)"
      ]
    },
    {
      "cell_type": "markdown",
      "metadata": {
        "id": "_I7ZdK5u-YL2"
      },
      "source": [
        "# **vi) evaluation metric for Voting classifier**"
      ]
    },
    {
      "cell_type": "code",
      "execution_count": 62,
      "metadata": {
        "id": "KBUvIRPW-g7-",
        "colab": {
          "base_uri": "https://localhost:8080/",
          "height": 927
        },
        "outputId": "555c4222-e680-48be-8849-81212a36f705"
      },
      "outputs": [
        {
          "output_type": "display_data",
          "data": {
            "text/plain": [
              "<Figure size 1440x720 with 0 Axes>"
            ]
          },
          "metadata": {}
        },
        {
          "output_type": "display_data",
          "data": {
            "text/plain": [
              "<Figure size 432x432 with 3 Axes>"
            ],
            "image/png": "[encoded data removed]"
          },
          "metadata": {
            "needs_background": "light"
          }
        },
        {
          "output_type": "stream",
          "name": "stdout",
          "text": [
            "R2 score of  VotingRegressor(estimators=[('KNN', KNeighborsRegressor(n_neighbors=1)),\n",
            "                            ('DT',\n",
            "                             DecisionTreeRegressor(max_depth=24,\n",
            "                                                   random_state=97)),\n",
            "                            ('XGB',\n",
            "                             XGBRegressor(base_score=None, booster=None,\n",
            "                                          callbacks=None,\n",
            "                                          colsample_bylevel=None,\n",
            "                                          colsample_bynode=None,\n",
            "                                          colsample_bytree=None,\n",
            "                                          early_stopping_rounds=None,\n",
            "                                          enable_categorical=False,\n",
            "                                          eval_metric=None, feature_types=None,\n",
            "                                          g...one,\n",
            "                                          grow_policy=None,\n",
            "                                          importance_type=None,\n",
            "                                          interaction_constraints=None,\n",
            "                                          learning_rate=0.35, max_bin=None,\n",
            "                                          max_cat_threshold=None,\n",
            "                                          max_cat_to_onehot=None,\n",
            "                                          max_delta_step=None, max_depth=None,\n",
            "                                          max_leaves=None,\n",
            "                                          min_child_weight=None, missing=nan,\n",
            "                                          monotone_constraints=None,\n",
            "                                          n_estimators=200, n_jobs=None,\n",
            "                                          num_parallel_tree=None,\n",
            "                                          predictor=None, random_state=97, ...))])  :  0.9921169242895713\n"
          ]
        }
      ],
      "source": [
        "evaluate(vot,X_test_scale,y_test,y_predict_vot,result_V)\n"
      ]
    },
    {
      "cell_type": "markdown",
      "source": [
        "# **SCORING COMPARISON**"
      ],
      "metadata": {
        "id": "bXvIJwknlpoW"
      }
    },
    {
      "cell_type": "code",
      "source": [
        "score=[score_L,score_K,score_D,score_R,score_X,score_V]\n",
        "model=['Linear regression','KNN regression','Decision tree regression','RandomForest regression','XGboost regression','voting regression']\n",
        "RESULT= pd.DataFrame({'model': model, 'score': score})\n",
        "RESULT"
      ],
      "metadata": {
        "colab": {
          "base_uri": "https://localhost:8080/",
          "height": 238
        },
        "id": "MSpKSIhglx8X",
        "outputId": "a1a91d40-4f09-49e7-cb52-cd263bf902e0"
      },
      "execution_count": 63,
      "outputs": [
        {
          "output_type": "execute_result",
          "data": {
            "text/plain": [
              "                      model     score\n",
              "0         Linear regression  0.076189\n",
              "1            KNN regression  0.980276\n",
              "2  Decision tree regression  0.981207\n",
              "3   RandomForest regression  0.254931\n",
              "4        XGboost regression  0.986262\n",
              "5         voting regression  0.992117"
            ],
            "text/html": [
              "\n",
              "  <div id=\"df-57c9574f-7106-490f-952a-e104e8ea21d3\">\n",
              "    <div class=\"colab-df-container\">\n",
              "      <div>\n",
              "<style scoped>\n",
              "    .dataframe tbody tr th:only-of-type {\n",
              "        vertical-align: middle;\n",
              "    }\n",
              "\n",
              "    .dataframe tbody tr th {\n",
              "        vertical-align: top;\n",
              "    }\n",
              "\n",
              "    .dataframe thead th {\n",
              "        text-align: right;\n",
              "    }\n",
              "</style>\n",
              "<table border=\"1\" class=\"dataframe\">\n",
              "  <thead>\n",
              "    <tr style=\"text-align: right;\">\n",
              "      <th></th>\n",
              "      <th>model</th>\n",
              "      <th>score</th>\n",
              "    </tr>\n",
              "  </thead>\n",
              "  <tbody>\n",
              "    <tr>\n",
              "      <th>0</th>\n",
              "      <td>Linear regression</td>\n",
              "      <td>0.076189</td>\n",
              "    </tr>\n",
              "    <tr>\n",
              "      <th>1</th>\n",
              "      <td>KNN regression</td>\n",
              "      <td>0.980276</td>\n",
              "    </tr>\n",
              "    <tr>\n",
              "      <th>2</th>\n",
              "      <td>Decision tree regression</td>\n",
              "      <td>0.981207</td>\n",
              "    </tr>\n",
              "    <tr>\n",
              "      <th>3</th>\n",
              "      <td>RandomForest regression</td>\n",
              "      <td>0.254931</td>\n",
              "    </tr>\n",
              "    <tr>\n",
              "      <th>4</th>\n",
              "      <td>XGboost regression</td>\n",
              "      <td>0.986262</td>\n",
              "    </tr>\n",
              "    <tr>\n",
              "      <th>5</th>\n",
              "      <td>voting regression</td>\n",
              "      <td>0.992117</td>\n",
              "    </tr>\n",
              "  </tbody>\n",
              "</table>\n",
              "</div>\n",
              "      <button class=\"colab-df-convert\" onclick=\"convertToInteractive('df-57c9574f-7106-490f-952a-e104e8ea21d3')\"\n",
              "              title=\"Convert this dataframe to an interactive table.\"\n",
              "              style=\"display:none;\">\n",
              "        \n",
              "  <svg xmlns=\"http://www.w3.org/2000/svg\" height=\"24px\"viewBox=\"0 0 24 24\"\n",
              "       width=\"24px\">\n",
              "    <path d=\"M0 0h24v24H0V0z\" fill=\"none\"/>\n",
              "    <path d=\"M18.56 5.44l.94 2.06.94-2.06 2.06-.94-2.06-.94-.94-2.06-.94 2.06-2.06.94zm-11 1L8.5 8.5l.94-2.06 2.06-.94-2.06-.94L8.5 2.5l-.94 2.06-2.06.94zm10 10l.94 2.06.94-2.06 2.06-.94-2.06-.94-.94-2.06-.94 2.06-2.06.94z\"/><path d=\"M17.41 7.96l-1.37-1.37c-.4-.4-.92-.59-1.43-.59-.52 0-1.04.2-1.43.59L10.3 9.45l-7.72 7.72c-.78.78-.78 2.05 0 2.83L4 21.41c.39.39.9.59 1.41.59.51 0 1.02-.2 1.41-.59l7.78-7.78 2.81-2.81c.8-.78.8-2.07 0-2.86zM5.41 20L4 18.59l7.72-7.72 1.47 1.35L5.41 20z\"/>\n",
              "  </svg>\n",
              "      </button>\n",
              "      \n",
              "  <style>\n",
              "    .colab-df-container {\n",
              "      display:flex;\n",
              "      flex-wrap:wrap;\n",
              "      gap: 12px;\n",
              "    }\n",
              "\n",
              "    .colab-df-convert {\n",
              "      background-color: #E8F0FE;\n",
              "      border: none;\n",
              "      border-radius: 50%;\n",
              "      cursor: pointer;\n",
              "      display: none;\n",
              "      fill: #1967D2;\n",
              "      height: 32px;\n",
              "      padding: 0 0 0 0;\n",
              "      width: 32px;\n",
              "    }\n",
              "\n",
              "    .colab-df-convert:hover {\n",
              "      background-color: #E2EBFA;\n",
              "      box-shadow: 0px 1px 2px rgba(60, 64, 67, 0.3), 0px 1px 3px 1px rgba(60, 64, 67, 0.15);\n",
              "      fill: #174EA6;\n",
              "    }\n",
              "\n",
              "    [theme=dark] .colab-df-convert {\n",
              "      background-color: #3B4455;\n",
              "      fill: #D2E3FC;\n",
              "    }\n",
              "\n",
              "    [theme=dark] .colab-df-convert:hover {\n",
              "      background-color: #434B5C;\n",
              "      box-shadow: 0px 1px 3px 1px rgba(0, 0, 0, 0.15);\n",
              "      filter: drop-shadow(0px 1px 2px rgba(0, 0, 0, 0.3));\n",
              "      fill: #FFFFFF;\n",
              "    }\n",
              "  </style>\n",
              "\n",
              "      <script>\n",
              "        const buttonEl =\n",
              "          document.querySelector('#df-57c9574f-7106-490f-952a-e104e8ea21d3 button.colab-df-convert');\n",
              "        buttonEl.style.display =\n",
              "          google.colab.kernel.accessAllowed ? 'block' : 'none';\n",
              "\n",
              "        async function convertToInteractive(key) {\n",
              "          const element = document.querySelector('#df-57c9574f-7106-490f-952a-e104e8ea21d3');\n",
              "          const dataTable =\n",
              "            await google.colab.kernel.invokeFunction('convertToInteractive',\n",
              "                                                     [key], {});\n",
              "          if (!dataTable) return;\n",
              "\n",
              "          const docLinkHtml = 'Like what you see? Visit the ' +\n",
              "            '<a target=\"_blank\" href=https://colab.research.google.com/notebooks/data_table.ipynb>data table notebook</a>'\n",
              "            + ' to learn more about interactive tables.';\n",
              "          element.innerHTML = '';\n",
              "          dataTable['output_type'] = 'display_data';\n",
              "          await google.colab.output.renderOutput(dataTable, element);\n",
              "          const docLink = document.createElement('div');\n",
              "          docLink.innerHTML = docLinkHtml;\n",
              "          element.appendChild(docLink);\n",
              "        }\n",
              "      </script>\n",
              "    </div>\n",
              "  </div>\n",
              "  "
            ]
          },
          "metadata": {},
          "execution_count": 63
        }
      ]
    },
    {
      "cell_type": "markdown",
      "source": [
        "# **Model Deploying**"
      ],
      "metadata": {
        "id": "wy6y9-aXsCnR"
      }
    },
    {
      "cell_type": "code",
      "source": [
        "y_predict_Xgb,result_X,score_X,Xgb,MAE_X=algorithm(XGBRegressor(learning_rate=0.35,n_estimators= 500,random_state=97,objective='reg:squarederror'),X_train, X_test, y_train, y_test,0.35)"
      ],
      "metadata": {
        "colab": {
          "base_uri": "https://localhost:8080/"
        },
        "id": "PFNH8WaoPz-F",
        "outputId": "4646195e-7457-440f-c780-af7e1fdb8978"
      },
      "execution_count": 65,
      "outputs": [
        {
          "output_type": "stream",
          "name": "stdout",
          "text": [
            "for  0.35  value  Train Accuracy :  1.0 Val Accuracy : 0.948\n"
          ]
        }
      ]
    },
    {
      "cell_type": "code",
      "source": [
        "import pickle"
      ],
      "metadata": {
        "id": "sDiIRcYPKAX5"
      },
      "execution_count": 67,
      "outputs": []
    },
    {
      "cell_type": "code",
      "source": [
        "pickle.dump(Xgb,open('best_Xgb_model.pkl','wb'))"
      ],
      "metadata": {
        "id": "sxuXCFsdQAzz"
      },
      "execution_count": 68,
      "outputs": []
    },
    {
      "cell_type": "code",
      "source": [
        "model=pickle.load(open('best_Xgb_model.pkl','rb'))\n",
        "model.predict([[1,92,24,206,29,6,7,3,2016]])"
      ],
      "metadata": {
        "colab": {
          "base_uri": "https://localhost:8080/"
        },
        "id": "XWGCQVyGRrjU",
        "outputId": "0f2d130d-c3c8-4356-cbee-e73cf5e36b0e"
      },
      "execution_count": 69,
      "outputs": [
        {
          "output_type": "execute_result",
          "data": {
            "text/plain": [
              "array([22047.469], dtype=float32)"
            ]
          },
          "metadata": {},
          "execution_count": 69
        }
      ]
    },
    {
      "cell_type": "code",
      "source": [
        "!pip install streamlit\n",
        "!pip install writefile"
      ],
      "metadata": {
        "colab": {
          "base_uri": "https://localhost:8080/"
        },
        "id": "CcU6_IBEtMvB",
        "outputId": "836bdbf8-c090-44d6-822c-067a8988e7dc"
      },
      "execution_count": 70,
      "outputs": [
        {
          "output_type": "stream",
          "name": "stdout",
          "text": [
            "Looking in indexes: https://pypi.org/simple, https://us-python.pkg.dev/colab-wheels/public/simple/\n",
            "Collecting streamlit\n",
            "  Downloading streamlit-1.19.0-py2.py3-none-any.whl (9.6 MB)\n",
            "\u001b[2K     \u001b[90m━━━━━━━━━━━━━━━━━━━━━━━━━━━━━━━━━━━━━━━━\u001b[0m \u001b[32m9.6/9.6 MB\u001b[0m \u001b[31m62.1 MB/s\u001b[0m eta \u001b[36m0:00:00\u001b[0m\n",
            "\u001b[?25hRequirement already satisfied: python-dateutil in /usr/local/lib/python3.8/dist-packages (from streamlit) (2.8.2)\n",
            "Requirement already satisfied: tzlocal>=1.1 in /usr/local/lib/python3.8/dist-packages (from streamlit) (1.5.1)\n",
            "Collecting rich>=10.11.0\n",
            "  Downloading rich-13.3.1-py3-none-any.whl (239 kB)\n",
            "\u001b[2K     \u001b[90m━━━━━━━━━━━━━━━━━━━━━━━━━━━━━━━━━━━━━━\u001b[0m \u001b[32m239.0/239.0 KB\u001b[0m \u001b[31m22.2 MB/s\u001b[0m eta \u001b[36m0:00:00\u001b[0m\n",
            "\u001b[?25hRequirement already satisfied: altair>=3.2.0 in /usr/local/lib/python3.8/dist-packages (from streamlit) (4.2.2)\n",
            "Collecting pydeck>=0.1.dev5\n",
            "  Downloading pydeck-0.8.0-py2.py3-none-any.whl (4.7 MB)\n",
            "\u001b[2K     \u001b[90m━━━━━━━━━━━━━━━━━━━━━━━━━━━━━━━━━━━━━━━━\u001b[0m \u001b[32m4.7/4.7 MB\u001b[0m \u001b[31m63.1 MB/s\u001b[0m eta \u001b[36m0:00:00\u001b[0m\n",
            "\u001b[?25hRequirement already satisfied: requests>=2.4 in /usr/local/lib/python3.8/dist-packages (from streamlit) (2.25.1)\n",
            "Requirement already satisfied: tornado>=6.0.3 in /usr/local/lib/python3.8/dist-packages (from streamlit) (6.2)\n",
            "Requirement already satisfied: toml in /usr/local/lib/python3.8/dist-packages (from streamlit) (0.10.2)\n",
            "Requirement already satisfied: cachetools>=4.0 in /usr/local/lib/python3.8/dist-packages (from streamlit) (5.3.0)\n",
            "Collecting watchdog\n",
            "  Downloading watchdog-2.3.1-py3-none-manylinux2014_x86_64.whl (80 kB)\n",
            "\u001b[2K     \u001b[90m━━━━━━━━━━━━━━━━━━━━━━━━━━━━━━━━━━━━━━━━\u001b[0m \u001b[32m80.6/80.6 KB\u001b[0m \u001b[31m10.6 MB/s\u001b[0m eta \u001b[36m0:00:00\u001b[0m\n",
            "\u001b[?25hRequirement already satisfied: typing-extensions>=3.10.0.0 in /usr/local/lib/python3.8/dist-packages (from streamlit) (4.5.0)\n",
            "Collecting validators>=0.2\n",
            "  Downloading validators-0.20.0.tar.gz (30 kB)\n",
            "  Preparing metadata (setup.py) ... \u001b[?25l\u001b[?25hdone\n",
            "Requirement already satisfied: pandas>=0.25 in /usr/local/lib/python3.8/dist-packages (from streamlit) (1.3.5)\n",
            "Requirement already satisfied: pillow>=6.2.0 in /usr/local/lib/python3.8/dist-packages (from streamlit) (8.4.0)\n",
            "Requirement already satisfied: pyarrow>=4.0 in /usr/local/lib/python3.8/dist-packages (from streamlit) (9.0.0)\n",
            "Requirement already satisfied: importlib-metadata>=1.4 in /usr/local/lib/python3.8/dist-packages (from streamlit) (6.0.0)\n",
            "Collecting semver\n",
            "  Downloading semver-2.13.0-py2.py3-none-any.whl (12 kB)\n",
            "Collecting pympler>=0.9\n",
            "  Downloading Pympler-1.0.1-py3-none-any.whl (164 kB)\n",
            "\u001b[2K     \u001b[90m━━━━━━━━━━━━━━━━━━━━━━━━━━━━━━━━━━━━━━\u001b[0m \u001b[32m164.8/164.8 KB\u001b[0m \u001b[31m22.2 MB/s\u001b[0m eta \u001b[36m0:00:00\u001b[0m\n",
            "\u001b[?25hRequirement already satisfied: click>=7.0 in /usr/local/lib/python3.8/dist-packages (from streamlit) (8.1.3)\n",
            "Requirement already satisfied: packaging>=14.1 in /usr/local/lib/python3.8/dist-packages (from streamlit) (23.0)\n",
            "Requirement already satisfied: numpy in /usr/local/lib/python3.8/dist-packages (from streamlit) (1.22.4)\n",
            "Collecting gitpython!=3.1.19\n",
            "  Downloading GitPython-3.1.31-py3-none-any.whl (184 kB)\n",
            "\u001b[2K     \u001b[90m━━━━━━━━━━━━━━━━━━━━━━━━━━━━━━━━━━━━━━\u001b[0m \u001b[32m184.3/184.3 KB\u001b[0m \u001b[31m23.1 MB/s\u001b[0m eta \u001b[36m0:00:00\u001b[0m\n",
            "\u001b[?25hCollecting blinker>=1.0.0\n",
            "  Downloading blinker-1.5-py2.py3-none-any.whl (12 kB)\n",
            "Requirement already satisfied: protobuf<4,>=3.12 in /usr/local/lib/python3.8/dist-packages (from streamlit) (3.19.6)\n",
            "Requirement already satisfied: entrypoints in /usr/local/lib/python3.8/dist-packages (from altair>=3.2.0->streamlit) (0.4)\n",
            "Requirement already satisfied: jsonschema>=3.0 in /usr/local/lib/python3.8/dist-packages (from altair>=3.2.0->streamlit) (4.3.3)\n",
            "Requirement already satisfied: jinja2 in /usr/local/lib/python3.8/dist-packages (from altair>=3.2.0->streamlit) (3.1.2)\n",
            "Requirement already satisfied: toolz in /usr/local/lib/python3.8/dist-packages (from altair>=3.2.0->streamlit) (0.12.0)\n",
            "Collecting gitdb<5,>=4.0.1\n",
            "  Downloading gitdb-4.0.10-py3-none-any.whl (62 kB)\n",
            "\u001b[2K     \u001b[90m━━━━━━━━━━━━━━━━━━━━━━━━━━━━━━━━━━━━━━━━\u001b[0m \u001b[32m62.7/62.7 KB\u001b[0m \u001b[31m8.6 MB/s\u001b[0m eta \u001b[36m0:00:00\u001b[0m\n",
            "\u001b[?25hRequirement already satisfied: zipp>=0.5 in /usr/local/lib/python3.8/dist-packages (from importlib-metadata>=1.4->streamlit) (3.15.0)\n",
            "Requirement already satisfied: pytz>=2017.3 in /usr/local/lib/python3.8/dist-packages (from pandas>=0.25->streamlit) (2022.7.1)\n",
            "Requirement already satisfied: six>=1.5 in /usr/local/lib/python3.8/dist-packages (from python-dateutil->streamlit) (1.15.0)\n",
            "Requirement already satisfied: chardet<5,>=3.0.2 in /usr/local/lib/python3.8/dist-packages (from requests>=2.4->streamlit) (4.0.0)\n",
            "Requirement already satisfied: certifi>=2017.4.17 in /usr/local/lib/python3.8/dist-packages (from requests>=2.4->streamlit) (2022.12.7)\n",
            "Requirement already satisfied: urllib3<1.27,>=1.21.1 in /usr/local/lib/python3.8/dist-packages (from requests>=2.4->streamlit) (1.26.14)\n",
            "Requirement already satisfied: idna<3,>=2.5 in /usr/local/lib/python3.8/dist-packages (from requests>=2.4->streamlit) (2.10)\n",
            "Collecting pygments<3.0.0,>=2.14.0\n",
            "  Downloading Pygments-2.14.0-py3-none-any.whl (1.1 MB)\n",
            "\u001b[2K     \u001b[90m━━━━━━━━━━━━━━━━━━━━━━━━━━━━━━━━━━━━━━━━\u001b[0m \u001b[32m1.1/1.1 MB\u001b[0m \u001b[31m68.0 MB/s\u001b[0m eta \u001b[36m0:00:00\u001b[0m\n",
            "\u001b[?25hCollecting markdown-it-py<3.0.0,>=2.1.0\n",
            "  Downloading markdown_it_py-2.2.0-py3-none-any.whl (84 kB)\n",
            "\u001b[2K     \u001b[90m━━━━━━━━━━━━━━━━━━━━━━━━━━━━━━━━━━━━━━━━\u001b[0m \u001b[32m84.5/84.5 KB\u001b[0m \u001b[31m11.8 MB/s\u001b[0m eta \u001b[36m0:00:00\u001b[0m\n",
            "\u001b[?25hRequirement already satisfied: decorator>=3.4.0 in /usr/local/lib/python3.8/dist-packages (from validators>=0.2->streamlit) (4.4.2)\n",
            "Collecting smmap<6,>=3.0.1\n",
            "  Downloading smmap-5.0.0-py3-none-any.whl (24 kB)\n",
            "Requirement already satisfied: MarkupSafe>=2.0 in /usr/local/lib/python3.8/dist-packages (from jinja2->altair>=3.2.0->streamlit) (2.1.2)\n",
            "Requirement already satisfied: pyrsistent!=0.17.0,!=0.17.1,!=0.17.2,>=0.14.0 in /usr/local/lib/python3.8/dist-packages (from jsonschema>=3.0->altair>=3.2.0->streamlit) (0.19.3)\n",
            "Requirement already satisfied: attrs>=17.4.0 in /usr/local/lib/python3.8/dist-packages (from jsonschema>=3.0->altair>=3.2.0->streamlit) (22.2.0)\n",
            "Requirement already satisfied: importlib-resources>=1.4.0 in /usr/local/lib/python3.8/dist-packages (from jsonschema>=3.0->altair>=3.2.0->streamlit) (5.12.0)\n",
            "Collecting mdurl~=0.1\n",
            "  Downloading mdurl-0.1.2-py3-none-any.whl (10.0 kB)\n",
            "Building wheels for collected packages: validators\n",
            "  Building wheel for validators (setup.py) ... \u001b[?25l\u001b[?25hdone\n",
            "  Created wheel for validators: filename=validators-0.20.0-py3-none-any.whl size=19581 sha256=280844cc060e27d354bf9d63868458f1efc90843d793f697d6ab98e46e4456b5\n",
            "  Stored in directory: /root/.cache/pip/wheels/19/09/72/3eb74d236bb48bd0f3c6c3c83e4e0c5bbfcbcad7c6c3539db8\n",
            "Successfully built validators\n",
            "Installing collected packages: watchdog, validators, smmap, semver, pympler, pygments, mdurl, blinker, pydeck, markdown-it-py, gitdb, rich, gitpython, streamlit\n",
            "  Attempting uninstall: pygments\n",
            "    Found existing installation: Pygments 2.6.1\n",
            "    Uninstalling Pygments-2.6.1:\n",
            "      Successfully uninstalled Pygments-2.6.1\n",
            "\u001b[31mERROR: pip's dependency resolver does not currently take into account all the packages that are installed. This behaviour is the source of the following dependency conflicts.\n",
            "ipython 7.9.0 requires jedi>=0.10, which is not installed.\u001b[0m\u001b[31m\n",
            "\u001b[0mSuccessfully installed blinker-1.5 gitdb-4.0.10 gitpython-3.1.31 markdown-it-py-2.2.0 mdurl-0.1.2 pydeck-0.8.0 pygments-2.14.0 pympler-1.0.1 rich-13.3.1 semver-2.13.0 smmap-5.0.0 streamlit-1.19.0 validators-0.20.0 watchdog-2.3.1\n",
            "Looking in indexes: https://pypi.org/simple, https://us-python.pkg.dev/colab-wheels/public/simple/\n",
            "Collecting writefile\n",
            "  Downloading writefile-0.2.tar.gz (2.4 kB)\n",
            "  Preparing metadata (setup.py) ... \u001b[?25l\u001b[?25hdone\n",
            "Building wheels for collected packages: writefile\n",
            "  Building wheel for writefile (setup.py) ... \u001b[?25l\u001b[?25hdone\n",
            "  Created wheel for writefile: filename=writefile-0.2-py3-none-any.whl size=2903 sha256=10587f89115236e3fbdc8042500d2f29906c83a5e01b7b2486d0785523df4687\n",
            "  Stored in directory: /root/.cache/pip/wheels/f4/f6/99/56d389fac4665e36ee74470f9127213f6298c17edace78f694\n",
            "Successfully built writefile\n",
            "Installing collected packages: writefile\n",
            "Successfully installed writefile-0.2\n"
          ]
        }
      ]
    },
    {
      "cell_type": "code",
      "source": [
        "%%writefile app_idf.py\n",
        "\n",
        "import numpy as np\n",
        "import pickle\n",
        "import pandas as pd\n",
        "import streamlit as st\n",
        "import datetime\n",
        "\n",
        "model=pickle.load(open('best_Xgb_model.pkl','rb'))\n",
        "\n",
        "def deploy():\n",
        "  st.set_page_config(layout='wide')\n",
        "  \n",
        "  st.title('ITEM DEMAND FORECASTING')\n",
        "  st.header('Enter the item Details')\n",
        "  date=st.date_input('which date you want to Forecast :')\n",
        "  item=st.number_input('which item you want to forecast:' , min_value=1,max_value=50)\n",
        "\n",
        "  if st.button('Demand Forecast'):\n",
        "    forecast=predict(date,item)\n",
        "    forecast=np.round_(forecast,0)\n",
        "    st.success(f'Demand of {item} Item at after 3 Months is : {forecast[0]}')\n",
        "\n",
        "  \n",
        "def predict(date,item):\n",
        "  date=pd.to_datetime(date)\n",
        "  dayofyear=date.dayofyear\n",
        "  day=date.day\n",
        "  week=date.week\n",
        "  dayofweek=date.dayofweek\n",
        "  quarter=date.quarter\n",
        "  month=date.month\n",
        "  year=date.year\n",
        "  duration=(pd.to_datetime(date+pd.DateOffset(months=+3))-pd.to_datetime(date)).days\n",
        "  prediction=model.predict([[item,duration,day,dayofyear,week,dayofweek,month,quarter,year]])\n",
        "    \n",
        "  return prediction\n",
        "  \n",
        "\n",
        "if __name__=='__main__':\n",
        "  deploy()"
      ],
      "metadata": {
        "colab": {
          "base_uri": "https://localhost:8080/"
        },
        "id": "kSmR41PltXKb",
        "outputId": "178e83c5-d96e-4d37-dfb8-4e2994de5005"
      },
      "execution_count": 71,
      "outputs": [
        {
          "output_type": "stream",
          "name": "stdout",
          "text": [
            "Writing app_idf.py\n"
          ]
        }
      ]
    },
    {
      "cell_type": "code",
      "source": [
        "!streamlit run app_idf.py & npx localtunnel --port 8501"
      ],
      "metadata": {
        "id": "Clhz-t5dw0eO",
        "colab": {
          "base_uri": "https://localhost:8080/"
        },
        "outputId": "07349344-76bd-4d15-a308-ec9cfd223542"
      },
      "execution_count": 74,
      "outputs": [
        {
          "output_type": "stream",
          "name": "stdout",
          "text": [
            "\u001b[K\u001b[?25h\n",
            "Collecting usage statistics. To deactivate, set browser.gatherUsageStats to False.\n",
            "\u001b[0m\n",
            "\u001b[0m\n",
            "\u001b[34m\u001b[1m  You can now view your Streamlit app in your browser.\u001b[0m\n",
            "\u001b[0m\n",
            "\u001b[34m  Network URL: \u001b[0m\u001b[1mhttp://172.28.0.12:8501\u001b[0m\n",
            "\u001b[34m  External URL: \u001b[0m\u001b[1mhttp://34.86.153.189:8501\u001b[0m\n",
            "\u001b[0m\n",
            "\u001b[34m  Stopping...\u001b[0m\n",
            "^C\n"
          ]
        }
      ]
    }
  ],
  "metadata": {
    "colab": {
      "provenance": [],
      "authorship_tag": "ABX9TyOTIVFxhLM4WXdy0/Ca0iLo",
      "include_colab_link": true
    },
    "kernelspec": {
      "display_name": "Python 3",
      "name": "python3"
    },
    "language_info": {
      "name": "python"
    }
  },
  "nbformat": 4,
  "nbformat_minor": 0
}