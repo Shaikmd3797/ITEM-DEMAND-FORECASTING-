{
  "cells": [
    {
      "cell_type": "markdown",
      "metadata": {
        "id": "ULRh9BFd-VpV"
      },
      "source": [
        "# ***ITEM DEMAND FORCASTING FOR 3 MONTHS.***\n",
        "\n",
        " # ***AIM:***\n",
        "     \n",
        "*  # *This model was analysing the 5 years of sales of 50+ items in 10+ different shops at every day .It will be find the demand of next three months of items .*\n",
        "\n",
        "\n",
        "1.  *data cleaning.*\n",
        "2.  *EDA for dataset.*\n",
        "3.  *splitting of data*\n",
        "4.  *scaling of the data*\n",
        "5.  *build the model* \n",
        "\n",
        " *   linear regression algorithm\n",
        " *   KNN regressor algorithm\n",
        " *   Decision tree regressor algorithm\n",
        " *   Random forest regressor algorithm\n",
        " *   Xgboost algorithm\n",
        " *   voting regressor algorithm\n",
        "\n",
        "6.  *evaluate the all models*\n",
        "\n",
        " \n",
        "\n",
        "\n",
        "\n",
        "\n",
        "\n",
        "\n"
      ]
    },
    {
      "cell_type": "markdown",
      "metadata": {
        "id": "HIjfxmb6F8OC"
      },
      "source": [
        "# **1. Data Cleaning**"
      ]
    },
    {
      "cell_type": "code",
      "execution_count": 114,
      "metadata": {
        "id": "5N-T3FqlF7Wd"
      },
      "outputs": [],
      "source": [
        "# import all neccessary libraries for data reading, cleaning and EDA\n",
        "import pandas as pd \n",
        "import numpy as np\n",
        "import matplotlib.pyplot as plt\n",
        "import seaborn as sns\n",
        "import warnings \n",
        "warnings.filterwarnings('ignore')"
      ]
    },
    {
      "cell_type": "code",
      "execution_count": 115,
      "metadata": {
        "colab": {
          "base_uri": "https://localhost:8080/"
        },
        "id": "hqTEf2maGfrT",
        "outputId": "0d26df89-4aa9-4865-c850-0d8fea6e4e11"
      },
      "outputs": [
        {
          "output_type": "stream",
          "name": "stdout",
          "text": [
            "Shape of Raw dataset : (913000, 4)\n"
          ]
        }
      ],
      "source": [
        "df=pd.read_csv('train 2.csv')               # read the dataset\n",
        "print('Shape of Raw dataset :', df.shape)   # shape of dataframe before dropping duplicates"
      ]
    },
    {
      "cell_type": "code",
      "source": [
        "df=df.drop_duplicates()\n",
        "print('Shape of  Dataframe after remove duplicates :',df.shape)"
      ],
      "metadata": {
        "colab": {
          "base_uri": "https://localhost:8080/"
        },
        "id": "3ng3uufyqRb-",
        "outputId": "f721e8d6-a2eb-4331-bc70-3eef31ac0d22"
      },
      "execution_count": 116,
      "outputs": [
        {
          "output_type": "stream",
          "name": "stdout",
          "text": [
            "Shape of  Dataframe after remove duplicates : (913000, 4)\n"
          ]
        }
      ]
    },
    {
      "cell_type": "markdown",
      "source": [
        "**NO Duplicates are presents in the dataset**"
      ],
      "metadata": {
        "id": "u-YrdwH0ZUAh"
      }
    },
    {
      "cell_type": "code",
      "source": [
        "df.isnull().sum()"
      ],
      "metadata": {
        "colab": {
          "base_uri": "https://localhost:8080/"
        },
        "id": "_gXhABUIqUeq",
        "outputId": "b2881a4d-d8fb-46ba-d4d1-ede6c5c91c0d"
      },
      "execution_count": 117,
      "outputs": [
        {
          "output_type": "execute_result",
          "data": {
            "text/plain": [
              "date     0\n",
              "store    0\n",
              "item     0\n",
              "sales    0\n",
              "dtype: int64"
            ]
          },
          "metadata": {},
          "execution_count": 117
        }
      ]
    },
    {
      "cell_type": "code",
      "execution_count": 118,
      "metadata": {
        "colab": {
          "base_uri": "https://localhost:8080/"
        },
        "id": "keHO1nKv0DBt",
        "outputId": "e5188212-463d-49f9-da69-cc3926b79af4"
      },
      "outputs": [
        {
          "output_type": "stream",
          "name": "stdout",
          "text": [
            "<class 'pandas.core.frame.DataFrame'>\n",
            "Int64Index: 913000 entries, 0 to 912999\n",
            "Data columns (total 4 columns):\n",
            " #   Column  Non-Null Count   Dtype \n",
            "---  ------  --------------   ----- \n",
            " 0   date    913000 non-null  object\n",
            " 1   store   913000 non-null  int64 \n",
            " 2   item    913000 non-null  int64 \n",
            " 3   sales   913000 non-null  int64 \n",
            "dtypes: int64(3), object(1)\n",
            "memory usage: 34.8+ MB\n"
          ]
        }
      ],
      "source": [
        "df.info()                              # check the datatypes are in right format"
      ]
    },
    {
      "cell_type": "markdown",
      "source": [
        " **Datatype of date column is not meaningful.So it will change into \"datetime\" datatype.**"
      ],
      "metadata": {
        "id": "fZst5CUdZt5-"
      }
    },
    {
      "cell_type": "code",
      "execution_count": 119,
      "metadata": {
        "id": "yHGgkT5p1sBS",
        "colab": {
          "base_uri": "https://localhost:8080/",
          "height": 206
        },
        "outputId": "ff62de66-0428-4652-c6cc-c44aa2980847"
      },
      "outputs": [
        {
          "output_type": "execute_result",
          "data": {
            "text/plain": [
              "           date  store  item  sales\n",
              "0    2013-01-01      1     1     13\n",
              "1826 2013-01-01      2     1     12\n",
              "3652 2013-01-01      3     1     19\n",
              "5478 2013-01-01      4     1     10\n",
              "7304 2013-01-01      5     1     11"
            ],
            "text/html": [
              "\n",
              "  <div id=\"df-f877417b-1295-4dbc-9ac6-6d90b61d34dd\">\n",
              "    <div class=\"colab-df-container\">\n",
              "      <div>\n",
              "<style scoped>\n",
              "    .dataframe tbody tr th:only-of-type {\n",
              "        vertical-align: middle;\n",
              "    }\n",
              "\n",
              "    .dataframe tbody tr th {\n",
              "        vertical-align: top;\n",
              "    }\n",
              "\n",
              "    .dataframe thead th {\n",
              "        text-align: right;\n",
              "    }\n",
              "</style>\n",
              "<table border=\"1\" class=\"dataframe\">\n",
              "  <thead>\n",
              "    <tr style=\"text-align: right;\">\n",
              "      <th></th>\n",
              "      <th>date</th>\n",
              "      <th>store</th>\n",
              "      <th>item</th>\n",
              "      <th>sales</th>\n",
              "    </tr>\n",
              "  </thead>\n",
              "  <tbody>\n",
              "    <tr>\n",
              "      <th>0</th>\n",
              "      <td>2013-01-01</td>\n",
              "      <td>1</td>\n",
              "      <td>1</td>\n",
              "      <td>13</td>\n",
              "    </tr>\n",
              "    <tr>\n",
              "      <th>1826</th>\n",
              "      <td>2013-01-01</td>\n",
              "      <td>2</td>\n",
              "      <td>1</td>\n",
              "      <td>12</td>\n",
              "    </tr>\n",
              "    <tr>\n",
              "      <th>3652</th>\n",
              "      <td>2013-01-01</td>\n",
              "      <td>3</td>\n",
              "      <td>1</td>\n",
              "      <td>19</td>\n",
              "    </tr>\n",
              "    <tr>\n",
              "      <th>5478</th>\n",
              "      <td>2013-01-01</td>\n",
              "      <td>4</td>\n",
              "      <td>1</td>\n",
              "      <td>10</td>\n",
              "    </tr>\n",
              "    <tr>\n",
              "      <th>7304</th>\n",
              "      <td>2013-01-01</td>\n",
              "      <td>5</td>\n",
              "      <td>1</td>\n",
              "      <td>11</td>\n",
              "    </tr>\n",
              "  </tbody>\n",
              "</table>\n",
              "</div>\n",
              "      <button class=\"colab-df-convert\" onclick=\"convertToInteractive('df-f877417b-1295-4dbc-9ac6-6d90b61d34dd')\"\n",
              "              title=\"Convert this dataframe to an interactive table.\"\n",
              "              style=\"display:none;\">\n",
              "        \n",
              "  <svg xmlns=\"http://www.w3.org/2000/svg\" height=\"24px\"viewBox=\"0 0 24 24\"\n",
              "       width=\"24px\">\n",
              "    <path d=\"M0 0h24v24H0V0z\" fill=\"none\"/>\n",
              "    <path d=\"M18.56 5.44l.94 2.06.94-2.06 2.06-.94-2.06-.94-.94-2.06-.94 2.06-2.06.94zm-11 1L8.5 8.5l.94-2.06 2.06-.94-2.06-.94L8.5 2.5l-.94 2.06-2.06.94zm10 10l.94 2.06.94-2.06 2.06-.94-2.06-.94-.94-2.06-.94 2.06-2.06.94z\"/><path d=\"M17.41 7.96l-1.37-1.37c-.4-.4-.92-.59-1.43-.59-.52 0-1.04.2-1.43.59L10.3 9.45l-7.72 7.72c-.78.78-.78 2.05 0 2.83L4 21.41c.39.39.9.59 1.41.59.51 0 1.02-.2 1.41-.59l7.78-7.78 2.81-2.81c.8-.78.8-2.07 0-2.86zM5.41 20L4 18.59l7.72-7.72 1.47 1.35L5.41 20z\"/>\n",
              "  </svg>\n",
              "      </button>\n",
              "      \n",
              "  <style>\n",
              "    .colab-df-container {\n",
              "      display:flex;\n",
              "      flex-wrap:wrap;\n",
              "      gap: 12px;\n",
              "    }\n",
              "\n",
              "    .colab-df-convert {\n",
              "      background-color: #E8F0FE;\n",
              "      border: none;\n",
              "      border-radius: 50%;\n",
              "      cursor: pointer;\n",
              "      display: none;\n",
              "      fill: #1967D2;\n",
              "      height: 32px;\n",
              "      padding: 0 0 0 0;\n",
              "      width: 32px;\n",
              "    }\n",
              "\n",
              "    .colab-df-convert:hover {\n",
              "      background-color: #E2EBFA;\n",
              "      box-shadow: 0px 1px 2px rgba(60, 64, 67, 0.3), 0px 1px 3px 1px rgba(60, 64, 67, 0.15);\n",
              "      fill: #174EA6;\n",
              "    }\n",
              "\n",
              "    [theme=dark] .colab-df-convert {\n",
              "      background-color: #3B4455;\n",
              "      fill: #D2E3FC;\n",
              "    }\n",
              "\n",
              "    [theme=dark] .colab-df-convert:hover {\n",
              "      background-color: #434B5C;\n",
              "      box-shadow: 0px 1px 3px 1px rgba(0, 0, 0, 0.15);\n",
              "      filter: drop-shadow(0px 1px 2px rgba(0, 0, 0, 0.3));\n",
              "      fill: #FFFFFF;\n",
              "    }\n",
              "  </style>\n",
              "\n",
              "      <script>\n",
              "        const buttonEl =\n",
              "          document.querySelector('#df-f877417b-1295-4dbc-9ac6-6d90b61d34dd button.colab-df-convert');\n",
              "        buttonEl.style.display =\n",
              "          google.colab.kernel.accessAllowed ? 'block' : 'none';\n",
              "\n",
              "        async function convertToInteractive(key) {\n",
              "          const element = document.querySelector('#df-f877417b-1295-4dbc-9ac6-6d90b61d34dd');\n",
              "          const dataTable =\n",
              "            await google.colab.kernel.invokeFunction('convertToInteractive',\n",
              "                                                     [key], {});\n",
              "          if (!dataTable) return;\n",
              "\n",
              "          const docLinkHtml = 'Like what you see? Visit the ' +\n",
              "            '<a target=\"_blank\" href=https://colab.research.google.com/notebooks/data_table.ipynb>data table notebook</a>'\n",
              "            + ' to learn more about interactive tables.';\n",
              "          element.innerHTML = '';\n",
              "          dataTable['output_type'] = 'display_data';\n",
              "          await google.colab.output.renderOutput(dataTable, element);\n",
              "          const docLink = document.createElement('div');\n",
              "          docLink.innerHTML = docLinkHtml;\n",
              "          element.appendChild(docLink);\n",
              "        }\n",
              "      </script>\n",
              "    </div>\n",
              "  </div>\n",
              "  "
            ]
          },
          "metadata": {},
          "execution_count": 119
        }
      ],
      "source": [
        "df['date']=pd.to_datetime(df['date']) # change the datatype of date column\n",
        "df=df.sort_values(by=['date','item']) # dataset is changing into ascending order with respect to date\n",
        "df.head()"
      ]
    },
    {
      "cell_type": "code",
      "source": [
        "df.describe()"
      ],
      "metadata": {
        "colab": {
          "base_uri": "https://localhost:8080/",
          "height": 300
        },
        "id": "RJtRO7dAqjjG",
        "outputId": "4bc1d1ec-e8d0-4543-f300-6cd0fe6a65d4"
      },
      "execution_count": 120,
      "outputs": [
        {
          "output_type": "execute_result",
          "data": {
            "text/plain": [
              "               store           item          sales\n",
              "count  913000.000000  913000.000000  913000.000000\n",
              "mean        5.500000      25.500000      52.250287\n",
              "std         2.872283      14.430878      28.801144\n",
              "min         1.000000       1.000000       0.000000\n",
              "25%         3.000000      13.000000      30.000000\n",
              "50%         5.500000      25.500000      47.000000\n",
              "75%         8.000000      38.000000      70.000000\n",
              "max        10.000000      50.000000     231.000000"
            ],
            "text/html": [
              "\n",
              "  <div id=\"df-5fa28df4-1862-4ccc-aef1-e5910d845238\">\n",
              "    <div class=\"colab-df-container\">\n",
              "      <div>\n",
              "<style scoped>\n",
              "    .dataframe tbody tr th:only-of-type {\n",
              "        vertical-align: middle;\n",
              "    }\n",
              "\n",
              "    .dataframe tbody tr th {\n",
              "        vertical-align: top;\n",
              "    }\n",
              "\n",
              "    .dataframe thead th {\n",
              "        text-align: right;\n",
              "    }\n",
              "</style>\n",
              "<table border=\"1\" class=\"dataframe\">\n",
              "  <thead>\n",
              "    <tr style=\"text-align: right;\">\n",
              "      <th></th>\n",
              "      <th>store</th>\n",
              "      <th>item</th>\n",
              "      <th>sales</th>\n",
              "    </tr>\n",
              "  </thead>\n",
              "  <tbody>\n",
              "    <tr>\n",
              "      <th>count</th>\n",
              "      <td>913000.000000</td>\n",
              "      <td>913000.000000</td>\n",
              "      <td>913000.000000</td>\n",
              "    </tr>\n",
              "    <tr>\n",
              "      <th>mean</th>\n",
              "      <td>5.500000</td>\n",
              "      <td>25.500000</td>\n",
              "      <td>52.250287</td>\n",
              "    </tr>\n",
              "    <tr>\n",
              "      <th>std</th>\n",
              "      <td>2.872283</td>\n",
              "      <td>14.430878</td>\n",
              "      <td>28.801144</td>\n",
              "    </tr>\n",
              "    <tr>\n",
              "      <th>min</th>\n",
              "      <td>1.000000</td>\n",
              "      <td>1.000000</td>\n",
              "      <td>0.000000</td>\n",
              "    </tr>\n",
              "    <tr>\n",
              "      <th>25%</th>\n",
              "      <td>3.000000</td>\n",
              "      <td>13.000000</td>\n",
              "      <td>30.000000</td>\n",
              "    </tr>\n",
              "    <tr>\n",
              "      <th>50%</th>\n",
              "      <td>5.500000</td>\n",
              "      <td>25.500000</td>\n",
              "      <td>47.000000</td>\n",
              "    </tr>\n",
              "    <tr>\n",
              "      <th>75%</th>\n",
              "      <td>8.000000</td>\n",
              "      <td>38.000000</td>\n",
              "      <td>70.000000</td>\n",
              "    </tr>\n",
              "    <tr>\n",
              "      <th>max</th>\n",
              "      <td>10.000000</td>\n",
              "      <td>50.000000</td>\n",
              "      <td>231.000000</td>\n",
              "    </tr>\n",
              "  </tbody>\n",
              "</table>\n",
              "</div>\n",
              "      <button class=\"colab-df-convert\" onclick=\"convertToInteractive('df-5fa28df4-1862-4ccc-aef1-e5910d845238')\"\n",
              "              title=\"Convert this dataframe to an interactive table.\"\n",
              "              style=\"display:none;\">\n",
              "        \n",
              "  <svg xmlns=\"http://www.w3.org/2000/svg\" height=\"24px\"viewBox=\"0 0 24 24\"\n",
              "       width=\"24px\">\n",
              "    <path d=\"M0 0h24v24H0V0z\" fill=\"none\"/>\n",
              "    <path d=\"M18.56 5.44l.94 2.06.94-2.06 2.06-.94-2.06-.94-.94-2.06-.94 2.06-2.06.94zm-11 1L8.5 8.5l.94-2.06 2.06-.94-2.06-.94L8.5 2.5l-.94 2.06-2.06.94zm10 10l.94 2.06.94-2.06 2.06-.94-2.06-.94-.94-2.06-.94 2.06-2.06.94z\"/><path d=\"M17.41 7.96l-1.37-1.37c-.4-.4-.92-.59-1.43-.59-.52 0-1.04.2-1.43.59L10.3 9.45l-7.72 7.72c-.78.78-.78 2.05 0 2.83L4 21.41c.39.39.9.59 1.41.59.51 0 1.02-.2 1.41-.59l7.78-7.78 2.81-2.81c.8-.78.8-2.07 0-2.86zM5.41 20L4 18.59l7.72-7.72 1.47 1.35L5.41 20z\"/>\n",
              "  </svg>\n",
              "      </button>\n",
              "      \n",
              "  <style>\n",
              "    .colab-df-container {\n",
              "      display:flex;\n",
              "      flex-wrap:wrap;\n",
              "      gap: 12px;\n",
              "    }\n",
              "\n",
              "    .colab-df-convert {\n",
              "      background-color: #E8F0FE;\n",
              "      border: none;\n",
              "      border-radius: 50%;\n",
              "      cursor: pointer;\n",
              "      display: none;\n",
              "      fill: #1967D2;\n",
              "      height: 32px;\n",
              "      padding: 0 0 0 0;\n",
              "      width: 32px;\n",
              "    }\n",
              "\n",
              "    .colab-df-convert:hover {\n",
              "      background-color: #E2EBFA;\n",
              "      box-shadow: 0px 1px 2px rgba(60, 64, 67, 0.3), 0px 1px 3px 1px rgba(60, 64, 67, 0.15);\n",
              "      fill: #174EA6;\n",
              "    }\n",
              "\n",
              "    [theme=dark] .colab-df-convert {\n",
              "      background-color: #3B4455;\n",
              "      fill: #D2E3FC;\n",
              "    }\n",
              "\n",
              "    [theme=dark] .colab-df-convert:hover {\n",
              "      background-color: #434B5C;\n",
              "      box-shadow: 0px 1px 3px 1px rgba(0, 0, 0, 0.15);\n",
              "      filter: drop-shadow(0px 1px 2px rgba(0, 0, 0, 0.3));\n",
              "      fill: #FFFFFF;\n",
              "    }\n",
              "  </style>\n",
              "\n",
              "      <script>\n",
              "        const buttonEl =\n",
              "          document.querySelector('#df-5fa28df4-1862-4ccc-aef1-e5910d845238 button.colab-df-convert');\n",
              "        buttonEl.style.display =\n",
              "          google.colab.kernel.accessAllowed ? 'block' : 'none';\n",
              "\n",
              "        async function convertToInteractive(key) {\n",
              "          const element = document.querySelector('#df-5fa28df4-1862-4ccc-aef1-e5910d845238');\n",
              "          const dataTable =\n",
              "            await google.colab.kernel.invokeFunction('convertToInteractive',\n",
              "                                                     [key], {});\n",
              "          if (!dataTable) return;\n",
              "\n",
              "          const docLinkHtml = 'Like what you see? Visit the ' +\n",
              "            '<a target=\"_blank\" href=https://colab.research.google.com/notebooks/data_table.ipynb>data table notebook</a>'\n",
              "            + ' to learn more about interactive tables.';\n",
              "          element.innerHTML = '';\n",
              "          dataTable['output_type'] = 'display_data';\n",
              "          await google.colab.output.renderOutput(dataTable, element);\n",
              "          const docLink = document.createElement('div');\n",
              "          docLink.innerHTML = docLinkHtml;\n",
              "          element.appendChild(docLink);\n",
              "        }\n",
              "      </script>\n",
              "    </div>\n",
              "  </div>\n",
              "  "
            ]
          },
          "metadata": {},
          "execution_count": 120
        }
      ]
    },
    {
      "cell_type": "code",
      "source": [
        "#df=df.drop('store',axis=1)"
      ],
      "metadata": {
        "id": "mGm9bted7PUQ"
      },
      "execution_count": 121,
      "outputs": []
    },
    {
      "cell_type": "code",
      "source": [
        "df=pd.DataFrame(df.groupby(['date','item'])['sales'].sum())\n",
        "df.reset_index(inplace=True)\n",
        "df"
      ],
      "metadata": {
        "id": "IhFdqvuz56EK",
        "colab": {
          "base_uri": "https://localhost:8080/",
          "height": 424
        },
        "outputId": "bb7e31d5-849a-412f-a952-994c8a84aa05"
      },
      "execution_count": 122,
      "outputs": [
        {
          "output_type": "execute_result",
          "data": {
            "text/plain": [
              "            date  item  sales\n",
              "0     2013-01-01     1    133\n",
              "1     2013-01-01     2    327\n",
              "2     2013-01-01     3    172\n",
              "3     2013-01-01     4    102\n",
              "4     2013-01-01     5     83\n",
              "...          ...   ...    ...\n",
              "91295 2017-12-31    46    605\n",
              "91296 2017-12-31    47    211\n",
              "91297 2017-12-31    48    494\n",
              "91298 2017-12-31    49    285\n",
              "91299 2017-12-31    50    626\n",
              "\n",
              "[91300 rows x 3 columns]"
            ],
            "text/html": [
              "\n",
              "  <div id=\"df-a8932bc6-0a26-465e-bbe0-d591d803f2dc\">\n",
              "    <div class=\"colab-df-container\">\n",
              "      <div>\n",
              "<style scoped>\n",
              "    .dataframe tbody tr th:only-of-type {\n",
              "        vertical-align: middle;\n",
              "    }\n",
              "\n",
              "    .dataframe tbody tr th {\n",
              "        vertical-align: top;\n",
              "    }\n",
              "\n",
              "    .dataframe thead th {\n",
              "        text-align: right;\n",
              "    }\n",
              "</style>\n",
              "<table border=\"1\" class=\"dataframe\">\n",
              "  <thead>\n",
              "    <tr style=\"text-align: right;\">\n",
              "      <th></th>\n",
              "      <th>date</th>\n",
              "      <th>item</th>\n",
              "      <th>sales</th>\n",
              "    </tr>\n",
              "  </thead>\n",
              "  <tbody>\n",
              "    <tr>\n",
              "      <th>0</th>\n",
              "      <td>2013-01-01</td>\n",
              "      <td>1</td>\n",
              "      <td>133</td>\n",
              "    </tr>\n",
              "    <tr>\n",
              "      <th>1</th>\n",
              "      <td>2013-01-01</td>\n",
              "      <td>2</td>\n",
              "      <td>327</td>\n",
              "    </tr>\n",
              "    <tr>\n",
              "      <th>2</th>\n",
              "      <td>2013-01-01</td>\n",
              "      <td>3</td>\n",
              "      <td>172</td>\n",
              "    </tr>\n",
              "    <tr>\n",
              "      <th>3</th>\n",
              "      <td>2013-01-01</td>\n",
              "      <td>4</td>\n",
              "      <td>102</td>\n",
              "    </tr>\n",
              "    <tr>\n",
              "      <th>4</th>\n",
              "      <td>2013-01-01</td>\n",
              "      <td>5</td>\n",
              "      <td>83</td>\n",
              "    </tr>\n",
              "    <tr>\n",
              "      <th>...</th>\n",
              "      <td>...</td>\n",
              "      <td>...</td>\n",
              "      <td>...</td>\n",
              "    </tr>\n",
              "    <tr>\n",
              "      <th>91295</th>\n",
              "      <td>2017-12-31</td>\n",
              "      <td>46</td>\n",
              "      <td>605</td>\n",
              "    </tr>\n",
              "    <tr>\n",
              "      <th>91296</th>\n",
              "      <td>2017-12-31</td>\n",
              "      <td>47</td>\n",
              "      <td>211</td>\n",
              "    </tr>\n",
              "    <tr>\n",
              "      <th>91297</th>\n",
              "      <td>2017-12-31</td>\n",
              "      <td>48</td>\n",
              "      <td>494</td>\n",
              "    </tr>\n",
              "    <tr>\n",
              "      <th>91298</th>\n",
              "      <td>2017-12-31</td>\n",
              "      <td>49</td>\n",
              "      <td>285</td>\n",
              "    </tr>\n",
              "    <tr>\n",
              "      <th>91299</th>\n",
              "      <td>2017-12-31</td>\n",
              "      <td>50</td>\n",
              "      <td>626</td>\n",
              "    </tr>\n",
              "  </tbody>\n",
              "</table>\n",
              "<p>91300 rows × 3 columns</p>\n",
              "</div>\n",
              "      <button class=\"colab-df-convert\" onclick=\"convertToInteractive('df-a8932bc6-0a26-465e-bbe0-d591d803f2dc')\"\n",
              "              title=\"Convert this dataframe to an interactive table.\"\n",
              "              style=\"display:none;\">\n",
              "        \n",
              "  <svg xmlns=\"http://www.w3.org/2000/svg\" height=\"24px\"viewBox=\"0 0 24 24\"\n",
              "       width=\"24px\">\n",
              "    <path d=\"M0 0h24v24H0V0z\" fill=\"none\"/>\n",
              "    <path d=\"M18.56 5.44l.94 2.06.94-2.06 2.06-.94-2.06-.94-.94-2.06-.94 2.06-2.06.94zm-11 1L8.5 8.5l.94-2.06 2.06-.94-2.06-.94L8.5 2.5l-.94 2.06-2.06.94zm10 10l.94 2.06.94-2.06 2.06-.94-2.06-.94-.94-2.06-.94 2.06-2.06.94z\"/><path d=\"M17.41 7.96l-1.37-1.37c-.4-.4-.92-.59-1.43-.59-.52 0-1.04.2-1.43.59L10.3 9.45l-7.72 7.72c-.78.78-.78 2.05 0 2.83L4 21.41c.39.39.9.59 1.41.59.51 0 1.02-.2 1.41-.59l7.78-7.78 2.81-2.81c.8-.78.8-2.07 0-2.86zM5.41 20L4 18.59l7.72-7.72 1.47 1.35L5.41 20z\"/>\n",
              "  </svg>\n",
              "      </button>\n",
              "      \n",
              "  <style>\n",
              "    .colab-df-container {\n",
              "      display:flex;\n",
              "      flex-wrap:wrap;\n",
              "      gap: 12px;\n",
              "    }\n",
              "\n",
              "    .colab-df-convert {\n",
              "      background-color: #E8F0FE;\n",
              "      border: none;\n",
              "      border-radius: 50%;\n",
              "      cursor: pointer;\n",
              "      display: none;\n",
              "      fill: #1967D2;\n",
              "      height: 32px;\n",
              "      padding: 0 0 0 0;\n",
              "      width: 32px;\n",
              "    }\n",
              "\n",
              "    .colab-df-convert:hover {\n",
              "      background-color: #E2EBFA;\n",
              "      box-shadow: 0px 1px 2px rgba(60, 64, 67, 0.3), 0px 1px 3px 1px rgba(60, 64, 67, 0.15);\n",
              "      fill: #174EA6;\n",
              "    }\n",
              "\n",
              "    [theme=dark] .colab-df-convert {\n",
              "      background-color: #3B4455;\n",
              "      fill: #D2E3FC;\n",
              "    }\n",
              "\n",
              "    [theme=dark] .colab-df-convert:hover {\n",
              "      background-color: #434B5C;\n",
              "      box-shadow: 0px 1px 3px 1px rgba(0, 0, 0, 0.15);\n",
              "      filter: drop-shadow(0px 1px 2px rgba(0, 0, 0, 0.3));\n",
              "      fill: #FFFFFF;\n",
              "    }\n",
              "  </style>\n",
              "\n",
              "      <script>\n",
              "        const buttonEl =\n",
              "          document.querySelector('#df-a8932bc6-0a26-465e-bbe0-d591d803f2dc button.colab-df-convert');\n",
              "        buttonEl.style.display =\n",
              "          google.colab.kernel.accessAllowed ? 'block' : 'none';\n",
              "\n",
              "        async function convertToInteractive(key) {\n",
              "          const element = document.querySelector('#df-a8932bc6-0a26-465e-bbe0-d591d803f2dc');\n",
              "          const dataTable =\n",
              "            await google.colab.kernel.invokeFunction('convertToInteractive',\n",
              "                                                     [key], {});\n",
              "          if (!dataTable) return;\n",
              "\n",
              "          const docLinkHtml = 'Like what you see? Visit the ' +\n",
              "            '<a target=\"_blank\" href=https://colab.research.google.com/notebooks/data_table.ipynb>data table notebook</a>'\n",
              "            + ' to learn more about interactive tables.';\n",
              "          element.innerHTML = '';\n",
              "          dataTable['output_type'] = 'display_data';\n",
              "          await google.colab.output.renderOutput(dataTable, element);\n",
              "          const docLink = document.createElement('div');\n",
              "          docLink.innerHTML = docLinkHtml;\n",
              "          element.appendChild(docLink);\n",
              "        }\n",
              "      </script>\n",
              "    </div>\n",
              "  </div>\n",
              "  "
            ]
          },
          "metadata": {},
          "execution_count": 122
        }
      ]
    },
    {
      "cell_type": "code",
      "source": [
        "df['end_date']=df['date']+pd.DateOffset(months=+3)"
      ],
      "metadata": {
        "id": "OWcvoabWOkgH"
      },
      "execution_count": 123,
      "outputs": []
    },
    {
      "cell_type": "code",
      "source": [
        "df['duration']=(df['end_date']-df['date']).dt.days\n",
        "df"
      ],
      "metadata": {
        "colab": {
          "base_uri": "https://localhost:8080/",
          "height": 424
        },
        "id": "5ZiXnCJuPCtx",
        "outputId": "17b3ab24-bda8-4ce2-a526-cd1b85e979e0"
      },
      "execution_count": 124,
      "outputs": [
        {
          "output_type": "execute_result",
          "data": {
            "text/plain": [
              "            date  item  sales   end_date  duration\n",
              "0     2013-01-01     1    133 2013-04-01        90\n",
              "1     2013-01-01     2    327 2013-04-01        90\n",
              "2     2013-01-01     3    172 2013-04-01        90\n",
              "3     2013-01-01     4    102 2013-04-01        90\n",
              "4     2013-01-01     5     83 2013-04-01        90\n",
              "...          ...   ...    ...        ...       ...\n",
              "91295 2017-12-31    46    605 2018-03-31        90\n",
              "91296 2017-12-31    47    211 2018-03-31        90\n",
              "91297 2017-12-31    48    494 2018-03-31        90\n",
              "91298 2017-12-31    49    285 2018-03-31        90\n",
              "91299 2017-12-31    50    626 2018-03-31        90\n",
              "\n",
              "[91300 rows x 5 columns]"
            ],
            "text/html": [
              "\n",
              "  <div id=\"df-af9e5ad3-6a2f-4149-afbc-fc712151925e\">\n",
              "    <div class=\"colab-df-container\">\n",
              "      <div>\n",
              "<style scoped>\n",
              "    .dataframe tbody tr th:only-of-type {\n",
              "        vertical-align: middle;\n",
              "    }\n",
              "\n",
              "    .dataframe tbody tr th {\n",
              "        vertical-align: top;\n",
              "    }\n",
              "\n",
              "    .dataframe thead th {\n",
              "        text-align: right;\n",
              "    }\n",
              "</style>\n",
              "<table border=\"1\" class=\"dataframe\">\n",
              "  <thead>\n",
              "    <tr style=\"text-align: right;\">\n",
              "      <th></th>\n",
              "      <th>date</th>\n",
              "      <th>item</th>\n",
              "      <th>sales</th>\n",
              "      <th>end_date</th>\n",
              "      <th>duration</th>\n",
              "    </tr>\n",
              "  </thead>\n",
              "  <tbody>\n",
              "    <tr>\n",
              "      <th>0</th>\n",
              "      <td>2013-01-01</td>\n",
              "      <td>1</td>\n",
              "      <td>133</td>\n",
              "      <td>2013-04-01</td>\n",
              "      <td>90</td>\n",
              "    </tr>\n",
              "    <tr>\n",
              "      <th>1</th>\n",
              "      <td>2013-01-01</td>\n",
              "      <td>2</td>\n",
              "      <td>327</td>\n",
              "      <td>2013-04-01</td>\n",
              "      <td>90</td>\n",
              "    </tr>\n",
              "    <tr>\n",
              "      <th>2</th>\n",
              "      <td>2013-01-01</td>\n",
              "      <td>3</td>\n",
              "      <td>172</td>\n",
              "      <td>2013-04-01</td>\n",
              "      <td>90</td>\n",
              "    </tr>\n",
              "    <tr>\n",
              "      <th>3</th>\n",
              "      <td>2013-01-01</td>\n",
              "      <td>4</td>\n",
              "      <td>102</td>\n",
              "      <td>2013-04-01</td>\n",
              "      <td>90</td>\n",
              "    </tr>\n",
              "    <tr>\n",
              "      <th>4</th>\n",
              "      <td>2013-01-01</td>\n",
              "      <td>5</td>\n",
              "      <td>83</td>\n",
              "      <td>2013-04-01</td>\n",
              "      <td>90</td>\n",
              "    </tr>\n",
              "    <tr>\n",
              "      <th>...</th>\n",
              "      <td>...</td>\n",
              "      <td>...</td>\n",
              "      <td>...</td>\n",
              "      <td>...</td>\n",
              "      <td>...</td>\n",
              "    </tr>\n",
              "    <tr>\n",
              "      <th>91295</th>\n",
              "      <td>2017-12-31</td>\n",
              "      <td>46</td>\n",
              "      <td>605</td>\n",
              "      <td>2018-03-31</td>\n",
              "      <td>90</td>\n",
              "    </tr>\n",
              "    <tr>\n",
              "      <th>91296</th>\n",
              "      <td>2017-12-31</td>\n",
              "      <td>47</td>\n",
              "      <td>211</td>\n",
              "      <td>2018-03-31</td>\n",
              "      <td>90</td>\n",
              "    </tr>\n",
              "    <tr>\n",
              "      <th>91297</th>\n",
              "      <td>2017-12-31</td>\n",
              "      <td>48</td>\n",
              "      <td>494</td>\n",
              "      <td>2018-03-31</td>\n",
              "      <td>90</td>\n",
              "    </tr>\n",
              "    <tr>\n",
              "      <th>91298</th>\n",
              "      <td>2017-12-31</td>\n",
              "      <td>49</td>\n",
              "      <td>285</td>\n",
              "      <td>2018-03-31</td>\n",
              "      <td>90</td>\n",
              "    </tr>\n",
              "    <tr>\n",
              "      <th>91299</th>\n",
              "      <td>2017-12-31</td>\n",
              "      <td>50</td>\n",
              "      <td>626</td>\n",
              "      <td>2018-03-31</td>\n",
              "      <td>90</td>\n",
              "    </tr>\n",
              "  </tbody>\n",
              "</table>\n",
              "<p>91300 rows × 5 columns</p>\n",
              "</div>\n",
              "      <button class=\"colab-df-convert\" onclick=\"convertToInteractive('df-af9e5ad3-6a2f-4149-afbc-fc712151925e')\"\n",
              "              title=\"Convert this dataframe to an interactive table.\"\n",
              "              style=\"display:none;\">\n",
              "        \n",
              "  <svg xmlns=\"http://www.w3.org/2000/svg\" height=\"24px\"viewBox=\"0 0 24 24\"\n",
              "       width=\"24px\">\n",
              "    <path d=\"M0 0h24v24H0V0z\" fill=\"none\"/>\n",
              "    <path d=\"M18.56 5.44l.94 2.06.94-2.06 2.06-.94-2.06-.94-.94-2.06-.94 2.06-2.06.94zm-11 1L8.5 8.5l.94-2.06 2.06-.94-2.06-.94L8.5 2.5l-.94 2.06-2.06.94zm10 10l.94 2.06.94-2.06 2.06-.94-2.06-.94-.94-2.06-.94 2.06-2.06.94z\"/><path d=\"M17.41 7.96l-1.37-1.37c-.4-.4-.92-.59-1.43-.59-.52 0-1.04.2-1.43.59L10.3 9.45l-7.72 7.72c-.78.78-.78 2.05 0 2.83L4 21.41c.39.39.9.59 1.41.59.51 0 1.02-.2 1.41-.59l7.78-7.78 2.81-2.81c.8-.78.8-2.07 0-2.86zM5.41 20L4 18.59l7.72-7.72 1.47 1.35L5.41 20z\"/>\n",
              "  </svg>\n",
              "      </button>\n",
              "      \n",
              "  <style>\n",
              "    .colab-df-container {\n",
              "      display:flex;\n",
              "      flex-wrap:wrap;\n",
              "      gap: 12px;\n",
              "    }\n",
              "\n",
              "    .colab-df-convert {\n",
              "      background-color: #E8F0FE;\n",
              "      border: none;\n",
              "      border-radius: 50%;\n",
              "      cursor: pointer;\n",
              "      display: none;\n",
              "      fill: #1967D2;\n",
              "      height: 32px;\n",
              "      padding: 0 0 0 0;\n",
              "      width: 32px;\n",
              "    }\n",
              "\n",
              "    .colab-df-convert:hover {\n",
              "      background-color: #E2EBFA;\n",
              "      box-shadow: 0px 1px 2px rgba(60, 64, 67, 0.3), 0px 1px 3px 1px rgba(60, 64, 67, 0.15);\n",
              "      fill: #174EA6;\n",
              "    }\n",
              "\n",
              "    [theme=dark] .colab-df-convert {\n",
              "      background-color: #3B4455;\n",
              "      fill: #D2E3FC;\n",
              "    }\n",
              "\n",
              "    [theme=dark] .colab-df-convert:hover {\n",
              "      background-color: #434B5C;\n",
              "      box-shadow: 0px 1px 3px 1px rgba(0, 0, 0, 0.15);\n",
              "      filter: drop-shadow(0px 1px 2px rgba(0, 0, 0, 0.3));\n",
              "      fill: #FFFFFF;\n",
              "    }\n",
              "  </style>\n",
              "\n",
              "      <script>\n",
              "        const buttonEl =\n",
              "          document.querySelector('#df-af9e5ad3-6a2f-4149-afbc-fc712151925e button.colab-df-convert');\n",
              "        buttonEl.style.display =\n",
              "          google.colab.kernel.accessAllowed ? 'block' : 'none';\n",
              "\n",
              "        async function convertToInteractive(key) {\n",
              "          const element = document.querySelector('#df-af9e5ad3-6a2f-4149-afbc-fc712151925e');\n",
              "          const dataTable =\n",
              "            await google.colab.kernel.invokeFunction('convertToInteractive',\n",
              "                                                     [key], {});\n",
              "          if (!dataTable) return;\n",
              "\n",
              "          const docLinkHtml = 'Like what you see? Visit the ' +\n",
              "            '<a target=\"_blank\" href=https://colab.research.google.com/notebooks/data_table.ipynb>data table notebook</a>'\n",
              "            + ' to learn more about interactive tables.';\n",
              "          element.innerHTML = '';\n",
              "          dataTable['output_type'] = 'display_data';\n",
              "          await google.colab.output.renderOutput(dataTable, element);\n",
              "          const docLink = document.createElement('div');\n",
              "          docLink.innerHTML = docLinkHtml;\n",
              "          element.appendChild(docLink);\n",
              "        }\n",
              "      </script>\n",
              "    </div>\n",
              "  </div>\n",
              "  "
            ]
          },
          "metadata": {},
          "execution_count": 124
        }
      ]
    },
    {
      "cell_type": "code",
      "execution_count": 125,
      "metadata": {
        "id": "ycS_Mmyy3uac",
        "colab": {
          "base_uri": "https://localhost:8080/",
          "height": 424
        },
        "outputId": "3c7e4100-8a8d-4b9a-8aae-d6221ceefe21"
      },
      "outputs": [
        {
          "output_type": "execute_result",
          "data": {
            "text/plain": [
              "            date  item  sales   end_date  duration\n",
              "1     2013-01-01     2    327 2013-04-01        90\n",
              "51    2013-01-02     2    279 2013-04-02        90\n",
              "101   2013-01-03     2    304 2013-04-03        90\n",
              "151   2013-01-04     2    359 2013-04-04        90\n",
              "201   2013-01-05     2    377 2013-04-05        90\n",
              "...          ...   ...    ...        ...       ...\n",
              "91051 2017-12-27     2    500 2018-03-27        90\n",
              "91101 2017-12-28     2    495 2018-03-28        90\n",
              "91151 2017-12-29     2    515 2018-03-29        90\n",
              "91201 2017-12-30     2    538 2018-03-30        90\n",
              "91251 2017-12-31     2    634 2018-03-31        90\n",
              "\n",
              "[1826 rows x 5 columns]"
            ],
            "text/html": [
              "\n",
              "  <div id=\"df-253368af-ec5e-406d-bb3d-7613a8e3cab9\">\n",
              "    <div class=\"colab-df-container\">\n",
              "      <div>\n",
              "<style scoped>\n",
              "    .dataframe tbody tr th:only-of-type {\n",
              "        vertical-align: middle;\n",
              "    }\n",
              "\n",
              "    .dataframe tbody tr th {\n",
              "        vertical-align: top;\n",
              "    }\n",
              "\n",
              "    .dataframe thead th {\n",
              "        text-align: right;\n",
              "    }\n",
              "</style>\n",
              "<table border=\"1\" class=\"dataframe\">\n",
              "  <thead>\n",
              "    <tr style=\"text-align: right;\">\n",
              "      <th></th>\n",
              "      <th>date</th>\n",
              "      <th>item</th>\n",
              "      <th>sales</th>\n",
              "      <th>end_date</th>\n",
              "      <th>duration</th>\n",
              "    </tr>\n",
              "  </thead>\n",
              "  <tbody>\n",
              "    <tr>\n",
              "      <th>1</th>\n",
              "      <td>2013-01-01</td>\n",
              "      <td>2</td>\n",
              "      <td>327</td>\n",
              "      <td>2013-04-01</td>\n",
              "      <td>90</td>\n",
              "    </tr>\n",
              "    <tr>\n",
              "      <th>51</th>\n",
              "      <td>2013-01-02</td>\n",
              "      <td>2</td>\n",
              "      <td>279</td>\n",
              "      <td>2013-04-02</td>\n",
              "      <td>90</td>\n",
              "    </tr>\n",
              "    <tr>\n",
              "      <th>101</th>\n",
              "      <td>2013-01-03</td>\n",
              "      <td>2</td>\n",
              "      <td>304</td>\n",
              "      <td>2013-04-03</td>\n",
              "      <td>90</td>\n",
              "    </tr>\n",
              "    <tr>\n",
              "      <th>151</th>\n",
              "      <td>2013-01-04</td>\n",
              "      <td>2</td>\n",
              "      <td>359</td>\n",
              "      <td>2013-04-04</td>\n",
              "      <td>90</td>\n",
              "    </tr>\n",
              "    <tr>\n",
              "      <th>201</th>\n",
              "      <td>2013-01-05</td>\n",
              "      <td>2</td>\n",
              "      <td>377</td>\n",
              "      <td>2013-04-05</td>\n",
              "      <td>90</td>\n",
              "    </tr>\n",
              "    <tr>\n",
              "      <th>...</th>\n",
              "      <td>...</td>\n",
              "      <td>...</td>\n",
              "      <td>...</td>\n",
              "      <td>...</td>\n",
              "      <td>...</td>\n",
              "    </tr>\n",
              "    <tr>\n",
              "      <th>91051</th>\n",
              "      <td>2017-12-27</td>\n",
              "      <td>2</td>\n",
              "      <td>500</td>\n",
              "      <td>2018-03-27</td>\n",
              "      <td>90</td>\n",
              "    </tr>\n",
              "    <tr>\n",
              "      <th>91101</th>\n",
              "      <td>2017-12-28</td>\n",
              "      <td>2</td>\n",
              "      <td>495</td>\n",
              "      <td>2018-03-28</td>\n",
              "      <td>90</td>\n",
              "    </tr>\n",
              "    <tr>\n",
              "      <th>91151</th>\n",
              "      <td>2017-12-29</td>\n",
              "      <td>2</td>\n",
              "      <td>515</td>\n",
              "      <td>2018-03-29</td>\n",
              "      <td>90</td>\n",
              "    </tr>\n",
              "    <tr>\n",
              "      <th>91201</th>\n",
              "      <td>2017-12-30</td>\n",
              "      <td>2</td>\n",
              "      <td>538</td>\n",
              "      <td>2018-03-30</td>\n",
              "      <td>90</td>\n",
              "    </tr>\n",
              "    <tr>\n",
              "      <th>91251</th>\n",
              "      <td>2017-12-31</td>\n",
              "      <td>2</td>\n",
              "      <td>634</td>\n",
              "      <td>2018-03-31</td>\n",
              "      <td>90</td>\n",
              "    </tr>\n",
              "  </tbody>\n",
              "</table>\n",
              "<p>1826 rows × 5 columns</p>\n",
              "</div>\n",
              "      <button class=\"colab-df-convert\" onclick=\"convertToInteractive('df-253368af-ec5e-406d-bb3d-7613a8e3cab9')\"\n",
              "              title=\"Convert this dataframe to an interactive table.\"\n",
              "              style=\"display:none;\">\n",
              "        \n",
              "  <svg xmlns=\"http://www.w3.org/2000/svg\" height=\"24px\"viewBox=\"0 0 24 24\"\n",
              "       width=\"24px\">\n",
              "    <path d=\"M0 0h24v24H0V0z\" fill=\"none\"/>\n",
              "    <path d=\"M18.56 5.44l.94 2.06.94-2.06 2.06-.94-2.06-.94-.94-2.06-.94 2.06-2.06.94zm-11 1L8.5 8.5l.94-2.06 2.06-.94-2.06-.94L8.5 2.5l-.94 2.06-2.06.94zm10 10l.94 2.06.94-2.06 2.06-.94-2.06-.94-.94-2.06-.94 2.06-2.06.94z\"/><path d=\"M17.41 7.96l-1.37-1.37c-.4-.4-.92-.59-1.43-.59-.52 0-1.04.2-1.43.59L10.3 9.45l-7.72 7.72c-.78.78-.78 2.05 0 2.83L4 21.41c.39.39.9.59 1.41.59.51 0 1.02-.2 1.41-.59l7.78-7.78 2.81-2.81c.8-.78.8-2.07 0-2.86zM5.41 20L4 18.59l7.72-7.72 1.47 1.35L5.41 20z\"/>\n",
              "  </svg>\n",
              "      </button>\n",
              "      \n",
              "  <style>\n",
              "    .colab-df-container {\n",
              "      display:flex;\n",
              "      flex-wrap:wrap;\n",
              "      gap: 12px;\n",
              "    }\n",
              "\n",
              "    .colab-df-convert {\n",
              "      background-color: #E8F0FE;\n",
              "      border: none;\n",
              "      border-radius: 50%;\n",
              "      cursor: pointer;\n",
              "      display: none;\n",
              "      fill: #1967D2;\n",
              "      height: 32px;\n",
              "      padding: 0 0 0 0;\n",
              "      width: 32px;\n",
              "    }\n",
              "\n",
              "    .colab-df-convert:hover {\n",
              "      background-color: #E2EBFA;\n",
              "      box-shadow: 0px 1px 2px rgba(60, 64, 67, 0.3), 0px 1px 3px 1px rgba(60, 64, 67, 0.15);\n",
              "      fill: #174EA6;\n",
              "    }\n",
              "\n",
              "    [theme=dark] .colab-df-convert {\n",
              "      background-color: #3B4455;\n",
              "      fill: #D2E3FC;\n",
              "    }\n",
              "\n",
              "    [theme=dark] .colab-df-convert:hover {\n",
              "      background-color: #434B5C;\n",
              "      box-shadow: 0px 1px 3px 1px rgba(0, 0, 0, 0.15);\n",
              "      filter: drop-shadow(0px 1px 2px rgba(0, 0, 0, 0.3));\n",
              "      fill: #FFFFFF;\n",
              "    }\n",
              "  </style>\n",
              "\n",
              "      <script>\n",
              "        const buttonEl =\n",
              "          document.querySelector('#df-253368af-ec5e-406d-bb3d-7613a8e3cab9 button.colab-df-convert');\n",
              "        buttonEl.style.display =\n",
              "          google.colab.kernel.accessAllowed ? 'block' : 'none';\n",
              "\n",
              "        async function convertToInteractive(key) {\n",
              "          const element = document.querySelector('#df-253368af-ec5e-406d-bb3d-7613a8e3cab9');\n",
              "          const dataTable =\n",
              "            await google.colab.kernel.invokeFunction('convertToInteractive',\n",
              "                                                     [key], {});\n",
              "          if (!dataTable) return;\n",
              "\n",
              "          const docLinkHtml = 'Like what you see? Visit the ' +\n",
              "            '<a target=\"_blank\" href=https://colab.research.google.com/notebooks/data_table.ipynb>data table notebook</a>'\n",
              "            + ' to learn more about interactive tables.';\n",
              "          element.innerHTML = '';\n",
              "          dataTable['output_type'] = 'display_data';\n",
              "          await google.colab.output.renderOutput(dataTable, element);\n",
              "          const docLink = document.createElement('div');\n",
              "          docLink.innerHTML = docLinkHtml;\n",
              "          element.appendChild(docLink);\n",
              "        }\n",
              "      </script>\n",
              "    </div>\n",
              "  </div>\n",
              "  "
            ]
          },
          "metadata": {},
          "execution_count": 125
        }
      ],
      "source": [
        "items_df=[]                                     # A whole dataframe split into multiple dataframe with respect to items\n",
        "for i in range(1,51):\n",
        "  items_df.append(df.loc[df['item']==i])\n",
        "items_df[1]                                     # Every item have unique dataframe\n",
        "  "
      ]
    },
    {
      "cell_type": "code",
      "execution_count": 126,
      "metadata": {
        "colab": {
          "base_uri": "https://localhost:8080/",
          "height": 206
        },
        "id": "0O6LneQE8-a6",
        "outputId": "809a5150-19b2-4d1c-a738-f86577375e8b"
      },
      "outputs": [
        {
          "output_type": "execute_result",
          "data": {
            "text/plain": [
              "          date  item  sales   end_date  duration\n",
              "5   2013-01-01     6    288 2013-04-01        90\n",
              "55  2013-01-02     6    310 2013-04-02        90\n",
              "105 2013-01-03     6    309 2013-04-03        90\n",
              "155 2013-01-04     6    343 2013-04-04        90\n",
              "205 2013-01-05     6    343 2013-04-05        90"
            ],
            "text/html": [
              "\n",
              "  <div id=\"df-b71a7e3d-25b9-4de4-aee4-d5f452c1bcf6\">\n",
              "    <div class=\"colab-df-container\">\n",
              "      <div>\n",
              "<style scoped>\n",
              "    .dataframe tbody tr th:only-of-type {\n",
              "        vertical-align: middle;\n",
              "    }\n",
              "\n",
              "    .dataframe tbody tr th {\n",
              "        vertical-align: top;\n",
              "    }\n",
              "\n",
              "    .dataframe thead th {\n",
              "        text-align: right;\n",
              "    }\n",
              "</style>\n",
              "<table border=\"1\" class=\"dataframe\">\n",
              "  <thead>\n",
              "    <tr style=\"text-align: right;\">\n",
              "      <th></th>\n",
              "      <th>date</th>\n",
              "      <th>item</th>\n",
              "      <th>sales</th>\n",
              "      <th>end_date</th>\n",
              "      <th>duration</th>\n",
              "    </tr>\n",
              "  </thead>\n",
              "  <tbody>\n",
              "    <tr>\n",
              "      <th>5</th>\n",
              "      <td>2013-01-01</td>\n",
              "      <td>6</td>\n",
              "      <td>288</td>\n",
              "      <td>2013-04-01</td>\n",
              "      <td>90</td>\n",
              "    </tr>\n",
              "    <tr>\n",
              "      <th>55</th>\n",
              "      <td>2013-01-02</td>\n",
              "      <td>6</td>\n",
              "      <td>310</td>\n",
              "      <td>2013-04-02</td>\n",
              "      <td>90</td>\n",
              "    </tr>\n",
              "    <tr>\n",
              "      <th>105</th>\n",
              "      <td>2013-01-03</td>\n",
              "      <td>6</td>\n",
              "      <td>309</td>\n",
              "      <td>2013-04-03</td>\n",
              "      <td>90</td>\n",
              "    </tr>\n",
              "    <tr>\n",
              "      <th>155</th>\n",
              "      <td>2013-01-04</td>\n",
              "      <td>6</td>\n",
              "      <td>343</td>\n",
              "      <td>2013-04-04</td>\n",
              "      <td>90</td>\n",
              "    </tr>\n",
              "    <tr>\n",
              "      <th>205</th>\n",
              "      <td>2013-01-05</td>\n",
              "      <td>6</td>\n",
              "      <td>343</td>\n",
              "      <td>2013-04-05</td>\n",
              "      <td>90</td>\n",
              "    </tr>\n",
              "  </tbody>\n",
              "</table>\n",
              "</div>\n",
              "      <button class=\"colab-df-convert\" onclick=\"convertToInteractive('df-b71a7e3d-25b9-4de4-aee4-d5f452c1bcf6')\"\n",
              "              title=\"Convert this dataframe to an interactive table.\"\n",
              "              style=\"display:none;\">\n",
              "        \n",
              "  <svg xmlns=\"http://www.w3.org/2000/svg\" height=\"24px\"viewBox=\"0 0 24 24\"\n",
              "       width=\"24px\">\n",
              "    <path d=\"M0 0h24v24H0V0z\" fill=\"none\"/>\n",
              "    <path d=\"M18.56 5.44l.94 2.06.94-2.06 2.06-.94-2.06-.94-.94-2.06-.94 2.06-2.06.94zm-11 1L8.5 8.5l.94-2.06 2.06-.94-2.06-.94L8.5 2.5l-.94 2.06-2.06.94zm10 10l.94 2.06.94-2.06 2.06-.94-2.06-.94-.94-2.06-.94 2.06-2.06.94z\"/><path d=\"M17.41 7.96l-1.37-1.37c-.4-.4-.92-.59-1.43-.59-.52 0-1.04.2-1.43.59L10.3 9.45l-7.72 7.72c-.78.78-.78 2.05 0 2.83L4 21.41c.39.39.9.59 1.41.59.51 0 1.02-.2 1.41-.59l7.78-7.78 2.81-2.81c.8-.78.8-2.07 0-2.86zM5.41 20L4 18.59l7.72-7.72 1.47 1.35L5.41 20z\"/>\n",
              "  </svg>\n",
              "      </button>\n",
              "      \n",
              "  <style>\n",
              "    .colab-df-container {\n",
              "      display:flex;\n",
              "      flex-wrap:wrap;\n",
              "      gap: 12px;\n",
              "    }\n",
              "\n",
              "    .colab-df-convert {\n",
              "      background-color: #E8F0FE;\n",
              "      border: none;\n",
              "      border-radius: 50%;\n",
              "      cursor: pointer;\n",
              "      display: none;\n",
              "      fill: #1967D2;\n",
              "      height: 32px;\n",
              "      padding: 0 0 0 0;\n",
              "      width: 32px;\n",
              "    }\n",
              "\n",
              "    .colab-df-convert:hover {\n",
              "      background-color: #E2EBFA;\n",
              "      box-shadow: 0px 1px 2px rgba(60, 64, 67, 0.3), 0px 1px 3px 1px rgba(60, 64, 67, 0.15);\n",
              "      fill: #174EA6;\n",
              "    }\n",
              "\n",
              "    [theme=dark] .colab-df-convert {\n",
              "      background-color: #3B4455;\n",
              "      fill: #D2E3FC;\n",
              "    }\n",
              "\n",
              "    [theme=dark] .colab-df-convert:hover {\n",
              "      background-color: #434B5C;\n",
              "      box-shadow: 0px 1px 3px 1px rgba(0, 0, 0, 0.15);\n",
              "      filter: drop-shadow(0px 1px 2px rgba(0, 0, 0, 0.3));\n",
              "      fill: #FFFFFF;\n",
              "    }\n",
              "  </style>\n",
              "\n",
              "      <script>\n",
              "        const buttonEl =\n",
              "          document.querySelector('#df-b71a7e3d-25b9-4de4-aee4-d5f452c1bcf6 button.colab-df-convert');\n",
              "        buttonEl.style.display =\n",
              "          google.colab.kernel.accessAllowed ? 'block' : 'none';\n",
              "\n",
              "        async function convertToInteractive(key) {\n",
              "          const element = document.querySelector('#df-b71a7e3d-25b9-4de4-aee4-d5f452c1bcf6');\n",
              "          const dataTable =\n",
              "            await google.colab.kernel.invokeFunction('convertToInteractive',\n",
              "                                                     [key], {});\n",
              "          if (!dataTable) return;\n",
              "\n",
              "          const docLinkHtml = 'Like what you see? Visit the ' +\n",
              "            '<a target=\"_blank\" href=https://colab.research.google.com/notebooks/data_table.ipynb>data table notebook</a>'\n",
              "            + ' to learn more about interactive tables.';\n",
              "          element.innerHTML = '';\n",
              "          dataTable['output_type'] = 'display_data';\n",
              "          await google.colab.output.renderOutput(dataTable, element);\n",
              "          const docLink = document.createElement('div');\n",
              "          docLink.innerHTML = docLinkHtml;\n",
              "          element.appendChild(docLink);\n",
              "        }\n",
              "      </script>\n",
              "    </div>\n",
              "  </div>\n",
              "  "
            ]
          },
          "metadata": {},
          "execution_count": 126
        }
      ],
      "source": [
        "items_df[5].head()"
      ]
    },
    {
      "cell_type": "code",
      "source": [
        "def three_month_sales(data):\n",
        "  three=[]\n",
        "  for i in range(0,len(data)):\n",
        "    sum=data['sales'][i:i+data.iloc[i,4]].sum()\n",
        "    three.append(sum)\n",
        "\n",
        "  data['three_month_sale']=three\n",
        "  data.drop(data.tail(91).index,inplace=True)\n",
        "  return data"
      ],
      "metadata": {
        "id": "1WYUkV8099qO"
      },
      "execution_count": 127,
      "outputs": []
    },
    {
      "cell_type": "code",
      "source": [
        "dataset=[three_month_sales(items_df[k]) for k in range(50)]"
      ],
      "metadata": {
        "id": "TXXjgax6DVdF"
      },
      "execution_count": 128,
      "outputs": []
    },
    {
      "cell_type": "code",
      "source": [
        "dataset[0]"
      ],
      "metadata": {
        "colab": {
          "base_uri": "https://localhost:8080/",
          "height": 424
        },
        "id": "3cKkySHnaqW9",
        "outputId": "e6afa891-20f0-4ee7-c463-3647a89c0e30"
      },
      "execution_count": 129,
      "outputs": [
        {
          "output_type": "execute_result",
          "data": {
            "text/plain": [
              "            date  item  sales   end_date  duration  three_month_sale\n",
              "0     2013-01-01     1    133 2013-04-01        90             12847\n",
              "50    2013-01-02     1     99 2013-04-02        90             12848\n",
              "100   2013-01-03     1    127 2013-04-03        90             12936\n",
              "150   2013-01-04     1    145 2013-04-04        90             13019\n",
              "200   2013-01-05     1    149 2013-04-05        90             13103\n",
              "...          ...   ...    ...        ...       ...               ...\n",
              "86500 2017-09-27     1    249 2017-12-27        91             21126\n",
              "86550 2017-09-28     1    235 2017-12-28        91             21031\n",
              "86600 2017-09-29     1    270 2017-12-29        91             20974\n",
              "86650 2017-09-30     1    269 2017-12-30        91             20911\n",
              "86700 2017-10-01     1    300 2018-01-01        92             21105\n",
              "\n",
              "[1735 rows x 6 columns]"
            ],
            "text/html": [
              "\n",
              "  <div id=\"df-b37e1f05-3b06-4084-9141-090d1d42cf8c\">\n",
              "    <div class=\"colab-df-container\">\n",
              "      <div>\n",
              "<style scoped>\n",
              "    .dataframe tbody tr th:only-of-type {\n",
              "        vertical-align: middle;\n",
              "    }\n",
              "\n",
              "    .dataframe tbody tr th {\n",
              "        vertical-align: top;\n",
              "    }\n",
              "\n",
              "    .dataframe thead th {\n",
              "        text-align: right;\n",
              "    }\n",
              "</style>\n",
              "<table border=\"1\" class=\"dataframe\">\n",
              "  <thead>\n",
              "    <tr style=\"text-align: right;\">\n",
              "      <th></th>\n",
              "      <th>date</th>\n",
              "      <th>item</th>\n",
              "      <th>sales</th>\n",
              "      <th>end_date</th>\n",
              "      <th>duration</th>\n",
              "      <th>three_month_sale</th>\n",
              "    </tr>\n",
              "  </thead>\n",
              "  <tbody>\n",
              "    <tr>\n",
              "      <th>0</th>\n",
              "      <td>2013-01-01</td>\n",
              "      <td>1</td>\n",
              "      <td>133</td>\n",
              "      <td>2013-04-01</td>\n",
              "      <td>90</td>\n",
              "      <td>12847</td>\n",
              "    </tr>\n",
              "    <tr>\n",
              "      <th>50</th>\n",
              "      <td>2013-01-02</td>\n",
              "      <td>1</td>\n",
              "      <td>99</td>\n",
              "      <td>2013-04-02</td>\n",
              "      <td>90</td>\n",
              "      <td>12848</td>\n",
              "    </tr>\n",
              "    <tr>\n",
              "      <th>100</th>\n",
              "      <td>2013-01-03</td>\n",
              "      <td>1</td>\n",
              "      <td>127</td>\n",
              "      <td>2013-04-03</td>\n",
              "      <td>90</td>\n",
              "      <td>12936</td>\n",
              "    </tr>\n",
              "    <tr>\n",
              "      <th>150</th>\n",
              "      <td>2013-01-04</td>\n",
              "      <td>1</td>\n",
              "      <td>145</td>\n",
              "      <td>2013-04-04</td>\n",
              "      <td>90</td>\n",
              "      <td>13019</td>\n",
              "    </tr>\n",
              "    <tr>\n",
              "      <th>200</th>\n",
              "      <td>2013-01-05</td>\n",
              "      <td>1</td>\n",
              "      <td>149</td>\n",
              "      <td>2013-04-05</td>\n",
              "      <td>90</td>\n",
              "      <td>13103</td>\n",
              "    </tr>\n",
              "    <tr>\n",
              "      <th>...</th>\n",
              "      <td>...</td>\n",
              "      <td>...</td>\n",
              "      <td>...</td>\n",
              "      <td>...</td>\n",
              "      <td>...</td>\n",
              "      <td>...</td>\n",
              "    </tr>\n",
              "    <tr>\n",
              "      <th>86500</th>\n",
              "      <td>2017-09-27</td>\n",
              "      <td>1</td>\n",
              "      <td>249</td>\n",
              "      <td>2017-12-27</td>\n",
              "      <td>91</td>\n",
              "      <td>21126</td>\n",
              "    </tr>\n",
              "    <tr>\n",
              "      <th>86550</th>\n",
              "      <td>2017-09-28</td>\n",
              "      <td>1</td>\n",
              "      <td>235</td>\n",
              "      <td>2017-12-28</td>\n",
              "      <td>91</td>\n",
              "      <td>21031</td>\n",
              "    </tr>\n",
              "    <tr>\n",
              "      <th>86600</th>\n",
              "      <td>2017-09-29</td>\n",
              "      <td>1</td>\n",
              "      <td>270</td>\n",
              "      <td>2017-12-29</td>\n",
              "      <td>91</td>\n",
              "      <td>20974</td>\n",
              "    </tr>\n",
              "    <tr>\n",
              "      <th>86650</th>\n",
              "      <td>2017-09-30</td>\n",
              "      <td>1</td>\n",
              "      <td>269</td>\n",
              "      <td>2017-12-30</td>\n",
              "      <td>91</td>\n",
              "      <td>20911</td>\n",
              "    </tr>\n",
              "    <tr>\n",
              "      <th>86700</th>\n",
              "      <td>2017-10-01</td>\n",
              "      <td>1</td>\n",
              "      <td>300</td>\n",
              "      <td>2018-01-01</td>\n",
              "      <td>92</td>\n",
              "      <td>21105</td>\n",
              "    </tr>\n",
              "  </tbody>\n",
              "</table>\n",
              "<p>1735 rows × 6 columns</p>\n",
              "</div>\n",
              "      <button class=\"colab-df-convert\" onclick=\"convertToInteractive('df-b37e1f05-3b06-4084-9141-090d1d42cf8c')\"\n",
              "              title=\"Convert this dataframe to an interactive table.\"\n",
              "              style=\"display:none;\">\n",
              "        \n",
              "  <svg xmlns=\"http://www.w3.org/2000/svg\" height=\"24px\"viewBox=\"0 0 24 24\"\n",
              "       width=\"24px\">\n",
              "    <path d=\"M0 0h24v24H0V0z\" fill=\"none\"/>\n",
              "    <path d=\"M18.56 5.44l.94 2.06.94-2.06 2.06-.94-2.06-.94-.94-2.06-.94 2.06-2.06.94zm-11 1L8.5 8.5l.94-2.06 2.06-.94-2.06-.94L8.5 2.5l-.94 2.06-2.06.94zm10 10l.94 2.06.94-2.06 2.06-.94-2.06-.94-.94-2.06-.94 2.06-2.06.94z\"/><path d=\"M17.41 7.96l-1.37-1.37c-.4-.4-.92-.59-1.43-.59-.52 0-1.04.2-1.43.59L10.3 9.45l-7.72 7.72c-.78.78-.78 2.05 0 2.83L4 21.41c.39.39.9.59 1.41.59.51 0 1.02-.2 1.41-.59l7.78-7.78 2.81-2.81c.8-.78.8-2.07 0-2.86zM5.41 20L4 18.59l7.72-7.72 1.47 1.35L5.41 20z\"/>\n",
              "  </svg>\n",
              "      </button>\n",
              "      \n",
              "  <style>\n",
              "    .colab-df-container {\n",
              "      display:flex;\n",
              "      flex-wrap:wrap;\n",
              "      gap: 12px;\n",
              "    }\n",
              "\n",
              "    .colab-df-convert {\n",
              "      background-color: #E8F0FE;\n",
              "      border: none;\n",
              "      border-radius: 50%;\n",
              "      cursor: pointer;\n",
              "      display: none;\n",
              "      fill: #1967D2;\n",
              "      height: 32px;\n",
              "      padding: 0 0 0 0;\n",
              "      width: 32px;\n",
              "    }\n",
              "\n",
              "    .colab-df-convert:hover {\n",
              "      background-color: #E2EBFA;\n",
              "      box-shadow: 0px 1px 2px rgba(60, 64, 67, 0.3), 0px 1px 3px 1px rgba(60, 64, 67, 0.15);\n",
              "      fill: #174EA6;\n",
              "    }\n",
              "\n",
              "    [theme=dark] .colab-df-convert {\n",
              "      background-color: #3B4455;\n",
              "      fill: #D2E3FC;\n",
              "    }\n",
              "\n",
              "    [theme=dark] .colab-df-convert:hover {\n",
              "      background-color: #434B5C;\n",
              "      box-shadow: 0px 1px 3px 1px rgba(0, 0, 0, 0.15);\n",
              "      filter: drop-shadow(0px 1px 2px rgba(0, 0, 0, 0.3));\n",
              "      fill: #FFFFFF;\n",
              "    }\n",
              "  </style>\n",
              "\n",
              "      <script>\n",
              "        const buttonEl =\n",
              "          document.querySelector('#df-b37e1f05-3b06-4084-9141-090d1d42cf8c button.colab-df-convert');\n",
              "        buttonEl.style.display =\n",
              "          google.colab.kernel.accessAllowed ? 'block' : 'none';\n",
              "\n",
              "        async function convertToInteractive(key) {\n",
              "          const element = document.querySelector('#df-b37e1f05-3b06-4084-9141-090d1d42cf8c');\n",
              "          const dataTable =\n",
              "            await google.colab.kernel.invokeFunction('convertToInteractive',\n",
              "                                                     [key], {});\n",
              "          if (!dataTable) return;\n",
              "\n",
              "          const docLinkHtml = 'Like what you see? Visit the ' +\n",
              "            '<a target=\"_blank\" href=https://colab.research.google.com/notebooks/data_table.ipynb>data table notebook</a>'\n",
              "            + ' to learn more about interactive tables.';\n",
              "          element.innerHTML = '';\n",
              "          dataTable['output_type'] = 'display_data';\n",
              "          await google.colab.output.renderOutput(dataTable, element);\n",
              "          const docLink = document.createElement('div');\n",
              "          docLink.innerHTML = docLinkHtml;\n",
              "          element.appendChild(docLink);\n",
              "        }\n",
              "      </script>\n",
              "    </div>\n",
              "  </div>\n",
              "  "
            ]
          },
          "metadata": {},
          "execution_count": 129
        }
      ]
    },
    {
      "cell_type": "code",
      "source": [
        "def delete(df,unwanted):                          # delete the unwanted columns         \n",
        "  df.drop(unwanted,axis=1,inplace=True)\n",
        "  return df\n",
        "unwanted_col=['end_date','sales']                    \n",
        "dataset=[delete(dataset[i],unwanted_col) for i in range(50)]             # One day sales ware converted into three month sales both of them gives same informations.\n",
        "dataset[49]"
      ],
      "metadata": {
        "colab": {
          "base_uri": "https://localhost:8080/",
          "height": 424
        },
        "id": "MGLb3134bHmh",
        "outputId": "6d69ef2e-8da1-4f5f-a17d-c746c607352b"
      },
      "execution_count": 130,
      "outputs": [
        {
          "output_type": "execute_result",
          "data": {
            "text/plain": [
              "            date  item  duration  three_month_sale\n",
              "49    2013-01-01    50        90             38720\n",
              "99    2013-01-02    50        90             38874\n",
              "149   2013-01-03    50        90             39034\n",
              "199   2013-01-04    50        90             39200\n",
              "249   2013-01-05    50        90             39378\n",
              "...          ...   ...       ...               ...\n",
              "86549 2017-09-27    50        91             63158\n",
              "86599 2017-09-28    50        91             62942\n",
              "86649 2017-09-29    50        91             62787\n",
              "86699 2017-09-30    50        91             62558\n",
              "86749 2017-10-01    50        92             62925\n",
              "\n",
              "[1735 rows x 4 columns]"
            ],
            "text/html": [
              "\n",
              "  <div id=\"df-70ee4a8e-e2cf-40c5-8157-a6012bdbc2db\">\n",
              "    <div class=\"colab-df-container\">\n",
              "      <div>\n",
              "<style scoped>\n",
              "    .dataframe tbody tr th:only-of-type {\n",
              "        vertical-align: middle;\n",
              "    }\n",
              "\n",
              "    .dataframe tbody tr th {\n",
              "        vertical-align: top;\n",
              "    }\n",
              "\n",
              "    .dataframe thead th {\n",
              "        text-align: right;\n",
              "    }\n",
              "</style>\n",
              "<table border=\"1\" class=\"dataframe\">\n",
              "  <thead>\n",
              "    <tr style=\"text-align: right;\">\n",
              "      <th></th>\n",
              "      <th>date</th>\n",
              "      <th>item</th>\n",
              "      <th>duration</th>\n",
              "      <th>three_month_sale</th>\n",
              "    </tr>\n",
              "  </thead>\n",
              "  <tbody>\n",
              "    <tr>\n",
              "      <th>49</th>\n",
              "      <td>2013-01-01</td>\n",
              "      <td>50</td>\n",
              "      <td>90</td>\n",
              "      <td>38720</td>\n",
              "    </tr>\n",
              "    <tr>\n",
              "      <th>99</th>\n",
              "      <td>2013-01-02</td>\n",
              "      <td>50</td>\n",
              "      <td>90</td>\n",
              "      <td>38874</td>\n",
              "    </tr>\n",
              "    <tr>\n",
              "      <th>149</th>\n",
              "      <td>2013-01-03</td>\n",
              "      <td>50</td>\n",
              "      <td>90</td>\n",
              "      <td>39034</td>\n",
              "    </tr>\n",
              "    <tr>\n",
              "      <th>199</th>\n",
              "      <td>2013-01-04</td>\n",
              "      <td>50</td>\n",
              "      <td>90</td>\n",
              "      <td>39200</td>\n",
              "    </tr>\n",
              "    <tr>\n",
              "      <th>249</th>\n",
              "      <td>2013-01-05</td>\n",
              "      <td>50</td>\n",
              "      <td>90</td>\n",
              "      <td>39378</td>\n",
              "    </tr>\n",
              "    <tr>\n",
              "      <th>...</th>\n",
              "      <td>...</td>\n",
              "      <td>...</td>\n",
              "      <td>...</td>\n",
              "      <td>...</td>\n",
              "    </tr>\n",
              "    <tr>\n",
              "      <th>86549</th>\n",
              "      <td>2017-09-27</td>\n",
              "      <td>50</td>\n",
              "      <td>91</td>\n",
              "      <td>63158</td>\n",
              "    </tr>\n",
              "    <tr>\n",
              "      <th>86599</th>\n",
              "      <td>2017-09-28</td>\n",
              "      <td>50</td>\n",
              "      <td>91</td>\n",
              "      <td>62942</td>\n",
              "    </tr>\n",
              "    <tr>\n",
              "      <th>86649</th>\n",
              "      <td>2017-09-29</td>\n",
              "      <td>50</td>\n",
              "      <td>91</td>\n",
              "      <td>62787</td>\n",
              "    </tr>\n",
              "    <tr>\n",
              "      <th>86699</th>\n",
              "      <td>2017-09-30</td>\n",
              "      <td>50</td>\n",
              "      <td>91</td>\n",
              "      <td>62558</td>\n",
              "    </tr>\n",
              "    <tr>\n",
              "      <th>86749</th>\n",
              "      <td>2017-10-01</td>\n",
              "      <td>50</td>\n",
              "      <td>92</td>\n",
              "      <td>62925</td>\n",
              "    </tr>\n",
              "  </tbody>\n",
              "</table>\n",
              "<p>1735 rows × 4 columns</p>\n",
              "</div>\n",
              "      <button class=\"colab-df-convert\" onclick=\"convertToInteractive('df-70ee4a8e-e2cf-40c5-8157-a6012bdbc2db')\"\n",
              "              title=\"Convert this dataframe to an interactive table.\"\n",
              "              style=\"display:none;\">\n",
              "        \n",
              "  <svg xmlns=\"http://www.w3.org/2000/svg\" height=\"24px\"viewBox=\"0 0 24 24\"\n",
              "       width=\"24px\">\n",
              "    <path d=\"M0 0h24v24H0V0z\" fill=\"none\"/>\n",
              "    <path d=\"M18.56 5.44l.94 2.06.94-2.06 2.06-.94-2.06-.94-.94-2.06-.94 2.06-2.06.94zm-11 1L8.5 8.5l.94-2.06 2.06-.94-2.06-.94L8.5 2.5l-.94 2.06-2.06.94zm10 10l.94 2.06.94-2.06 2.06-.94-2.06-.94-.94-2.06-.94 2.06-2.06.94z\"/><path d=\"M17.41 7.96l-1.37-1.37c-.4-.4-.92-.59-1.43-.59-.52 0-1.04.2-1.43.59L10.3 9.45l-7.72 7.72c-.78.78-.78 2.05 0 2.83L4 21.41c.39.39.9.59 1.41.59.51 0 1.02-.2 1.41-.59l7.78-7.78 2.81-2.81c.8-.78.8-2.07 0-2.86zM5.41 20L4 18.59l7.72-7.72 1.47 1.35L5.41 20z\"/>\n",
              "  </svg>\n",
              "      </button>\n",
              "      \n",
              "  <style>\n",
              "    .colab-df-container {\n",
              "      display:flex;\n",
              "      flex-wrap:wrap;\n",
              "      gap: 12px;\n",
              "    }\n",
              "\n",
              "    .colab-df-convert {\n",
              "      background-color: #E8F0FE;\n",
              "      border: none;\n",
              "      border-radius: 50%;\n",
              "      cursor: pointer;\n",
              "      display: none;\n",
              "      fill: #1967D2;\n",
              "      height: 32px;\n",
              "      padding: 0 0 0 0;\n",
              "      width: 32px;\n",
              "    }\n",
              "\n",
              "    .colab-df-convert:hover {\n",
              "      background-color: #E2EBFA;\n",
              "      box-shadow: 0px 1px 2px rgba(60, 64, 67, 0.3), 0px 1px 3px 1px rgba(60, 64, 67, 0.15);\n",
              "      fill: #174EA6;\n",
              "    }\n",
              "\n",
              "    [theme=dark] .colab-df-convert {\n",
              "      background-color: #3B4455;\n",
              "      fill: #D2E3FC;\n",
              "    }\n",
              "\n",
              "    [theme=dark] .colab-df-convert:hover {\n",
              "      background-color: #434B5C;\n",
              "      box-shadow: 0px 1px 3px 1px rgba(0, 0, 0, 0.15);\n",
              "      filter: drop-shadow(0px 1px 2px rgba(0, 0, 0, 0.3));\n",
              "      fill: #FFFFFF;\n",
              "    }\n",
              "  </style>\n",
              "\n",
              "      <script>\n",
              "        const buttonEl =\n",
              "          document.querySelector('#df-70ee4a8e-e2cf-40c5-8157-a6012bdbc2db button.colab-df-convert');\n",
              "        buttonEl.style.display =\n",
              "          google.colab.kernel.accessAllowed ? 'block' : 'none';\n",
              "\n",
              "        async function convertToInteractive(key) {\n",
              "          const element = document.querySelector('#df-70ee4a8e-e2cf-40c5-8157-a6012bdbc2db');\n",
              "          const dataTable =\n",
              "            await google.colab.kernel.invokeFunction('convertToInteractive',\n",
              "                                                     [key], {});\n",
              "          if (!dataTable) return;\n",
              "\n",
              "          const docLinkHtml = 'Like what you see? Visit the ' +\n",
              "            '<a target=\"_blank\" href=https://colab.research.google.com/notebooks/data_table.ipynb>data table notebook</a>'\n",
              "            + ' to learn more about interactive tables.';\n",
              "          element.innerHTML = '';\n",
              "          dataTable['output_type'] = 'display_data';\n",
              "          await google.colab.output.renderOutput(dataTable, element);\n",
              "          const docLink = document.createElement('div');\n",
              "          docLink.innerHTML = docLinkHtml;\n",
              "          element.appendChild(docLink);\n",
              "        }\n",
              "      </script>\n",
              "    </div>\n",
              "  </div>\n",
              "  "
            ]
          },
          "metadata": {},
          "execution_count": 130
        }
      ]
    },
    {
      "cell_type": "code",
      "source": [
        "def dataframe(data):\n",
        "  df=data[0]\n",
        "  for i in range(1,50):\n",
        "    df=df.append(data[i],ignore_index=True)\n",
        "  return df"
      ],
      "metadata": {
        "id": "FWJis0w_r5tr"
      },
      "execution_count": 131,
      "outputs": []
    },
    {
      "cell_type": "code",
      "source": [
        "df=dataframe(dataset)\n",
        "df"
      ],
      "metadata": {
        "id": "CBNwYhqkuaDH",
        "colab": {
          "base_uri": "https://localhost:8080/",
          "height": 424
        },
        "outputId": "96507e47-59bd-4e56-9a79-d41bbddc1ab7"
      },
      "execution_count": 132,
      "outputs": [
        {
          "output_type": "execute_result",
          "data": {
            "text/plain": [
              "            date  item  duration  three_month_sale\n",
              "0     2013-01-01     1        90             12847\n",
              "1     2013-01-02     1        90             12848\n",
              "2     2013-01-03     1        90             12936\n",
              "3     2013-01-04     1        90             13019\n",
              "4     2013-01-05     1        90             13103\n",
              "...          ...   ...       ...               ...\n",
              "86745 2017-09-27    50        91             63158\n",
              "86746 2017-09-28    50        91             62942\n",
              "86747 2017-09-29    50        91             62787\n",
              "86748 2017-09-30    50        91             62558\n",
              "86749 2017-10-01    50        92             62925\n",
              "\n",
              "[86750 rows x 4 columns]"
            ],
            "text/html": [
              "\n",
              "  <div id=\"df-ba7c0750-757b-40e4-8b83-2a77020ed888\">\n",
              "    <div class=\"colab-df-container\">\n",
              "      <div>\n",
              "<style scoped>\n",
              "    .dataframe tbody tr th:only-of-type {\n",
              "        vertical-align: middle;\n",
              "    }\n",
              "\n",
              "    .dataframe tbody tr th {\n",
              "        vertical-align: top;\n",
              "    }\n",
              "\n",
              "    .dataframe thead th {\n",
              "        text-align: right;\n",
              "    }\n",
              "</style>\n",
              "<table border=\"1\" class=\"dataframe\">\n",
              "  <thead>\n",
              "    <tr style=\"text-align: right;\">\n",
              "      <th></th>\n",
              "      <th>date</th>\n",
              "      <th>item</th>\n",
              "      <th>duration</th>\n",
              "      <th>three_month_sale</th>\n",
              "    </tr>\n",
              "  </thead>\n",
              "  <tbody>\n",
              "    <tr>\n",
              "      <th>0</th>\n",
              "      <td>2013-01-01</td>\n",
              "      <td>1</td>\n",
              "      <td>90</td>\n",
              "      <td>12847</td>\n",
              "    </tr>\n",
              "    <tr>\n",
              "      <th>1</th>\n",
              "      <td>2013-01-02</td>\n",
              "      <td>1</td>\n",
              "      <td>90</td>\n",
              "      <td>12848</td>\n",
              "    </tr>\n",
              "    <tr>\n",
              "      <th>2</th>\n",
              "      <td>2013-01-03</td>\n",
              "      <td>1</td>\n",
              "      <td>90</td>\n",
              "      <td>12936</td>\n",
              "    </tr>\n",
              "    <tr>\n",
              "      <th>3</th>\n",
              "      <td>2013-01-04</td>\n",
              "      <td>1</td>\n",
              "      <td>90</td>\n",
              "      <td>13019</td>\n",
              "    </tr>\n",
              "    <tr>\n",
              "      <th>4</th>\n",
              "      <td>2013-01-05</td>\n",
              "      <td>1</td>\n",
              "      <td>90</td>\n",
              "      <td>13103</td>\n",
              "    </tr>\n",
              "    <tr>\n",
              "      <th>...</th>\n",
              "      <td>...</td>\n",
              "      <td>...</td>\n",
              "      <td>...</td>\n",
              "      <td>...</td>\n",
              "    </tr>\n",
              "    <tr>\n",
              "      <th>86745</th>\n",
              "      <td>2017-09-27</td>\n",
              "      <td>50</td>\n",
              "      <td>91</td>\n",
              "      <td>63158</td>\n",
              "    </tr>\n",
              "    <tr>\n",
              "      <th>86746</th>\n",
              "      <td>2017-09-28</td>\n",
              "      <td>50</td>\n",
              "      <td>91</td>\n",
              "      <td>62942</td>\n",
              "    </tr>\n",
              "    <tr>\n",
              "      <th>86747</th>\n",
              "      <td>2017-09-29</td>\n",
              "      <td>50</td>\n",
              "      <td>91</td>\n",
              "      <td>62787</td>\n",
              "    </tr>\n",
              "    <tr>\n",
              "      <th>86748</th>\n",
              "      <td>2017-09-30</td>\n",
              "      <td>50</td>\n",
              "      <td>91</td>\n",
              "      <td>62558</td>\n",
              "    </tr>\n",
              "    <tr>\n",
              "      <th>86749</th>\n",
              "      <td>2017-10-01</td>\n",
              "      <td>50</td>\n",
              "      <td>92</td>\n",
              "      <td>62925</td>\n",
              "    </tr>\n",
              "  </tbody>\n",
              "</table>\n",
              "<p>86750 rows × 4 columns</p>\n",
              "</div>\n",
              "      <button class=\"colab-df-convert\" onclick=\"convertToInteractive('df-ba7c0750-757b-40e4-8b83-2a77020ed888')\"\n",
              "              title=\"Convert this dataframe to an interactive table.\"\n",
              "              style=\"display:none;\">\n",
              "        \n",
              "  <svg xmlns=\"http://www.w3.org/2000/svg\" height=\"24px\"viewBox=\"0 0 24 24\"\n",
              "       width=\"24px\">\n",
              "    <path d=\"M0 0h24v24H0V0z\" fill=\"none\"/>\n",
              "    <path d=\"M18.56 5.44l.94 2.06.94-2.06 2.06-.94-2.06-.94-.94-2.06-.94 2.06-2.06.94zm-11 1L8.5 8.5l.94-2.06 2.06-.94-2.06-.94L8.5 2.5l-.94 2.06-2.06.94zm10 10l.94 2.06.94-2.06 2.06-.94-2.06-.94-.94-2.06-.94 2.06-2.06.94z\"/><path d=\"M17.41 7.96l-1.37-1.37c-.4-.4-.92-.59-1.43-.59-.52 0-1.04.2-1.43.59L10.3 9.45l-7.72 7.72c-.78.78-.78 2.05 0 2.83L4 21.41c.39.39.9.59 1.41.59.51 0 1.02-.2 1.41-.59l7.78-7.78 2.81-2.81c.8-.78.8-2.07 0-2.86zM5.41 20L4 18.59l7.72-7.72 1.47 1.35L5.41 20z\"/>\n",
              "  </svg>\n",
              "      </button>\n",
              "      \n",
              "  <style>\n",
              "    .colab-df-container {\n",
              "      display:flex;\n",
              "      flex-wrap:wrap;\n",
              "      gap: 12px;\n",
              "    }\n",
              "\n",
              "    .colab-df-convert {\n",
              "      background-color: #E8F0FE;\n",
              "      border: none;\n",
              "      border-radius: 50%;\n",
              "      cursor: pointer;\n",
              "      display: none;\n",
              "      fill: #1967D2;\n",
              "      height: 32px;\n",
              "      padding: 0 0 0 0;\n",
              "      width: 32px;\n",
              "    }\n",
              "\n",
              "    .colab-df-convert:hover {\n",
              "      background-color: #E2EBFA;\n",
              "      box-shadow: 0px 1px 2px rgba(60, 64, 67, 0.3), 0px 1px 3px 1px rgba(60, 64, 67, 0.15);\n",
              "      fill: #174EA6;\n",
              "    }\n",
              "\n",
              "    [theme=dark] .colab-df-convert {\n",
              "      background-color: #3B4455;\n",
              "      fill: #D2E3FC;\n",
              "    }\n",
              "\n",
              "    [theme=dark] .colab-df-convert:hover {\n",
              "      background-color: #434B5C;\n",
              "      box-shadow: 0px 1px 3px 1px rgba(0, 0, 0, 0.15);\n",
              "      filter: drop-shadow(0px 1px 2px rgba(0, 0, 0, 0.3));\n",
              "      fill: #FFFFFF;\n",
              "    }\n",
              "  </style>\n",
              "\n",
              "      <script>\n",
              "        const buttonEl =\n",
              "          document.querySelector('#df-ba7c0750-757b-40e4-8b83-2a77020ed888 button.colab-df-convert');\n",
              "        buttonEl.style.display =\n",
              "          google.colab.kernel.accessAllowed ? 'block' : 'none';\n",
              "\n",
              "        async function convertToInteractive(key) {\n",
              "          const element = document.querySelector('#df-ba7c0750-757b-40e4-8b83-2a77020ed888');\n",
              "          const dataTable =\n",
              "            await google.colab.kernel.invokeFunction('convertToInteractive',\n",
              "                                                     [key], {});\n",
              "          if (!dataTable) return;\n",
              "\n",
              "          const docLinkHtml = 'Like what you see? Visit the ' +\n",
              "            '<a target=\"_blank\" href=https://colab.research.google.com/notebooks/data_table.ipynb>data table notebook</a>'\n",
              "            + ' to learn more about interactive tables.';\n",
              "          element.innerHTML = '';\n",
              "          dataTable['output_type'] = 'display_data';\n",
              "          await google.colab.output.renderOutput(dataTable, element);\n",
              "          const docLink = document.createElement('div');\n",
              "          docLink.innerHTML = docLinkHtml;\n",
              "          element.appendChild(docLink);\n",
              "        }\n",
              "      </script>\n",
              "    </div>\n",
              "  </div>\n",
              "  "
            ]
          },
          "metadata": {},
          "execution_count": 132
        }
      ]
    },
    {
      "cell_type": "code",
      "source": [
        "def isweekend(data):\n",
        "  if data < 5 :\n",
        "    return 0\n",
        "  else:\n",
        "    return 1"
      ],
      "metadata": {
        "id": "FevSXJUvgzkf"
      },
      "execution_count": 133,
      "outputs": []
    },
    {
      "cell_type": "code",
      "source": [
        "df['day']=df['date'].dt.day\n",
        "df['dayofyear']=df['date'].dt.dayofyear\n",
        "df['week']=df['date'].dt.week\n",
        "df['weekday']=df['date'].dt.weekday\n",
        "df['weekend']=[isweekend(i) for i in df['weekday']]\n",
        "df['month']=df['date'].dt.month\n",
        "df['quarter']=df['date'].dt.quarter\n",
        "df['year']=df['date'].dt.year\n"
      ],
      "metadata": {
        "id": "aPUipcEuf-mf"
      },
      "execution_count": 134,
      "outputs": []
    },
    {
      "cell_type": "code",
      "source": [
        "df"
      ],
      "metadata": {
        "colab": {
          "base_uri": "https://localhost:8080/",
          "height": 424
        },
        "id": "0frQLUnhisFY",
        "outputId": "07c993a4-0468-459f-df15-3fe5ac95c181"
      },
      "execution_count": 135,
      "outputs": [
        {
          "output_type": "execute_result",
          "data": {
            "text/plain": [
              "            date  item  duration  three_month_sale  day  dayofyear  week  \\\n",
              "0     2013-01-01     1        90             12847    1          1     1   \n",
              "1     2013-01-02     1        90             12848    2          2     1   \n",
              "2     2013-01-03     1        90             12936    3          3     1   \n",
              "3     2013-01-04     1        90             13019    4          4     1   \n",
              "4     2013-01-05     1        90             13103    5          5     1   \n",
              "...          ...   ...       ...               ...  ...        ...   ...   \n",
              "86745 2017-09-27    50        91             63158   27        270    39   \n",
              "86746 2017-09-28    50        91             62942   28        271    39   \n",
              "86747 2017-09-29    50        91             62787   29        272    39   \n",
              "86748 2017-09-30    50        91             62558   30        273    39   \n",
              "86749 2017-10-01    50        92             62925    1        274    39   \n",
              "\n",
              "       weekday  weekend  month  quarter  year  \n",
              "0            1        0      1        1  2013  \n",
              "1            2        0      1        1  2013  \n",
              "2            3        0      1        1  2013  \n",
              "3            4        0      1        1  2013  \n",
              "4            5        1      1        1  2013  \n",
              "...        ...      ...    ...      ...   ...  \n",
              "86745        2        0      9        3  2017  \n",
              "86746        3        0      9        3  2017  \n",
              "86747        4        0      9        3  2017  \n",
              "86748        5        1      9        3  2017  \n",
              "86749        6        1     10        4  2017  \n",
              "\n",
              "[86750 rows x 12 columns]"
            ],
            "text/html": [
              "\n",
              "  <div id=\"df-1f1e4d70-4dfd-439b-a055-f86698b6c07f\">\n",
              "    <div class=\"colab-df-container\">\n",
              "      <div>\n",
              "<style scoped>\n",
              "    .dataframe tbody tr th:only-of-type {\n",
              "        vertical-align: middle;\n",
              "    }\n",
              "\n",
              "    .dataframe tbody tr th {\n",
              "        vertical-align: top;\n",
              "    }\n",
              "\n",
              "    .dataframe thead th {\n",
              "        text-align: right;\n",
              "    }\n",
              "</style>\n",
              "<table border=\"1\" class=\"dataframe\">\n",
              "  <thead>\n",
              "    <tr style=\"text-align: right;\">\n",
              "      <th></th>\n",
              "      <th>date</th>\n",
              "      <th>item</th>\n",
              "      <th>duration</th>\n",
              "      <th>three_month_sale</th>\n",
              "      <th>day</th>\n",
              "      <th>dayofyear</th>\n",
              "      <th>week</th>\n",
              "      <th>weekday</th>\n",
              "      <th>weekend</th>\n",
              "      <th>month</th>\n",
              "      <th>quarter</th>\n",
              "      <th>year</th>\n",
              "    </tr>\n",
              "  </thead>\n",
              "  <tbody>\n",
              "    <tr>\n",
              "      <th>0</th>\n",
              "      <td>2013-01-01</td>\n",
              "      <td>1</td>\n",
              "      <td>90</td>\n",
              "      <td>12847</td>\n",
              "      <td>1</td>\n",
              "      <td>1</td>\n",
              "      <td>1</td>\n",
              "      <td>1</td>\n",
              "      <td>0</td>\n",
              "      <td>1</td>\n",
              "      <td>1</td>\n",
              "      <td>2013</td>\n",
              "    </tr>\n",
              "    <tr>\n",
              "      <th>1</th>\n",
              "      <td>2013-01-02</td>\n",
              "      <td>1</td>\n",
              "      <td>90</td>\n",
              "      <td>12848</td>\n",
              "      <td>2</td>\n",
              "      <td>2</td>\n",
              "      <td>1</td>\n",
              "      <td>2</td>\n",
              "      <td>0</td>\n",
              "      <td>1</td>\n",
              "      <td>1</td>\n",
              "      <td>2013</td>\n",
              "    </tr>\n",
              "    <tr>\n",
              "      <th>2</th>\n",
              "      <td>2013-01-03</td>\n",
              "      <td>1</td>\n",
              "      <td>90</td>\n",
              "      <td>12936</td>\n",
              "      <td>3</td>\n",
              "      <td>3</td>\n",
              "      <td>1</td>\n",
              "      <td>3</td>\n",
              "      <td>0</td>\n",
              "      <td>1</td>\n",
              "      <td>1</td>\n",
              "      <td>2013</td>\n",
              "    </tr>\n",
              "    <tr>\n",
              "      <th>3</th>\n",
              "      <td>2013-01-04</td>\n",
              "      <td>1</td>\n",
              "      <td>90</td>\n",
              "      <td>13019</td>\n",
              "      <td>4</td>\n",
              "      <td>4</td>\n",
              "      <td>1</td>\n",
              "      <td>4</td>\n",
              "      <td>0</td>\n",
              "      <td>1</td>\n",
              "      <td>1</td>\n",
              "      <td>2013</td>\n",
              "    </tr>\n",
              "    <tr>\n",
              "      <th>4</th>\n",
              "      <td>2013-01-05</td>\n",
              "      <td>1</td>\n",
              "      <td>90</td>\n",
              "      <td>13103</td>\n",
              "      <td>5</td>\n",
              "      <td>5</td>\n",
              "      <td>1</td>\n",
              "      <td>5</td>\n",
              "      <td>1</td>\n",
              "      <td>1</td>\n",
              "      <td>1</td>\n",
              "      <td>2013</td>\n",
              "    </tr>\n",
              "    <tr>\n",
              "      <th>...</th>\n",
              "      <td>...</td>\n",
              "      <td>...</td>\n",
              "      <td>...</td>\n",
              "      <td>...</td>\n",
              "      <td>...</td>\n",
              "      <td>...</td>\n",
              "      <td>...</td>\n",
              "      <td>...</td>\n",
              "      <td>...</td>\n",
              "      <td>...</td>\n",
              "      <td>...</td>\n",
              "      <td>...</td>\n",
              "    </tr>\n",
              "    <tr>\n",
              "      <th>86745</th>\n",
              "      <td>2017-09-27</td>\n",
              "      <td>50</td>\n",
              "      <td>91</td>\n",
              "      <td>63158</td>\n",
              "      <td>27</td>\n",
              "      <td>270</td>\n",
              "      <td>39</td>\n",
              "      <td>2</td>\n",
              "      <td>0</td>\n",
              "      <td>9</td>\n",
              "      <td>3</td>\n",
              "      <td>2017</td>\n",
              "    </tr>\n",
              "    <tr>\n",
              "      <th>86746</th>\n",
              "      <td>2017-09-28</td>\n",
              "      <td>50</td>\n",
              "      <td>91</td>\n",
              "      <td>62942</td>\n",
              "      <td>28</td>\n",
              "      <td>271</td>\n",
              "      <td>39</td>\n",
              "      <td>3</td>\n",
              "      <td>0</td>\n",
              "      <td>9</td>\n",
              "      <td>3</td>\n",
              "      <td>2017</td>\n",
              "    </tr>\n",
              "    <tr>\n",
              "      <th>86747</th>\n",
              "      <td>2017-09-29</td>\n",
              "      <td>50</td>\n",
              "      <td>91</td>\n",
              "      <td>62787</td>\n",
              "      <td>29</td>\n",
              "      <td>272</td>\n",
              "      <td>39</td>\n",
              "      <td>4</td>\n",
              "      <td>0</td>\n",
              "      <td>9</td>\n",
              "      <td>3</td>\n",
              "      <td>2017</td>\n",
              "    </tr>\n",
              "    <tr>\n",
              "      <th>86748</th>\n",
              "      <td>2017-09-30</td>\n",
              "      <td>50</td>\n",
              "      <td>91</td>\n",
              "      <td>62558</td>\n",
              "      <td>30</td>\n",
              "      <td>273</td>\n",
              "      <td>39</td>\n",
              "      <td>5</td>\n",
              "      <td>1</td>\n",
              "      <td>9</td>\n",
              "      <td>3</td>\n",
              "      <td>2017</td>\n",
              "    </tr>\n",
              "    <tr>\n",
              "      <th>86749</th>\n",
              "      <td>2017-10-01</td>\n",
              "      <td>50</td>\n",
              "      <td>92</td>\n",
              "      <td>62925</td>\n",
              "      <td>1</td>\n",
              "      <td>274</td>\n",
              "      <td>39</td>\n",
              "      <td>6</td>\n",
              "      <td>1</td>\n",
              "      <td>10</td>\n",
              "      <td>4</td>\n",
              "      <td>2017</td>\n",
              "    </tr>\n",
              "  </tbody>\n",
              "</table>\n",
              "<p>86750 rows × 12 columns</p>\n",
              "</div>\n",
              "      <button class=\"colab-df-convert\" onclick=\"convertToInteractive('df-1f1e4d70-4dfd-439b-a055-f86698b6c07f')\"\n",
              "              title=\"Convert this dataframe to an interactive table.\"\n",
              "              style=\"display:none;\">\n",
              "        \n",
              "  <svg xmlns=\"http://www.w3.org/2000/svg\" height=\"24px\"viewBox=\"0 0 24 24\"\n",
              "       width=\"24px\">\n",
              "    <path d=\"M0 0h24v24H0V0z\" fill=\"none\"/>\n",
              "    <path d=\"M18.56 5.44l.94 2.06.94-2.06 2.06-.94-2.06-.94-.94-2.06-.94 2.06-2.06.94zm-11 1L8.5 8.5l.94-2.06 2.06-.94-2.06-.94L8.5 2.5l-.94 2.06-2.06.94zm10 10l.94 2.06.94-2.06 2.06-.94-2.06-.94-.94-2.06-.94 2.06-2.06.94z\"/><path d=\"M17.41 7.96l-1.37-1.37c-.4-.4-.92-.59-1.43-.59-.52 0-1.04.2-1.43.59L10.3 9.45l-7.72 7.72c-.78.78-.78 2.05 0 2.83L4 21.41c.39.39.9.59 1.41.59.51 0 1.02-.2 1.41-.59l7.78-7.78 2.81-2.81c.8-.78.8-2.07 0-2.86zM5.41 20L4 18.59l7.72-7.72 1.47 1.35L5.41 20z\"/>\n",
              "  </svg>\n",
              "      </button>\n",
              "      \n",
              "  <style>\n",
              "    .colab-df-container {\n",
              "      display:flex;\n",
              "      flex-wrap:wrap;\n",
              "      gap: 12px;\n",
              "    }\n",
              "\n",
              "    .colab-df-convert {\n",
              "      background-color: #E8F0FE;\n",
              "      border: none;\n",
              "      border-radius: 50%;\n",
              "      cursor: pointer;\n",
              "      display: none;\n",
              "      fill: #1967D2;\n",
              "      height: 32px;\n",
              "      padding: 0 0 0 0;\n",
              "      width: 32px;\n",
              "    }\n",
              "\n",
              "    .colab-df-convert:hover {\n",
              "      background-color: #E2EBFA;\n",
              "      box-shadow: 0px 1px 2px rgba(60, 64, 67, 0.3), 0px 1px 3px 1px rgba(60, 64, 67, 0.15);\n",
              "      fill: #174EA6;\n",
              "    }\n",
              "\n",
              "    [theme=dark] .colab-df-convert {\n",
              "      background-color: #3B4455;\n",
              "      fill: #D2E3FC;\n",
              "    }\n",
              "\n",
              "    [theme=dark] .colab-df-convert:hover {\n",
              "      background-color: #434B5C;\n",
              "      box-shadow: 0px 1px 3px 1px rgba(0, 0, 0, 0.15);\n",
              "      filter: drop-shadow(0px 1px 2px rgba(0, 0, 0, 0.3));\n",
              "      fill: #FFFFFF;\n",
              "    }\n",
              "  </style>\n",
              "\n",
              "      <script>\n",
              "        const buttonEl =\n",
              "          document.querySelector('#df-1f1e4d70-4dfd-439b-a055-f86698b6c07f button.colab-df-convert');\n",
              "        buttonEl.style.display =\n",
              "          google.colab.kernel.accessAllowed ? 'block' : 'none';\n",
              "\n",
              "        async function convertToInteractive(key) {\n",
              "          const element = document.querySelector('#df-1f1e4d70-4dfd-439b-a055-f86698b6c07f');\n",
              "          const dataTable =\n",
              "            await google.colab.kernel.invokeFunction('convertToInteractive',\n",
              "                                                     [key], {});\n",
              "          if (!dataTable) return;\n",
              "\n",
              "          const docLinkHtml = 'Like what you see? Visit the ' +\n",
              "            '<a target=\"_blank\" href=https://colab.research.google.com/notebooks/data_table.ipynb>data table notebook</a>'\n",
              "            + ' to learn more about interactive tables.';\n",
              "          element.innerHTML = '';\n",
              "          dataTable['output_type'] = 'display_data';\n",
              "          await google.colab.output.renderOutput(dataTable, element);\n",
              "          const docLink = document.createElement('div');\n",
              "          docLink.innerHTML = docLinkHtml;\n",
              "          element.appendChild(docLink);\n",
              "        }\n",
              "      </script>\n",
              "    </div>\n",
              "  </div>\n",
              "  "
            ]
          },
          "metadata": {},
          "execution_count": 135
        }
      ]
    },
    {
      "cell_type": "markdown",
      "metadata": {
        "id": "PV_LtGyVOCbi"
      },
      "source": [
        "# **2. EDA of dataset**"
      ]
    },
    {
      "cell_type": "code",
      "source": [
        "def EDA (data, cat_feature,num_feature,target,item):\n",
        "  data=data[data['item']==item]\n",
        "  # histogram for continuous variables\n",
        "  for i in num_feature:\n",
        "    fig,axes=plt.subplots(1,1,sharex=False,figsize=(15,10))\n",
        "    fig.suptitle(f'histogram of column {i}')\n",
        "    sns.barplot(x=i,data=data,y=target,palette='Set2')\n",
        "    plt.show()\n",
        "    \n",
        "\n",
        "  #scatter plot for contious varibles\n",
        "  plt.figure(figsize=(15, 10))\n",
        "  for i in num_feature:  \n",
        "    sns.scatterplot(data=data,x=i,y=target)\n",
        "  plt.show()\n",
        "\n",
        "  for i in cat_feature:\n",
        "    plt.figure(figsize=(15, 10))\n",
        "    fig.suptitle(f'counting of column {i}')\n",
        "    data.groupby(i)[target].mean().sort_values().plot(kind='barh')\n",
        "    plt.show()\n",
        "\n",
        "  #correlation heatmap\n",
        "  plt.figure(figsize=(15, 10))\n",
        "  sns.heatmap(data.corr(),cmap='RdBu_r',annot=True)\n",
        "  plt.show()"
      ],
      "metadata": {
        "id": "-qP1Y59ia4Qp"
      },
      "execution_count": 136,
      "outputs": []
    },
    {
      "cell_type": "code",
      "source": [
        "num_features=['date']\n",
        "cat_features=['day','week','weekday','month','year','weekend','duration','quarter']\n",
        "EDA(df,cat_features,num_features,'three_month_sale',1)"
      ],
      "metadata": {
        "colab": {
          "base_uri": "https://localhost:8080/",
          "height": 1000
        },
        "id": "70oKEjhwcd6g",
        "outputId": "3b0c1c49-b7c5-4b73-b327-b1c82de842b9"
      },
      "execution_count": 137,
      "outputs": [
        {
          "output_type": "display_data",
          "data": {
            "text/plain": [
              "<Figure size 1080x720 with 1 Axes>"
            ],
            "image/png": "[encoded data removed]"
          },
          "metadata": {
            "needs_background": "light"
          }
        },
        {
          "output_type": "display_data",
          "data": {
            "text/plain": [
              "<Figure size 1080x720 with 1 Axes>"
            ],
            "image/png": "[encoded data removed]"
          },
          "metadata": {
            "needs_background": "light"
          }
        },
        {
          "output_type": "display_data",
          "data": {
            "text/plain": [
              "<Figure size 1080x720 with 1 Axes>"
            ],
            "image/png": "[encoded data removed]"
          },
          "metadata": {
            "needs_background": "light"
          }
        },
        {
          "output_type": "display_data",
          "data": {
            "text/plain": [
              "<Figure size 1080x720 with 1 Axes>"
            ],
            "image/png": "[encoded data removed]"
          },
          "metadata": {
            "needs_background": "light"
          }
        },
        {
          "output_type": "display_data",
          "data": {
            "text/plain": [
              "<Figure size 1080x720 with 1 Axes>"
            ],
            "image/png": "[encoded data removed]"
          },
          "metadata": {
            "needs_background": "light"
          }
        },
        {
          "output_type": "display_data",
          "data": {
            "text/plain": [
              "<Figure size 1080x720 with 1 Axes>"
            ],
            "image/png": "[encoded data removed]"
          },
          "metadata": {
            "needs_background": "light"
          }
        },
        {
          "output_type": "display_data",
          "data": {
            "text/plain": [
              "<Figure size 1080x720 with 1 Axes>"
            ],
            "image/png": "[encoded data removed]"
          },
          "metadata": {
            "needs_background": "light"
          }
        },
        {
          "output_type": "display_data",
          "data": {
            "text/plain": [
              "<Figure size 1080x720 with 1 Axes>"
            ],
            "image/png": "[encoded data removed]"
          },
          "metadata": {
            "needs_background": "light"
          }
        },
        {
          "output_type": "display_data",
          "data": {
            "text/plain": [
              "<Figure size 1080x720 with 1 Axes>"
            ],
            "image/png": "[encoded data removed]"
          },
          "metadata": {
            "needs_background": "light"
          }
        },
        {
          "output_type": "display_data",
          "data": {
            "text/plain": [
              "<Figure size 1080x720 with 1 Axes>"
            ],
            "image/png": "[encoded data removed]"
          },
          "metadata": {
            "needs_background": "light"
          }
        },
        {
          "output_type": "display_data",
          "data": {
            "text/plain": [
              "<Figure size 1080x720 with 2 Axes>"
            ],
            "image/png": "[encoded data removed]"
          },
          "metadata": {
            "needs_background": "light"
          }
        }
      ]
    },
    {
      "cell_type": "markdown",
      "metadata": {
        "id": "VguuGK_0c-EZ"
      },
      "source": [
        "# **3. Splitting the data**"
      ]
    },
    {
      "cell_type": "code",
      "source": [
        "df=df.sort_values(by=['date','item'])"
      ],
      "metadata": {
        "id": "tfgIN-ZsVB_4"
      },
      "execution_count": 138,
      "outputs": []
    },
    {
      "cell_type": "code",
      "source": [
        "df"
      ],
      "metadata": {
        "colab": {
          "base_uri": "https://localhost:8080/",
          "height": 424
        },
        "id": "5y0wTSNcVyoK",
        "outputId": "6726675e-c1e0-48e7-c5c0-dca67cc16177"
      },
      "execution_count": 139,
      "outputs": [
        {
          "output_type": "execute_result",
          "data": {
            "text/plain": [
              "            date  item  duration  three_month_sale  day  dayofyear  week  \\\n",
              "0     2013-01-01     1        90             12847    1          1     1   \n",
              "1735  2013-01-01     2        90             34650    1          1     1   \n",
              "3470  2013-01-01     3        90             21420    1          1     1   \n",
              "5205  2013-01-01     4        90             12884    1          1     1   \n",
              "6940  2013-01-01     5        90             10630    1          1     1   \n",
              "...          ...   ...       ...               ...  ...        ...   ...   \n",
              "79809 2017-10-01    46        92             56785    1        274    39   \n",
              "81544 2017-10-01    47        92             21132    1        274    39   \n",
              "83279 2017-10-01    48        92             49695    1        274    39   \n",
              "85014 2017-10-01    49        92             27934    1        274    39   \n",
              "86749 2017-10-01    50        92             62925    1        274    39   \n",
              "\n",
              "       weekday  weekend  month  quarter  year  \n",
              "0            1        0      1        1  2013  \n",
              "1735         1        0      1        1  2013  \n",
              "3470         1        0      1        1  2013  \n",
              "5205         1        0      1        1  2013  \n",
              "6940         1        0      1        1  2013  \n",
              "...        ...      ...    ...      ...   ...  \n",
              "79809        6        1     10        4  2017  \n",
              "81544        6        1     10        4  2017  \n",
              "83279        6        1     10        4  2017  \n",
              "85014        6        1     10        4  2017  \n",
              "86749        6        1     10        4  2017  \n",
              "\n",
              "[86750 rows x 12 columns]"
            ],
            "text/html": [
              "\n",
              "  <div id=\"df-6bda3688-219d-4bdd-b1a8-f494c01c7a4a\">\n",
              "    <div class=\"colab-df-container\">\n",
              "      <div>\n",
              "<style scoped>\n",
              "    .dataframe tbody tr th:only-of-type {\n",
              "        vertical-align: middle;\n",
              "    }\n",
              "\n",
              "    .dataframe tbody tr th {\n",
              "        vertical-align: top;\n",
              "    }\n",
              "\n",
              "    .dataframe thead th {\n",
              "        text-align: right;\n",
              "    }\n",
              "</style>\n",
              "<table border=\"1\" class=\"dataframe\">\n",
              "  <thead>\n",
              "    <tr style=\"text-align: right;\">\n",
              "      <th></th>\n",
              "      <th>date</th>\n",
              "      <th>item</th>\n",
              "      <th>duration</th>\n",
              "      <th>three_month_sale</th>\n",
              "      <th>day</th>\n",
              "      <th>dayofyear</th>\n",
              "      <th>week</th>\n",
              "      <th>weekday</th>\n",
              "      <th>weekend</th>\n",
              "      <th>month</th>\n",
              "      <th>quarter</th>\n",
              "      <th>year</th>\n",
              "    </tr>\n",
              "  </thead>\n",
              "  <tbody>\n",
              "    <tr>\n",
              "      <th>0</th>\n",
              "      <td>2013-01-01</td>\n",
              "      <td>1</td>\n",
              "      <td>90</td>\n",
              "      <td>12847</td>\n",
              "      <td>1</td>\n",
              "      <td>1</td>\n",
              "      <td>1</td>\n",
              "      <td>1</td>\n",
              "      <td>0</td>\n",
              "      <td>1</td>\n",
              "      <td>1</td>\n",
              "      <td>2013</td>\n",
              "    </tr>\n",
              "    <tr>\n",
              "      <th>1735</th>\n",
              "      <td>2013-01-01</td>\n",
              "      <td>2</td>\n",
              "      <td>90</td>\n",
              "      <td>34650</td>\n",
              "      <td>1</td>\n",
              "      <td>1</td>\n",
              "      <td>1</td>\n",
              "      <td>1</td>\n",
              "      <td>0</td>\n",
              "      <td>1</td>\n",
              "      <td>1</td>\n",
              "      <td>2013</td>\n",
              "    </tr>\n",
              "    <tr>\n",
              "      <th>3470</th>\n",
              "      <td>2013-01-01</td>\n",
              "      <td>3</td>\n",
              "      <td>90</td>\n",
              "      <td>21420</td>\n",
              "      <td>1</td>\n",
              "      <td>1</td>\n",
              "      <td>1</td>\n",
              "      <td>1</td>\n",
              "      <td>0</td>\n",
              "      <td>1</td>\n",
              "      <td>1</td>\n",
              "      <td>2013</td>\n",
              "    </tr>\n",
              "    <tr>\n",
              "      <th>5205</th>\n",
              "      <td>2013-01-01</td>\n",
              "      <td>4</td>\n",
              "      <td>90</td>\n",
              "      <td>12884</td>\n",
              "      <td>1</td>\n",
              "      <td>1</td>\n",
              "      <td>1</td>\n",
              "      <td>1</td>\n",
              "      <td>0</td>\n",
              "      <td>1</td>\n",
              "      <td>1</td>\n",
              "      <td>2013</td>\n",
              "    </tr>\n",
              "    <tr>\n",
              "      <th>6940</th>\n",
              "      <td>2013-01-01</td>\n",
              "      <td>5</td>\n",
              "      <td>90</td>\n",
              "      <td>10630</td>\n",
              "      <td>1</td>\n",
              "      <td>1</td>\n",
              "      <td>1</td>\n",
              "      <td>1</td>\n",
              "      <td>0</td>\n",
              "      <td>1</td>\n",
              "      <td>1</td>\n",
              "      <td>2013</td>\n",
              "    </tr>\n",
              "    <tr>\n",
              "      <th>...</th>\n",
              "      <td>...</td>\n",
              "      <td>...</td>\n",
              "      <td>...</td>\n",
              "      <td>...</td>\n",
              "      <td>...</td>\n",
              "      <td>...</td>\n",
              "      <td>...</td>\n",
              "      <td>...</td>\n",
              "      <td>...</td>\n",
              "      <td>...</td>\n",
              "      <td>...</td>\n",
              "      <td>...</td>\n",
              "    </tr>\n",
              "    <tr>\n",
              "      <th>79809</th>\n",
              "      <td>2017-10-01</td>\n",
              "      <td>46</td>\n",
              "      <td>92</td>\n",
              "      <td>56785</td>\n",
              "      <td>1</td>\n",
              "      <td>274</td>\n",
              "      <td>39</td>\n",
              "      <td>6</td>\n",
              "      <td>1</td>\n",
              "      <td>10</td>\n",
              "      <td>4</td>\n",
              "      <td>2017</td>\n",
              "    </tr>\n",
              "    <tr>\n",
              "      <th>81544</th>\n",
              "      <td>2017-10-01</td>\n",
              "      <td>47</td>\n",
              "      <td>92</td>\n",
              "      <td>21132</td>\n",
              "      <td>1</td>\n",
              "      <td>274</td>\n",
              "      <td>39</td>\n",
              "      <td>6</td>\n",
              "      <td>1</td>\n",
              "      <td>10</td>\n",
              "      <td>4</td>\n",
              "      <td>2017</td>\n",
              "    </tr>\n",
              "    <tr>\n",
              "      <th>83279</th>\n",
              "      <td>2017-10-01</td>\n",
              "      <td>48</td>\n",
              "      <td>92</td>\n",
              "      <td>49695</td>\n",
              "      <td>1</td>\n",
              "      <td>274</td>\n",
              "      <td>39</td>\n",
              "      <td>6</td>\n",
              "      <td>1</td>\n",
              "      <td>10</td>\n",
              "      <td>4</td>\n",
              "      <td>2017</td>\n",
              "    </tr>\n",
              "    <tr>\n",
              "      <th>85014</th>\n",
              "      <td>2017-10-01</td>\n",
              "      <td>49</td>\n",
              "      <td>92</td>\n",
              "      <td>27934</td>\n",
              "      <td>1</td>\n",
              "      <td>274</td>\n",
              "      <td>39</td>\n",
              "      <td>6</td>\n",
              "      <td>1</td>\n",
              "      <td>10</td>\n",
              "      <td>4</td>\n",
              "      <td>2017</td>\n",
              "    </tr>\n",
              "    <tr>\n",
              "      <th>86749</th>\n",
              "      <td>2017-10-01</td>\n",
              "      <td>50</td>\n",
              "      <td>92</td>\n",
              "      <td>62925</td>\n",
              "      <td>1</td>\n",
              "      <td>274</td>\n",
              "      <td>39</td>\n",
              "      <td>6</td>\n",
              "      <td>1</td>\n",
              "      <td>10</td>\n",
              "      <td>4</td>\n",
              "      <td>2017</td>\n",
              "    </tr>\n",
              "  </tbody>\n",
              "</table>\n",
              "<p>86750 rows × 12 columns</p>\n",
              "</div>\n",
              "      <button class=\"colab-df-convert\" onclick=\"convertToInteractive('df-6bda3688-219d-4bdd-b1a8-f494c01c7a4a')\"\n",
              "              title=\"Convert this dataframe to an interactive table.\"\n",
              "              style=\"display:none;\">\n",
              "        \n",
              "  <svg xmlns=\"http://www.w3.org/2000/svg\" height=\"24px\"viewBox=\"0 0 24 24\"\n",
              "       width=\"24px\">\n",
              "    <path d=\"M0 0h24v24H0V0z\" fill=\"none\"/>\n",
              "    <path d=\"M18.56 5.44l.94 2.06.94-2.06 2.06-.94-2.06-.94-.94-2.06-.94 2.06-2.06.94zm-11 1L8.5 8.5l.94-2.06 2.06-.94-2.06-.94L8.5 2.5l-.94 2.06-2.06.94zm10 10l.94 2.06.94-2.06 2.06-.94-2.06-.94-.94-2.06-.94 2.06-2.06.94z\"/><path d=\"M17.41 7.96l-1.37-1.37c-.4-.4-.92-.59-1.43-.59-.52 0-1.04.2-1.43.59L10.3 9.45l-7.72 7.72c-.78.78-.78 2.05 0 2.83L4 21.41c.39.39.9.59 1.41.59.51 0 1.02-.2 1.41-.59l7.78-7.78 2.81-2.81c.8-.78.8-2.07 0-2.86zM5.41 20L4 18.59l7.72-7.72 1.47 1.35L5.41 20z\"/>\n",
              "  </svg>\n",
              "      </button>\n",
              "      \n",
              "  <style>\n",
              "    .colab-df-container {\n",
              "      display:flex;\n",
              "      flex-wrap:wrap;\n",
              "      gap: 12px;\n",
              "    }\n",
              "\n",
              "    .colab-df-convert {\n",
              "      background-color: #E8F0FE;\n",
              "      border: none;\n",
              "      border-radius: 50%;\n",
              "      cursor: pointer;\n",
              "      display: none;\n",
              "      fill: #1967D2;\n",
              "      height: 32px;\n",
              "      padding: 0 0 0 0;\n",
              "      width: 32px;\n",
              "    }\n",
              "\n",
              "    .colab-df-convert:hover {\n",
              "      background-color: #E2EBFA;\n",
              "      box-shadow: 0px 1px 2px rgba(60, 64, 67, 0.3), 0px 1px 3px 1px rgba(60, 64, 67, 0.15);\n",
              "      fill: #174EA6;\n",
              "    }\n",
              "\n",
              "    [theme=dark] .colab-df-convert {\n",
              "      background-color: #3B4455;\n",
              "      fill: #D2E3FC;\n",
              "    }\n",
              "\n",
              "    [theme=dark] .colab-df-convert:hover {\n",
              "      background-color: #434B5C;\n",
              "      box-shadow: 0px 1px 3px 1px rgba(0, 0, 0, 0.15);\n",
              "      filter: drop-shadow(0px 1px 2px rgba(0, 0, 0, 0.3));\n",
              "      fill: #FFFFFF;\n",
              "    }\n",
              "  </style>\n",
              "\n",
              "      <script>\n",
              "        const buttonEl =\n",
              "          document.querySelector('#df-6bda3688-219d-4bdd-b1a8-f494c01c7a4a button.colab-df-convert');\n",
              "        buttonEl.style.display =\n",
              "          google.colab.kernel.accessAllowed ? 'block' : 'none';\n",
              "\n",
              "        async function convertToInteractive(key) {\n",
              "          const element = document.querySelector('#df-6bda3688-219d-4bdd-b1a8-f494c01c7a4a');\n",
              "          const dataTable =\n",
              "            await google.colab.kernel.invokeFunction('convertToInteractive',\n",
              "                                                     [key], {});\n",
              "          if (!dataTable) return;\n",
              "\n",
              "          const docLinkHtml = 'Like what you see? Visit the ' +\n",
              "            '<a target=\"_blank\" href=https://colab.research.google.com/notebooks/data_table.ipynb>data table notebook</a>'\n",
              "            + ' to learn more about interactive tables.';\n",
              "          element.innerHTML = '';\n",
              "          dataTable['output_type'] = 'display_data';\n",
              "          await google.colab.output.renderOutput(dataTable, element);\n",
              "          const docLink = document.createElement('div');\n",
              "          docLink.innerHTML = docLinkHtml;\n",
              "          element.appendChild(docLink);\n",
              "        }\n",
              "      </script>\n",
              "    </div>\n",
              "  </div>\n",
              "  "
            ]
          },
          "metadata": {},
          "execution_count": 139
        }
      ]
    },
    {
      "cell_type": "code",
      "source": [
        "#unwanted_col=['day','week','weekday','weekend']                    \n",
        "#df=delete(df,unwanted_col)                # One day sales ware converted into three month sales both of them gives same informations.\n",
        "#df"
      ],
      "metadata": {
        "id": "amuVYqF_gL8Z"
      },
      "execution_count": 140,
      "outputs": []
    },
    {
      "cell_type": "code",
      "source": [
        "split_date=pd.to_datetime('24-07-2016')\n",
        "X_train=df[df['date']<split_date].drop(['three_month_sale','date','weekend'],axis=1).values\n",
        "X_test=df[df['date']>=split_date].drop(['three_month_sale','date','weekend'],axis=1).values\n",
        "y_train=df[df['date']<split_date].drop(['dayofyear','month','year','item','date','duration','day','week','weekday','weekend','quarter'],axis=1).values\n",
        "y_test=df[df['date']>=split_date].drop(['dayofyear','month','year','item','date','duration','day','week','weekday','weekend','quarter'],axis=1).values"
      ],
      "metadata": {
        "id": "lDxNgr1Debv-"
      },
      "execution_count": 207,
      "outputs": []
    },
    {
      "cell_type": "code",
      "source": [
        "split_date"
      ],
      "metadata": {
        "colab": {
          "base_uri": "https://localhost:8080/"
        },
        "id": "Vvv4L5bUhzX7",
        "outputId": "d9fbb953-660b-44d2-dfc0-6106c7ba3538"
      },
      "execution_count": 208,
      "outputs": [
        {
          "output_type": "execute_result",
          "data": {
            "text/plain": [
              "Timestamp('2016-07-24 00:00:00')"
            ]
          },
          "metadata": {},
          "execution_count": 208
        }
      ]
    },
    {
      "cell_type": "code",
      "source": [
        "y_train=y_train.flatten()\n",
        "y_test=y_test.flatten()"
      ],
      "metadata": {
        "id": "hx52qZPgl16u"
      },
      "execution_count": 209,
      "outputs": []
    },
    {
      "cell_type": "markdown",
      "metadata": {
        "id": "r0qe4Xrifpox"
      },
      "source": [
        "# **4. Scaling the data**"
      ]
    },
    {
      "cell_type": "code",
      "execution_count": 210,
      "metadata": {
        "id": "YyJoyEhfgG9_"
      },
      "outputs": [],
      "source": [
        "def scaling(train,test):                               # scaling the data for important for KNN,voting regressor \n",
        "  from sklearn.preprocessing import StandardScaler\n",
        "  scaler=StandardScaler()\n",
        "  #for ix,i in enumerate(features):\n",
        "  scaler=scaler.fit(train)\n",
        "  X_train_scale=scaler.transform(train)\n",
        "  X_test_scale=scaler.transform(test)\n",
        "  return X_train_scale,X_test_scale"
      ]
    },
    {
      "cell_type": "code",
      "source": [
        "X_test"
      ],
      "metadata": {
        "id": "I0gHXGQ737jR",
        "colab": {
          "base_uri": "https://localhost:8080/"
        },
        "outputId": "36536ec5-7e86-49ea-aa72-b7f2488b8810"
      },
      "execution_count": 211,
      "outputs": [
        {
          "output_type": "execute_result",
          "data": {
            "text/plain": [
              "array([[   1,   92,   24, ...,    7,    3, 2016],\n",
              "       [   2,   92,   24, ...,    7,    3, 2016],\n",
              "       [   3,   92,   24, ...,    7,    3, 2016],\n",
              "       ...,\n",
              "       [  48,   92,    1, ...,   10,    4, 2017],\n",
              "       [  49,   92,    1, ...,   10,    4, 2017],\n",
              "       [  50,   92,    1, ...,   10,    4, 2017]])"
            ]
          },
          "metadata": {},
          "execution_count": 211
        }
      ]
    },
    {
      "cell_type": "code",
      "source": [
        "y_test"
      ],
      "metadata": {
        "colab": {
          "base_uri": "https://localhost:8080/",
          "height": 424
        },
        "id": "FOImgOr_AtAj",
        "outputId": "ec9e6590-7ad8-4d7f-bea6-b1bcad6ada23"
      },
      "execution_count": 206,
      "outputs": [
        {
          "output_type": "execute_result",
          "data": {
            "text/plain": [
              "       three_month_sale\n",
              "1300              23645\n",
              "3035              63295\n",
              "4770              39317\n",
              "6505              23722\n",
              "8240              19776\n",
              "...                 ...\n",
              "79809             56785\n",
              "81544             21132\n",
              "83279             49695\n",
              "85014             27934\n",
              "86749             62925\n",
              "\n",
              "[21750 rows x 1 columns]"
            ],
            "text/html": [
              "\n",
              "  <div id=\"df-eee804d0-0941-4e50-bb29-f8ffc2aac9f7\">\n",
              "    <div class=\"colab-df-container\">\n",
              "      <div>\n",
              "<style scoped>\n",
              "    .dataframe tbody tr th:only-of-type {\n",
              "        vertical-align: middle;\n",
              "    }\n",
              "\n",
              "    .dataframe tbody tr th {\n",
              "        vertical-align: top;\n",
              "    }\n",
              "\n",
              "    .dataframe thead th {\n",
              "        text-align: right;\n",
              "    }\n",
              "</style>\n",
              "<table border=\"1\" class=\"dataframe\">\n",
              "  <thead>\n",
              "    <tr style=\"text-align: right;\">\n",
              "      <th></th>\n",
              "      <th>three_month_sale</th>\n",
              "    </tr>\n",
              "  </thead>\n",
              "  <tbody>\n",
              "    <tr>\n",
              "      <th>1300</th>\n",
              "      <td>23645</td>\n",
              "    </tr>\n",
              "    <tr>\n",
              "      <th>3035</th>\n",
              "      <td>63295</td>\n",
              "    </tr>\n",
              "    <tr>\n",
              "      <th>4770</th>\n",
              "      <td>39317</td>\n",
              "    </tr>\n",
              "    <tr>\n",
              "      <th>6505</th>\n",
              "      <td>23722</td>\n",
              "    </tr>\n",
              "    <tr>\n",
              "      <th>8240</th>\n",
              "      <td>19776</td>\n",
              "    </tr>\n",
              "    <tr>\n",
              "      <th>...</th>\n",
              "      <td>...</td>\n",
              "    </tr>\n",
              "    <tr>\n",
              "      <th>79809</th>\n",
              "      <td>56785</td>\n",
              "    </tr>\n",
              "    <tr>\n",
              "      <th>81544</th>\n",
              "      <td>21132</td>\n",
              "    </tr>\n",
              "    <tr>\n",
              "      <th>83279</th>\n",
              "      <td>49695</td>\n",
              "    </tr>\n",
              "    <tr>\n",
              "      <th>85014</th>\n",
              "      <td>27934</td>\n",
              "    </tr>\n",
              "    <tr>\n",
              "      <th>86749</th>\n",
              "      <td>62925</td>\n",
              "    </tr>\n",
              "  </tbody>\n",
              "</table>\n",
              "<p>21750 rows × 1 columns</p>\n",
              "</div>\n",
              "      <button class=\"colab-df-convert\" onclick=\"convertToInteractive('df-eee804d0-0941-4e50-bb29-f8ffc2aac9f7')\"\n",
              "              title=\"Convert this dataframe to an interactive table.\"\n",
              "              style=\"display:none;\">\n",
              "        \n",
              "  <svg xmlns=\"http://www.w3.org/2000/svg\" height=\"24px\"viewBox=\"0 0 24 24\"\n",
              "       width=\"24px\">\n",
              "    <path d=\"M0 0h24v24H0V0z\" fill=\"none\"/>\n",
              "    <path d=\"M18.56 5.44l.94 2.06.94-2.06 2.06-.94-2.06-.94-.94-2.06-.94 2.06-2.06.94zm-11 1L8.5 8.5l.94-2.06 2.06-.94-2.06-.94L8.5 2.5l-.94 2.06-2.06.94zm10 10l.94 2.06.94-2.06 2.06-.94-2.06-.94-.94-2.06-.94 2.06-2.06.94z\"/><path d=\"M17.41 7.96l-1.37-1.37c-.4-.4-.92-.59-1.43-.59-.52 0-1.04.2-1.43.59L10.3 9.45l-7.72 7.72c-.78.78-.78 2.05 0 2.83L4 21.41c.39.39.9.59 1.41.59.51 0 1.02-.2 1.41-.59l7.78-7.78 2.81-2.81c.8-.78.8-2.07 0-2.86zM5.41 20L4 18.59l7.72-7.72 1.47 1.35L5.41 20z\"/>\n",
              "  </svg>\n",
              "      </button>\n",
              "      \n",
              "  <style>\n",
              "    .colab-df-container {\n",
              "      display:flex;\n",
              "      flex-wrap:wrap;\n",
              "      gap: 12px;\n",
              "    }\n",
              "\n",
              "    .colab-df-convert {\n",
              "      background-color: #E8F0FE;\n",
              "      border: none;\n",
              "      border-radius: 50%;\n",
              "      cursor: pointer;\n",
              "      display: none;\n",
              "      fill: #1967D2;\n",
              "      height: 32px;\n",
              "      padding: 0 0 0 0;\n",
              "      width: 32px;\n",
              "    }\n",
              "\n",
              "    .colab-df-convert:hover {\n",
              "      background-color: #E2EBFA;\n",
              "      box-shadow: 0px 1px 2px rgba(60, 64, 67, 0.3), 0px 1px 3px 1px rgba(60, 64, 67, 0.15);\n",
              "      fill: #174EA6;\n",
              "    }\n",
              "\n",
              "    [theme=dark] .colab-df-convert {\n",
              "      background-color: #3B4455;\n",
              "      fill: #D2E3FC;\n",
              "    }\n",
              "\n",
              "    [theme=dark] .colab-df-convert:hover {\n",
              "      background-color: #434B5C;\n",
              "      box-shadow: 0px 1px 3px 1px rgba(0, 0, 0, 0.15);\n",
              "      filter: drop-shadow(0px 1px 2px rgba(0, 0, 0, 0.3));\n",
              "      fill: #FFFFFF;\n",
              "    }\n",
              "  </style>\n",
              "\n",
              "      <script>\n",
              "        const buttonEl =\n",
              "          document.querySelector('#df-eee804d0-0941-4e50-bb29-f8ffc2aac9f7 button.colab-df-convert');\n",
              "        buttonEl.style.display =\n",
              "          google.colab.kernel.accessAllowed ? 'block' : 'none';\n",
              "\n",
              "        async function convertToInteractive(key) {\n",
              "          const element = document.querySelector('#df-eee804d0-0941-4e50-bb29-f8ffc2aac9f7');\n",
              "          const dataTable =\n",
              "            await google.colab.kernel.invokeFunction('convertToInteractive',\n",
              "                                                     [key], {});\n",
              "          if (!dataTable) return;\n",
              "\n",
              "          const docLinkHtml = 'Like what you see? Visit the ' +\n",
              "            '<a target=\"_blank\" href=https://colab.research.google.com/notebooks/data_table.ipynb>data table notebook</a>'\n",
              "            + ' to learn more about interactive tables.';\n",
              "          element.innerHTML = '';\n",
              "          dataTable['output_type'] = 'display_data';\n",
              "          await google.colab.output.renderOutput(dataTable, element);\n",
              "          const docLink = document.createElement('div');\n",
              "          docLink.innerHTML = docLinkHtml;\n",
              "          element.appendChild(docLink);\n",
              "        }\n",
              "      </script>\n",
              "    </div>\n",
              "  </div>\n",
              "  "
            ]
          },
          "metadata": {},
          "execution_count": 206
        }
      ]
    },
    {
      "cell_type": "code",
      "execution_count": 205,
      "metadata": {
        "id": "9ktDNZSlgsuz",
        "colab": {
          "base_uri": "https://localhost:8080/"
        },
        "outputId": "50f2c075-1a98-4d7d-f691-c818033134c9"
      },
      "outputs": [
        {
          "output_type": "stream",
          "name": "stdout",
          "text": [
            "(65000, 9) (21750, 9)\n"
          ]
        }
      ],
      "source": [
        "X_train_scale,X_test_scale=scaling(X_train,X_test)\n",
        "print(X_train_scale.shape,X_test_scale.shape)"
      ]
    },
    {
      "cell_type": "markdown",
      "metadata": {
        "id": "wYkGbq2HiMaD"
      },
      "source": [
        "# **5. Build the model**"
      ]
    },
    {
      "cell_type": "code",
      "execution_count": 148,
      "metadata": {
        "id": "Lya5EkQyiVtZ"
      },
      "outputs": [],
      "source": [
        "from sklearn.linear_model import LinearRegression   # for linear regression\n",
        "from sklearn.neighbors import KNeighborsRegressor   # for KNN regression\n",
        "from sklearn.tree import DecisionTreeRegressor      # for Decision tree regression\n",
        "from sklearn.ensemble import RandomForestRegressor  # for Random Forest regression\n",
        "import xgboost \n",
        "from xgboost import XGBRegressor                    # for XGBoost regression\n",
        "from sklearn.ensemble import VotingRegressor        # for voting regressoin"
      ]
    },
    {
      "cell_type": "code",
      "execution_count": 149,
      "metadata": {
        "id": "41Q0-a3uil5R"
      },
      "outputs": [],
      "source": [
        "def algorithm (model,X_train, X_test, y_train, y_test,k):    # definition of model building for all models\n",
        "  from sklearn.model_selection import cross_val_score\n",
        "  from sklearn.metrics import mean_squared_error,mean_absolute_error\n",
        "  mod=model\n",
        "  mod.fit(X_train.values, y_train)                                  # fit the training set into the model\n",
        "  y_predict_mod=mod.predict(X_test)                          # predict the result testing set\n",
        "  result= pd.DataFrame({'actual': y_test, 'predict': y_predict_mod}) # dataframe of actual and predicted\n",
        "  score=mod.score(X_test,y_test)                             # score of prediction\n",
        "  MAE=mean_absolute_error(y_test,y_predict_mod)              # squared error of prediction\n",
        "  print('for ' ,k ,' value ',\"Train Accuracy : \",round(mod.score(X_train,y_train),3),\"Val Accuracy :\" ,round(np.mean(cross_val_score_time(mod, X_train, y_train)),3))\n",
        "  return y_predict_mod,result,score,mod,MAE"
      ]
    },
    {
      "cell_type": "code",
      "source": [
        "def cross_val_score_time(mod,X_train,y_train):\n",
        "  from sklearn.model_selection import TimeSeriesSplit\n",
        "  from sklearn.metrics import r2_score\n",
        "  tscv = TimeSeriesSplit(n_splits=3)\n",
        "  scores=[]\n",
        "  for i in tscv.split(X_train):\n",
        "    X_tr,X_te=pd.DataFrame(list(map(X_train.__getitem__,i[0]))),pd.DataFrame(list(map(X_train.__getitem__,i[1])))\n",
        "    y_tr,y_te=pd.Series(list(map(y_train.__getitem__,i[0]))),pd.Series(list(map(y_train.__getitem__,i[1])))\n",
        "    X_tr=X_tr.values\n",
        "    X_te=X_te.values\n",
        "    y_tr=y_tr.values\n",
        "    y_te=y_te.values\n",
        "    #print(X_tr.shape)\n",
        "    #print(X_te.shape)\n",
        "    mod.fit(X_tr,y_tr)\n",
        "    pred=mod.predict(X_te)\n",
        "    sco=r2_score(y_te,pred)\n",
        "    scores.append(sco)\n",
        "  return scores"
      ],
      "metadata": {
        "id": "W-Wqxjg32eGy"
      },
      "execution_count": 150,
      "outputs": []
    },
    {
      "cell_type": "markdown",
      "metadata": {
        "id": "7RYgTKWTuAQP"
      },
      "source": [
        "# **i) Linear Regression algorithm**"
      ]
    },
    {
      "cell_type": "code",
      "execution_count": 151,
      "metadata": {
        "colab": {
          "base_uri": "https://localhost:8080/"
        },
        "id": "KHXWDC6SpSme",
        "outputId": "c2683152-5cca-4aa2-d5e7-d89255f35554"
      },
      "outputs": [
        {
          "output_type": "stream",
          "name": "stdout",
          "text": [
            "for  1  value  Train Accuracy :  0.114 Val Accuracy : -14.653\n",
            "   actual       predict\n",
            "0   23645  55923.062380\n",
            "1   63295  55823.575753\n",
            "2   39317  55724.089125\n",
            "3   23722  55624.602498\n",
            "4   19776  55525.115871\n",
            "MAE error of linear regeression is  19281.599929535256\n",
            " Score of LinearRegression algorithmn is  7.618898727373324\n"
          ]
        }
      ],
      "source": [
        "y_predict_lr,result_L,score_L,lin,MAE_L=algorithm(LinearRegression(),X_train_scale, X_test_scale, y_train, y_test,1)\n",
        "print(result_L.head())\n",
        "print('MAE error of linear regeression is ' ,MAE_L)\n",
        "print(' Score of LinearRegression algorithmn is ', score_L * 100)"
      ]
    },
    {
      "cell_type": "markdown",
      "metadata": {
        "id": "eIP8kJbtuL3A"
      },
      "source": [
        "# **ii) KNN regression model**"
      ]
    },
    {
      "cell_type": "code",
      "execution_count": 152,
      "metadata": {
        "colab": {
          "base_uri": "https://localhost:8080/"
        },
        "id": "L0j073hYxUbS",
        "outputId": "2308d81b-ef55-4ab2-d8eb-d495823bfb1d"
      },
      "outputs": [
        {
          "output_type": "stream",
          "name": "stdout",
          "text": [
            "for  1  value  Train Accuracy :  1.0 Val Accuracy : 0.941\n",
            "for  2  value  Train Accuracy :  0.584 Val Accuracy : 0.486\n",
            "for  3  value  Train Accuracy :  0.388 Val Accuracy : 0.327\n",
            "for  4  value  Train Accuracy :  0.261 Val Accuracy : 0.239\n",
            "for  5  value  Train Accuracy :  0.271 Val Accuracy : 0.211\n",
            "for  6  value  Train Accuracy :  0.331 Val Accuracy : 0.267\n",
            "for  7  value  Train Accuracy :  0.339 Val Accuracy : 0.278\n",
            "for  8  value  Train Accuracy :  0.301 Val Accuracy : 0.249\n",
            "for  9  value  Train Accuracy :  0.315 Val Accuracy : 0.255\n"
          ]
        }
      ],
      "source": [
        "for i in range (1,10):\n",
        "  algorithm(KNeighborsRegressor(i),X_train_scale, X_test_scale, y_train, y_test,i)"
      ]
    },
    {
      "cell_type": "code",
      "execution_count": 153,
      "metadata": {
        "colab": {
          "base_uri": "https://localhost:8080/"
        },
        "id": "2WjNBeSMoQ09",
        "outputId": "75b2ee8f-5335-4bfd-d47a-96b26eb989c4"
      },
      "outputs": [
        {
          "output_type": "stream",
          "name": "stdout",
          "text": [
            "for  1  value  Train Accuracy :  1.0 Val Accuracy : 0.941\n",
            "       actual  predict\n",
            "21745   56785  49553.0\n",
            "21746   21132  18621.0\n",
            "21747   49695  43335.0\n",
            "21748   27934  24987.0\n",
            "21749   62925  56095.0\n",
            "MAE error of knn regeression is  2727.0490114942527\n",
            " Score of KNN Regression algorithmn is  98.02764909649837\n"
          ]
        }
      ],
      "source": [
        "y_predict_knn,result_K,score_K,knn,MAE_K=algorithm(KNeighborsRegressor(1),X_train_scale, X_test_scale, y_train, y_test,1)\n",
        "print(result_K.tail())\n",
        "print('MAE error of knn regeression is ' , MAE_K)\n",
        "print(' Score of KNN Regression algorithmn is ', score_K * 100)"
      ]
    },
    {
      "cell_type": "markdown",
      "metadata": {
        "id": "kydWymsnvg7P"
      },
      "source": [
        "# **iii)Decision Tree Regression model**"
      ]
    },
    {
      "cell_type": "code",
      "execution_count": 154,
      "metadata": {
        "colab": {
          "base_uri": "https://localhost:8080/"
        },
        "id": "JwmetO2zyCtO",
        "outputId": "9078faa4-a9aa-436c-bdbb-b8a8b2d50601"
      },
      "outputs": [
        {
          "output_type": "stream",
          "name": "stdout",
          "text": [
            "for  1  value  Train Accuracy :  0.086 Val Accuracy : 0.034\n",
            "for  2  value  Train Accuracy :  0.196 Val Accuracy : 0.145\n",
            "for  3  value  Train Accuracy :  0.267 Val Accuracy : 0.212\n",
            "for  4  value  Train Accuracy :  0.326 Val Accuracy : 0.282\n",
            "for  5  value  Train Accuracy :  0.391 Val Accuracy : 0.351\n",
            "for  6  value  Train Accuracy :  0.463 Val Accuracy : 0.435\n",
            "for  7  value  Train Accuracy :  0.541 Val Accuracy : 0.507\n",
            "for  8  value  Train Accuracy :  0.611 Val Accuracy : 0.573\n",
            "for  9  value  Train Accuracy :  0.674 Val Accuracy : 0.638\n",
            "for  10  value  Train Accuracy :  0.727 Val Accuracy : 0.68\n",
            "for  11  value  Train Accuracy :  0.765 Val Accuracy : 0.711\n",
            "for  12  value  Train Accuracy :  0.794 Val Accuracy : 0.752\n",
            "for  13  value  Train Accuracy :  0.829 Val Accuracy : 0.78\n",
            "for  14  value  Train Accuracy :  0.853 Val Accuracy : 0.829\n",
            "for  15  value  Train Accuracy :  0.899 Val Accuracy : 0.879\n",
            "for  16  value  Train Accuracy :  0.947 Val Accuracy : 0.902\n",
            "for  17  value  Train Accuracy :  0.971 Val Accuracy : 0.914\n",
            "for  18  value  Train Accuracy :  0.981 Val Accuracy : 0.927\n",
            "for  19  value  Train Accuracy :  0.991 Val Accuracy : 0.935\n",
            "for  20  value  Train Accuracy :  0.995 Val Accuracy : 0.94\n",
            "for  21  value  Train Accuracy :  0.998 Val Accuracy : 0.943\n",
            "for  22  value  Train Accuracy :  0.999 Val Accuracy : 0.944\n",
            "for  23  value  Train Accuracy :  0.999 Val Accuracy : 0.945\n",
            "for  24  value  Train Accuracy :  1.0 Val Accuracy : 0.944\n"
          ]
        }
      ],
      "source": [
        "for i in range(1,25):\n",
        "  algorithm(DecisionTreeRegressor(max_depth=i,random_state=97),X_train, X_test, y_train, y_test,i)"
      ]
    },
    {
      "cell_type": "code",
      "execution_count": 155,
      "metadata": {
        "colab": {
          "base_uri": "https://localhost:8080/"
        },
        "id": "84L0D6Y2c7mf",
        "outputId": "f8aa01de-97f2-4f0d-90b4-5d4ab88bc2a2"
      },
      "outputs": [
        {
          "output_type": "stream",
          "name": "stdout",
          "text": [
            "for  24  value  Train Accuracy :  1.0 Val Accuracy : 0.944\n",
            "   actual  predict\n",
            "0   23645  23733.0\n",
            "1   63295  63471.0\n",
            "2   39317  39405.0\n",
            "3   23722  23810.0\n",
            "4   19776  19836.0\n",
            "MAE error of Decision Tree regeression is  2601.1654774655003\n",
            " Score of Decision Tree Regression algorithmn is  98.12067947126411\n"
          ]
        }
      ],
      "source": [
        "y_predict_dt,result_D,score_D,dt,MAE_D=algorithm(DecisionTreeRegressor(max_depth=24,random_state=97),X_train_scale, X_test_scale, y_train, y_test,24)\n",
        "print(result_D.head())\n",
        "print('MAE error of Decision Tree regeression is ' , MAE_D)\n",
        "print(' Score of Decision Tree Regression algorithmn is ', score_D * 100)"
      ]
    },
    {
      "cell_type": "markdown",
      "metadata": {
        "id": "eG4ro4KP2hna"
      },
      "source": [
        "# **iv) Random Forest Regression model**"
      ]
    },
    {
      "cell_type": "code",
      "execution_count": 156,
      "metadata": {
        "colab": {
          "base_uri": "https://localhost:8080/"
        },
        "id": "WASqB1ln4LoD",
        "outputId": "72635718-666c-4f88-8c5f-19cb1b65e6c6"
      },
      "outputs": [
        {
          "output_type": "stream",
          "name": "stdout",
          "text": [
            "for  10  value  Train Accuracy :  0.339 Val Accuracy : 0.267\n",
            "for  20  value  Train Accuracy :  0.339 Val Accuracy : 0.272\n",
            "for  30  value  Train Accuracy :  0.339 Val Accuracy : 0.271\n",
            "for  40  value  Train Accuracy :  0.336 Val Accuracy : 0.268\n",
            "for  50  value  Train Accuracy :  0.338 Val Accuracy : 0.272\n",
            "for  60  value  Train Accuracy :  0.336 Val Accuracy : 0.27\n",
            "for  70  value  Train Accuracy :  0.338 Val Accuracy : 0.268\n",
            "for  80  value  Train Accuracy :  0.337 Val Accuracy : 0.267\n",
            "for  90  value  Train Accuracy :  0.338 Val Accuracy : 0.266\n",
            "for  100  value  Train Accuracy :  0.337 Val Accuracy : 0.268\n"
          ]
        }
      ],
      "source": [
        "for i in [10,20,30,40,50,60,70,80,90,100]:\n",
        "  algorithm(RandomForestRegressor(max_depth=5,n_estimators=i,random_state=97,max_features='sqrt'),X_train_scale, X_test_scale, y_train, y_test,i)"
      ]
    },
    {
      "cell_type": "code",
      "execution_count": 157,
      "metadata": {
        "colab": {
          "base_uri": "https://localhost:8080/"
        },
        "id": "E9Sk9q7C2rK4",
        "outputId": "9a2502a9-5245-436d-f3d2-504e64bf1723"
      },
      "outputs": [
        {
          "output_type": "stream",
          "name": "stdout",
          "text": [
            "for  40  value  Train Accuracy :  0.336 Val Accuracy : 0.268\n",
            "       actual       predict\n",
            "0       23645  36137.633977\n",
            "1       63295  39908.133336\n",
            "2       39317  39908.133336\n",
            "3       23722  28679.052092\n",
            "4       19776  28119.213660\n",
            "...       ...           ...\n",
            "21745   56785  42295.411299\n",
            "21746   21132  42295.411299\n",
            "21747   49695  42295.411299\n",
            "21748   27934  42295.411299\n",
            "21749   62925  42295.411299\n",
            "\n",
            "[21750 rows x 2 columns]\n",
            "MAE error of Random forest regeression is  16552.531167434907\n",
            " Score of random forest regresssion is  25.493084885455985\n"
          ]
        }
      ],
      "source": [
        "y_predict_rfr,result_R,score_R,rfr,MAE_R=algorithm(RandomForestRegressor(max_depth=5,n_estimators=40,random_state=97,max_features='sqrt'),X_train_scale, X_test_scale, y_train, y_test,40)\n",
        "print(result_R)\n",
        "print('MAE error of Random forest regeression is ' , MAE_R)\n",
        "print(' Score of random forest regresssion is ', score_R * 100)"
      ]
    },
    {
      "cell_type": "markdown",
      "metadata": {
        "id": "vu6vZvQF5Kgd"
      },
      "source": [
        "# **v)Xgboost Regression model**"
      ]
    },
    {
      "cell_type": "code",
      "execution_count": 158,
      "metadata": {
        "colab": {
          "base_uri": "https://localhost:8080/"
        },
        "id": "qsFqpuSl6HlV",
        "outputId": "98461a7b-6616-424b-d0c9-528d658994e1"
      },
      "outputs": [
        {
          "output_type": "stream",
          "name": "stdout",
          "text": [
            "for  0.1  value  Train Accuracy :  0.96 Val Accuracy : 0.894\n",
            "for  0.2  value  Train Accuracy :  0.983 Val Accuracy : 0.933\n",
            "for  0.30000000000000004  value  Train Accuracy :  0.991 Val Accuracy : 0.939\n",
            "for  0.4  value  Train Accuracy :  0.993 Val Accuracy : 0.944\n",
            "for  0.5  value  Train Accuracy :  0.994 Val Accuracy : 0.946\n",
            "for  0.6  value  Train Accuracy :  0.995 Val Accuracy : 0.945\n",
            "for  0.7000000000000001  value  Train Accuracy :  0.996 Val Accuracy : 0.944\n",
            "for  0.8  value  Train Accuracy :  0.996 Val Accuracy : 0.945\n",
            "for  0.9  value  Train Accuracy :  0.996 Val Accuracy : 0.942\n",
            "for  1.0  value  Train Accuracy :  0.997 Val Accuracy : 0.938\n"
          ]
        }
      ],
      "source": [
        "for i in np.arange(0.1,1.1,0.1):\n",
        "  algorithm(XGBRegressor(learning_rate=i,n_estimators= 200,random_state=97,objective='reg:squarederror'),X_train_scale, X_test_scale, y_train, y_test,i)"
      ]
    },
    {
      "cell_type": "code",
      "source": [
        "for i in np.arange(0.45,0.55,0.01):\n",
        "  algorithm(XGBRegressor(learning_rate=i,n_estimators= 500,random_state=97,objective='reg:squarederror'),X_train_scale, X_test_scale, y_train, y_test,i)"
      ],
      "metadata": {
        "id": "R0Y8-kolkXo9",
        "colab": {
          "base_uri": "https://localhost:8080/"
        },
        "outputId": "47f878f0-b4cc-413c-8cd1-07eb7d75d5c4"
      },
      "execution_count": 159,
      "outputs": [
        {
          "output_type": "stream",
          "name": "stdout",
          "text": [
            "for  0.45  value  Train Accuracy :  0.998 Val Accuracy : 0.951\n",
            "for  0.46  value  Train Accuracy :  0.999 Val Accuracy : 0.951\n",
            "for  0.47000000000000003  value  Train Accuracy :  0.998 Val Accuracy : 0.952\n",
            "for  0.48000000000000004  value  Train Accuracy :  0.998 Val Accuracy : 0.951\n",
            "for  0.49000000000000005  value  Train Accuracy :  0.999 Val Accuracy : 0.951\n",
            "for  0.5  value  Train Accuracy :  0.998 Val Accuracy : 0.951\n",
            "for  0.51  value  Train Accuracy :  0.998 Val Accuracy : 0.951\n",
            "for  0.52  value  Train Accuracy :  0.999 Val Accuracy : 0.95\n",
            "for  0.53  value  Train Accuracy :  0.999 Val Accuracy : 0.949\n",
            "for  0.54  value  Train Accuracy :  0.999 Val Accuracy : 0.948\n",
            "for  0.55  value  Train Accuracy :  0.999 Val Accuracy : 0.948\n"
          ]
        }
      ]
    },
    {
      "cell_type": "code",
      "execution_count": 160,
      "metadata": {
        "colab": {
          "base_uri": "https://localhost:8080/"
        },
        "id": "9Jvg4OtW5Yj8",
        "outputId": "ee1a74eb-6aba-46c5-df87-e4c22f28c90c"
      },
      "outputs": [
        {
          "output_type": "stream",
          "name": "stdout",
          "text": [
            "for  0.5  value  Train Accuracy :  0.994 Val Accuracy : 0.946\n",
            "       actual       predict\n",
            "0       23645  24266.744141\n",
            "1       63295  63651.898438\n",
            "2       39317  39776.109375\n",
            "3       23722  25507.609375\n",
            "4       19776  20838.941406\n",
            "...       ...           ...\n",
            "21745   56785  56727.714844\n",
            "21746   21132  20771.978516\n",
            "21747   49695  49757.761719\n",
            "21748   27934  28144.626953\n",
            "21749   62925  62908.332031\n",
            "\n",
            "[21750 rows x 2 columns]\n",
            "MAE error of XGBoost regeression is  2500.459742726293\n",
            " Score of Xgboost regression is  98.07041234757558\n"
          ]
        }
      ],
      "source": [
        "y_predict_Xgb,result_X,score_X,Xgb,MAE_X=algorithm(XGBRegressor(learning_rate=0.5,n_estimators= 200,random_state=97,objective='reg:squarederror'),X_train_scale, X_test_scale, y_train, y_test,0.5)\n",
        "print(result_X)\n",
        "print('MAE error of XGBoost regeression is ' , MAE_X)\n",
        "print(' Score of Xgboost regression is ', score_X * 100)"
      ]
    },
    {
      "cell_type": "markdown",
      "metadata": {
        "id": "nrDDiyXQ7QhK"
      },
      "source": [
        "# **vi)Voting Regressor algorithm**"
      ]
    },
    {
      "cell_type": "code",
      "execution_count": 161,
      "metadata": {
        "colab": {
          "base_uri": "https://localhost:8080/"
        },
        "id": "x-PDtmTJ7aba",
        "outputId": "86b72719-1acd-43ef-eb64-1011c6ce66ff"
      },
      "outputs": [
        {
          "output_type": "stream",
          "name": "stdout",
          "text": [
            "for  4 models  value  Train Accuracy :  0.999 Val Accuracy : 0.949\n",
            "       actual       predict\n",
            "0       23645  23910.914714\n",
            "1       63295  63531.299479\n",
            "2       39317  39528.703125\n",
            "3       23722  24375.869792\n",
            "4       19776  20170.313802\n",
            "...       ...           ...\n",
            "21745   56785  52000.571615\n",
            "21746   21132  19395.992839\n",
            "21747   49695  45530.587240\n",
            "21748   27934  26109.875651\n",
            "21749   62925  58442.444010\n",
            "\n",
            "[21750 rows x 2 columns]\n",
            "MAE error of voting regeression is  1725.5632966329317\n",
            " Score of Voting regression algorithmn is  99.09825234175315\n"
          ]
        }
      ],
      "source": [
        "y_predict_vot,result_V,score_V,vot,MAE_V=algorithm(VotingRegressor(estimators= [('KNN',knn),('DT',dt),('XGB',Xgb)]),X_train_scale, X_test_scale, y_train, y_test,'4 models')\n",
        "print(result_V)\n",
        "print('MAE error of voting regeression is ' , MAE_V)\n",
        "print(' Score of Voting regression algorithmn is ', score_V * 100)"
      ]
    },
    {
      "cell_type": "markdown",
      "metadata": {
        "id": "itkrt5aIk_Xn"
      },
      "source": [
        "# **6.  Evaluation metrics**"
      ]
    },
    {
      "cell_type": "code",
      "execution_count": 162,
      "metadata": {
        "id": "E8rUmXjQUDsc"
      },
      "outputs": [],
      "source": [
        "from sklearn.metrics import r2_score          # R2 score  is suitable for regression problem for evaluavating the model"
      ]
    },
    {
      "cell_type": "code",
      "execution_count": 163,
      "metadata": {
        "id": "6dVxj1jFlNZP"
      },
      "outputs": [],
      "source": [
        "def evaluate(mod,X_test,y_test,predict,result):\n",
        "  R2_score=r2_score(y_test,predict)\n",
        "  plt.figure(figsize=(20,10))\n",
        "  sns.jointplot(x=y_test,y=predict,data=result,kind='reg')   # plottig the graph between actual and predicted\n",
        "  plt.show()\n",
        "  print('R2 score of ',mod,' : ', R2_score) "
      ]
    },
    {
      "cell_type": "markdown",
      "metadata": {
        "id": "5sPDxGBZlh1c"
      },
      "source": [
        "# **i) Evaluation metric for logistic regression algorithm**"
      ]
    },
    {
      "cell_type": "code",
      "execution_count": 164,
      "metadata": {
        "colab": {
          "base_uri": "https://localhost:8080/",
          "height": 476
        },
        "id": "0yMw7xEGtgft",
        "outputId": "46bb5434-cf03-47ed-a348-e0099e638d55"
      },
      "outputs": [
        {
          "output_type": "display_data",
          "data": {
            "text/plain": [
              "<Figure size 1440x720 with 0 Axes>"
            ]
          },
          "metadata": {}
        },
        {
          "output_type": "display_data",
          "data": {
            "text/plain": [
              "<Figure size 432x432 with 3 Axes>"
            ],
            "image/png": "[encoded data removed]"
          },
          "metadata": {
            "needs_background": "light"
          }
        },
        {
          "output_type": "stream",
          "name": "stdout",
          "text": [
            "R2 score of  LinearRegression()  :  0.07618898727373324\n"
          ]
        }
      ],
      "source": [
        "evaluate(lin,X_test_scale,y_test,y_predict_lr,result_L)"
      ]
    },
    {
      "cell_type": "markdown",
      "metadata": {
        "id": "IX5jdH8i1GfO"
      },
      "source": [
        "# **ii) Evaluation metric for KNN classifier algorithm**"
      ]
    },
    {
      "cell_type": "code",
      "execution_count": 165,
      "metadata": {
        "colab": {
          "base_uri": "https://localhost:8080/",
          "height": 476
        },
        "id": "uPAPe-m415GT",
        "outputId": "11fa90f1-4752-4c96-d218-d02800b62fd1"
      },
      "outputs": [
        {
          "output_type": "display_data",
          "data": {
            "text/plain": [
              "<Figure size 1440x720 with 0 Axes>"
            ]
          },
          "metadata": {}
        },
        {
          "output_type": "display_data",
          "data": {
            "text/plain": [
              "<Figure size 432x432 with 3 Axes>"
            ],
            "image/png": "[encoded data removed]"
          },
          "metadata": {
            "needs_background": "light"
          }
        },
        {
          "output_type": "stream",
          "name": "stdout",
          "text": [
            "R2 score of  KNeighborsRegressor(n_neighbors=1)  :  0.9802764909649836\n"
          ]
        }
      ],
      "source": [
        "evaluate(knn,X_test_scale,y_test,y_predict_knn,result_K)"
      ]
    },
    {
      "cell_type": "markdown",
      "metadata": {
        "id": "_Izvuej72GNC"
      },
      "source": [
        "# **iii) Evaluation metric for Decision Tree classifier algorithm**"
      ]
    },
    {
      "cell_type": "code",
      "execution_count": 166,
      "metadata": {
        "colab": {
          "base_uri": "https://localhost:8080/",
          "height": 476
        },
        "id": "uihAvkYA2V-D",
        "outputId": "5a60ead7-c4db-4baf-9c62-db6851403a7e"
      },
      "outputs": [
        {
          "output_type": "display_data",
          "data": {
            "text/plain": [
              "<Figure size 1440x720 with 0 Axes>"
            ]
          },
          "metadata": {}
        },
        {
          "output_type": "display_data",
          "data": {
            "text/plain": [
              "<Figure size 432x432 with 3 Axes>"
            ],
            "image/png": "[encoded data removed]"
          },
          "metadata": {
            "needs_background": "light"
          }
        },
        {
          "output_type": "stream",
          "name": "stdout",
          "text": [
            "R2 score of  DecisionTreeRegressor(max_depth=24, random_state=97)  :  0.981206794712641\n"
          ]
        }
      ],
      "source": [
        "evaluate(dt,X_test_scale,y_test,y_predict_dt,result_D)"
      ]
    },
    {
      "cell_type": "code",
      "execution_count": 167,
      "metadata": {
        "id": "wjZC-pVKAmFR"
      },
      "outputs": [],
      "source": [
        "from sklearn import tree"
      ]
    },
    {
      "cell_type": "code",
      "execution_count": 168,
      "metadata": {
        "id": "i6PqHWoOCrv9"
      },
      "outputs": [],
      "source": [
        "#fig, axes = plt.subplots(nrows = 1,ncols = 1,figsize = (30,30), dpi=400)\n",
        "#tree.plot_tree(dt,filled = True);\n",
        "#fig.savefig('imagename2.png')"
      ]
    },
    {
      "cell_type": "markdown",
      "metadata": {
        "id": "NnJi8MLg8tv3"
      },
      "source": [
        "# **iv)Evaluation metric for RandomForest classifier**"
      ]
    },
    {
      "cell_type": "code",
      "execution_count": 169,
      "metadata": {
        "colab": {
          "base_uri": "https://localhost:8080/",
          "height": 493
        },
        "id": "TP5G7XYw8653",
        "outputId": "5ad01ba2-e417-4ed9-92a9-ac3b0a7808a5"
      },
      "outputs": [
        {
          "output_type": "display_data",
          "data": {
            "text/plain": [
              "<Figure size 1440x720 with 0 Axes>"
            ]
          },
          "metadata": {}
        },
        {
          "output_type": "display_data",
          "data": {
            "text/plain": [
              "<Figure size 432x432 with 3 Axes>"
            ],
            "image/png": "[encoded data removed]"
          },
          "metadata": {
            "needs_background": "light"
          }
        },
        {
          "output_type": "stream",
          "name": "stdout",
          "text": [
            "R2 score of  RandomForestRegressor(max_depth=5, max_features='sqrt', n_estimators=40,\n",
            "                      random_state=97)  :  0.25493084885455985\n"
          ]
        }
      ],
      "source": [
        "evaluate(rfr,X_test_scale,y_test,y_predict_rfr,result_R)"
      ]
    },
    {
      "cell_type": "markdown",
      "metadata": {
        "id": "2hYCBeWv9mCK"
      },
      "source": [
        "# **v)Evaluation metric for Xgboost classifier**"
      ]
    },
    {
      "cell_type": "code",
      "execution_count": 170,
      "metadata": {
        "colab": {
          "base_uri": "https://localhost:8080/",
          "height": 493
        },
        "id": "RgMpcHBg93lW",
        "outputId": "c20353dd-5c73-4734-c2fb-92641ba67a49"
      },
      "outputs": [
        {
          "output_type": "display_data",
          "data": {
            "text/plain": [
              "<Figure size 1440x720 with 0 Axes>"
            ]
          },
          "metadata": {}
        },
        {
          "output_type": "display_data",
          "data": {
            "text/plain": [
              "<Figure size 432x432 with 3 Axes>"
            ],
            "image/png": "[encoded data removed]"
          },
          "metadata": {
            "needs_background": "light"
          }
        },
        {
          "output_type": "stream",
          "name": "stdout",
          "text": [
            "R2 score of  XGBRegressor(learning_rate=0.5, n_estimators=200, objective='reg:squarederror',\n",
            "             random_state=97)  :  0.9807041234757559\n"
          ]
        }
      ],
      "source": [
        "evaluate(Xgb,X_test_scale,y_test,y_predict_Xgb,result_X)"
      ]
    },
    {
      "cell_type": "markdown",
      "metadata": {
        "id": "_I7ZdK5u-YL2"
      },
      "source": [
        "# **vi) evaluation metric for Voting classifier**"
      ]
    },
    {
      "cell_type": "code",
      "execution_count": 171,
      "metadata": {
        "id": "KBUvIRPW-g7-",
        "colab": {
          "base_uri": "https://localhost:8080/",
          "height": 597
        },
        "outputId": "83f38760-b85e-422f-e176-3cd45ac7aa5f"
      },
      "outputs": [
        {
          "output_type": "display_data",
          "data": {
            "text/plain": [
              "<Figure size 1440x720 with 0 Axes>"
            ]
          },
          "metadata": {}
        },
        {
          "output_type": "display_data",
          "data": {
            "text/plain": [
              "<Figure size 432x432 with 3 Axes>"
            ],
            "image/png": "[encoded data removed]"
          },
          "metadata": {
            "needs_background": "light"
          }
        },
        {
          "output_type": "stream",
          "name": "stdout",
          "text": [
            "R2 score of  VotingRegressor(estimators=[('KNN', KNeighborsRegressor(n_neighbors=1)),\n",
            "                            ('DT',\n",
            "                             DecisionTreeRegressor(max_depth=24,\n",
            "                                                   random_state=97)),\n",
            "                            ('XGB',\n",
            "                             XGBRegressor(learning_rate=0.5, n_estimators=200,\n",
            "                                          objective='reg:squarederror',\n",
            "                                          random_state=97))])  :  0.9909825234175316\n"
          ]
        }
      ],
      "source": [
        "evaluate(vot,X_test_scale,y_test,y_predict_vot,result_V)\n"
      ]
    },
    {
      "cell_type": "markdown",
      "source": [
        "# **SCORING COMPARISON**"
      ],
      "metadata": {
        "id": "bXvIJwknlpoW"
      }
    },
    {
      "cell_type": "code",
      "source": [
        "score=[score_L,score_K,score_D,score_R,score_X,score_V]\n",
        "model=['Linear regression','KNN regression','Decision tree regression','RandomForest regression','XGboost regression','voting regression']\n",
        "RESULT= pd.DataFrame({'model': model, 'score': score})\n",
        "RESULT"
      ],
      "metadata": {
        "colab": {
          "base_uri": "https://localhost:8080/",
          "height": 238
        },
        "id": "MSpKSIhglx8X",
        "outputId": "5c8a16a3-4d8d-4a7b-c610-22ea2e7d613b"
      },
      "execution_count": 172,
      "outputs": [
        {
          "output_type": "execute_result",
          "data": {
            "text/plain": [
              "                      model     score\n",
              "0         Linear regression  0.076189\n",
              "1            KNN regression  0.980276\n",
              "2  Decision tree regression  0.981207\n",
              "3   RandomForest regression  0.254931\n",
              "4        XGboost regression  0.980704\n",
              "5         voting regression  0.990983"
            ],
            "text/html": [
              "\n",
              "  <div id=\"df-49d1df5c-b149-4096-8594-110ba9751c70\">\n",
              "    <div class=\"colab-df-container\">\n",
              "      <div>\n",
              "<style scoped>\n",
              "    .dataframe tbody tr th:only-of-type {\n",
              "        vertical-align: middle;\n",
              "    }\n",
              "\n",
              "    .dataframe tbody tr th {\n",
              "        vertical-align: top;\n",
              "    }\n",
              "\n",
              "    .dataframe thead th {\n",
              "        text-align: right;\n",
              "    }\n",
              "</style>\n",
              "<table border=\"1\" class=\"dataframe\">\n",
              "  <thead>\n",
              "    <tr style=\"text-align: right;\">\n",
              "      <th></th>\n",
              "      <th>model</th>\n",
              "      <th>score</th>\n",
              "    </tr>\n",
              "  </thead>\n",
              "  <tbody>\n",
              "    <tr>\n",
              "      <th>0</th>\n",
              "      <td>Linear regression</td>\n",
              "      <td>0.076189</td>\n",
              "    </tr>\n",
              "    <tr>\n",
              "      <th>1</th>\n",
              "      <td>KNN regression</td>\n",
              "      <td>0.980276</td>\n",
              "    </tr>\n",
              "    <tr>\n",
              "      <th>2</th>\n",
              "      <td>Decision tree regression</td>\n",
              "      <td>0.981207</td>\n",
              "    </tr>\n",
              "    <tr>\n",
              "      <th>3</th>\n",
              "      <td>RandomForest regression</td>\n",
              "      <td>0.254931</td>\n",
              "    </tr>\n",
              "    <tr>\n",
              "      <th>4</th>\n",
              "      <td>XGboost regression</td>\n",
              "      <td>0.980704</td>\n",
              "    </tr>\n",
              "    <tr>\n",
              "      <th>5</th>\n",
              "      <td>voting regression</td>\n",
              "      <td>0.990983</td>\n",
              "    </tr>\n",
              "  </tbody>\n",
              "</table>\n",
              "</div>\n",
              "      <button class=\"colab-df-convert\" onclick=\"convertToInteractive('df-49d1df5c-b149-4096-8594-110ba9751c70')\"\n",
              "              title=\"Convert this dataframe to an interactive table.\"\n",
              "              style=\"display:none;\">\n",
              "        \n",
              "  <svg xmlns=\"http://www.w3.org/2000/svg\" height=\"24px\"viewBox=\"0 0 24 24\"\n",
              "       width=\"24px\">\n",
              "    <path d=\"M0 0h24v24H0V0z\" fill=\"none\"/>\n",
              "    <path d=\"M18.56 5.44l.94 2.06.94-2.06 2.06-.94-2.06-.94-.94-2.06-.94 2.06-2.06.94zm-11 1L8.5 8.5l.94-2.06 2.06-.94-2.06-.94L8.5 2.5l-.94 2.06-2.06.94zm10 10l.94 2.06.94-2.06 2.06-.94-2.06-.94-.94-2.06-.94 2.06-2.06.94z\"/><path d=\"M17.41 7.96l-1.37-1.37c-.4-.4-.92-.59-1.43-.59-.52 0-1.04.2-1.43.59L10.3 9.45l-7.72 7.72c-.78.78-.78 2.05 0 2.83L4 21.41c.39.39.9.59 1.41.59.51 0 1.02-.2 1.41-.59l7.78-7.78 2.81-2.81c.8-.78.8-2.07 0-2.86zM5.41 20L4 18.59l7.72-7.72 1.47 1.35L5.41 20z\"/>\n",
              "  </svg>\n",
              "      </button>\n",
              "      \n",
              "  <style>\n",
              "    .colab-df-container {\n",
              "      display:flex;\n",
              "      flex-wrap:wrap;\n",
              "      gap: 12px;\n",
              "    }\n",
              "\n",
              "    .colab-df-convert {\n",
              "      background-color: #E8F0FE;\n",
              "      border: none;\n",
              "      border-radius: 50%;\n",
              "      cursor: pointer;\n",
              "      display: none;\n",
              "      fill: #1967D2;\n",
              "      height: 32px;\n",
              "      padding: 0 0 0 0;\n",
              "      width: 32px;\n",
              "    }\n",
              "\n",
              "    .colab-df-convert:hover {\n",
              "      background-color: #E2EBFA;\n",
              "      box-shadow: 0px 1px 2px rgba(60, 64, 67, 0.3), 0px 1px 3px 1px rgba(60, 64, 67, 0.15);\n",
              "      fill: #174EA6;\n",
              "    }\n",
              "\n",
              "    [theme=dark] .colab-df-convert {\n",
              "      background-color: #3B4455;\n",
              "      fill: #D2E3FC;\n",
              "    }\n",
              "\n",
              "    [theme=dark] .colab-df-convert:hover {\n",
              "      background-color: #434B5C;\n",
              "      box-shadow: 0px 1px 3px 1px rgba(0, 0, 0, 0.15);\n",
              "      filter: drop-shadow(0px 1px 2px rgba(0, 0, 0, 0.3));\n",
              "      fill: #FFFFFF;\n",
              "    }\n",
              "  </style>\n",
              "\n",
              "      <script>\n",
              "        const buttonEl =\n",
              "          document.querySelector('#df-49d1df5c-b149-4096-8594-110ba9751c70 button.colab-df-convert');\n",
              "        buttonEl.style.display =\n",
              "          google.colab.kernel.accessAllowed ? 'block' : 'none';\n",
              "\n",
              "        async function convertToInteractive(key) {\n",
              "          const element = document.querySelector('#df-49d1df5c-b149-4096-8594-110ba9751c70');\n",
              "          const dataTable =\n",
              "            await google.colab.kernel.invokeFunction('convertToInteractive',\n",
              "                                                     [key], {});\n",
              "          if (!dataTable) return;\n",
              "\n",
              "          const docLinkHtml = 'Like what you see? Visit the ' +\n",
              "            '<a target=\"_blank\" href=https://colab.research.google.com/notebooks/data_table.ipynb>data table notebook</a>'\n",
              "            + ' to learn more about interactive tables.';\n",
              "          element.innerHTML = '';\n",
              "          dataTable['output_type'] = 'display_data';\n",
              "          await google.colab.output.renderOutput(dataTable, element);\n",
              "          const docLink = document.createElement('div');\n",
              "          docLink.innerHTML = docLinkHtml;\n",
              "          element.appendChild(docLink);\n",
              "        }\n",
              "      </script>\n",
              "    </div>\n",
              "  </div>\n",
              "  "
            ]
          },
          "metadata": {},
          "execution_count": 172
        }
      ]
    },
    {
      "cell_type": "markdown",
      "source": [
        "# **Model Deploying**"
      ],
      "metadata": {
        "id": "wy6y9-aXsCnR"
      }
    },
    {
      "cell_type": "code",
      "source": [
        "y_predict_Xgb,result_X,score_X,Xgb,MAE_X=algorithm(XGBRegressor(learning_rate=0.47,n_estimators= 500,random_state=97,objective='reg:squarederror'),X_train, X_test, y_train, y_test,0.47)"
      ],
      "metadata": {
        "colab": {
          "base_uri": "https://localhost:8080/"
        },
        "id": "PFNH8WaoPz-F",
        "outputId": "e180d653-c97c-4368-b1ba-d6c850596336"
      },
      "execution_count": 175,
      "outputs": [
        {
          "output_type": "stream",
          "name": "stdout",
          "text": [
            "for  0.47  value  Train Accuracy :  0.998 Val Accuracy : 0.952\n"
          ]
        }
      ]
    },
    {
      "cell_type": "code",
      "source": [
        "pickle.dump(Xgb,open('best_Xgb_model.pkl','wb'))"
      ],
      "metadata": {
        "id": "sxuXCFsdQAzz"
      },
      "execution_count": 179,
      "outputs": []
    },
    {
      "cell_type": "code",
      "source": [
        "model=pickle.load(open('best_Xgb_model.pkl','rb'))\n",
        "model.predict([[1,92,24,206,29,6,7,3,2016]])"
      ],
      "metadata": {
        "colab": {
          "base_uri": "https://localhost:8080/"
        },
        "id": "XWGCQVyGRrjU",
        "outputId": "e93c22eb-2674-4d82-867c-ed51af000576"
      },
      "execution_count": 216,
      "outputs": [
        {
          "output_type": "execute_result",
          "data": {
            "text/plain": [
              "array([21588.521], dtype=float32)"
            ]
          },
          "metadata": {},
          "execution_count": 216
        }
      ]
    },
    {
      "cell_type": "code",
      "source": [
        "!pip install streamlit\n",
        "!pip install writefile"
      ],
      "metadata": {
        "colab": {
          "base_uri": "https://localhost:8080/"
        },
        "id": "CcU6_IBEtMvB",
        "outputId": "b6959e28-058f-45a8-a313-fd33a1067fb1"
      },
      "execution_count": 181,
      "outputs": [
        {
          "output_type": "stream",
          "name": "stdout",
          "text": [
            "Looking in indexes: https://pypi.org/simple, https://us-python.pkg.dev/colab-wheels/public/simple/\n",
            "Requirement already satisfied: streamlit in /usr/local/lib/python3.8/dist-packages (1.19.0)\n",
            "Requirement already satisfied: validators>=0.2 in /usr/local/lib/python3.8/dist-packages (from streamlit) (0.20.0)\n",
            "Requirement already satisfied: protobuf<4,>=3.12 in /usr/local/lib/python3.8/dist-packages (from streamlit) (3.19.6)\n",
            "Requirement already satisfied: tornado>=6.0.3 in /usr/local/lib/python3.8/dist-packages (from streamlit) (6.2)\n",
            "Requirement already satisfied: gitpython!=3.1.19 in /usr/local/lib/python3.8/dist-packages (from streamlit) (3.1.31)\n",
            "Requirement already satisfied: pydeck>=0.1.dev5 in /usr/local/lib/python3.8/dist-packages (from streamlit) (0.8.0)\n",
            "Requirement already satisfied: requests>=2.4 in /usr/local/lib/python3.8/dist-packages (from streamlit) (2.25.1)\n",
            "Requirement already satisfied: toml in /usr/local/lib/python3.8/dist-packages (from streamlit) (0.10.2)\n",
            "Requirement already satisfied: pandas>=0.25 in /usr/local/lib/python3.8/dist-packages (from streamlit) (1.3.5)\n",
            "Requirement already satisfied: pillow>=6.2.0 in /usr/local/lib/python3.8/dist-packages (from streamlit) (8.4.0)\n",
            "Requirement already satisfied: numpy in /usr/local/lib/python3.8/dist-packages (from streamlit) (1.22.4)\n",
            "Requirement already satisfied: altair>=3.2.0 in /usr/local/lib/python3.8/dist-packages (from streamlit) (4.2.2)\n",
            "Requirement already satisfied: tzlocal>=1.1 in /usr/local/lib/python3.8/dist-packages (from streamlit) (1.5.1)\n",
            "Requirement already satisfied: pyarrow>=4.0 in /usr/local/lib/python3.8/dist-packages (from streamlit) (9.0.0)\n",
            "Requirement already satisfied: cachetools>=4.0 in /usr/local/lib/python3.8/dist-packages (from streamlit) (5.3.0)\n",
            "Requirement already satisfied: python-dateutil in /usr/local/lib/python3.8/dist-packages (from streamlit) (2.8.2)\n",
            "Requirement already satisfied: blinker>=1.0.0 in /usr/local/lib/python3.8/dist-packages (from streamlit) (1.5)\n",
            "Requirement already satisfied: watchdog in /usr/local/lib/python3.8/dist-packages (from streamlit) (2.3.1)\n",
            "Requirement already satisfied: click>=7.0 in /usr/local/lib/python3.8/dist-packages (from streamlit) (7.1.2)\n",
            "Requirement already satisfied: semver in /usr/local/lib/python3.8/dist-packages (from streamlit) (2.13.0)\n",
            "Requirement already satisfied: rich>=10.11.0 in /usr/local/lib/python3.8/dist-packages (from streamlit) (13.3.1)\n",
            "Requirement already satisfied: importlib-metadata>=1.4 in /usr/local/lib/python3.8/dist-packages (from streamlit) (6.0.0)\n",
            "Requirement already satisfied: typing-extensions>=3.10.0.0 in /usr/local/lib/python3.8/dist-packages (from streamlit) (4.5.0)\n",
            "Requirement already satisfied: packaging>=14.1 in /usr/local/lib/python3.8/dist-packages (from streamlit) (23.0)\n",
            "Requirement already satisfied: pympler>=0.9 in /usr/local/lib/python3.8/dist-packages (from streamlit) (1.0.1)\n",
            "Requirement already satisfied: toolz in /usr/local/lib/python3.8/dist-packages (from altair>=3.2.0->streamlit) (0.12.0)\n",
            "Requirement already satisfied: jsonschema>=3.0 in /usr/local/lib/python3.8/dist-packages (from altair>=3.2.0->streamlit) (4.3.3)\n",
            "Requirement already satisfied: jinja2 in /usr/local/lib/python3.8/dist-packages (from altair>=3.2.0->streamlit) (2.11.3)\n",
            "Requirement already satisfied: entrypoints in /usr/local/lib/python3.8/dist-packages (from altair>=3.2.0->streamlit) (0.4)\n",
            "Requirement already satisfied: gitdb<5,>=4.0.1 in /usr/local/lib/python3.8/dist-packages (from gitpython!=3.1.19->streamlit) (4.0.10)\n",
            "Requirement already satisfied: zipp>=0.5 in /usr/local/lib/python3.8/dist-packages (from importlib-metadata>=1.4->streamlit) (3.14.0)\n",
            "Requirement already satisfied: pytz>=2017.3 in /usr/local/lib/python3.8/dist-packages (from pandas>=0.25->streamlit) (2022.7.1)\n",
            "Requirement already satisfied: six>=1.5 in /usr/local/lib/python3.8/dist-packages (from python-dateutil->streamlit) (1.15.0)\n",
            "Requirement already satisfied: certifi>=2017.4.17 in /usr/local/lib/python3.8/dist-packages (from requests>=2.4->streamlit) (2022.12.7)\n",
            "Requirement already satisfied: urllib3<1.27,>=1.21.1 in /usr/local/lib/python3.8/dist-packages (from requests>=2.4->streamlit) (1.24.3)\n",
            "Requirement already satisfied: chardet<5,>=3.0.2 in /usr/local/lib/python3.8/dist-packages (from requests>=2.4->streamlit) (4.0.0)\n",
            "Requirement already satisfied: idna<3,>=2.5 in /usr/local/lib/python3.8/dist-packages (from requests>=2.4->streamlit) (2.10)\n",
            "Requirement already satisfied: pygments<3.0.0,>=2.14.0 in /usr/local/lib/python3.8/dist-packages (from rich>=10.11.0->streamlit) (2.14.0)\n",
            "Requirement already satisfied: markdown-it-py<3.0.0,>=2.1.0 in /usr/local/lib/python3.8/dist-packages (from rich>=10.11.0->streamlit) (2.2.0)\n",
            "Requirement already satisfied: decorator>=3.4.0 in /usr/local/lib/python3.8/dist-packages (from validators>=0.2->streamlit) (4.4.2)\n",
            "Requirement already satisfied: smmap<6,>=3.0.1 in /usr/local/lib/python3.8/dist-packages (from gitdb<5,>=4.0.1->gitpython!=3.1.19->streamlit) (5.0.0)\n",
            "Requirement already satisfied: MarkupSafe>=0.23 in /usr/local/lib/python3.8/dist-packages (from jinja2->altair>=3.2.0->streamlit) (2.0.1)\n",
            "Requirement already satisfied: pyrsistent!=0.17.0,!=0.17.1,!=0.17.2,>=0.14.0 in /usr/local/lib/python3.8/dist-packages (from jsonschema>=3.0->altair>=3.2.0->streamlit) (0.19.3)\n",
            "Requirement already satisfied: importlib-resources>=1.4.0 in /usr/local/lib/python3.8/dist-packages (from jsonschema>=3.0->altair>=3.2.0->streamlit) (5.12.0)\n",
            "Requirement already satisfied: attrs>=17.4.0 in /usr/local/lib/python3.8/dist-packages (from jsonschema>=3.0->altair>=3.2.0->streamlit) (22.2.0)\n",
            "Requirement already satisfied: mdurl~=0.1 in /usr/local/lib/python3.8/dist-packages (from markdown-it-py<3.0.0,>=2.1.0->rich>=10.11.0->streamlit) (0.1.2)\n",
            "Looking in indexes: https://pypi.org/simple, https://us-python.pkg.dev/colab-wheels/public/simple/\n",
            "Requirement already satisfied: writefile in /usr/local/lib/python3.8/dist-packages (0.2)\n"
          ]
        }
      ]
    },
    {
      "cell_type": "code",
      "source": [
        "%%writefile app_idf.py\n",
        "\n",
        "import numpy as np\n",
        "import pickle\n",
        "import pandas as pd\n",
        "import streamlit as st\n",
        "import datetime\n",
        "\n",
        "model=pickle.load(open('best_Xgb_model.pkl','rb'))\n",
        "\n",
        "def deploy():\n",
        "  st.set_page_config(layout='wide')\n",
        "  \n",
        "  st.title('ITEM DEMAND FORECASTING')\n",
        "  st.header('Enter the item Details')\n",
        "  date=st.date_input('which date you want to Forecast :')\n",
        "  item=st.number_input('which item you want to forecast:' , min_value=1,max_value=50)\n",
        "\n",
        "  if st.button('Demand Forecast'):\n",
        "    forecast=predict(date,item)\n",
        "    forecast=np.round_(forecast,0)\n",
        "    st.success(f'Demand of {item} Item at after 3 Months is : {forecast[0]}')\n",
        "\n",
        "  \n",
        "def predict(date,item):\n",
        "  date=pd.to_datetime(date)\n",
        "  dayofyear=date.dayofyear\n",
        "  day=date.day\n",
        "  week=date.week\n",
        "  dayofweek=date.dayofweek\n",
        "  quarter=date.quarter\n",
        "  month=date.month\n",
        "  year=date.year\n",
        "  duration=(pd.to_datetime(date+pd.DateOffset(months=+3))-pd.to_datetime(date)).days\n",
        "  prediction=model.predict([[item,duration,day,dayofyear,week,dayofweek,month,quarter,year]])\n",
        "    \n",
        "  return prediction\n",
        "  \n",
        "\n",
        "if __name__=='__main__':\n",
        "  deploy()"
      ],
      "metadata": {
        "colab": {
          "base_uri": "https://localhost:8080/"
        },
        "id": "kSmR41PltXKb",
        "outputId": "5a23d6dd-e556-458e-8b66-fa92e58b1858"
      },
      "execution_count": 227,
      "outputs": [
        {
          "output_type": "stream",
          "name": "stdout",
          "text": [
            "Overwriting app_idf.py\n"
          ]
        }
      ]
    },
    {
      "cell_type": "code",
      "source": [
        "!streamlit run app_idf.py & npx localtunnel --port 8501"
      ],
      "metadata": {
        "id": "Clhz-t5dw0eO",
        "colab": {
          "base_uri": "https://localhost:8080/"
        },
        "outputId": "404d4048-cf3f-43f4-feb1-5fd3024cf54b"
      },
      "execution_count": 228,
      "outputs": [
        {
          "output_type": "stream",
          "name": "stdout",
          "text": [
            "\u001b[K\u001b[?25hnpx: installed 22 in 4.053s\n",
            "\n",
            "Collecting usage statistics. To deactivate, set browser.gatherUsageStats to False.\n",
            "\u001b[0m\n",
            "\u001b[0m\n",
            "\u001b[34m\u001b[1m  You can now view your Streamlit app in your browser.\u001b[0m\n",
            "\u001b[0m\n",
            "\u001b[34m  Network URL: \u001b[0m\u001b[1mhttp://172.28.0.12:8501\u001b[0m\n",
            "\u001b[34m  External URL: \u001b[0m\u001b[1mhttp://34.70.153.24:8501\u001b[0m\n",
            "\u001b[0m\n",
            "your url is: https://mighty-moments-count-34-70-153-24.loca.lt\n",
            "\u001b[34m  Stopping...\u001b[0m\n",
            "^C\n"
          ]
        }
      ]
    }
  ],
  "metadata": {
    "colab": {
      "provenance": []
    },
    "kernelspec": {
      "display_name": "Python 3",
      "name": "python3"
    },
    "language_info": {
      "name": "python"
    }
  },
  "nbformat": 4,
  "nbformat_minor": 0
}