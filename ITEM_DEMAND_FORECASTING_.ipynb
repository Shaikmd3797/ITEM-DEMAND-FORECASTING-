{
  "cells": [
    {
      "cell_type": "markdown",
      "metadata": {
        "id": "view-in-github",
        "colab_type": "text"
      },
      "source": [
        "<a href=\"https://colab.research.google.com/github/Shaikmd3797/ITEM-DEMAND-FORECASTING-/blob/main/ITEM_DEMAND_FORECASTING_.ipynb\" target=\"_parent\"><img src=\"https://colab.research.google.com/assets/colab-badge.svg\" alt=\"Open In Colab\"/></a>"
      ]
    },
    {
      "cell_type": "markdown",
      "metadata": {
        "id": "ULRh9BFd-VpV"
      },
      "source": [
        "# ***ITEM DEMAND FORCASTING FOR 3 MONTHS.***\n",
        "\n",
        " # ***AIM:***\n",
        "     \n",
        "*  # *This model was analysing the 5 years of sales of 50+ items in 10+ different shops at every day .It will be find the demand of next three months of items .*\n",
        "\n",
        "\n",
        "1.  *data cleaning.*\n",
        "2.  *EDA for dataset.*\n",
        "3.  *splitting of data*\n",
        "4.  *scaling of the data*\n",
        "5.  *build the model* \n",
        "\n",
        " *   linear regression algorithm\n",
        " *   KNN regressor algorithm\n",
        " *   Decision tree regressor algorithm\n",
        " *   Random forest regressor algorithm\n",
        " *   Xgboost algorithm\n",
        " *   voting regressor algorithm\n",
        "\n",
        "6.  *evaluate the all models*\n",
        "\n",
        " \n",
        "\n",
        "\n",
        "\n",
        "\n",
        "\n",
        "\n"
      ]
    },
    {
      "cell_type": "markdown",
      "metadata": {
        "id": "HIjfxmb6F8OC"
      },
      "source": [
        "# **1. Data Cleaning**"
      ]
    },
    {
      "cell_type": "code",
      "execution_count": 1,
      "metadata": {
        "id": "5N-T3FqlF7Wd"
      },
      "outputs": [],
      "source": [
        "# import all neccessary libraries for data reading, cleaning and EDA\n",
        "import pandas as pd \n",
        "import numpy as np\n",
        "import matplotlib.pyplot as plt\n",
        "import seaborn as sns\n",
        "import warnings \n",
        "warnings.filterwarnings('ignore')"
      ]
    },
    {
      "cell_type": "code",
      "execution_count": 2,
      "metadata": {
        "id": "hqTEf2maGfrT",
        "colab": {
          "base_uri": "https://localhost:8080/"
        },
        "outputId": "b09eed0c-4e1b-408b-d540-9580ceca96ad"
      },
      "outputs": [
        {
          "output_type": "stream",
          "name": "stdout",
          "text": [
            "Shape of Raw dataset : (913000, 4)\n"
          ]
        }
      ],
      "source": [
        "df=pd.read_csv('train 2.csv')               # read the dataset\n",
        "print('Shape of Raw dataset :', df.shape)   # shape of dataframe before dropping duplicates"
      ]
    },
    {
      "cell_type": "code",
      "execution_count": 3,
      "metadata": {
        "id": "3ng3uufyqRb-",
        "colab": {
          "base_uri": "https://localhost:8080/"
        },
        "outputId": "2d066804-eba6-4914-8aeb-aa4403d9e7a2"
      },
      "outputs": [
        {
          "output_type": "stream",
          "name": "stdout",
          "text": [
            "Shape of  Dataframe after remove duplicates : (913000, 4)\n"
          ]
        }
      ],
      "source": [
        "df=df.drop_duplicates()\n",
        "print('Shape of  Dataframe after remove duplicates :',df.shape)"
      ]
    },
    {
      "cell_type": "markdown",
      "metadata": {
        "id": "u-YrdwH0ZUAh"
      },
      "source": [
        "**NO Duplicates are presents in the dataset**"
      ]
    },
    {
      "cell_type": "code",
      "execution_count": 4,
      "metadata": {
        "id": "_gXhABUIqUeq",
        "colab": {
          "base_uri": "https://localhost:8080/"
        },
        "outputId": "805fb70c-e164-49ce-c069-1fa32c78bd38"
      },
      "outputs": [
        {
          "output_type": "execute_result",
          "data": {
            "text/plain": [
              "date     0\n",
              "store    0\n",
              "item     0\n",
              "sales    0\n",
              "dtype: int64"
            ]
          },
          "metadata": {},
          "execution_count": 4
        }
      ],
      "source": [
        "df.isnull().sum()"
      ]
    },
    {
      "cell_type": "code",
      "execution_count": 5,
      "metadata": {
        "id": "keHO1nKv0DBt",
        "colab": {
          "base_uri": "https://localhost:8080/"
        },
        "outputId": "3e8837c2-b8d4-465d-e3bc-e580d0636d43"
      },
      "outputs": [
        {
          "output_type": "stream",
          "name": "stdout",
          "text": [
            "<class 'pandas.core.frame.DataFrame'>\n",
            "Int64Index: 913000 entries, 0 to 912999\n",
            "Data columns (total 4 columns):\n",
            " #   Column  Non-Null Count   Dtype \n",
            "---  ------  --------------   ----- \n",
            " 0   date    913000 non-null  object\n",
            " 1   store   913000 non-null  int64 \n",
            " 2   item    913000 non-null  int64 \n",
            " 3   sales   913000 non-null  int64 \n",
            "dtypes: int64(3), object(1)\n",
            "memory usage: 34.8+ MB\n"
          ]
        }
      ],
      "source": [
        "df.info()                              # check the datatypes are in right format"
      ]
    },
    {
      "cell_type": "markdown",
      "metadata": {
        "id": "fZst5CUdZt5-"
      },
      "source": [
        " **Datatype of date column is not meaningful.So it will change into \"datetime\" datatype.**"
      ]
    },
    {
      "cell_type": "code",
      "execution_count": 6,
      "metadata": {
        "id": "yHGgkT5p1sBS",
        "colab": {
          "base_uri": "https://localhost:8080/",
          "height": 206
        },
        "outputId": "21fb74d1-e8ad-46c5-9775-79e7441f947e"
      },
      "outputs": [
        {
          "output_type": "execute_result",
          "data": {
            "text/plain": [
              "           date  store  item  sales\n",
              "0    2013-01-01      1     1     13\n",
              "1826 2013-01-01      2     1     12\n",
              "3652 2013-01-01      3     1     19\n",
              "5478 2013-01-01      4     1     10\n",
              "7304 2013-01-01      5     1     11"
            ],
            "text/html": [
              "\n",
              "  <div id=\"df-f97977d8-51bf-41a4-9e24-286bab591a6a\">\n",
              "    <div class=\"colab-df-container\">\n",
              "      <div>\n",
              "<style scoped>\n",
              "    .dataframe tbody tr th:only-of-type {\n",
              "        vertical-align: middle;\n",
              "    }\n",
              "\n",
              "    .dataframe tbody tr th {\n",
              "        vertical-align: top;\n",
              "    }\n",
              "\n",
              "    .dataframe thead th {\n",
              "        text-align: right;\n",
              "    }\n",
              "</style>\n",
              "<table border=\"1\" class=\"dataframe\">\n",
              "  <thead>\n",
              "    <tr style=\"text-align: right;\">\n",
              "      <th></th>\n",
              "      <th>date</th>\n",
              "      <th>store</th>\n",
              "      <th>item</th>\n",
              "      <th>sales</th>\n",
              "    </tr>\n",
              "  </thead>\n",
              "  <tbody>\n",
              "    <tr>\n",
              "      <th>0</th>\n",
              "      <td>2013-01-01</td>\n",
              "      <td>1</td>\n",
              "      <td>1</td>\n",
              "      <td>13</td>\n",
              "    </tr>\n",
              "    <tr>\n",
              "      <th>1826</th>\n",
              "      <td>2013-01-01</td>\n",
              "      <td>2</td>\n",
              "      <td>1</td>\n",
              "      <td>12</td>\n",
              "    </tr>\n",
              "    <tr>\n",
              "      <th>3652</th>\n",
              "      <td>2013-01-01</td>\n",
              "      <td>3</td>\n",
              "      <td>1</td>\n",
              "      <td>19</td>\n",
              "    </tr>\n",
              "    <tr>\n",
              "      <th>5478</th>\n",
              "      <td>2013-01-01</td>\n",
              "      <td>4</td>\n",
              "      <td>1</td>\n",
              "      <td>10</td>\n",
              "    </tr>\n",
              "    <tr>\n",
              "      <th>7304</th>\n",
              "      <td>2013-01-01</td>\n",
              "      <td>5</td>\n",
              "      <td>1</td>\n",
              "      <td>11</td>\n",
              "    </tr>\n",
              "  </tbody>\n",
              "</table>\n",
              "</div>\n",
              "      <button class=\"colab-df-convert\" onclick=\"convertToInteractive('df-f97977d8-51bf-41a4-9e24-286bab591a6a')\"\n",
              "              title=\"Convert this dataframe to an interactive table.\"\n",
              "              style=\"display:none;\">\n",
              "        \n",
              "  <svg xmlns=\"http://www.w3.org/2000/svg\" height=\"24px\"viewBox=\"0 0 24 24\"\n",
              "       width=\"24px\">\n",
              "    <path d=\"M0 0h24v24H0V0z\" fill=\"none\"/>\n",
              "    <path d=\"M18.56 5.44l.94 2.06.94-2.06 2.06-.94-2.06-.94-.94-2.06-.94 2.06-2.06.94zm-11 1L8.5 8.5l.94-2.06 2.06-.94-2.06-.94L8.5 2.5l-.94 2.06-2.06.94zm10 10l.94 2.06.94-2.06 2.06-.94-2.06-.94-.94-2.06-.94 2.06-2.06.94z\"/><path d=\"M17.41 7.96l-1.37-1.37c-.4-.4-.92-.59-1.43-.59-.52 0-1.04.2-1.43.59L10.3 9.45l-7.72 7.72c-.78.78-.78 2.05 0 2.83L4 21.41c.39.39.9.59 1.41.59.51 0 1.02-.2 1.41-.59l7.78-7.78 2.81-2.81c.8-.78.8-2.07 0-2.86zM5.41 20L4 18.59l7.72-7.72 1.47 1.35L5.41 20z\"/>\n",
              "  </svg>\n",
              "      </button>\n",
              "      \n",
              "  <style>\n",
              "    .colab-df-container {\n",
              "      display:flex;\n",
              "      flex-wrap:wrap;\n",
              "      gap: 12px;\n",
              "    }\n",
              "\n",
              "    .colab-df-convert {\n",
              "      background-color: #E8F0FE;\n",
              "      border: none;\n",
              "      border-radius: 50%;\n",
              "      cursor: pointer;\n",
              "      display: none;\n",
              "      fill: #1967D2;\n",
              "      height: 32px;\n",
              "      padding: 0 0 0 0;\n",
              "      width: 32px;\n",
              "    }\n",
              "\n",
              "    .colab-df-convert:hover {\n",
              "      background-color: #E2EBFA;\n",
              "      box-shadow: 0px 1px 2px rgba(60, 64, 67, 0.3), 0px 1px 3px 1px rgba(60, 64, 67, 0.15);\n",
              "      fill: #174EA6;\n",
              "    }\n",
              "\n",
              "    [theme=dark] .colab-df-convert {\n",
              "      background-color: #3B4455;\n",
              "      fill: #D2E3FC;\n",
              "    }\n",
              "\n",
              "    [theme=dark] .colab-df-convert:hover {\n",
              "      background-color: #434B5C;\n",
              "      box-shadow: 0px 1px 3px 1px rgba(0, 0, 0, 0.15);\n",
              "      filter: drop-shadow(0px 1px 2px rgba(0, 0, 0, 0.3));\n",
              "      fill: #FFFFFF;\n",
              "    }\n",
              "  </style>\n",
              "\n",
              "      <script>\n",
              "        const buttonEl =\n",
              "          document.querySelector('#df-f97977d8-51bf-41a4-9e24-286bab591a6a button.colab-df-convert');\n",
              "        buttonEl.style.display =\n",
              "          google.colab.kernel.accessAllowed ? 'block' : 'none';\n",
              "\n",
              "        async function convertToInteractive(key) {\n",
              "          const element = document.querySelector('#df-f97977d8-51bf-41a4-9e24-286bab591a6a');\n",
              "          const dataTable =\n",
              "            await google.colab.kernel.invokeFunction('convertToInteractive',\n",
              "                                                     [key], {});\n",
              "          if (!dataTable) return;\n",
              "\n",
              "          const docLinkHtml = 'Like what you see? Visit the ' +\n",
              "            '<a target=\"_blank\" href=https://colab.research.google.com/notebooks/data_table.ipynb>data table notebook</a>'\n",
              "            + ' to learn more about interactive tables.';\n",
              "          element.innerHTML = '';\n",
              "          dataTable['output_type'] = 'display_data';\n",
              "          await google.colab.output.renderOutput(dataTable, element);\n",
              "          const docLink = document.createElement('div');\n",
              "          docLink.innerHTML = docLinkHtml;\n",
              "          element.appendChild(docLink);\n",
              "        }\n",
              "      </script>\n",
              "    </div>\n",
              "  </div>\n",
              "  "
            ]
          },
          "metadata": {},
          "execution_count": 6
        }
      ],
      "source": [
        "df['date']=pd.to_datetime(df['date']) # change the datatype of date column\n",
        "df=df.sort_values(by=['date','item']) # dataset is changing into ascending order with respect to date\n",
        "df.head()"
      ]
    },
    {
      "cell_type": "code",
      "execution_count": 7,
      "metadata": {
        "id": "RJtRO7dAqjjG",
        "colab": {
          "base_uri": "https://localhost:8080/",
          "height": 300
        },
        "outputId": "da3e300f-176e-4367-d0b5-7cc28ce44a11"
      },
      "outputs": [
        {
          "output_type": "execute_result",
          "data": {
            "text/plain": [
              "               store           item          sales\n",
              "count  913000.000000  913000.000000  913000.000000\n",
              "mean        5.500000      25.500000      52.250287\n",
              "std         2.872283      14.430878      28.801144\n",
              "min         1.000000       1.000000       0.000000\n",
              "25%         3.000000      13.000000      30.000000\n",
              "50%         5.500000      25.500000      47.000000\n",
              "75%         8.000000      38.000000      70.000000\n",
              "max        10.000000      50.000000     231.000000"
            ],
            "text/html": [
              "\n",
              "  <div id=\"df-ccbaedac-2cd0-4a02-902d-0e3df8852664\">\n",
              "    <div class=\"colab-df-container\">\n",
              "      <div>\n",
              "<style scoped>\n",
              "    .dataframe tbody tr th:only-of-type {\n",
              "        vertical-align: middle;\n",
              "    }\n",
              "\n",
              "    .dataframe tbody tr th {\n",
              "        vertical-align: top;\n",
              "    }\n",
              "\n",
              "    .dataframe thead th {\n",
              "        text-align: right;\n",
              "    }\n",
              "</style>\n",
              "<table border=\"1\" class=\"dataframe\">\n",
              "  <thead>\n",
              "    <tr style=\"text-align: right;\">\n",
              "      <th></th>\n",
              "      <th>store</th>\n",
              "      <th>item</th>\n",
              "      <th>sales</th>\n",
              "    </tr>\n",
              "  </thead>\n",
              "  <tbody>\n",
              "    <tr>\n",
              "      <th>count</th>\n",
              "      <td>913000.000000</td>\n",
              "      <td>913000.000000</td>\n",
              "      <td>913000.000000</td>\n",
              "    </tr>\n",
              "    <tr>\n",
              "      <th>mean</th>\n",
              "      <td>5.500000</td>\n",
              "      <td>25.500000</td>\n",
              "      <td>52.250287</td>\n",
              "    </tr>\n",
              "    <tr>\n",
              "      <th>std</th>\n",
              "      <td>2.872283</td>\n",
              "      <td>14.430878</td>\n",
              "      <td>28.801144</td>\n",
              "    </tr>\n",
              "    <tr>\n",
              "      <th>min</th>\n",
              "      <td>1.000000</td>\n",
              "      <td>1.000000</td>\n",
              "      <td>0.000000</td>\n",
              "    </tr>\n",
              "    <tr>\n",
              "      <th>25%</th>\n",
              "      <td>3.000000</td>\n",
              "      <td>13.000000</td>\n",
              "      <td>30.000000</td>\n",
              "    </tr>\n",
              "    <tr>\n",
              "      <th>50%</th>\n",
              "      <td>5.500000</td>\n",
              "      <td>25.500000</td>\n",
              "      <td>47.000000</td>\n",
              "    </tr>\n",
              "    <tr>\n",
              "      <th>75%</th>\n",
              "      <td>8.000000</td>\n",
              "      <td>38.000000</td>\n",
              "      <td>70.000000</td>\n",
              "    </tr>\n",
              "    <tr>\n",
              "      <th>max</th>\n",
              "      <td>10.000000</td>\n",
              "      <td>50.000000</td>\n",
              "      <td>231.000000</td>\n",
              "    </tr>\n",
              "  </tbody>\n",
              "</table>\n",
              "</div>\n",
              "      <button class=\"colab-df-convert\" onclick=\"convertToInteractive('df-ccbaedac-2cd0-4a02-902d-0e3df8852664')\"\n",
              "              title=\"Convert this dataframe to an interactive table.\"\n",
              "              style=\"display:none;\">\n",
              "        \n",
              "  <svg xmlns=\"http://www.w3.org/2000/svg\" height=\"24px\"viewBox=\"0 0 24 24\"\n",
              "       width=\"24px\">\n",
              "    <path d=\"M0 0h24v24H0V0z\" fill=\"none\"/>\n",
              "    <path d=\"M18.56 5.44l.94 2.06.94-2.06 2.06-.94-2.06-.94-.94-2.06-.94 2.06-2.06.94zm-11 1L8.5 8.5l.94-2.06 2.06-.94-2.06-.94L8.5 2.5l-.94 2.06-2.06.94zm10 10l.94 2.06.94-2.06 2.06-.94-2.06-.94-.94-2.06-.94 2.06-2.06.94z\"/><path d=\"M17.41 7.96l-1.37-1.37c-.4-.4-.92-.59-1.43-.59-.52 0-1.04.2-1.43.59L10.3 9.45l-7.72 7.72c-.78.78-.78 2.05 0 2.83L4 21.41c.39.39.9.59 1.41.59.51 0 1.02-.2 1.41-.59l7.78-7.78 2.81-2.81c.8-.78.8-2.07 0-2.86zM5.41 20L4 18.59l7.72-7.72 1.47 1.35L5.41 20z\"/>\n",
              "  </svg>\n",
              "      </button>\n",
              "      \n",
              "  <style>\n",
              "    .colab-df-container {\n",
              "      display:flex;\n",
              "      flex-wrap:wrap;\n",
              "      gap: 12px;\n",
              "    }\n",
              "\n",
              "    .colab-df-convert {\n",
              "      background-color: #E8F0FE;\n",
              "      border: none;\n",
              "      border-radius: 50%;\n",
              "      cursor: pointer;\n",
              "      display: none;\n",
              "      fill: #1967D2;\n",
              "      height: 32px;\n",
              "      padding: 0 0 0 0;\n",
              "      width: 32px;\n",
              "    }\n",
              "\n",
              "    .colab-df-convert:hover {\n",
              "      background-color: #E2EBFA;\n",
              "      box-shadow: 0px 1px 2px rgba(60, 64, 67, 0.3), 0px 1px 3px 1px rgba(60, 64, 67, 0.15);\n",
              "      fill: #174EA6;\n",
              "    }\n",
              "\n",
              "    [theme=dark] .colab-df-convert {\n",
              "      background-color: #3B4455;\n",
              "      fill: #D2E3FC;\n",
              "    }\n",
              "\n",
              "    [theme=dark] .colab-df-convert:hover {\n",
              "      background-color: #434B5C;\n",
              "      box-shadow: 0px 1px 3px 1px rgba(0, 0, 0, 0.15);\n",
              "      filter: drop-shadow(0px 1px 2px rgba(0, 0, 0, 0.3));\n",
              "      fill: #FFFFFF;\n",
              "    }\n",
              "  </style>\n",
              "\n",
              "      <script>\n",
              "        const buttonEl =\n",
              "          document.querySelector('#df-ccbaedac-2cd0-4a02-902d-0e3df8852664 button.colab-df-convert');\n",
              "        buttonEl.style.display =\n",
              "          google.colab.kernel.accessAllowed ? 'block' : 'none';\n",
              "\n",
              "        async function convertToInteractive(key) {\n",
              "          const element = document.querySelector('#df-ccbaedac-2cd0-4a02-902d-0e3df8852664');\n",
              "          const dataTable =\n",
              "            await google.colab.kernel.invokeFunction('convertToInteractive',\n",
              "                                                     [key], {});\n",
              "          if (!dataTable) return;\n",
              "\n",
              "          const docLinkHtml = 'Like what you see? Visit the ' +\n",
              "            '<a target=\"_blank\" href=https://colab.research.google.com/notebooks/data_table.ipynb>data table notebook</a>'\n",
              "            + ' to learn more about interactive tables.';\n",
              "          element.innerHTML = '';\n",
              "          dataTable['output_type'] = 'display_data';\n",
              "          await google.colab.output.renderOutput(dataTable, element);\n",
              "          const docLink = document.createElement('div');\n",
              "          docLink.innerHTML = docLinkHtml;\n",
              "          element.appendChild(docLink);\n",
              "        }\n",
              "      </script>\n",
              "    </div>\n",
              "  </div>\n",
              "  "
            ]
          },
          "metadata": {},
          "execution_count": 7
        }
      ],
      "source": [
        "df.describe()"
      ]
    },
    {
      "cell_type": "code",
      "execution_count": 8,
      "metadata": {
        "id": "mGm9bted7PUQ"
      },
      "outputs": [],
      "source": [
        "#df=df.drop('store',axis=1)"
      ]
    },
    {
      "cell_type": "code",
      "execution_count": 9,
      "metadata": {
        "id": "IhFdqvuz56EK",
        "colab": {
          "base_uri": "https://localhost:8080/",
          "height": 424
        },
        "outputId": "9f3897a1-c2b1-4931-cc41-9fba391e8c7a"
      },
      "outputs": [
        {
          "output_type": "execute_result",
          "data": {
            "text/plain": [
              "            date  item  sales\n",
              "0     2013-01-01     1    133\n",
              "1     2013-01-01     2    327\n",
              "2     2013-01-01     3    172\n",
              "3     2013-01-01     4    102\n",
              "4     2013-01-01     5     83\n",
              "...          ...   ...    ...\n",
              "91295 2017-12-31    46    605\n",
              "91296 2017-12-31    47    211\n",
              "91297 2017-12-31    48    494\n",
              "91298 2017-12-31    49    285\n",
              "91299 2017-12-31    50    626\n",
              "\n",
              "[91300 rows x 3 columns]"
            ],
            "text/html": [
              "\n",
              "  <div id=\"df-2932b15d-83af-47c7-9d45-06b2e8997953\">\n",
              "    <div class=\"colab-df-container\">\n",
              "      <div>\n",
              "<style scoped>\n",
              "    .dataframe tbody tr th:only-of-type {\n",
              "        vertical-align: middle;\n",
              "    }\n",
              "\n",
              "    .dataframe tbody tr th {\n",
              "        vertical-align: top;\n",
              "    }\n",
              "\n",
              "    .dataframe thead th {\n",
              "        text-align: right;\n",
              "    }\n",
              "</style>\n",
              "<table border=\"1\" class=\"dataframe\">\n",
              "  <thead>\n",
              "    <tr style=\"text-align: right;\">\n",
              "      <th></th>\n",
              "      <th>date</th>\n",
              "      <th>item</th>\n",
              "      <th>sales</th>\n",
              "    </tr>\n",
              "  </thead>\n",
              "  <tbody>\n",
              "    <tr>\n",
              "      <th>0</th>\n",
              "      <td>2013-01-01</td>\n",
              "      <td>1</td>\n",
              "      <td>133</td>\n",
              "    </tr>\n",
              "    <tr>\n",
              "      <th>1</th>\n",
              "      <td>2013-01-01</td>\n",
              "      <td>2</td>\n",
              "      <td>327</td>\n",
              "    </tr>\n",
              "    <tr>\n",
              "      <th>2</th>\n",
              "      <td>2013-01-01</td>\n",
              "      <td>3</td>\n",
              "      <td>172</td>\n",
              "    </tr>\n",
              "    <tr>\n",
              "      <th>3</th>\n",
              "      <td>2013-01-01</td>\n",
              "      <td>4</td>\n",
              "      <td>102</td>\n",
              "    </tr>\n",
              "    <tr>\n",
              "      <th>4</th>\n",
              "      <td>2013-01-01</td>\n",
              "      <td>5</td>\n",
              "      <td>83</td>\n",
              "    </tr>\n",
              "    <tr>\n",
              "      <th>...</th>\n",
              "      <td>...</td>\n",
              "      <td>...</td>\n",
              "      <td>...</td>\n",
              "    </tr>\n",
              "    <tr>\n",
              "      <th>91295</th>\n",
              "      <td>2017-12-31</td>\n",
              "      <td>46</td>\n",
              "      <td>605</td>\n",
              "    </tr>\n",
              "    <tr>\n",
              "      <th>91296</th>\n",
              "      <td>2017-12-31</td>\n",
              "      <td>47</td>\n",
              "      <td>211</td>\n",
              "    </tr>\n",
              "    <tr>\n",
              "      <th>91297</th>\n",
              "      <td>2017-12-31</td>\n",
              "      <td>48</td>\n",
              "      <td>494</td>\n",
              "    </tr>\n",
              "    <tr>\n",
              "      <th>91298</th>\n",
              "      <td>2017-12-31</td>\n",
              "      <td>49</td>\n",
              "      <td>285</td>\n",
              "    </tr>\n",
              "    <tr>\n",
              "      <th>91299</th>\n",
              "      <td>2017-12-31</td>\n",
              "      <td>50</td>\n",
              "      <td>626</td>\n",
              "    </tr>\n",
              "  </tbody>\n",
              "</table>\n",
              "<p>91300 rows × 3 columns</p>\n",
              "</div>\n",
              "      <button class=\"colab-df-convert\" onclick=\"convertToInteractive('df-2932b15d-83af-47c7-9d45-06b2e8997953')\"\n",
              "              title=\"Convert this dataframe to an interactive table.\"\n",
              "              style=\"display:none;\">\n",
              "        \n",
              "  <svg xmlns=\"http://www.w3.org/2000/svg\" height=\"24px\"viewBox=\"0 0 24 24\"\n",
              "       width=\"24px\">\n",
              "    <path d=\"M0 0h24v24H0V0z\" fill=\"none\"/>\n",
              "    <path d=\"M18.56 5.44l.94 2.06.94-2.06 2.06-.94-2.06-.94-.94-2.06-.94 2.06-2.06.94zm-11 1L8.5 8.5l.94-2.06 2.06-.94-2.06-.94L8.5 2.5l-.94 2.06-2.06.94zm10 10l.94 2.06.94-2.06 2.06-.94-2.06-.94-.94-2.06-.94 2.06-2.06.94z\"/><path d=\"M17.41 7.96l-1.37-1.37c-.4-.4-.92-.59-1.43-.59-.52 0-1.04.2-1.43.59L10.3 9.45l-7.72 7.72c-.78.78-.78 2.05 0 2.83L4 21.41c.39.39.9.59 1.41.59.51 0 1.02-.2 1.41-.59l7.78-7.78 2.81-2.81c.8-.78.8-2.07 0-2.86zM5.41 20L4 18.59l7.72-7.72 1.47 1.35L5.41 20z\"/>\n",
              "  </svg>\n",
              "      </button>\n",
              "      \n",
              "  <style>\n",
              "    .colab-df-container {\n",
              "      display:flex;\n",
              "      flex-wrap:wrap;\n",
              "      gap: 12px;\n",
              "    }\n",
              "\n",
              "    .colab-df-convert {\n",
              "      background-color: #E8F0FE;\n",
              "      border: none;\n",
              "      border-radius: 50%;\n",
              "      cursor: pointer;\n",
              "      display: none;\n",
              "      fill: #1967D2;\n",
              "      height: 32px;\n",
              "      padding: 0 0 0 0;\n",
              "      width: 32px;\n",
              "    }\n",
              "\n",
              "    .colab-df-convert:hover {\n",
              "      background-color: #E2EBFA;\n",
              "      box-shadow: 0px 1px 2px rgba(60, 64, 67, 0.3), 0px 1px 3px 1px rgba(60, 64, 67, 0.15);\n",
              "      fill: #174EA6;\n",
              "    }\n",
              "\n",
              "    [theme=dark] .colab-df-convert {\n",
              "      background-color: #3B4455;\n",
              "      fill: #D2E3FC;\n",
              "    }\n",
              "\n",
              "    [theme=dark] .colab-df-convert:hover {\n",
              "      background-color: #434B5C;\n",
              "      box-shadow: 0px 1px 3px 1px rgba(0, 0, 0, 0.15);\n",
              "      filter: drop-shadow(0px 1px 2px rgba(0, 0, 0, 0.3));\n",
              "      fill: #FFFFFF;\n",
              "    }\n",
              "  </style>\n",
              "\n",
              "      <script>\n",
              "        const buttonEl =\n",
              "          document.querySelector('#df-2932b15d-83af-47c7-9d45-06b2e8997953 button.colab-df-convert');\n",
              "        buttonEl.style.display =\n",
              "          google.colab.kernel.accessAllowed ? 'block' : 'none';\n",
              "\n",
              "        async function convertToInteractive(key) {\n",
              "          const element = document.querySelector('#df-2932b15d-83af-47c7-9d45-06b2e8997953');\n",
              "          const dataTable =\n",
              "            await google.colab.kernel.invokeFunction('convertToInteractive',\n",
              "                                                     [key], {});\n",
              "          if (!dataTable) return;\n",
              "\n",
              "          const docLinkHtml = 'Like what you see? Visit the ' +\n",
              "            '<a target=\"_blank\" href=https://colab.research.google.com/notebooks/data_table.ipynb>data table notebook</a>'\n",
              "            + ' to learn more about interactive tables.';\n",
              "          element.innerHTML = '';\n",
              "          dataTable['output_type'] = 'display_data';\n",
              "          await google.colab.output.renderOutput(dataTable, element);\n",
              "          const docLink = document.createElement('div');\n",
              "          docLink.innerHTML = docLinkHtml;\n",
              "          element.appendChild(docLink);\n",
              "        }\n",
              "      </script>\n",
              "    </div>\n",
              "  </div>\n",
              "  "
            ]
          },
          "metadata": {},
          "execution_count": 9
        }
      ],
      "source": [
        "df=pd.DataFrame(df.groupby(['date','item'])['sales'].sum())\n",
        "df.reset_index(inplace=True)\n",
        "df"
      ]
    },
    {
      "cell_type": "code",
      "execution_count": 10,
      "metadata": {
        "id": "OWcvoabWOkgH"
      },
      "outputs": [],
      "source": [
        "df['end_date']=df['date']+pd.DateOffset(months=+3)"
      ]
    },
    {
      "cell_type": "code",
      "execution_count": 11,
      "metadata": {
        "id": "5ZiXnCJuPCtx",
        "colab": {
          "base_uri": "https://localhost:8080/",
          "height": 424
        },
        "outputId": "7d12d6fd-5966-4cf9-8fe0-65579988e4a2"
      },
      "outputs": [
        {
          "output_type": "execute_result",
          "data": {
            "text/plain": [
              "            date  item  sales   end_date  duration\n",
              "0     2013-01-01     1    133 2013-04-01        90\n",
              "1     2013-01-01     2    327 2013-04-01        90\n",
              "2     2013-01-01     3    172 2013-04-01        90\n",
              "3     2013-01-01     4    102 2013-04-01        90\n",
              "4     2013-01-01     5     83 2013-04-01        90\n",
              "...          ...   ...    ...        ...       ...\n",
              "91295 2017-12-31    46    605 2018-03-31        90\n",
              "91296 2017-12-31    47    211 2018-03-31        90\n",
              "91297 2017-12-31    48    494 2018-03-31        90\n",
              "91298 2017-12-31    49    285 2018-03-31        90\n",
              "91299 2017-12-31    50    626 2018-03-31        90\n",
              "\n",
              "[91300 rows x 5 columns]"
            ],
            "text/html": [
              "\n",
              "  <div id=\"df-d304dd1e-6a5b-4b8e-87bf-0d21dfa02288\">\n",
              "    <div class=\"colab-df-container\">\n",
              "      <div>\n",
              "<style scoped>\n",
              "    .dataframe tbody tr th:only-of-type {\n",
              "        vertical-align: middle;\n",
              "    }\n",
              "\n",
              "    .dataframe tbody tr th {\n",
              "        vertical-align: top;\n",
              "    }\n",
              "\n",
              "    .dataframe thead th {\n",
              "        text-align: right;\n",
              "    }\n",
              "</style>\n",
              "<table border=\"1\" class=\"dataframe\">\n",
              "  <thead>\n",
              "    <tr style=\"text-align: right;\">\n",
              "      <th></th>\n",
              "      <th>date</th>\n",
              "      <th>item</th>\n",
              "      <th>sales</th>\n",
              "      <th>end_date</th>\n",
              "      <th>duration</th>\n",
              "    </tr>\n",
              "  </thead>\n",
              "  <tbody>\n",
              "    <tr>\n",
              "      <th>0</th>\n",
              "      <td>2013-01-01</td>\n",
              "      <td>1</td>\n",
              "      <td>133</td>\n",
              "      <td>2013-04-01</td>\n",
              "      <td>90</td>\n",
              "    </tr>\n",
              "    <tr>\n",
              "      <th>1</th>\n",
              "      <td>2013-01-01</td>\n",
              "      <td>2</td>\n",
              "      <td>327</td>\n",
              "      <td>2013-04-01</td>\n",
              "      <td>90</td>\n",
              "    </tr>\n",
              "    <tr>\n",
              "      <th>2</th>\n",
              "      <td>2013-01-01</td>\n",
              "      <td>3</td>\n",
              "      <td>172</td>\n",
              "      <td>2013-04-01</td>\n",
              "      <td>90</td>\n",
              "    </tr>\n",
              "    <tr>\n",
              "      <th>3</th>\n",
              "      <td>2013-01-01</td>\n",
              "      <td>4</td>\n",
              "      <td>102</td>\n",
              "      <td>2013-04-01</td>\n",
              "      <td>90</td>\n",
              "    </tr>\n",
              "    <tr>\n",
              "      <th>4</th>\n",
              "      <td>2013-01-01</td>\n",
              "      <td>5</td>\n",
              "      <td>83</td>\n",
              "      <td>2013-04-01</td>\n",
              "      <td>90</td>\n",
              "    </tr>\n",
              "    <tr>\n",
              "      <th>...</th>\n",
              "      <td>...</td>\n",
              "      <td>...</td>\n",
              "      <td>...</td>\n",
              "      <td>...</td>\n",
              "      <td>...</td>\n",
              "    </tr>\n",
              "    <tr>\n",
              "      <th>91295</th>\n",
              "      <td>2017-12-31</td>\n",
              "      <td>46</td>\n",
              "      <td>605</td>\n",
              "      <td>2018-03-31</td>\n",
              "      <td>90</td>\n",
              "    </tr>\n",
              "    <tr>\n",
              "      <th>91296</th>\n",
              "      <td>2017-12-31</td>\n",
              "      <td>47</td>\n",
              "      <td>211</td>\n",
              "      <td>2018-03-31</td>\n",
              "      <td>90</td>\n",
              "    </tr>\n",
              "    <tr>\n",
              "      <th>91297</th>\n",
              "      <td>2017-12-31</td>\n",
              "      <td>48</td>\n",
              "      <td>494</td>\n",
              "      <td>2018-03-31</td>\n",
              "      <td>90</td>\n",
              "    </tr>\n",
              "    <tr>\n",
              "      <th>91298</th>\n",
              "      <td>2017-12-31</td>\n",
              "      <td>49</td>\n",
              "      <td>285</td>\n",
              "      <td>2018-03-31</td>\n",
              "      <td>90</td>\n",
              "    </tr>\n",
              "    <tr>\n",
              "      <th>91299</th>\n",
              "      <td>2017-12-31</td>\n",
              "      <td>50</td>\n",
              "      <td>626</td>\n",
              "      <td>2018-03-31</td>\n",
              "      <td>90</td>\n",
              "    </tr>\n",
              "  </tbody>\n",
              "</table>\n",
              "<p>91300 rows × 5 columns</p>\n",
              "</div>\n",
              "      <button class=\"colab-df-convert\" onclick=\"convertToInteractive('df-d304dd1e-6a5b-4b8e-87bf-0d21dfa02288')\"\n",
              "              title=\"Convert this dataframe to an interactive table.\"\n",
              "              style=\"display:none;\">\n",
              "        \n",
              "  <svg xmlns=\"http://www.w3.org/2000/svg\" height=\"24px\"viewBox=\"0 0 24 24\"\n",
              "       width=\"24px\">\n",
              "    <path d=\"M0 0h24v24H0V0z\" fill=\"none\"/>\n",
              "    <path d=\"M18.56 5.44l.94 2.06.94-2.06 2.06-.94-2.06-.94-.94-2.06-.94 2.06-2.06.94zm-11 1L8.5 8.5l.94-2.06 2.06-.94-2.06-.94L8.5 2.5l-.94 2.06-2.06.94zm10 10l.94 2.06.94-2.06 2.06-.94-2.06-.94-.94-2.06-.94 2.06-2.06.94z\"/><path d=\"M17.41 7.96l-1.37-1.37c-.4-.4-.92-.59-1.43-.59-.52 0-1.04.2-1.43.59L10.3 9.45l-7.72 7.72c-.78.78-.78 2.05 0 2.83L4 21.41c.39.39.9.59 1.41.59.51 0 1.02-.2 1.41-.59l7.78-7.78 2.81-2.81c.8-.78.8-2.07 0-2.86zM5.41 20L4 18.59l7.72-7.72 1.47 1.35L5.41 20z\"/>\n",
              "  </svg>\n",
              "      </button>\n",
              "      \n",
              "  <style>\n",
              "    .colab-df-container {\n",
              "      display:flex;\n",
              "      flex-wrap:wrap;\n",
              "      gap: 12px;\n",
              "    }\n",
              "\n",
              "    .colab-df-convert {\n",
              "      background-color: #E8F0FE;\n",
              "      border: none;\n",
              "      border-radius: 50%;\n",
              "      cursor: pointer;\n",
              "      display: none;\n",
              "      fill: #1967D2;\n",
              "      height: 32px;\n",
              "      padding: 0 0 0 0;\n",
              "      width: 32px;\n",
              "    }\n",
              "\n",
              "    .colab-df-convert:hover {\n",
              "      background-color: #E2EBFA;\n",
              "      box-shadow: 0px 1px 2px rgba(60, 64, 67, 0.3), 0px 1px 3px 1px rgba(60, 64, 67, 0.15);\n",
              "      fill: #174EA6;\n",
              "    }\n",
              "\n",
              "    [theme=dark] .colab-df-convert {\n",
              "      background-color: #3B4455;\n",
              "      fill: #D2E3FC;\n",
              "    }\n",
              "\n",
              "    [theme=dark] .colab-df-convert:hover {\n",
              "      background-color: #434B5C;\n",
              "      box-shadow: 0px 1px 3px 1px rgba(0, 0, 0, 0.15);\n",
              "      filter: drop-shadow(0px 1px 2px rgba(0, 0, 0, 0.3));\n",
              "      fill: #FFFFFF;\n",
              "    }\n",
              "  </style>\n",
              "\n",
              "      <script>\n",
              "        const buttonEl =\n",
              "          document.querySelector('#df-d304dd1e-6a5b-4b8e-87bf-0d21dfa02288 button.colab-df-convert');\n",
              "        buttonEl.style.display =\n",
              "          google.colab.kernel.accessAllowed ? 'block' : 'none';\n",
              "\n",
              "        async function convertToInteractive(key) {\n",
              "          const element = document.querySelector('#df-d304dd1e-6a5b-4b8e-87bf-0d21dfa02288');\n",
              "          const dataTable =\n",
              "            await google.colab.kernel.invokeFunction('convertToInteractive',\n",
              "                                                     [key], {});\n",
              "          if (!dataTable) return;\n",
              "\n",
              "          const docLinkHtml = 'Like what you see? Visit the ' +\n",
              "            '<a target=\"_blank\" href=https://colab.research.google.com/notebooks/data_table.ipynb>data table notebook</a>'\n",
              "            + ' to learn more about interactive tables.';\n",
              "          element.innerHTML = '';\n",
              "          dataTable['output_type'] = 'display_data';\n",
              "          await google.colab.output.renderOutput(dataTable, element);\n",
              "          const docLink = document.createElement('div');\n",
              "          docLink.innerHTML = docLinkHtml;\n",
              "          element.appendChild(docLink);\n",
              "        }\n",
              "      </script>\n",
              "    </div>\n",
              "  </div>\n",
              "  "
            ]
          },
          "metadata": {},
          "execution_count": 11
        }
      ],
      "source": [
        "df['duration']=(df['end_date']-df['date']).dt.days\n",
        "df"
      ]
    },
    {
      "cell_type": "code",
      "execution_count": 12,
      "metadata": {
        "id": "ycS_Mmyy3uac",
        "colab": {
          "base_uri": "https://localhost:8080/",
          "height": 424
        },
        "outputId": "bbc13861-110f-4620-b6a8-417f1976af3f"
      },
      "outputs": [
        {
          "output_type": "execute_result",
          "data": {
            "text/plain": [
              "            date  item  sales   end_date  duration\n",
              "1     2013-01-01     2    327 2013-04-01        90\n",
              "51    2013-01-02     2    279 2013-04-02        90\n",
              "101   2013-01-03     2    304 2013-04-03        90\n",
              "151   2013-01-04     2    359 2013-04-04        90\n",
              "201   2013-01-05     2    377 2013-04-05        90\n",
              "...          ...   ...    ...        ...       ...\n",
              "91051 2017-12-27     2    500 2018-03-27        90\n",
              "91101 2017-12-28     2    495 2018-03-28        90\n",
              "91151 2017-12-29     2    515 2018-03-29        90\n",
              "91201 2017-12-30     2    538 2018-03-30        90\n",
              "91251 2017-12-31     2    634 2018-03-31        90\n",
              "\n",
              "[1826 rows x 5 columns]"
            ],
            "text/html": [
              "\n",
              "  <div id=\"df-dbd025c0-6c02-4325-9a07-8012c89fc2b7\">\n",
              "    <div class=\"colab-df-container\">\n",
              "      <div>\n",
              "<style scoped>\n",
              "    .dataframe tbody tr th:only-of-type {\n",
              "        vertical-align: middle;\n",
              "    }\n",
              "\n",
              "    .dataframe tbody tr th {\n",
              "        vertical-align: top;\n",
              "    }\n",
              "\n",
              "    .dataframe thead th {\n",
              "        text-align: right;\n",
              "    }\n",
              "</style>\n",
              "<table border=\"1\" class=\"dataframe\">\n",
              "  <thead>\n",
              "    <tr style=\"text-align: right;\">\n",
              "      <th></th>\n",
              "      <th>date</th>\n",
              "      <th>item</th>\n",
              "      <th>sales</th>\n",
              "      <th>end_date</th>\n",
              "      <th>duration</th>\n",
              "    </tr>\n",
              "  </thead>\n",
              "  <tbody>\n",
              "    <tr>\n",
              "      <th>1</th>\n",
              "      <td>2013-01-01</td>\n",
              "      <td>2</td>\n",
              "      <td>327</td>\n",
              "      <td>2013-04-01</td>\n",
              "      <td>90</td>\n",
              "    </tr>\n",
              "    <tr>\n",
              "      <th>51</th>\n",
              "      <td>2013-01-02</td>\n",
              "      <td>2</td>\n",
              "      <td>279</td>\n",
              "      <td>2013-04-02</td>\n",
              "      <td>90</td>\n",
              "    </tr>\n",
              "    <tr>\n",
              "      <th>101</th>\n",
              "      <td>2013-01-03</td>\n",
              "      <td>2</td>\n",
              "      <td>304</td>\n",
              "      <td>2013-04-03</td>\n",
              "      <td>90</td>\n",
              "    </tr>\n",
              "    <tr>\n",
              "      <th>151</th>\n",
              "      <td>2013-01-04</td>\n",
              "      <td>2</td>\n",
              "      <td>359</td>\n",
              "      <td>2013-04-04</td>\n",
              "      <td>90</td>\n",
              "    </tr>\n",
              "    <tr>\n",
              "      <th>201</th>\n",
              "      <td>2013-01-05</td>\n",
              "      <td>2</td>\n",
              "      <td>377</td>\n",
              "      <td>2013-04-05</td>\n",
              "      <td>90</td>\n",
              "    </tr>\n",
              "    <tr>\n",
              "      <th>...</th>\n",
              "      <td>...</td>\n",
              "      <td>...</td>\n",
              "      <td>...</td>\n",
              "      <td>...</td>\n",
              "      <td>...</td>\n",
              "    </tr>\n",
              "    <tr>\n",
              "      <th>91051</th>\n",
              "      <td>2017-12-27</td>\n",
              "      <td>2</td>\n",
              "      <td>500</td>\n",
              "      <td>2018-03-27</td>\n",
              "      <td>90</td>\n",
              "    </tr>\n",
              "    <tr>\n",
              "      <th>91101</th>\n",
              "      <td>2017-12-28</td>\n",
              "      <td>2</td>\n",
              "      <td>495</td>\n",
              "      <td>2018-03-28</td>\n",
              "      <td>90</td>\n",
              "    </tr>\n",
              "    <tr>\n",
              "      <th>91151</th>\n",
              "      <td>2017-12-29</td>\n",
              "      <td>2</td>\n",
              "      <td>515</td>\n",
              "      <td>2018-03-29</td>\n",
              "      <td>90</td>\n",
              "    </tr>\n",
              "    <tr>\n",
              "      <th>91201</th>\n",
              "      <td>2017-12-30</td>\n",
              "      <td>2</td>\n",
              "      <td>538</td>\n",
              "      <td>2018-03-30</td>\n",
              "      <td>90</td>\n",
              "    </tr>\n",
              "    <tr>\n",
              "      <th>91251</th>\n",
              "      <td>2017-12-31</td>\n",
              "      <td>2</td>\n",
              "      <td>634</td>\n",
              "      <td>2018-03-31</td>\n",
              "      <td>90</td>\n",
              "    </tr>\n",
              "  </tbody>\n",
              "</table>\n",
              "<p>1826 rows × 5 columns</p>\n",
              "</div>\n",
              "      <button class=\"colab-df-convert\" onclick=\"convertToInteractive('df-dbd025c0-6c02-4325-9a07-8012c89fc2b7')\"\n",
              "              title=\"Convert this dataframe to an interactive table.\"\n",
              "              style=\"display:none;\">\n",
              "        \n",
              "  <svg xmlns=\"http://www.w3.org/2000/svg\" height=\"24px\"viewBox=\"0 0 24 24\"\n",
              "       width=\"24px\">\n",
              "    <path d=\"M0 0h24v24H0V0z\" fill=\"none\"/>\n",
              "    <path d=\"M18.56 5.44l.94 2.06.94-2.06 2.06-.94-2.06-.94-.94-2.06-.94 2.06-2.06.94zm-11 1L8.5 8.5l.94-2.06 2.06-.94-2.06-.94L8.5 2.5l-.94 2.06-2.06.94zm10 10l.94 2.06.94-2.06 2.06-.94-2.06-.94-.94-2.06-.94 2.06-2.06.94z\"/><path d=\"M17.41 7.96l-1.37-1.37c-.4-.4-.92-.59-1.43-.59-.52 0-1.04.2-1.43.59L10.3 9.45l-7.72 7.72c-.78.78-.78 2.05 0 2.83L4 21.41c.39.39.9.59 1.41.59.51 0 1.02-.2 1.41-.59l7.78-7.78 2.81-2.81c.8-.78.8-2.07 0-2.86zM5.41 20L4 18.59l7.72-7.72 1.47 1.35L5.41 20z\"/>\n",
              "  </svg>\n",
              "      </button>\n",
              "      \n",
              "  <style>\n",
              "    .colab-df-container {\n",
              "      display:flex;\n",
              "      flex-wrap:wrap;\n",
              "      gap: 12px;\n",
              "    }\n",
              "\n",
              "    .colab-df-convert {\n",
              "      background-color: #E8F0FE;\n",
              "      border: none;\n",
              "      border-radius: 50%;\n",
              "      cursor: pointer;\n",
              "      display: none;\n",
              "      fill: #1967D2;\n",
              "      height: 32px;\n",
              "      padding: 0 0 0 0;\n",
              "      width: 32px;\n",
              "    }\n",
              "\n",
              "    .colab-df-convert:hover {\n",
              "      background-color: #E2EBFA;\n",
              "      box-shadow: 0px 1px 2px rgba(60, 64, 67, 0.3), 0px 1px 3px 1px rgba(60, 64, 67, 0.15);\n",
              "      fill: #174EA6;\n",
              "    }\n",
              "\n",
              "    [theme=dark] .colab-df-convert {\n",
              "      background-color: #3B4455;\n",
              "      fill: #D2E3FC;\n",
              "    }\n",
              "\n",
              "    [theme=dark] .colab-df-convert:hover {\n",
              "      background-color: #434B5C;\n",
              "      box-shadow: 0px 1px 3px 1px rgba(0, 0, 0, 0.15);\n",
              "      filter: drop-shadow(0px 1px 2px rgba(0, 0, 0, 0.3));\n",
              "      fill: #FFFFFF;\n",
              "    }\n",
              "  </style>\n",
              "\n",
              "      <script>\n",
              "        const buttonEl =\n",
              "          document.querySelector('#df-dbd025c0-6c02-4325-9a07-8012c89fc2b7 button.colab-df-convert');\n",
              "        buttonEl.style.display =\n",
              "          google.colab.kernel.accessAllowed ? 'block' : 'none';\n",
              "\n",
              "        async function convertToInteractive(key) {\n",
              "          const element = document.querySelector('#df-dbd025c0-6c02-4325-9a07-8012c89fc2b7');\n",
              "          const dataTable =\n",
              "            await google.colab.kernel.invokeFunction('convertToInteractive',\n",
              "                                                     [key], {});\n",
              "          if (!dataTable) return;\n",
              "\n",
              "          const docLinkHtml = 'Like what you see? Visit the ' +\n",
              "            '<a target=\"_blank\" href=https://colab.research.google.com/notebooks/data_table.ipynb>data table notebook</a>'\n",
              "            + ' to learn more about interactive tables.';\n",
              "          element.innerHTML = '';\n",
              "          dataTable['output_type'] = 'display_data';\n",
              "          await google.colab.output.renderOutput(dataTable, element);\n",
              "          const docLink = document.createElement('div');\n",
              "          docLink.innerHTML = docLinkHtml;\n",
              "          element.appendChild(docLink);\n",
              "        }\n",
              "      </script>\n",
              "    </div>\n",
              "  </div>\n",
              "  "
            ]
          },
          "metadata": {},
          "execution_count": 12
        }
      ],
      "source": [
        "items_df=[]                                     # A whole dataframe split into multiple dataframe with respect to items\n",
        "for i in range(1,51):\n",
        "  items_df.append(df.loc[df['item']==i])\n",
        "items_df[1]                                     # Every item have unique dataframe\n",
        "  "
      ]
    },
    {
      "cell_type": "code",
      "execution_count": 13,
      "metadata": {
        "id": "0O6LneQE8-a6",
        "colab": {
          "base_uri": "https://localhost:8080/",
          "height": 206
        },
        "outputId": "0c538b0a-0f9b-4553-d3dc-426d1b8f8da4"
      },
      "outputs": [
        {
          "output_type": "execute_result",
          "data": {
            "text/plain": [
              "          date  item  sales   end_date  duration\n",
              "5   2013-01-01     6    288 2013-04-01        90\n",
              "55  2013-01-02     6    310 2013-04-02        90\n",
              "105 2013-01-03     6    309 2013-04-03        90\n",
              "155 2013-01-04     6    343 2013-04-04        90\n",
              "205 2013-01-05     6    343 2013-04-05        90"
            ],
            "text/html": [
              "\n",
              "  <div id=\"df-4c9ab2d4-f16e-4b83-bb68-a418636cd883\">\n",
              "    <div class=\"colab-df-container\">\n",
              "      <div>\n",
              "<style scoped>\n",
              "    .dataframe tbody tr th:only-of-type {\n",
              "        vertical-align: middle;\n",
              "    }\n",
              "\n",
              "    .dataframe tbody tr th {\n",
              "        vertical-align: top;\n",
              "    }\n",
              "\n",
              "    .dataframe thead th {\n",
              "        text-align: right;\n",
              "    }\n",
              "</style>\n",
              "<table border=\"1\" class=\"dataframe\">\n",
              "  <thead>\n",
              "    <tr style=\"text-align: right;\">\n",
              "      <th></th>\n",
              "      <th>date</th>\n",
              "      <th>item</th>\n",
              "      <th>sales</th>\n",
              "      <th>end_date</th>\n",
              "      <th>duration</th>\n",
              "    </tr>\n",
              "  </thead>\n",
              "  <tbody>\n",
              "    <tr>\n",
              "      <th>5</th>\n",
              "      <td>2013-01-01</td>\n",
              "      <td>6</td>\n",
              "      <td>288</td>\n",
              "      <td>2013-04-01</td>\n",
              "      <td>90</td>\n",
              "    </tr>\n",
              "    <tr>\n",
              "      <th>55</th>\n",
              "      <td>2013-01-02</td>\n",
              "      <td>6</td>\n",
              "      <td>310</td>\n",
              "      <td>2013-04-02</td>\n",
              "      <td>90</td>\n",
              "    </tr>\n",
              "    <tr>\n",
              "      <th>105</th>\n",
              "      <td>2013-01-03</td>\n",
              "      <td>6</td>\n",
              "      <td>309</td>\n",
              "      <td>2013-04-03</td>\n",
              "      <td>90</td>\n",
              "    </tr>\n",
              "    <tr>\n",
              "      <th>155</th>\n",
              "      <td>2013-01-04</td>\n",
              "      <td>6</td>\n",
              "      <td>343</td>\n",
              "      <td>2013-04-04</td>\n",
              "      <td>90</td>\n",
              "    </tr>\n",
              "    <tr>\n",
              "      <th>205</th>\n",
              "      <td>2013-01-05</td>\n",
              "      <td>6</td>\n",
              "      <td>343</td>\n",
              "      <td>2013-04-05</td>\n",
              "      <td>90</td>\n",
              "    </tr>\n",
              "  </tbody>\n",
              "</table>\n",
              "</div>\n",
              "      <button class=\"colab-df-convert\" onclick=\"convertToInteractive('df-4c9ab2d4-f16e-4b83-bb68-a418636cd883')\"\n",
              "              title=\"Convert this dataframe to an interactive table.\"\n",
              "              style=\"display:none;\">\n",
              "        \n",
              "  <svg xmlns=\"http://www.w3.org/2000/svg\" height=\"24px\"viewBox=\"0 0 24 24\"\n",
              "       width=\"24px\">\n",
              "    <path d=\"M0 0h24v24H0V0z\" fill=\"none\"/>\n",
              "    <path d=\"M18.56 5.44l.94 2.06.94-2.06 2.06-.94-2.06-.94-.94-2.06-.94 2.06-2.06.94zm-11 1L8.5 8.5l.94-2.06 2.06-.94-2.06-.94L8.5 2.5l-.94 2.06-2.06.94zm10 10l.94 2.06.94-2.06 2.06-.94-2.06-.94-.94-2.06-.94 2.06-2.06.94z\"/><path d=\"M17.41 7.96l-1.37-1.37c-.4-.4-.92-.59-1.43-.59-.52 0-1.04.2-1.43.59L10.3 9.45l-7.72 7.72c-.78.78-.78 2.05 0 2.83L4 21.41c.39.39.9.59 1.41.59.51 0 1.02-.2 1.41-.59l7.78-7.78 2.81-2.81c.8-.78.8-2.07 0-2.86zM5.41 20L4 18.59l7.72-7.72 1.47 1.35L5.41 20z\"/>\n",
              "  </svg>\n",
              "      </button>\n",
              "      \n",
              "  <style>\n",
              "    .colab-df-container {\n",
              "      display:flex;\n",
              "      flex-wrap:wrap;\n",
              "      gap: 12px;\n",
              "    }\n",
              "\n",
              "    .colab-df-convert {\n",
              "      background-color: #E8F0FE;\n",
              "      border: none;\n",
              "      border-radius: 50%;\n",
              "      cursor: pointer;\n",
              "      display: none;\n",
              "      fill: #1967D2;\n",
              "      height: 32px;\n",
              "      padding: 0 0 0 0;\n",
              "      width: 32px;\n",
              "    }\n",
              "\n",
              "    .colab-df-convert:hover {\n",
              "      background-color: #E2EBFA;\n",
              "      box-shadow: 0px 1px 2px rgba(60, 64, 67, 0.3), 0px 1px 3px 1px rgba(60, 64, 67, 0.15);\n",
              "      fill: #174EA6;\n",
              "    }\n",
              "\n",
              "    [theme=dark] .colab-df-convert {\n",
              "      background-color: #3B4455;\n",
              "      fill: #D2E3FC;\n",
              "    }\n",
              "\n",
              "    [theme=dark] .colab-df-convert:hover {\n",
              "      background-color: #434B5C;\n",
              "      box-shadow: 0px 1px 3px 1px rgba(0, 0, 0, 0.15);\n",
              "      filter: drop-shadow(0px 1px 2px rgba(0, 0, 0, 0.3));\n",
              "      fill: #FFFFFF;\n",
              "    }\n",
              "  </style>\n",
              "\n",
              "      <script>\n",
              "        const buttonEl =\n",
              "          document.querySelector('#df-4c9ab2d4-f16e-4b83-bb68-a418636cd883 button.colab-df-convert');\n",
              "        buttonEl.style.display =\n",
              "          google.colab.kernel.accessAllowed ? 'block' : 'none';\n",
              "\n",
              "        async function convertToInteractive(key) {\n",
              "          const element = document.querySelector('#df-4c9ab2d4-f16e-4b83-bb68-a418636cd883');\n",
              "          const dataTable =\n",
              "            await google.colab.kernel.invokeFunction('convertToInteractive',\n",
              "                                                     [key], {});\n",
              "          if (!dataTable) return;\n",
              "\n",
              "          const docLinkHtml = 'Like what you see? Visit the ' +\n",
              "            '<a target=\"_blank\" href=https://colab.research.google.com/notebooks/data_table.ipynb>data table notebook</a>'\n",
              "            + ' to learn more about interactive tables.';\n",
              "          element.innerHTML = '';\n",
              "          dataTable['output_type'] = 'display_data';\n",
              "          await google.colab.output.renderOutput(dataTable, element);\n",
              "          const docLink = document.createElement('div');\n",
              "          docLink.innerHTML = docLinkHtml;\n",
              "          element.appendChild(docLink);\n",
              "        }\n",
              "      </script>\n",
              "    </div>\n",
              "  </div>\n",
              "  "
            ]
          },
          "metadata": {},
          "execution_count": 13
        }
      ],
      "source": [
        "items_df[5].head()"
      ]
    },
    {
      "cell_type": "code",
      "execution_count": 14,
      "metadata": {
        "id": "1WYUkV8099qO"
      },
      "outputs": [],
      "source": [
        "def three_month_sales(data):\n",
        "  three=[]\n",
        "  for i in range(0,len(data)):\n",
        "    sum=data['sales'][i:i+data.iloc[i,4]].sum()\n",
        "    three.append(sum)\n",
        "\n",
        "  data['three_month_sale']=three\n",
        "  data.drop(data.tail(91).index,inplace=True)\n",
        "  return data"
      ]
    },
    {
      "cell_type": "code",
      "execution_count": 15,
      "metadata": {
        "id": "TXXjgax6DVdF"
      },
      "outputs": [],
      "source": [
        "dataset=[three_month_sales(items_df[k]) for k in range(50)]"
      ]
    },
    {
      "cell_type": "code",
      "execution_count": 16,
      "metadata": {
        "id": "3cKkySHnaqW9",
        "colab": {
          "base_uri": "https://localhost:8080/",
          "height": 424
        },
        "outputId": "52a1d726-948f-4b25-a0eb-00f42d96b8ab"
      },
      "outputs": [
        {
          "output_type": "execute_result",
          "data": {
            "text/plain": [
              "            date  item  sales   end_date  duration  three_month_sale\n",
              "0     2013-01-01     1    133 2013-04-01        90             12847\n",
              "50    2013-01-02     1     99 2013-04-02        90             12848\n",
              "100   2013-01-03     1    127 2013-04-03        90             12936\n",
              "150   2013-01-04     1    145 2013-04-04        90             13019\n",
              "200   2013-01-05     1    149 2013-04-05        90             13103\n",
              "...          ...   ...    ...        ...       ...               ...\n",
              "86500 2017-09-27     1    249 2017-12-27        91             21126\n",
              "86550 2017-09-28     1    235 2017-12-28        91             21031\n",
              "86600 2017-09-29     1    270 2017-12-29        91             20974\n",
              "86650 2017-09-30     1    269 2017-12-30        91             20911\n",
              "86700 2017-10-01     1    300 2018-01-01        92             21105\n",
              "\n",
              "[1735 rows x 6 columns]"
            ],
            "text/html": [
              "\n",
              "  <div id=\"df-55bbcb41-4620-437c-8ba8-800df3529bca\">\n",
              "    <div class=\"colab-df-container\">\n",
              "      <div>\n",
              "<style scoped>\n",
              "    .dataframe tbody tr th:only-of-type {\n",
              "        vertical-align: middle;\n",
              "    }\n",
              "\n",
              "    .dataframe tbody tr th {\n",
              "        vertical-align: top;\n",
              "    }\n",
              "\n",
              "    .dataframe thead th {\n",
              "        text-align: right;\n",
              "    }\n",
              "</style>\n",
              "<table border=\"1\" class=\"dataframe\">\n",
              "  <thead>\n",
              "    <tr style=\"text-align: right;\">\n",
              "      <th></th>\n",
              "      <th>date</th>\n",
              "      <th>item</th>\n",
              "      <th>sales</th>\n",
              "      <th>end_date</th>\n",
              "      <th>duration</th>\n",
              "      <th>three_month_sale</th>\n",
              "    </tr>\n",
              "  </thead>\n",
              "  <tbody>\n",
              "    <tr>\n",
              "      <th>0</th>\n",
              "      <td>2013-01-01</td>\n",
              "      <td>1</td>\n",
              "      <td>133</td>\n",
              "      <td>2013-04-01</td>\n",
              "      <td>90</td>\n",
              "      <td>12847</td>\n",
              "    </tr>\n",
              "    <tr>\n",
              "      <th>50</th>\n",
              "      <td>2013-01-02</td>\n",
              "      <td>1</td>\n",
              "      <td>99</td>\n",
              "      <td>2013-04-02</td>\n",
              "      <td>90</td>\n",
              "      <td>12848</td>\n",
              "    </tr>\n",
              "    <tr>\n",
              "      <th>100</th>\n",
              "      <td>2013-01-03</td>\n",
              "      <td>1</td>\n",
              "      <td>127</td>\n",
              "      <td>2013-04-03</td>\n",
              "      <td>90</td>\n",
              "      <td>12936</td>\n",
              "    </tr>\n",
              "    <tr>\n",
              "      <th>150</th>\n",
              "      <td>2013-01-04</td>\n",
              "      <td>1</td>\n",
              "      <td>145</td>\n",
              "      <td>2013-04-04</td>\n",
              "      <td>90</td>\n",
              "      <td>13019</td>\n",
              "    </tr>\n",
              "    <tr>\n",
              "      <th>200</th>\n",
              "      <td>2013-01-05</td>\n",
              "      <td>1</td>\n",
              "      <td>149</td>\n",
              "      <td>2013-04-05</td>\n",
              "      <td>90</td>\n",
              "      <td>13103</td>\n",
              "    </tr>\n",
              "    <tr>\n",
              "      <th>...</th>\n",
              "      <td>...</td>\n",
              "      <td>...</td>\n",
              "      <td>...</td>\n",
              "      <td>...</td>\n",
              "      <td>...</td>\n",
              "      <td>...</td>\n",
              "    </tr>\n",
              "    <tr>\n",
              "      <th>86500</th>\n",
              "      <td>2017-09-27</td>\n",
              "      <td>1</td>\n",
              "      <td>249</td>\n",
              "      <td>2017-12-27</td>\n",
              "      <td>91</td>\n",
              "      <td>21126</td>\n",
              "    </tr>\n",
              "    <tr>\n",
              "      <th>86550</th>\n",
              "      <td>2017-09-28</td>\n",
              "      <td>1</td>\n",
              "      <td>235</td>\n",
              "      <td>2017-12-28</td>\n",
              "      <td>91</td>\n",
              "      <td>21031</td>\n",
              "    </tr>\n",
              "    <tr>\n",
              "      <th>86600</th>\n",
              "      <td>2017-09-29</td>\n",
              "      <td>1</td>\n",
              "      <td>270</td>\n",
              "      <td>2017-12-29</td>\n",
              "      <td>91</td>\n",
              "      <td>20974</td>\n",
              "    </tr>\n",
              "    <tr>\n",
              "      <th>86650</th>\n",
              "      <td>2017-09-30</td>\n",
              "      <td>1</td>\n",
              "      <td>269</td>\n",
              "      <td>2017-12-30</td>\n",
              "      <td>91</td>\n",
              "      <td>20911</td>\n",
              "    </tr>\n",
              "    <tr>\n",
              "      <th>86700</th>\n",
              "      <td>2017-10-01</td>\n",
              "      <td>1</td>\n",
              "      <td>300</td>\n",
              "      <td>2018-01-01</td>\n",
              "      <td>92</td>\n",
              "      <td>21105</td>\n",
              "    </tr>\n",
              "  </tbody>\n",
              "</table>\n",
              "<p>1735 rows × 6 columns</p>\n",
              "</div>\n",
              "      <button class=\"colab-df-convert\" onclick=\"convertToInteractive('df-55bbcb41-4620-437c-8ba8-800df3529bca')\"\n",
              "              title=\"Convert this dataframe to an interactive table.\"\n",
              "              style=\"display:none;\">\n",
              "        \n",
              "  <svg xmlns=\"http://www.w3.org/2000/svg\" height=\"24px\"viewBox=\"0 0 24 24\"\n",
              "       width=\"24px\">\n",
              "    <path d=\"M0 0h24v24H0V0z\" fill=\"none\"/>\n",
              "    <path d=\"M18.56 5.44l.94 2.06.94-2.06 2.06-.94-2.06-.94-.94-2.06-.94 2.06-2.06.94zm-11 1L8.5 8.5l.94-2.06 2.06-.94-2.06-.94L8.5 2.5l-.94 2.06-2.06.94zm10 10l.94 2.06.94-2.06 2.06-.94-2.06-.94-.94-2.06-.94 2.06-2.06.94z\"/><path d=\"M17.41 7.96l-1.37-1.37c-.4-.4-.92-.59-1.43-.59-.52 0-1.04.2-1.43.59L10.3 9.45l-7.72 7.72c-.78.78-.78 2.05 0 2.83L4 21.41c.39.39.9.59 1.41.59.51 0 1.02-.2 1.41-.59l7.78-7.78 2.81-2.81c.8-.78.8-2.07 0-2.86zM5.41 20L4 18.59l7.72-7.72 1.47 1.35L5.41 20z\"/>\n",
              "  </svg>\n",
              "      </button>\n",
              "      \n",
              "  <style>\n",
              "    .colab-df-container {\n",
              "      display:flex;\n",
              "      flex-wrap:wrap;\n",
              "      gap: 12px;\n",
              "    }\n",
              "\n",
              "    .colab-df-convert {\n",
              "      background-color: #E8F0FE;\n",
              "      border: none;\n",
              "      border-radius: 50%;\n",
              "      cursor: pointer;\n",
              "      display: none;\n",
              "      fill: #1967D2;\n",
              "      height: 32px;\n",
              "      padding: 0 0 0 0;\n",
              "      width: 32px;\n",
              "    }\n",
              "\n",
              "    .colab-df-convert:hover {\n",
              "      background-color: #E2EBFA;\n",
              "      box-shadow: 0px 1px 2px rgba(60, 64, 67, 0.3), 0px 1px 3px 1px rgba(60, 64, 67, 0.15);\n",
              "      fill: #174EA6;\n",
              "    }\n",
              "\n",
              "    [theme=dark] .colab-df-convert {\n",
              "      background-color: #3B4455;\n",
              "      fill: #D2E3FC;\n",
              "    }\n",
              "\n",
              "    [theme=dark] .colab-df-convert:hover {\n",
              "      background-color: #434B5C;\n",
              "      box-shadow: 0px 1px 3px 1px rgba(0, 0, 0, 0.15);\n",
              "      filter: drop-shadow(0px 1px 2px rgba(0, 0, 0, 0.3));\n",
              "      fill: #FFFFFF;\n",
              "    }\n",
              "  </style>\n",
              "\n",
              "      <script>\n",
              "        const buttonEl =\n",
              "          document.querySelector('#df-55bbcb41-4620-437c-8ba8-800df3529bca button.colab-df-convert');\n",
              "        buttonEl.style.display =\n",
              "          google.colab.kernel.accessAllowed ? 'block' : 'none';\n",
              "\n",
              "        async function convertToInteractive(key) {\n",
              "          const element = document.querySelector('#df-55bbcb41-4620-437c-8ba8-800df3529bca');\n",
              "          const dataTable =\n",
              "            await google.colab.kernel.invokeFunction('convertToInteractive',\n",
              "                                                     [key], {});\n",
              "          if (!dataTable) return;\n",
              "\n",
              "          const docLinkHtml = 'Like what you see? Visit the ' +\n",
              "            '<a target=\"_blank\" href=https://colab.research.google.com/notebooks/data_table.ipynb>data table notebook</a>'\n",
              "            + ' to learn more about interactive tables.';\n",
              "          element.innerHTML = '';\n",
              "          dataTable['output_type'] = 'display_data';\n",
              "          await google.colab.output.renderOutput(dataTable, element);\n",
              "          const docLink = document.createElement('div');\n",
              "          docLink.innerHTML = docLinkHtml;\n",
              "          element.appendChild(docLink);\n",
              "        }\n",
              "      </script>\n",
              "    </div>\n",
              "  </div>\n",
              "  "
            ]
          },
          "metadata": {},
          "execution_count": 16
        }
      ],
      "source": [
        "dataset[0]"
      ]
    },
    {
      "cell_type": "code",
      "execution_count": 17,
      "metadata": {
        "id": "MGLb3134bHmh",
        "colab": {
          "base_uri": "https://localhost:8080/",
          "height": 424
        },
        "outputId": "d9ebdc36-155f-4c55-e28d-6097ce6be51d"
      },
      "outputs": [
        {
          "output_type": "execute_result",
          "data": {
            "text/plain": [
              "            date  item  duration  three_month_sale\n",
              "49    2013-01-01    50        90             38720\n",
              "99    2013-01-02    50        90             38874\n",
              "149   2013-01-03    50        90             39034\n",
              "199   2013-01-04    50        90             39200\n",
              "249   2013-01-05    50        90             39378\n",
              "...          ...   ...       ...               ...\n",
              "86549 2017-09-27    50        91             63158\n",
              "86599 2017-09-28    50        91             62942\n",
              "86649 2017-09-29    50        91             62787\n",
              "86699 2017-09-30    50        91             62558\n",
              "86749 2017-10-01    50        92             62925\n",
              "\n",
              "[1735 rows x 4 columns]"
            ],
            "text/html": [
              "\n",
              "  <div id=\"df-97d06445-4be1-4513-82d4-561485ef0b0d\">\n",
              "    <div class=\"colab-df-container\">\n",
              "      <div>\n",
              "<style scoped>\n",
              "    .dataframe tbody tr th:only-of-type {\n",
              "        vertical-align: middle;\n",
              "    }\n",
              "\n",
              "    .dataframe tbody tr th {\n",
              "        vertical-align: top;\n",
              "    }\n",
              "\n",
              "    .dataframe thead th {\n",
              "        text-align: right;\n",
              "    }\n",
              "</style>\n",
              "<table border=\"1\" class=\"dataframe\">\n",
              "  <thead>\n",
              "    <tr style=\"text-align: right;\">\n",
              "      <th></th>\n",
              "      <th>date</th>\n",
              "      <th>item</th>\n",
              "      <th>duration</th>\n",
              "      <th>three_month_sale</th>\n",
              "    </tr>\n",
              "  </thead>\n",
              "  <tbody>\n",
              "    <tr>\n",
              "      <th>49</th>\n",
              "      <td>2013-01-01</td>\n",
              "      <td>50</td>\n",
              "      <td>90</td>\n",
              "      <td>38720</td>\n",
              "    </tr>\n",
              "    <tr>\n",
              "      <th>99</th>\n",
              "      <td>2013-01-02</td>\n",
              "      <td>50</td>\n",
              "      <td>90</td>\n",
              "      <td>38874</td>\n",
              "    </tr>\n",
              "    <tr>\n",
              "      <th>149</th>\n",
              "      <td>2013-01-03</td>\n",
              "      <td>50</td>\n",
              "      <td>90</td>\n",
              "      <td>39034</td>\n",
              "    </tr>\n",
              "    <tr>\n",
              "      <th>199</th>\n",
              "      <td>2013-01-04</td>\n",
              "      <td>50</td>\n",
              "      <td>90</td>\n",
              "      <td>39200</td>\n",
              "    </tr>\n",
              "    <tr>\n",
              "      <th>249</th>\n",
              "      <td>2013-01-05</td>\n",
              "      <td>50</td>\n",
              "      <td>90</td>\n",
              "      <td>39378</td>\n",
              "    </tr>\n",
              "    <tr>\n",
              "      <th>...</th>\n",
              "      <td>...</td>\n",
              "      <td>...</td>\n",
              "      <td>...</td>\n",
              "      <td>...</td>\n",
              "    </tr>\n",
              "    <tr>\n",
              "      <th>86549</th>\n",
              "      <td>2017-09-27</td>\n",
              "      <td>50</td>\n",
              "      <td>91</td>\n",
              "      <td>63158</td>\n",
              "    </tr>\n",
              "    <tr>\n",
              "      <th>86599</th>\n",
              "      <td>2017-09-28</td>\n",
              "      <td>50</td>\n",
              "      <td>91</td>\n",
              "      <td>62942</td>\n",
              "    </tr>\n",
              "    <tr>\n",
              "      <th>86649</th>\n",
              "      <td>2017-09-29</td>\n",
              "      <td>50</td>\n",
              "      <td>91</td>\n",
              "      <td>62787</td>\n",
              "    </tr>\n",
              "    <tr>\n",
              "      <th>86699</th>\n",
              "      <td>2017-09-30</td>\n",
              "      <td>50</td>\n",
              "      <td>91</td>\n",
              "      <td>62558</td>\n",
              "    </tr>\n",
              "    <tr>\n",
              "      <th>86749</th>\n",
              "      <td>2017-10-01</td>\n",
              "      <td>50</td>\n",
              "      <td>92</td>\n",
              "      <td>62925</td>\n",
              "    </tr>\n",
              "  </tbody>\n",
              "</table>\n",
              "<p>1735 rows × 4 columns</p>\n",
              "</div>\n",
              "      <button class=\"colab-df-convert\" onclick=\"convertToInteractive('df-97d06445-4be1-4513-82d4-561485ef0b0d')\"\n",
              "              title=\"Convert this dataframe to an interactive table.\"\n",
              "              style=\"display:none;\">\n",
              "        \n",
              "  <svg xmlns=\"http://www.w3.org/2000/svg\" height=\"24px\"viewBox=\"0 0 24 24\"\n",
              "       width=\"24px\">\n",
              "    <path d=\"M0 0h24v24H0V0z\" fill=\"none\"/>\n",
              "    <path d=\"M18.56 5.44l.94 2.06.94-2.06 2.06-.94-2.06-.94-.94-2.06-.94 2.06-2.06.94zm-11 1L8.5 8.5l.94-2.06 2.06-.94-2.06-.94L8.5 2.5l-.94 2.06-2.06.94zm10 10l.94 2.06.94-2.06 2.06-.94-2.06-.94-.94-2.06-.94 2.06-2.06.94z\"/><path d=\"M17.41 7.96l-1.37-1.37c-.4-.4-.92-.59-1.43-.59-.52 0-1.04.2-1.43.59L10.3 9.45l-7.72 7.72c-.78.78-.78 2.05 0 2.83L4 21.41c.39.39.9.59 1.41.59.51 0 1.02-.2 1.41-.59l7.78-7.78 2.81-2.81c.8-.78.8-2.07 0-2.86zM5.41 20L4 18.59l7.72-7.72 1.47 1.35L5.41 20z\"/>\n",
              "  </svg>\n",
              "      </button>\n",
              "      \n",
              "  <style>\n",
              "    .colab-df-container {\n",
              "      display:flex;\n",
              "      flex-wrap:wrap;\n",
              "      gap: 12px;\n",
              "    }\n",
              "\n",
              "    .colab-df-convert {\n",
              "      background-color: #E8F0FE;\n",
              "      border: none;\n",
              "      border-radius: 50%;\n",
              "      cursor: pointer;\n",
              "      display: none;\n",
              "      fill: #1967D2;\n",
              "      height: 32px;\n",
              "      padding: 0 0 0 0;\n",
              "      width: 32px;\n",
              "    }\n",
              "\n",
              "    .colab-df-convert:hover {\n",
              "      background-color: #E2EBFA;\n",
              "      box-shadow: 0px 1px 2px rgba(60, 64, 67, 0.3), 0px 1px 3px 1px rgba(60, 64, 67, 0.15);\n",
              "      fill: #174EA6;\n",
              "    }\n",
              "\n",
              "    [theme=dark] .colab-df-convert {\n",
              "      background-color: #3B4455;\n",
              "      fill: #D2E3FC;\n",
              "    }\n",
              "\n",
              "    [theme=dark] .colab-df-convert:hover {\n",
              "      background-color: #434B5C;\n",
              "      box-shadow: 0px 1px 3px 1px rgba(0, 0, 0, 0.15);\n",
              "      filter: drop-shadow(0px 1px 2px rgba(0, 0, 0, 0.3));\n",
              "      fill: #FFFFFF;\n",
              "    }\n",
              "  </style>\n",
              "\n",
              "      <script>\n",
              "        const buttonEl =\n",
              "          document.querySelector('#df-97d06445-4be1-4513-82d4-561485ef0b0d button.colab-df-convert');\n",
              "        buttonEl.style.display =\n",
              "          google.colab.kernel.accessAllowed ? 'block' : 'none';\n",
              "\n",
              "        async function convertToInteractive(key) {\n",
              "          const element = document.querySelector('#df-97d06445-4be1-4513-82d4-561485ef0b0d');\n",
              "          const dataTable =\n",
              "            await google.colab.kernel.invokeFunction('convertToInteractive',\n",
              "                                                     [key], {});\n",
              "          if (!dataTable) return;\n",
              "\n",
              "          const docLinkHtml = 'Like what you see? Visit the ' +\n",
              "            '<a target=\"_blank\" href=https://colab.research.google.com/notebooks/data_table.ipynb>data table notebook</a>'\n",
              "            + ' to learn more about interactive tables.';\n",
              "          element.innerHTML = '';\n",
              "          dataTable['output_type'] = 'display_data';\n",
              "          await google.colab.output.renderOutput(dataTable, element);\n",
              "          const docLink = document.createElement('div');\n",
              "          docLink.innerHTML = docLinkHtml;\n",
              "          element.appendChild(docLink);\n",
              "        }\n",
              "      </script>\n",
              "    </div>\n",
              "  </div>\n",
              "  "
            ]
          },
          "metadata": {},
          "execution_count": 17
        }
      ],
      "source": [
        "def delete(df,unwanted):                          # delete the unwanted columns         \n",
        "  df.drop(unwanted,axis=1,inplace=True)\n",
        "  return df\n",
        "unwanted_col=['end_date','sales']                    \n",
        "dataset=[delete(dataset[i],unwanted_col) for i in range(50)]             # One day sales ware converted into three month sales both of them gives same informations.\n",
        "dataset[49]"
      ]
    },
    {
      "cell_type": "code",
      "execution_count": 18,
      "metadata": {
        "id": "FWJis0w_r5tr"
      },
      "outputs": [],
      "source": [
        "def dataframe(data):\n",
        "  df=data[0]\n",
        "  for i in range(1,50):\n",
        "    df=df.append(data[i],ignore_index=True)\n",
        "  return df"
      ]
    },
    {
      "cell_type": "code",
      "execution_count": 19,
      "metadata": {
        "id": "CBNwYhqkuaDH",
        "colab": {
          "base_uri": "https://localhost:8080/",
          "height": 424
        },
        "outputId": "bee744f5-9123-4d75-bf41-7f34af6fb4f4"
      },
      "outputs": [
        {
          "output_type": "execute_result",
          "data": {
            "text/plain": [
              "            date  item  duration  three_month_sale\n",
              "0     2013-01-01     1        90             12847\n",
              "1     2013-01-02     1        90             12848\n",
              "2     2013-01-03     1        90             12936\n",
              "3     2013-01-04     1        90             13019\n",
              "4     2013-01-05     1        90             13103\n",
              "...          ...   ...       ...               ...\n",
              "86745 2017-09-27    50        91             63158\n",
              "86746 2017-09-28    50        91             62942\n",
              "86747 2017-09-29    50        91             62787\n",
              "86748 2017-09-30    50        91             62558\n",
              "86749 2017-10-01    50        92             62925\n",
              "\n",
              "[86750 rows x 4 columns]"
            ],
            "text/html": [
              "\n",
              "  <div id=\"df-a66ae66f-16ec-496d-9144-622f173728a8\">\n",
              "    <div class=\"colab-df-container\">\n",
              "      <div>\n",
              "<style scoped>\n",
              "    .dataframe tbody tr th:only-of-type {\n",
              "        vertical-align: middle;\n",
              "    }\n",
              "\n",
              "    .dataframe tbody tr th {\n",
              "        vertical-align: top;\n",
              "    }\n",
              "\n",
              "    .dataframe thead th {\n",
              "        text-align: right;\n",
              "    }\n",
              "</style>\n",
              "<table border=\"1\" class=\"dataframe\">\n",
              "  <thead>\n",
              "    <tr style=\"text-align: right;\">\n",
              "      <th></th>\n",
              "      <th>date</th>\n",
              "      <th>item</th>\n",
              "      <th>duration</th>\n",
              "      <th>three_month_sale</th>\n",
              "    </tr>\n",
              "  </thead>\n",
              "  <tbody>\n",
              "    <tr>\n",
              "      <th>0</th>\n",
              "      <td>2013-01-01</td>\n",
              "      <td>1</td>\n",
              "      <td>90</td>\n",
              "      <td>12847</td>\n",
              "    </tr>\n",
              "    <tr>\n",
              "      <th>1</th>\n",
              "      <td>2013-01-02</td>\n",
              "      <td>1</td>\n",
              "      <td>90</td>\n",
              "      <td>12848</td>\n",
              "    </tr>\n",
              "    <tr>\n",
              "      <th>2</th>\n",
              "      <td>2013-01-03</td>\n",
              "      <td>1</td>\n",
              "      <td>90</td>\n",
              "      <td>12936</td>\n",
              "    </tr>\n",
              "    <tr>\n",
              "      <th>3</th>\n",
              "      <td>2013-01-04</td>\n",
              "      <td>1</td>\n",
              "      <td>90</td>\n",
              "      <td>13019</td>\n",
              "    </tr>\n",
              "    <tr>\n",
              "      <th>4</th>\n",
              "      <td>2013-01-05</td>\n",
              "      <td>1</td>\n",
              "      <td>90</td>\n",
              "      <td>13103</td>\n",
              "    </tr>\n",
              "    <tr>\n",
              "      <th>...</th>\n",
              "      <td>...</td>\n",
              "      <td>...</td>\n",
              "      <td>...</td>\n",
              "      <td>...</td>\n",
              "    </tr>\n",
              "    <tr>\n",
              "      <th>86745</th>\n",
              "      <td>2017-09-27</td>\n",
              "      <td>50</td>\n",
              "      <td>91</td>\n",
              "      <td>63158</td>\n",
              "    </tr>\n",
              "    <tr>\n",
              "      <th>86746</th>\n",
              "      <td>2017-09-28</td>\n",
              "      <td>50</td>\n",
              "      <td>91</td>\n",
              "      <td>62942</td>\n",
              "    </tr>\n",
              "    <tr>\n",
              "      <th>86747</th>\n",
              "      <td>2017-09-29</td>\n",
              "      <td>50</td>\n",
              "      <td>91</td>\n",
              "      <td>62787</td>\n",
              "    </tr>\n",
              "    <tr>\n",
              "      <th>86748</th>\n",
              "      <td>2017-09-30</td>\n",
              "      <td>50</td>\n",
              "      <td>91</td>\n",
              "      <td>62558</td>\n",
              "    </tr>\n",
              "    <tr>\n",
              "      <th>86749</th>\n",
              "      <td>2017-10-01</td>\n",
              "      <td>50</td>\n",
              "      <td>92</td>\n",
              "      <td>62925</td>\n",
              "    </tr>\n",
              "  </tbody>\n",
              "</table>\n",
              "<p>86750 rows × 4 columns</p>\n",
              "</div>\n",
              "      <button class=\"colab-df-convert\" onclick=\"convertToInteractive('df-a66ae66f-16ec-496d-9144-622f173728a8')\"\n",
              "              title=\"Convert this dataframe to an interactive table.\"\n",
              "              style=\"display:none;\">\n",
              "        \n",
              "  <svg xmlns=\"http://www.w3.org/2000/svg\" height=\"24px\"viewBox=\"0 0 24 24\"\n",
              "       width=\"24px\">\n",
              "    <path d=\"M0 0h24v24H0V0z\" fill=\"none\"/>\n",
              "    <path d=\"M18.56 5.44l.94 2.06.94-2.06 2.06-.94-2.06-.94-.94-2.06-.94 2.06-2.06.94zm-11 1L8.5 8.5l.94-2.06 2.06-.94-2.06-.94L8.5 2.5l-.94 2.06-2.06.94zm10 10l.94 2.06.94-2.06 2.06-.94-2.06-.94-.94-2.06-.94 2.06-2.06.94z\"/><path d=\"M17.41 7.96l-1.37-1.37c-.4-.4-.92-.59-1.43-.59-.52 0-1.04.2-1.43.59L10.3 9.45l-7.72 7.72c-.78.78-.78 2.05 0 2.83L4 21.41c.39.39.9.59 1.41.59.51 0 1.02-.2 1.41-.59l7.78-7.78 2.81-2.81c.8-.78.8-2.07 0-2.86zM5.41 20L4 18.59l7.72-7.72 1.47 1.35L5.41 20z\"/>\n",
              "  </svg>\n",
              "      </button>\n",
              "      \n",
              "  <style>\n",
              "    .colab-df-container {\n",
              "      display:flex;\n",
              "      flex-wrap:wrap;\n",
              "      gap: 12px;\n",
              "    }\n",
              "\n",
              "    .colab-df-convert {\n",
              "      background-color: #E8F0FE;\n",
              "      border: none;\n",
              "      border-radius: 50%;\n",
              "      cursor: pointer;\n",
              "      display: none;\n",
              "      fill: #1967D2;\n",
              "      height: 32px;\n",
              "      padding: 0 0 0 0;\n",
              "      width: 32px;\n",
              "    }\n",
              "\n",
              "    .colab-df-convert:hover {\n",
              "      background-color: #E2EBFA;\n",
              "      box-shadow: 0px 1px 2px rgba(60, 64, 67, 0.3), 0px 1px 3px 1px rgba(60, 64, 67, 0.15);\n",
              "      fill: #174EA6;\n",
              "    }\n",
              "\n",
              "    [theme=dark] .colab-df-convert {\n",
              "      background-color: #3B4455;\n",
              "      fill: #D2E3FC;\n",
              "    }\n",
              "\n",
              "    [theme=dark] .colab-df-convert:hover {\n",
              "      background-color: #434B5C;\n",
              "      box-shadow: 0px 1px 3px 1px rgba(0, 0, 0, 0.15);\n",
              "      filter: drop-shadow(0px 1px 2px rgba(0, 0, 0, 0.3));\n",
              "      fill: #FFFFFF;\n",
              "    }\n",
              "  </style>\n",
              "\n",
              "      <script>\n",
              "        const buttonEl =\n",
              "          document.querySelector('#df-a66ae66f-16ec-496d-9144-622f173728a8 button.colab-df-convert');\n",
              "        buttonEl.style.display =\n",
              "          google.colab.kernel.accessAllowed ? 'block' : 'none';\n",
              "\n",
              "        async function convertToInteractive(key) {\n",
              "          const element = document.querySelector('#df-a66ae66f-16ec-496d-9144-622f173728a8');\n",
              "          const dataTable =\n",
              "            await google.colab.kernel.invokeFunction('convertToInteractive',\n",
              "                                                     [key], {});\n",
              "          if (!dataTable) return;\n",
              "\n",
              "          const docLinkHtml = 'Like what you see? Visit the ' +\n",
              "            '<a target=\"_blank\" href=https://colab.research.google.com/notebooks/data_table.ipynb>data table notebook</a>'\n",
              "            + ' to learn more about interactive tables.';\n",
              "          element.innerHTML = '';\n",
              "          dataTable['output_type'] = 'display_data';\n",
              "          await google.colab.output.renderOutput(dataTable, element);\n",
              "          const docLink = document.createElement('div');\n",
              "          docLink.innerHTML = docLinkHtml;\n",
              "          element.appendChild(docLink);\n",
              "        }\n",
              "      </script>\n",
              "    </div>\n",
              "  </div>\n",
              "  "
            ]
          },
          "metadata": {},
          "execution_count": 19
        }
      ],
      "source": [
        "df=dataframe(dataset)\n",
        "df"
      ]
    },
    {
      "cell_type": "code",
      "execution_count": 20,
      "metadata": {
        "id": "FevSXJUvgzkf"
      },
      "outputs": [],
      "source": [
        "def isweekend(data):\n",
        "  if data < 5 :\n",
        "    return 0\n",
        "  else:\n",
        "    return 1"
      ]
    },
    {
      "cell_type": "code",
      "execution_count": 21,
      "metadata": {
        "id": "aPUipcEuf-mf"
      },
      "outputs": [],
      "source": [
        "df['day']=df['date'].dt.day\n",
        "df['dayofyear']=df['date'].dt.dayofyear\n",
        "df['week']=df['date'].dt.weekofyear\n",
        "df['weekday']=df['date'].dt.weekday\n",
        "df['weekend']=[isweekend(i) for i in df['weekday']]\n",
        "df['month']=df['date'].dt.month\n",
        "df['quarter']=df['date'].dt.quarter\n",
        "df['year']=df['date'].dt.year\n",
        "df['days_count']=df['date'].dt.days_in_month\n",
        "df['month_start']=df['date'].dt.is_month_start.astype(int)\n",
        "df['month_end']=df['date'].dt.is_month_end.astype(int)\n",
        "df['year_start']=df['date'].dt.is_year_start.astype(int)\n",
        "df['year_end']=df['date'].dt.is_year_end.astype(int)\n",
        "df['quarter_start']=df['date'].dt.is_quarter_start.astype(int)\n",
        "df['quarter_end']=df['date'].dt.is_quarter_end.astype(int)"
      ]
    },
    {
      "cell_type": "code",
      "source": [
        "df['month_start']=df['date'].dt.is_month_start.astype(int)"
      ],
      "metadata": {
        "id": "MHce1AkTOic5"
      },
      "execution_count": 22,
      "outputs": []
    },
    {
      "cell_type": "code",
      "execution_count": 23,
      "metadata": {
        "id": "0frQLUnhisFY",
        "colab": {
          "base_uri": "https://localhost:8080/",
          "height": 661
        },
        "outputId": "a970b694-516a-450d-e629-53bac642dfb1"
      },
      "outputs": [
        {
          "output_type": "execute_result",
          "data": {
            "text/plain": [
              "            date  item  duration  three_month_sale  day  dayofyear  week  \\\n",
              "0     2013-01-01     1        90             12847    1          1     1   \n",
              "1     2013-01-02     1        90             12848    2          2     1   \n",
              "2     2013-01-03     1        90             12936    3          3     1   \n",
              "3     2013-01-04     1        90             13019    4          4     1   \n",
              "4     2013-01-05     1        90             13103    5          5     1   \n",
              "...          ...   ...       ...               ...  ...        ...   ...   \n",
              "86745 2017-09-27    50        91             63158   27        270    39   \n",
              "86746 2017-09-28    50        91             62942   28        271    39   \n",
              "86747 2017-09-29    50        91             62787   29        272    39   \n",
              "86748 2017-09-30    50        91             62558   30        273    39   \n",
              "86749 2017-10-01    50        92             62925    1        274    39   \n",
              "\n",
              "       weekday  weekend  month  quarter  year  days_count  month_start  \\\n",
              "0            1        0      1        1  2013          31            1   \n",
              "1            2        0      1        1  2013          31            0   \n",
              "2            3        0      1        1  2013          31            0   \n",
              "3            4        0      1        1  2013          31            0   \n",
              "4            5        1      1        1  2013          31            0   \n",
              "...        ...      ...    ...      ...   ...         ...          ...   \n",
              "86745        2        0      9        3  2017          30            0   \n",
              "86746        3        0      9        3  2017          30            0   \n",
              "86747        4        0      9        3  2017          30            0   \n",
              "86748        5        1      9        3  2017          30            0   \n",
              "86749        6        1     10        4  2017          31            1   \n",
              "\n",
              "       month_end  year_start  year_end  quarter_start  quarter_end  \n",
              "0              0           1         0              1            0  \n",
              "1              0           0         0              0            0  \n",
              "2              0           0         0              0            0  \n",
              "3              0           0         0              0            0  \n",
              "4              0           0         0              0            0  \n",
              "...          ...         ...       ...            ...          ...  \n",
              "86745          0           0         0              0            0  \n",
              "86746          0           0         0              0            0  \n",
              "86747          0           0         0              0            0  \n",
              "86748          1           0         0              0            1  \n",
              "86749          0           0         0              1            0  \n",
              "\n",
              "[86750 rows x 19 columns]"
            ],
            "text/html": [
              "\n",
              "  <div id=\"df-653274f7-621a-4df5-9a51-13351993ef7a\">\n",
              "    <div class=\"colab-df-container\">\n",
              "      <div>\n",
              "<style scoped>\n",
              "    .dataframe tbody tr th:only-of-type {\n",
              "        vertical-align: middle;\n",
              "    }\n",
              "\n",
              "    .dataframe tbody tr th {\n",
              "        vertical-align: top;\n",
              "    }\n",
              "\n",
              "    .dataframe thead th {\n",
              "        text-align: right;\n",
              "    }\n",
              "</style>\n",
              "<table border=\"1\" class=\"dataframe\">\n",
              "  <thead>\n",
              "    <tr style=\"text-align: right;\">\n",
              "      <th></th>\n",
              "      <th>date</th>\n",
              "      <th>item</th>\n",
              "      <th>duration</th>\n",
              "      <th>three_month_sale</th>\n",
              "      <th>day</th>\n",
              "      <th>dayofyear</th>\n",
              "      <th>week</th>\n",
              "      <th>weekday</th>\n",
              "      <th>weekend</th>\n",
              "      <th>month</th>\n",
              "      <th>quarter</th>\n",
              "      <th>year</th>\n",
              "      <th>days_count</th>\n",
              "      <th>month_start</th>\n",
              "      <th>month_end</th>\n",
              "      <th>year_start</th>\n",
              "      <th>year_end</th>\n",
              "      <th>quarter_start</th>\n",
              "      <th>quarter_end</th>\n",
              "    </tr>\n",
              "  </thead>\n",
              "  <tbody>\n",
              "    <tr>\n",
              "      <th>0</th>\n",
              "      <td>2013-01-01</td>\n",
              "      <td>1</td>\n",
              "      <td>90</td>\n",
              "      <td>12847</td>\n",
              "      <td>1</td>\n",
              "      <td>1</td>\n",
              "      <td>1</td>\n",
              "      <td>1</td>\n",
              "      <td>0</td>\n",
              "      <td>1</td>\n",
              "      <td>1</td>\n",
              "      <td>2013</td>\n",
              "      <td>31</td>\n",
              "      <td>1</td>\n",
              "      <td>0</td>\n",
              "      <td>1</td>\n",
              "      <td>0</td>\n",
              "      <td>1</td>\n",
              "      <td>0</td>\n",
              "    </tr>\n",
              "    <tr>\n",
              "      <th>1</th>\n",
              "      <td>2013-01-02</td>\n",
              "      <td>1</td>\n",
              "      <td>90</td>\n",
              "      <td>12848</td>\n",
              "      <td>2</td>\n",
              "      <td>2</td>\n",
              "      <td>1</td>\n",
              "      <td>2</td>\n",
              "      <td>0</td>\n",
              "      <td>1</td>\n",
              "      <td>1</td>\n",
              "      <td>2013</td>\n",
              "      <td>31</td>\n",
              "      <td>0</td>\n",
              "      <td>0</td>\n",
              "      <td>0</td>\n",
              "      <td>0</td>\n",
              "      <td>0</td>\n",
              "      <td>0</td>\n",
              "    </tr>\n",
              "    <tr>\n",
              "      <th>2</th>\n",
              "      <td>2013-01-03</td>\n",
              "      <td>1</td>\n",
              "      <td>90</td>\n",
              "      <td>12936</td>\n",
              "      <td>3</td>\n",
              "      <td>3</td>\n",
              "      <td>1</td>\n",
              "      <td>3</td>\n",
              "      <td>0</td>\n",
              "      <td>1</td>\n",
              "      <td>1</td>\n",
              "      <td>2013</td>\n",
              "      <td>31</td>\n",
              "      <td>0</td>\n",
              "      <td>0</td>\n",
              "      <td>0</td>\n",
              "      <td>0</td>\n",
              "      <td>0</td>\n",
              "      <td>0</td>\n",
              "    </tr>\n",
              "    <tr>\n",
              "      <th>3</th>\n",
              "      <td>2013-01-04</td>\n",
              "      <td>1</td>\n",
              "      <td>90</td>\n",
              "      <td>13019</td>\n",
              "      <td>4</td>\n",
              "      <td>4</td>\n",
              "      <td>1</td>\n",
              "      <td>4</td>\n",
              "      <td>0</td>\n",
              "      <td>1</td>\n",
              "      <td>1</td>\n",
              "      <td>2013</td>\n",
              "      <td>31</td>\n",
              "      <td>0</td>\n",
              "      <td>0</td>\n",
              "      <td>0</td>\n",
              "      <td>0</td>\n",
              "      <td>0</td>\n",
              "      <td>0</td>\n",
              "    </tr>\n",
              "    <tr>\n",
              "      <th>4</th>\n",
              "      <td>2013-01-05</td>\n",
              "      <td>1</td>\n",
              "      <td>90</td>\n",
              "      <td>13103</td>\n",
              "      <td>5</td>\n",
              "      <td>5</td>\n",
              "      <td>1</td>\n",
              "      <td>5</td>\n",
              "      <td>1</td>\n",
              "      <td>1</td>\n",
              "      <td>1</td>\n",
              "      <td>2013</td>\n",
              "      <td>31</td>\n",
              "      <td>0</td>\n",
              "      <td>0</td>\n",
              "      <td>0</td>\n",
              "      <td>0</td>\n",
              "      <td>0</td>\n",
              "      <td>0</td>\n",
              "    </tr>\n",
              "    <tr>\n",
              "      <th>...</th>\n",
              "      <td>...</td>\n",
              "      <td>...</td>\n",
              "      <td>...</td>\n",
              "      <td>...</td>\n",
              "      <td>...</td>\n",
              "      <td>...</td>\n",
              "      <td>...</td>\n",
              "      <td>...</td>\n",
              "      <td>...</td>\n",
              "      <td>...</td>\n",
              "      <td>...</td>\n",
              "      <td>...</td>\n",
              "      <td>...</td>\n",
              "      <td>...</td>\n",
              "      <td>...</td>\n",
              "      <td>...</td>\n",
              "      <td>...</td>\n",
              "      <td>...</td>\n",
              "      <td>...</td>\n",
              "    </tr>\n",
              "    <tr>\n",
              "      <th>86745</th>\n",
              "      <td>2017-09-27</td>\n",
              "      <td>50</td>\n",
              "      <td>91</td>\n",
              "      <td>63158</td>\n",
              "      <td>27</td>\n",
              "      <td>270</td>\n",
              "      <td>39</td>\n",
              "      <td>2</td>\n",
              "      <td>0</td>\n",
              "      <td>9</td>\n",
              "      <td>3</td>\n",
              "      <td>2017</td>\n",
              "      <td>30</td>\n",
              "      <td>0</td>\n",
              "      <td>0</td>\n",
              "      <td>0</td>\n",
              "      <td>0</td>\n",
              "      <td>0</td>\n",
              "      <td>0</td>\n",
              "    </tr>\n",
              "    <tr>\n",
              "      <th>86746</th>\n",
              "      <td>2017-09-28</td>\n",
              "      <td>50</td>\n",
              "      <td>91</td>\n",
              "      <td>62942</td>\n",
              "      <td>28</td>\n",
              "      <td>271</td>\n",
              "      <td>39</td>\n",
              "      <td>3</td>\n",
              "      <td>0</td>\n",
              "      <td>9</td>\n",
              "      <td>3</td>\n",
              "      <td>2017</td>\n",
              "      <td>30</td>\n",
              "      <td>0</td>\n",
              "      <td>0</td>\n",
              "      <td>0</td>\n",
              "      <td>0</td>\n",
              "      <td>0</td>\n",
              "      <td>0</td>\n",
              "    </tr>\n",
              "    <tr>\n",
              "      <th>86747</th>\n",
              "      <td>2017-09-29</td>\n",
              "      <td>50</td>\n",
              "      <td>91</td>\n",
              "      <td>62787</td>\n",
              "      <td>29</td>\n",
              "      <td>272</td>\n",
              "      <td>39</td>\n",
              "      <td>4</td>\n",
              "      <td>0</td>\n",
              "      <td>9</td>\n",
              "      <td>3</td>\n",
              "      <td>2017</td>\n",
              "      <td>30</td>\n",
              "      <td>0</td>\n",
              "      <td>0</td>\n",
              "      <td>0</td>\n",
              "      <td>0</td>\n",
              "      <td>0</td>\n",
              "      <td>0</td>\n",
              "    </tr>\n",
              "    <tr>\n",
              "      <th>86748</th>\n",
              "      <td>2017-09-30</td>\n",
              "      <td>50</td>\n",
              "      <td>91</td>\n",
              "      <td>62558</td>\n",
              "      <td>30</td>\n",
              "      <td>273</td>\n",
              "      <td>39</td>\n",
              "      <td>5</td>\n",
              "      <td>1</td>\n",
              "      <td>9</td>\n",
              "      <td>3</td>\n",
              "      <td>2017</td>\n",
              "      <td>30</td>\n",
              "      <td>0</td>\n",
              "      <td>1</td>\n",
              "      <td>0</td>\n",
              "      <td>0</td>\n",
              "      <td>0</td>\n",
              "      <td>1</td>\n",
              "    </tr>\n",
              "    <tr>\n",
              "      <th>86749</th>\n",
              "      <td>2017-10-01</td>\n",
              "      <td>50</td>\n",
              "      <td>92</td>\n",
              "      <td>62925</td>\n",
              "      <td>1</td>\n",
              "      <td>274</td>\n",
              "      <td>39</td>\n",
              "      <td>6</td>\n",
              "      <td>1</td>\n",
              "      <td>10</td>\n",
              "      <td>4</td>\n",
              "      <td>2017</td>\n",
              "      <td>31</td>\n",
              "      <td>1</td>\n",
              "      <td>0</td>\n",
              "      <td>0</td>\n",
              "      <td>0</td>\n",
              "      <td>1</td>\n",
              "      <td>0</td>\n",
              "    </tr>\n",
              "  </tbody>\n",
              "</table>\n",
              "<p>86750 rows × 19 columns</p>\n",
              "</div>\n",
              "      <button class=\"colab-df-convert\" onclick=\"convertToInteractive('df-653274f7-621a-4df5-9a51-13351993ef7a')\"\n",
              "              title=\"Convert this dataframe to an interactive table.\"\n",
              "              style=\"display:none;\">\n",
              "        \n",
              "  <svg xmlns=\"http://www.w3.org/2000/svg\" height=\"24px\"viewBox=\"0 0 24 24\"\n",
              "       width=\"24px\">\n",
              "    <path d=\"M0 0h24v24H0V0z\" fill=\"none\"/>\n",
              "    <path d=\"M18.56 5.44l.94 2.06.94-2.06 2.06-.94-2.06-.94-.94-2.06-.94 2.06-2.06.94zm-11 1L8.5 8.5l.94-2.06 2.06-.94-2.06-.94L8.5 2.5l-.94 2.06-2.06.94zm10 10l.94 2.06.94-2.06 2.06-.94-2.06-.94-.94-2.06-.94 2.06-2.06.94z\"/><path d=\"M17.41 7.96l-1.37-1.37c-.4-.4-.92-.59-1.43-.59-.52 0-1.04.2-1.43.59L10.3 9.45l-7.72 7.72c-.78.78-.78 2.05 0 2.83L4 21.41c.39.39.9.59 1.41.59.51 0 1.02-.2 1.41-.59l7.78-7.78 2.81-2.81c.8-.78.8-2.07 0-2.86zM5.41 20L4 18.59l7.72-7.72 1.47 1.35L5.41 20z\"/>\n",
              "  </svg>\n",
              "      </button>\n",
              "      \n",
              "  <style>\n",
              "    .colab-df-container {\n",
              "      display:flex;\n",
              "      flex-wrap:wrap;\n",
              "      gap: 12px;\n",
              "    }\n",
              "\n",
              "    .colab-df-convert {\n",
              "      background-color: #E8F0FE;\n",
              "      border: none;\n",
              "      border-radius: 50%;\n",
              "      cursor: pointer;\n",
              "      display: none;\n",
              "      fill: #1967D2;\n",
              "      height: 32px;\n",
              "      padding: 0 0 0 0;\n",
              "      width: 32px;\n",
              "    }\n",
              "\n",
              "    .colab-df-convert:hover {\n",
              "      background-color: #E2EBFA;\n",
              "      box-shadow: 0px 1px 2px rgba(60, 64, 67, 0.3), 0px 1px 3px 1px rgba(60, 64, 67, 0.15);\n",
              "      fill: #174EA6;\n",
              "    }\n",
              "\n",
              "    [theme=dark] .colab-df-convert {\n",
              "      background-color: #3B4455;\n",
              "      fill: #D2E3FC;\n",
              "    }\n",
              "\n",
              "    [theme=dark] .colab-df-convert:hover {\n",
              "      background-color: #434B5C;\n",
              "      box-shadow: 0px 1px 3px 1px rgba(0, 0, 0, 0.15);\n",
              "      filter: drop-shadow(0px 1px 2px rgba(0, 0, 0, 0.3));\n",
              "      fill: #FFFFFF;\n",
              "    }\n",
              "  </style>\n",
              "\n",
              "      <script>\n",
              "        const buttonEl =\n",
              "          document.querySelector('#df-653274f7-621a-4df5-9a51-13351993ef7a button.colab-df-convert');\n",
              "        buttonEl.style.display =\n",
              "          google.colab.kernel.accessAllowed ? 'block' : 'none';\n",
              "\n",
              "        async function convertToInteractive(key) {\n",
              "          const element = document.querySelector('#df-653274f7-621a-4df5-9a51-13351993ef7a');\n",
              "          const dataTable =\n",
              "            await google.colab.kernel.invokeFunction('convertToInteractive',\n",
              "                                                     [key], {});\n",
              "          if (!dataTable) return;\n",
              "\n",
              "          const docLinkHtml = 'Like what you see? Visit the ' +\n",
              "            '<a target=\"_blank\" href=https://colab.research.google.com/notebooks/data_table.ipynb>data table notebook</a>'\n",
              "            + ' to learn more about interactive tables.';\n",
              "          element.innerHTML = '';\n",
              "          dataTable['output_type'] = 'display_data';\n",
              "          await google.colab.output.renderOutput(dataTable, element);\n",
              "          const docLink = document.createElement('div');\n",
              "          docLink.innerHTML = docLinkHtml;\n",
              "          element.appendChild(docLink);\n",
              "        }\n",
              "      </script>\n",
              "    </div>\n",
              "  </div>\n",
              "  "
            ]
          },
          "metadata": {},
          "execution_count": 23
        }
      ],
      "source": [
        "df"
      ]
    },
    {
      "cell_type": "markdown",
      "metadata": {
        "id": "PV_LtGyVOCbi"
      },
      "source": [
        "# **2. EDA of dataset**"
      ]
    },
    {
      "cell_type": "code",
      "execution_count": 24,
      "metadata": {
        "id": "-qP1Y59ia4Qp"
      },
      "outputs": [],
      "source": [
        "def EDA (data, cat_feature,num_feature,target,item):\n",
        "  data=data[data['item']==item]\n",
        "  # histogram for continuous variables\n",
        "  for i in num_feature:\n",
        "    fig,axes=plt.subplots(1,1,sharex=False,figsize=(15,10))\n",
        "    fig.suptitle(f'histogram of column {i}')\n",
        "    sns.barplot(x=i,data=data,y=target,palette='Set2')\n",
        "    plt.show()\n",
        "    \n",
        "\n",
        "  #scatter plot for contious varibles\n",
        "  plt.figure(figsize=(15, 10))\n",
        "  for i in num_feature:  \n",
        "    sns.scatterplot(data=data,x=i,y=target)\n",
        "  plt.show()\n",
        "\n",
        "  for i in cat_feature:\n",
        "    plt.figure(figsize=(15, 10))\n",
        "    fig.suptitle(f'counting of column {i}')\n",
        "    data.groupby(i)[target].mean().sort_values().plot(kind='barh')\n",
        "    plt.show()\n",
        "\n",
        "  #correlation heatmap\n",
        "  plt.figure(figsize=(15, 10))\n",
        "  sns.heatmap(data.corr(),cmap='RdBu_r',annot=True)\n",
        "  plt.show()"
      ]
    },
    {
      "cell_type": "code",
      "source": [
        "df.columns"
      ],
      "metadata": {
        "colab": {
          "base_uri": "https://localhost:8080/"
        },
        "id": "hONYxoka-G5t",
        "outputId": "1974d33e-a177-4c04-d945-8e00cefbdbfc"
      },
      "execution_count": 25,
      "outputs": [
        {
          "output_type": "execute_result",
          "data": {
            "text/plain": [
              "Index(['date', 'item', 'duration', 'three_month_sale', 'day', 'dayofyear',\n",
              "       'week', 'weekday', 'weekend', 'month', 'quarter', 'year', 'days_count',\n",
              "       'month_start', 'month_end', 'year_start', 'year_end', 'quarter_start',\n",
              "       'quarter_end'],\n",
              "      dtype='object')"
            ]
          },
          "metadata": {},
          "execution_count": 25
        }
      ]
    },
    {
      "cell_type": "code",
      "execution_count": 26,
      "metadata": {
        "id": "70oKEjhwcd6g",
        "colab": {
          "base_uri": "https://localhost:8080/",
          "height": 1000
        },
        "outputId": "2995c754-db33-4e62-ee1e-7c4e3e7d463b"
      },
      "outputs": [
        {
          "output_type": "display_data",
          "data": {
            "text/plain": [
              "<Figure size 1080x720 with 1 Axes>"
            ],
            "image/png": "[encoded data removed]"
          },
          "metadata": {
            "needs_background": "light"
          }
        },
        {
          "output_type": "display_data",
          "data": {
            "text/plain": [
              "<Figure size 1080x720 with 1 Axes>"
            ],
            "image/png": "[encoded data removed]"
          },
          "metadata": {
            "needs_background": "light"
          }
        },
        {
          "output_type": "display_data",
          "data": {
            "text/plain": [
              "<Figure size 1080x720 with 1 Axes>"
            ],
            "image/png": "[encoded data removed]"
          },
          "metadata": {
            "needs_background": "light"
          }
        },
        {
          "output_type": "display_data",
          "data": {
            "text/plain": [
              "<Figure size 1080x720 with 1 Axes>"
            ],
            "image/png": "[encoded data removed]"
          },
          "metadata": {
            "needs_background": "light"
          }
        },
        {
          "output_type": "display_data",
          "data": {
            "text/plain": [
              "<Figure size 1080x720 with 1 Axes>"
            ],
            "image/png": "[encoded data removed]"
          },
          "metadata": {
            "needs_background": "light"
          }
        },
        {
          "output_type": "display_data",
          "data": {
            "text/plain": [
              "<Figure size 1080x720 with 1 Axes>"
            ],
            "image/png": "[encoded data removed]"
          },
          "metadata": {
            "needs_background": "light"
          }
        },
        {
          "output_type": "display_data",
          "data": {
            "text/plain": [
              "<Figure size 1080x720 with 1 Axes>"
            ],
            "image/png": "[encoded data removed]"
          },
          "metadata": {
            "needs_background": "light"
          }
        },
        {
          "output_type": "display_data",
          "data": {
            "text/plain": [
              "<Figure size 1080x720 with 1 Axes>"
            ],
            "image/png": "[encoded data removed]"
          },
          "metadata": {
            "needs_background": "light"
          }
        },
        {
          "output_type": "display_data",
          "data": {
            "text/plain": [
              "<Figure size 1080x720 with 1 Axes>"
            ],
            "image/png": "[encoded data removed]"
          },
          "metadata": {
            "needs_background": "light"
          }
        },
        {
          "output_type": "display_data",
          "data": {
            "text/plain": [
              "<Figure size 1080x720 with 1 Axes>"
            ],
            "image/png": "[encoded data removed]"
          },
          "metadata": {
            "needs_background": "light"
          }
        },
        {
          "output_type": "display_data",
          "data": {
            "text/plain": [
              "<Figure size 1080x720 with 1 Axes>"
            ],
            "image/png": "[encoded data removed]"
          },
          "metadata": {
            "needs_background": "light"
          }
        },
        {
          "output_type": "display_data",
          "data": {
            "text/plain": [
              "<Figure size 1080x720 with 1 Axes>"
            ],
            "image/png": "[encoded data removed]"
          },
          "metadata": {
            "needs_background": "light"
          }
        },
        {
          "output_type": "display_data",
          "data": {
            "text/plain": [
              "<Figure size 1080x720 with 1 Axes>"
            ],
            "image/png": "[encoded data removed]"
          },
          "metadata": {
            "needs_background": "light"
          }
        },
        {
          "output_type": "display_data",
          "data": {
            "text/plain": [
              "<Figure size 1080x720 with 1 Axes>"
            ],
            "image/png": "[encoded data removed]"
          },
          "metadata": {
            "needs_background": "light"
          }
        },
        {
          "output_type": "display_data",
          "data": {
            "text/plain": [
              "<Figure size 1080x720 with 1 Axes>"
            ],
            "image/png": "[encoded data removed]"
          },
          "metadata": {
            "needs_background": "light"
          }
        },
        {
          "output_type": "display_data",
          "data": {
            "text/plain": [
              "<Figure size 1080x720 with 1 Axes>"
            ],
            "image/png": "[encoded data removed]"
          },
          "metadata": {
            "needs_background": "light"
          }
        },
        {
          "output_type": "display_data",
          "data": {
            "text/plain": [
              "<Figure size 1080x720 with 1 Axes>"
            ],
            "image/png": "[encoded data removed]"
          },
          "metadata": {
            "needs_background": "light"
          }
        },
        {
          "output_type": "display_data",
          "data": {
            "text/plain": [
              "<Figure size 1080x720 with 1 Axes>"
            ],
            "image/png": "[encoded data removed]"
          },
          "metadata": {
            "needs_background": "light"
          }
        },
        {
          "output_type": "display_data",
          "data": {
            "text/plain": [
              "<Figure size 1080x720 with 2 Axes>"
            ],
            "image/png": "[encoded data removed]"
          },
          "metadata": {
            "needs_background": "light"
          }
        }
      ],
      "source": [
        "num_features=['date']\n",
        "cat_features= ['duration', 'day', 'dayofyear',\n",
        "       'week', 'weekday', 'weekend', 'month', 'quarter', 'year', 'days_count',\n",
        "       'month_start', 'month_end', 'year_start', 'year_end', 'quarter_start',\n",
        "       'quarter_end']\n",
        "EDA(df,cat_features,num_features,'three_month_sale',1)"
      ]
    },
    {
      "cell_type": "markdown",
      "metadata": {
        "id": "VguuGK_0c-EZ"
      },
      "source": [
        "# **3. Splitting the data**"
      ]
    },
    {
      "cell_type": "code",
      "execution_count": 27,
      "metadata": {
        "id": "tfgIN-ZsVB_4"
      },
      "outputs": [],
      "source": [
        "df=df.sort_values(by=['date','item'])"
      ]
    },
    {
      "cell_type": "code",
      "source": [
        "features=['date', 'item', 'duration', 'day', 'dayofyear','week', 'weekday', \n",
        "          'weekend', 'month', 'quarter', 'year', 'days_count','month_start', \n",
        "          'month_end', 'year_start', 'year_end', 'quarter_start','quarter_end']"
      ],
      "metadata": {
        "id": "7Tf3mT3Fuqal"
      },
      "execution_count": 30,
      "outputs": []
    },
    {
      "cell_type": "code",
      "source": [
        "split_date=pd.to_datetime('24-07-2016')\n",
        "X_train=df[df['date']<split_date].drop(['three_month_sale','date'],axis=1).values\n",
        "X_test=df[df['date']>=split_date].drop(['three_month_sale','date'],axis=1).values\n",
        "y_train=df[df['date']<split_date].drop(features,axis=1).values\n",
        "y_test=df[df['date']>=split_date].drop(features,axis=1).values"
      ],
      "metadata": {
        "id": "QJ6S2DfOWv05"
      },
      "execution_count": 31,
      "outputs": []
    },
    {
      "cell_type": "code",
      "source": [
        "y_train=y_train.flatten()\n",
        "y_test=y_test.flatten()"
      ],
      "metadata": {
        "id": "_GLl33K1QgD6"
      },
      "execution_count": 46,
      "outputs": []
    },
    {
      "cell_type": "markdown",
      "metadata": {
        "id": "r0qe4Xrifpox"
      },
      "source": [
        "# **4. Scaling the data**"
      ]
    },
    {
      "cell_type": "code",
      "execution_count": 47,
      "metadata": {
        "id": "YyJoyEhfgG9_"
      },
      "outputs": [],
      "source": [
        "def scaling(train,test):                               # scaling the data for important for KNN,voting regressor \n",
        "  from sklearn.preprocessing import StandardScaler\n",
        "  scaler=StandardScaler()\n",
        "  #for ix,i in enumerate(features):\n",
        "  scaler=scaler.fit(train)\n",
        "  X_train_scale=scaler.transform(train)\n",
        "  X_test_scale=scaler.transform(test)\n",
        "  return X_train_scale,X_test_scale"
      ]
    },
    {
      "cell_type": "code",
      "execution_count": 48,
      "metadata": {
        "id": "9ktDNZSlgsuz"
      },
      "outputs": [],
      "source": [
        "X_train_scale,X_test_scale=scaling(X_train,X_test)\n",
        "#print(X_train_scale.shape,X_test_scale.shape)"
      ]
    },
    {
      "cell_type": "code",
      "execution_count": 49,
      "metadata": {
        "id": "I0gHXGQ737jR",
        "colab": {
          "base_uri": "https://localhost:8080/"
        },
        "outputId": "6518530d-8014-4abf-c657-bafec4449ba4"
      },
      "outputs": [
        {
          "output_type": "execute_result",
          "data": {
            "text/plain": [
              "array([[ 1, 92, 24, ...,  0,  0,  0],\n",
              "       [ 2, 92, 24, ...,  0,  0,  0],\n",
              "       [ 3, 92, 24, ...,  0,  0,  0],\n",
              "       ...,\n",
              "       [48, 92,  1, ...,  0,  1,  0],\n",
              "       [49, 92,  1, ...,  0,  1,  0],\n",
              "       [50, 92,  1, ...,  0,  1,  0]])"
            ]
          },
          "metadata": {},
          "execution_count": 49
        }
      ],
      "source": [
        "X_test"
      ]
    },
    {
      "cell_type": "code",
      "source": [
        "y_train"
      ],
      "metadata": {
        "colab": {
          "base_uri": "https://localhost:8080/"
        },
        "id": "Fb2EdrX7NWfg",
        "outputId": "0ccc3fd0-4fa7-47f8-e538-cc253f16767f"
      },
      "execution_count": 50,
      "outputs": [
        {
          "output_type": "execute_result",
          "data": {
            "text/plain": [
              "array([12847, 34650, 21420, ..., 55595, 31701, 71710])"
            ]
          },
          "metadata": {},
          "execution_count": 50
        }
      ]
    },
    {
      "cell_type": "markdown",
      "metadata": {
        "id": "wYkGbq2HiMaD"
      },
      "source": [
        "# **5. Build the model**"
      ]
    },
    {
      "cell_type": "code",
      "execution_count": 52,
      "metadata": {
        "id": "Lya5EkQyiVtZ"
      },
      "outputs": [],
      "source": [
        "from sklearn.linear_model import LinearRegression   # for linear regression\n",
        "from sklearn.neighbors import KNeighborsRegressor   # for KNN regression\n",
        "from sklearn.tree import DecisionTreeRegressor      # for Decision tree regression\n",
        "from sklearn.ensemble import RandomForestRegressor  # for Random Forest regression\n",
        "import xgboost \n",
        "from xgboost import XGBRegressor                    # for XGBoost regression\n",
        "from sklearn.ensemble import VotingRegressor        # for voting regressoin"
      ]
    },
    {
      "cell_type": "code",
      "execution_count": 83,
      "metadata": {
        "id": "41Q0-a3uil5R"
      },
      "outputs": [],
      "source": [
        "def algorithm (model,X_train, X_test, y_train, y_test,k):    # definition of model building for all models\n",
        "  from sklearn.model_selection import cross_val_score\n",
        "  from sklearn.metrics import mean_squared_error,mean_absolute_error\n",
        "  mod=model\n",
        "  mod.fit(X_train, y_train)                                  # fit the training set into the model\n",
        "  y_predict_mod=mod.predict(X_test)                          # predict the result testing set\n",
        "  result= pd.DataFrame({'actual': y_test, 'predict': y_predict_mod}) # dataframe of actual and predicted\n",
        "  score=mod.score(X_test,y_test)                             # score of prediction\n",
        "  MAE=mean_absolute_error(y_test,y_predict_mod)              # squared error of prediction\n",
        "  print('for ' ,k ,' value ',\"Train Accuracy : \",round(mod.score(X_train,y_train),3),\"Val Accuracy :\" ,round(np.mean(cross_val_score_time(mod, X_train, y_train)),3))\n",
        "  return y_predict_mod,result,score,mod,MAE"
      ]
    },
    {
      "cell_type": "code",
      "execution_count": 82,
      "metadata": {
        "id": "W-Wqxjg32eGy"
      },
      "outputs": [],
      "source": [
        "def cross_val_score_time(mod,X_train,y_train):\n",
        "  from sklearn.model_selection import TimeSeriesSplit\n",
        "  from sklearn.metrics import r2_score\n",
        "  tscv = TimeSeriesSplit(n_splits=3)\n",
        "  scores=[]\n",
        "  for i in tscv.split(X_train):\n",
        "    X_tr,X_te=pd.DataFrame(list(map(X_train.__getitem__,i[0]))),pd.DataFrame(list(map(X_train.__getitem__,i[1])))\n",
        "    y_tr,y_te=pd.Series(list(map(y_train.__getitem__,i[0]))),pd.Series(list(map(y_train.__getitem__,i[1])))\n",
        "    X_tr=X_tr.values\n",
        "    X_te=X_te.values\n",
        "    y_tr=y_tr.values\n",
        "    y_te=y_te.values\n",
        "    #print(X_tr.shape)\n",
        "    #print(X_te.shape)\n",
        "    mod.fit(X_tr,y_tr)\n",
        "    pred=mod.predict(X_te)\n",
        "    sco=r2_score(y_te,pred)\n",
        "    scores.append(sco)\n",
        "  return scores"
      ]
    },
    {
      "cell_type": "markdown",
      "metadata": {
        "id": "7RYgTKWTuAQP"
      },
      "source": [
        "# **i) Linear Regression algorithm**"
      ]
    },
    {
      "cell_type": "code",
      "execution_count": 84,
      "metadata": {
        "id": "KHXWDC6SpSme",
        "colab": {
          "base_uri": "https://localhost:8080/"
        },
        "outputId": "1fe8d29e-f1a1-4f69-ef4e-cd73e62f25e9"
      },
      "outputs": [
        {
          "output_type": "stream",
          "name": "stdout",
          "text": [
            "for  1  value  Train Accuracy :  0.13 Val Accuracy : -11.522\n",
            "   actual       predict\n",
            "0   23645  55202.307654\n",
            "1   63295  55102.821027\n",
            "2   39317  55003.334399\n",
            "3   23722  54903.847772\n",
            "4   19776  54804.361145\n",
            "MAE error of linear regeression is  19318.4135992887\n",
            " Score of LinearRegression algorithmn is  6.793450883357144\n"
          ]
        }
      ],
      "source": [
        "y_predict_lr,result_L,score_L,lin,MAE_L=algorithm(LinearRegression(),X_train_scale, X_test_scale, y_train, y_test,1)\n",
        "print(result_L.head())\n",
        "print('MAE error of linear regeression is ' ,MAE_L)\n",
        "print(' Score of LinearRegression algorithmn is ', score_L * 100)"
      ]
    },
    {
      "cell_type": "markdown",
      "metadata": {
        "id": "eIP8kJbtuL3A"
      },
      "source": [
        "# **ii) KNN regression model**"
      ]
    },
    {
      "cell_type": "code",
      "execution_count": 85,
      "metadata": {
        "id": "L0j073hYxUbS",
        "colab": {
          "base_uri": "https://localhost:8080/"
        },
        "outputId": "bf8562a5-0563-4eb8-be43-965bf559548e"
      },
      "outputs": [
        {
          "output_type": "stream",
          "name": "stdout",
          "text": [
            "for  1  value  Train Accuracy :  1.0 Val Accuracy : 0.946\n",
            "for  2  value  Train Accuracy :  0.547 Val Accuracy : 0.491\n",
            "for  3  value  Train Accuracy :  0.388 Val Accuracy : 0.332\n",
            "for  4  value  Train Accuracy :  0.313 Val Accuracy : 0.254\n",
            "for  5  value  Train Accuracy :  0.271 Val Accuracy : 0.215\n"
          ]
        }
      ],
      "source": [
        "for i in range (1,6):\n",
        "  algorithm(KNeighborsRegressor(i),X_train_scale, X_test_scale, y_train, y_test,i)"
      ]
    },
    {
      "cell_type": "code",
      "execution_count": 86,
      "metadata": {
        "id": "2WjNBeSMoQ09",
        "colab": {
          "base_uri": "https://localhost:8080/"
        },
        "outputId": "df19a944-daa6-4df8-c01e-c7acd20d78c5"
      },
      "outputs": [
        {
          "output_type": "stream",
          "name": "stdout",
          "text": [
            "for  1  value  Train Accuracy :  1.0 Val Accuracy : 0.946\n",
            "       actual  predict\n",
            "21745   56785  67834.0\n",
            "21746   21132  25389.0\n",
            "21747   49695  59262.0\n",
            "21748   27934  33832.0\n",
            "21749   62925  76274.0\n",
            "MAE error of knn regeression is  2598.0365057471263\n",
            " Score of KNN Regression algorithmn is  98.02995966390174\n"
          ]
        }
      ],
      "source": [
        "y_predict_knn,result_K,score_K,knn,MAE_K=algorithm(KNeighborsRegressor(1),X_train_scale, X_test_scale, y_train, y_test,1)\n",
        "print(result_K.tail())\n",
        "print('MAE error of knn regeression is ' , MAE_K)\n",
        "print(' Score of KNN Regression algorithmn is ', score_K * 100)"
      ]
    },
    {
      "cell_type": "markdown",
      "metadata": {
        "id": "kydWymsnvg7P"
      },
      "source": [
        "# **iii)Decision Tree Regression model**"
      ]
    },
    {
      "cell_type": "code",
      "execution_count": 87,
      "metadata": {
        "id": "JwmetO2zyCtO",
        "colab": {
          "base_uri": "https://localhost:8080/"
        },
        "outputId": "0929b71e-ad4f-4c7d-a4b9-fa1d8ccceb8f"
      },
      "outputs": [
        {
          "output_type": "stream",
          "name": "stdout",
          "text": [
            "for  1  value  Train Accuracy :  0.086 Val Accuracy : 0.034\n",
            "for  3  value  Train Accuracy :  0.267 Val Accuracy : 0.212\n",
            "for  5  value  Train Accuracy :  0.391 Val Accuracy : 0.351\n",
            "for  7  value  Train Accuracy :  0.541 Val Accuracy : 0.507\n",
            "for  9  value  Train Accuracy :  0.674 Val Accuracy : 0.638\n",
            "for  11  value  Train Accuracy :  0.765 Val Accuracy : 0.713\n",
            "for  13  value  Train Accuracy :  0.829 Val Accuracy : 0.78\n",
            "for  15  value  Train Accuracy :  0.899 Val Accuracy : 0.878\n",
            "for  17  value  Train Accuracy :  0.971 Val Accuracy : 0.915\n",
            "for  19  value  Train Accuracy :  0.991 Val Accuracy : 0.935\n",
            "for  21  value  Train Accuracy :  0.998 Val Accuracy : 0.942\n",
            "for  23  value  Train Accuracy :  0.999 Val Accuracy : 0.945\n"
          ]
        }
      ],
      "source": [
        "for i in range(1,25,2):\n",
        "  algorithm(DecisionTreeRegressor(max_depth=i,random_state=97),X_train_scale, X_test_scale, y_train, y_test,i)"
      ]
    },
    {
      "cell_type": "code",
      "execution_count": 88,
      "metadata": {
        "id": "84L0D6Y2c7mf",
        "colab": {
          "base_uri": "https://localhost:8080/"
        },
        "outputId": "ae187b9f-aed1-49d8-b092-d9e5c0178283"
      },
      "outputs": [
        {
          "output_type": "stream",
          "name": "stdout",
          "text": [
            "for  23  value  Train Accuracy :  0.999 Val Accuracy : 0.945\n",
            "   actual  predict\n",
            "0   23645  23733.0\n",
            "1   63295  63471.0\n",
            "2   39317  39405.0\n",
            "3   23722  23810.0\n",
            "4   19776  19836.0\n",
            "MAE error of Decision Tree regeression is  2629.0517013707704\n",
            " Score of Decision Tree Regression algorithmn is  98.10143508601709\n"
          ]
        }
      ],
      "source": [
        "y_predict_dt,result_D,score_D,dt,MAE_D=algorithm(DecisionTreeRegressor(max_depth=23,random_state=97),X_train_scale, X_test_scale, y_train, y_test,23)\n",
        "print(result_D.head())\n",
        "print('MAE error of Decision Tree regeression is ' , MAE_D)\n",
        "print(' Score of Decision Tree Regression algorithmn is ', score_D * 100)"
      ]
    },
    {
      "cell_type": "markdown",
      "metadata": {
        "id": "eG4ro4KP2hna"
      },
      "source": [
        "# **iv) Random Forest Regression model**"
      ]
    },
    {
      "cell_type": "code",
      "execution_count": 89,
      "metadata": {
        "id": "WASqB1ln4LoD",
        "colab": {
          "base_uri": "https://localhost:8080/"
        },
        "outputId": "58d270b8-ced0-4454-db6a-efb414484c30"
      },
      "outputs": [
        {
          "output_type": "stream",
          "name": "stdout",
          "text": [
            "for  10  value  Train Accuracy :  0.85 Val Accuracy : 0.795\n",
            "for  20  value  Train Accuracy :  0.871 Val Accuracy : 0.807\n",
            "for  30  value  Train Accuracy :  0.878 Val Accuracy : 0.812\n",
            "for  40  value  Train Accuracy :  0.882 Val Accuracy : 0.813\n",
            "for  50  value  Train Accuracy :  0.884 Val Accuracy : 0.815\n",
            "for  60  value  Train Accuracy :  0.885 Val Accuracy : 0.816\n",
            "for  70  value  Train Accuracy :  0.887 Val Accuracy : 0.817\n",
            "for  80  value  Train Accuracy :  0.889 Val Accuracy : 0.819\n",
            "for  90  value  Train Accuracy :  0.889 Val Accuracy : 0.818\n",
            "for  100  value  Train Accuracy :  0.89 Val Accuracy : 0.819\n"
          ]
        }
      ],
      "source": [
        "for i in [10,20,30,40,50,60,70,80,90,100]:\n",
        "  algorithm(RandomForestRegressor(n_estimators=i,random_state=97,max_features='sqrt'),X_train_scale, X_test_scale, y_train, y_test,i)"
      ]
    },
    {
      "cell_type": "code",
      "execution_count": 90,
      "metadata": {
        "id": "E9Sk9q7C2rK4",
        "colab": {
          "base_uri": "https://localhost:8080/"
        },
        "outputId": "0705d326-ee0d-4d0c-adba-e118fd63700b"
      },
      "outputs": [
        {
          "output_type": "stream",
          "name": "stdout",
          "text": [
            "for  40  value  Train Accuracy :  0.882 Val Accuracy : 0.813\n",
            "       actual    predict\n",
            "0       23645  27490.400\n",
            "1       63295  53620.800\n",
            "2       39317  41065.700\n",
            "3       23722  23739.550\n",
            "4       19776  20418.525\n",
            "...       ...        ...\n",
            "21745   56785  53164.475\n",
            "21746   21132  37065.600\n",
            "21747   49695  39162.450\n",
            "21748   27934  30625.400\n",
            "21749   62925  48057.400\n",
            "\n",
            "[21750 rows x 2 columns]\n",
            "MAE error of Random forest regeression is  7324.178757471264\n",
            " Score of random forest regresssion is  84.68510939069279\n"
          ]
        }
      ],
      "source": [
        "y_predict_rfr,result_R,score_R,rfr,MAE_R=algorithm(RandomForestRegressor(n_estimators=40,random_state=97,max_features='sqrt'),X_train_scale, X_test_scale, y_train, y_test,40)\n",
        "print(result_R)\n",
        "print('MAE error of Random forest regeression is ' , MAE_R)\n",
        "print(' Score of random forest regresssion is ', score_R * 100)"
      ]
    },
    {
      "cell_type": "markdown",
      "metadata": {
        "id": "vu6vZvQF5Kgd"
      },
      "source": [
        "# **v)Xgboost Regression model**"
      ]
    },
    {
      "cell_type": "code",
      "execution_count": 63,
      "metadata": {
        "id": "qsFqpuSl6HlV",
        "colab": {
          "base_uri": "https://localhost:8080/"
        },
        "outputId": "89eb93ba-9353-4175-e319-f9ca9be5aba5"
      },
      "outputs": [
        {
          "output_type": "stream",
          "name": "stdout",
          "text": [
            "for  0.1  value  Train Accuracy :  0.999 Val Accuracy : 1.0\n",
            "for  0.2  value  Train Accuracy :  0.999 Val Accuracy : 0.999\n",
            "for  0.30000000000000004  value  Train Accuracy :  1.0 Val Accuracy : 0.999\n",
            "for  0.4  value  Train Accuracy :  1.0 Val Accuracy : 0.999\n",
            "for  0.5  value  Train Accuracy :  1.0 Val Accuracy : 1.0\n",
            "for  0.6  value  Train Accuracy :  1.0 Val Accuracy : 0.999\n",
            "for  0.7000000000000001  value  Train Accuracy :  1.0 Val Accuracy : 1.0\n",
            "for  0.8  value  Train Accuracy :  1.0 Val Accuracy : 0.998\n",
            "for  0.9  value  Train Accuracy :  1.0 Val Accuracy : 0.999\n",
            "for  1.0  value  Train Accuracy :  0.999 Val Accuracy : 0.999\n"
          ]
        }
      ],
      "source": [
        "for i in np.arange(0.1,1.1,0.1):\n",
        "  algorithm(XGBRegressor(learning_rate=i,n_estimators= 200,random_state=97,objective='reg:squarederror'),X_train_scale, X_test_scale, y_train, y_test,i)"
      ]
    },
    {
      "cell_type": "code",
      "execution_count": 78,
      "metadata": {
        "id": "R0Y8-kolkXo9"
      },
      "outputs": [],
      "source": [
        "#for i in np.arange(0.05,0.15,0.01):\n",
        "  #algorithm(XGBRegressor(learning_rate=i,n_estimators= 200,random_state=97,objective='reg:squarederror'),X_train_scale, X_test_scale, y_train, y_test,i)"
      ]
    },
    {
      "cell_type": "code",
      "execution_count": 91,
      "metadata": {
        "id": "9Jvg4OtW5Yj8",
        "colab": {
          "base_uri": "https://localhost:8080/"
        },
        "outputId": "11d16fed-94f9-4bbe-979d-a01935ef6a64"
      },
      "outputs": [
        {
          "output_type": "stream",
          "name": "stdout",
          "text": [
            "for  0.2  value  Train Accuracy :  1.0 Val Accuracy : 0.95\n",
            "       actual       predict\n",
            "0       23645  23257.996094\n",
            "1       63295  63133.292969\n",
            "2       39317  39342.335938\n",
            "3       23722  23599.253906\n",
            "4       19776  19190.003906\n",
            "...       ...           ...\n",
            "21745   56785  54860.648438\n",
            "21746   21132  20663.546875\n",
            "21747   49695  47875.792969\n",
            "21748   27934  26934.578125\n",
            "21749   62925  61077.285156\n",
            "\n",
            "[21750 rows x 2 columns]\n",
            "MAE error of XGBoost regeression is  2038.2339373204022\n",
            " Score of Xgboost regression is  98.86132470038804\n"
          ]
        }
      ],
      "source": [
        "y_predict_Xgb,result_X,score_X,Xgb,MAE_X=algorithm(XGBRegressor(learning_rate=0.2,n_estimators= 500,random_state=97,objective='reg:squarederror'),X_train_scale, X_test_scale, y_train, y_test,0.2)\n",
        "print(result_X)\n",
        "print('MAE error of XGBoost regeression is ' , MAE_X)\n",
        "print(' Score of Xgboost regression is ', score_X * 100)"
      ]
    },
    {
      "cell_type": "markdown",
      "metadata": {
        "id": "nrDDiyXQ7QhK"
      },
      "source": [
        "# **vi)Voting Regressor algorithm**"
      ]
    },
    {
      "cell_type": "code",
      "execution_count": 92,
      "metadata": {
        "colab": {
          "base_uri": "https://localhost:8080/"
        },
        "id": "x-PDtmTJ7aba",
        "outputId": "69a10c10-1727-4fee-a6e1-f6c5270f9e24"
      },
      "outputs": [
        {
          "output_type": "stream",
          "name": "stdout",
          "text": [
            "for  4 models  value  Train Accuracy :  1.0 Val Accuracy : 0.952\n",
            "       actual       predict\n",
            "0       23645  23574.665365\n",
            "1       63295  63358.430990\n",
            "2       39317  39384.111979\n",
            "3       23722  23739.751302\n",
            "4       19776  19620.667969\n",
            "...       ...           ...\n",
            "21745   56785  57471.882812\n",
            "21746   21132  21615.848958\n",
            "21747   49695  50212.264323\n",
            "21748   27934  28604.192708\n",
            "21749   62925  64848.761719\n",
            "\n",
            "[21750 rows x 2 columns]\n",
            "MAE error of voting regeression is  1776.606487538859\n",
            " Score of Voting regression algorithmn is  99.12423136211447\n"
          ]
        }
      ],
      "source": [
        "y_predict_vot,result_V,score_V,vot,MAE_V=algorithm(VotingRegressor(estimators= [('KNN',knn),('DT',dt),('RFC',rfc),('XGB',Xgb)]),X_train_scale, X_test_scale, y_train, y_test,'4 models')\n",
        "print(result_V)\n",
        "print('MAE error of voting regeression is ' , MAE_V)\n",
        "print(' Score of Voting regression algorithmn is ', score_V * 100)"
      ]
    },
    {
      "cell_type": "markdown",
      "metadata": {
        "id": "itkrt5aIk_Xn"
      },
      "source": [
        "# **6.  Evaluation metrics**"
      ]
    },
    {
      "cell_type": "code",
      "execution_count": 93,
      "metadata": {
        "id": "E8rUmXjQUDsc"
      },
      "outputs": [],
      "source": [
        "from sklearn.metrics import r2_score          # R2 score  is suitable for regression problem for evaluavating the model"
      ]
    },
    {
      "cell_type": "code",
      "execution_count": 94,
      "metadata": {
        "id": "6dVxj1jFlNZP"
      },
      "outputs": [],
      "source": [
        "def evaluate(mod,X_test,y_test,predict,result):\n",
        "  R2_score=r2_score(y_test,predict)\n",
        "  plt.figure(figsize=(20,10))\n",
        "  sns.jointplot(x=y_test,y=predict,data=result,kind='reg')   # plottig the graph between actual and predicted\n",
        "  plt.show()\n",
        "  print('R2 score of ',mod,' : ', R2_score) "
      ]
    },
    {
      "cell_type": "markdown",
      "metadata": {
        "id": "5sPDxGBZlh1c"
      },
      "source": [
        "# **i) Evaluation metric for logistic regression algorithm**"
      ]
    },
    {
      "cell_type": "code",
      "execution_count": 95,
      "metadata": {
        "colab": {
          "base_uri": "https://localhost:8080/",
          "height": 476
        },
        "id": "0yMw7xEGtgft",
        "outputId": "2f4508e7-fb9d-451d-f6db-ea12c5801c8a"
      },
      "outputs": [
        {
          "output_type": "display_data",
          "data": {
            "text/plain": [
              "<Figure size 1440x720 with 0 Axes>"
            ]
          },
          "metadata": {}
        },
        {
          "output_type": "display_data",
          "data": {
            "text/plain": [
              "<Figure size 432x432 with 3 Axes>"
            ],
            "image/png": "[encoded data removed]"
          },
          "metadata": {
            "needs_background": "light"
          }
        },
        {
          "output_type": "stream",
          "name": "stdout",
          "text": [
            "R2 score of  LinearRegression()  :  0.06793450883357144\n"
          ]
        }
      ],
      "source": [
        "evaluate(lin,X_test_scale,y_test,y_predict_lr,result_L)"
      ]
    },
    {
      "cell_type": "markdown",
      "metadata": {
        "id": "IX5jdH8i1GfO"
      },
      "source": [
        "# **ii) Evaluation metric for KNN classifier algorithm**"
      ]
    },
    {
      "cell_type": "code",
      "execution_count": 96,
      "metadata": {
        "colab": {
          "base_uri": "https://localhost:8080/",
          "height": 476
        },
        "id": "uPAPe-m415GT",
        "outputId": "6000ba81-7788-4d76-b1e9-7a9e7659a0d6"
      },
      "outputs": [
        {
          "output_type": "display_data",
          "data": {
            "text/plain": [
              "<Figure size 1440x720 with 0 Axes>"
            ]
          },
          "metadata": {}
        },
        {
          "output_type": "display_data",
          "data": {
            "text/plain": [
              "<Figure size 432x432 with 3 Axes>"
            ],
            "image/png": "[encoded data removed]"
          },
          "metadata": {
            "needs_background": "light"
          }
        },
        {
          "output_type": "stream",
          "name": "stdout",
          "text": [
            "R2 score of  KNeighborsRegressor(n_neighbors=1)  :  0.9802995966390173\n"
          ]
        }
      ],
      "source": [
        "evaluate(knn,X_test_scale,y_test,y_predict_knn,result_K)"
      ]
    },
    {
      "cell_type": "markdown",
      "metadata": {
        "id": "_Izvuej72GNC"
      },
      "source": [
        "# **iii) Evaluation metric for Decision Tree classifier algorithm**"
      ]
    },
    {
      "cell_type": "code",
      "execution_count": 98,
      "metadata": {
        "colab": {
          "base_uri": "https://localhost:8080/",
          "height": 476
        },
        "id": "uihAvkYA2V-D",
        "outputId": "f416eb90-0cda-4778-8cd9-773f8c9e357c"
      },
      "outputs": [
        {
          "output_type": "display_data",
          "data": {
            "text/plain": [
              "<Figure size 1440x720 with 0 Axes>"
            ]
          },
          "metadata": {}
        },
        {
          "output_type": "display_data",
          "data": {
            "text/plain": [
              "<Figure size 432x432 with 3 Axes>"
            ],
            "image/png": "[encoded data removed]"
          },
          "metadata": {
            "needs_background": "light"
          }
        },
        {
          "output_type": "stream",
          "name": "stdout",
          "text": [
            "R2 score of  DecisionTreeRegressor(max_depth=23, random_state=97)  :  0.981014350860171\n"
          ]
        }
      ],
      "source": [
        "evaluate(dt,X_test_scale,y_test,y_predict_dt,result_D)"
      ]
    },
    {
      "cell_type": "code",
      "execution_count": 97,
      "metadata": {
        "id": "wjZC-pVKAmFR"
      },
      "outputs": [],
      "source": [
        "from sklearn import tree"
      ]
    },
    {
      "cell_type": "code",
      "execution_count": 99,
      "metadata": {
        "id": "i6PqHWoOCrv9"
      },
      "outputs": [],
      "source": [
        "#fig, axes = plt.subplots(nrows = 1,ncols = 1,figsize = (30,30), dpi=400)\n",
        "#tree.plot_tree(dt,filled = True);\n",
        "#fig.savefig('imagename2.png')"
      ]
    },
    {
      "cell_type": "markdown",
      "metadata": {
        "id": "NnJi8MLg8tv3"
      },
      "source": [
        "# **iv)Evaluation metric for RandomForest classifier**"
      ]
    },
    {
      "cell_type": "code",
      "execution_count": 101,
      "metadata": {
        "colab": {
          "base_uri": "https://localhost:8080/",
          "height": 476
        },
        "id": "TP5G7XYw8653",
        "outputId": "cd9fbbb8-5206-455b-e630-2f0089a63d03"
      },
      "outputs": [
        {
          "output_type": "display_data",
          "data": {
            "text/plain": [
              "<Figure size 1440x720 with 0 Axes>"
            ]
          },
          "metadata": {}
        },
        {
          "output_type": "display_data",
          "data": {
            "text/plain": [
              "<Figure size 432x432 with 3 Axes>"
            ],
            "image/png": "[encoded data removed]"
          },
          "metadata": {
            "needs_background": "light"
          }
        },
        {
          "output_type": "stream",
          "name": "stdout",
          "text": [
            "R2 score of  RandomForestRegressor(max_features='sqrt', n_estimators=40, random_state=97)  :  0.8468510939069279\n"
          ]
        }
      ],
      "source": [
        "evaluate(rfr,X_test_scale,y_test,y_predict_rfr,result_R)"
      ]
    },
    {
      "cell_type": "markdown",
      "metadata": {
        "id": "2hYCBeWv9mCK"
      },
      "source": [
        "# **v)Evaluation metric for Xgboost classifier**"
      ]
    },
    {
      "cell_type": "code",
      "execution_count": 100,
      "metadata": {
        "colab": {
          "base_uri": "https://localhost:8080/",
          "height": 649
        },
        "id": "RgMpcHBg93lW",
        "outputId": "691abffb-8df6-4b92-8a1f-88aa950bda58"
      },
      "outputs": [
        {
          "output_type": "display_data",
          "data": {
            "text/plain": [
              "<Figure size 1440x720 with 0 Axes>"
            ]
          },
          "metadata": {}
        },
        {
          "output_type": "display_data",
          "data": {
            "text/plain": [
              "<Figure size 432x432 with 3 Axes>"
            ],
            "image/png": "[encoded data removed]"
          },
          "metadata": {
            "needs_background": "light"
          }
        },
        {
          "output_type": "stream",
          "name": "stdout",
          "text": [
            "R2 score of  XGBRegressor(base_score=None, booster=None, callbacks=None,\n",
            "             colsample_bylevel=None, colsample_bynode=None,\n",
            "             colsample_bytree=None, early_stopping_rounds=None,\n",
            "             enable_categorical=False, eval_metric=None, feature_types=None,\n",
            "             gamma=None, gpu_id=None, grow_policy=None, importance_type=None,\n",
            "             interaction_constraints=None, learning_rate=0.2, max_bin=None,\n",
            "             max_cat_threshold=None, max_cat_to_onehot=None,\n",
            "             max_delta_step=None, max_depth=None, max_leaves=None,\n",
            "             min_child_weight=None, missing=nan, monotone_constraints=None,\n",
            "             n_estimators=500, n_jobs=None, num_parallel_tree=None,\n",
            "             predictor=None, random_state=97, ...)  :  0.9886132470038804\n"
          ]
        }
      ],
      "source": [
        "evaluate(Xgb,X_test_scale,y_test,y_predict_Xgb,result_X)"
      ]
    },
    {
      "cell_type": "markdown",
      "metadata": {
        "id": "_I7ZdK5u-YL2"
      },
      "source": [
        "# **vi) evaluation metric for Voting classifier**"
      ]
    },
    {
      "cell_type": "code",
      "execution_count": 102,
      "metadata": {
        "colab": {
          "base_uri": "https://localhost:8080/",
          "height": 927
        },
        "id": "KBUvIRPW-g7-",
        "outputId": "3545fcc4-d5c0-4084-b2d2-f39ae1996820"
      },
      "outputs": [
        {
          "output_type": "display_data",
          "data": {
            "text/plain": [
              "<Figure size 1440x720 with 0 Axes>"
            ]
          },
          "metadata": {}
        },
        {
          "output_type": "display_data",
          "data": {
            "text/plain": [
              "<Figure size 432x432 with 3 Axes>"
            ],
            "image/png": "[encoded data removed]"
          },
          "metadata": {
            "needs_background": "light"
          }
        },
        {
          "output_type": "stream",
          "name": "stdout",
          "text": [
            "R2 score of  VotingRegressor(estimators=[('KNN', KNeighborsRegressor(n_neighbors=1)),\n",
            "                            ('DT',\n",
            "                             DecisionTreeRegressor(max_depth=23,\n",
            "                                                   random_state=97)),\n",
            "                            ('XGB',\n",
            "                             XGBRegressor(base_score=None, booster=None,\n",
            "                                          callbacks=None,\n",
            "                                          colsample_bylevel=None,\n",
            "                                          colsample_bynode=None,\n",
            "                                          colsample_bytree=None,\n",
            "                                          early_stopping_rounds=None,\n",
            "                                          enable_categorical=False,\n",
            "                                          eval_metric=None, feature_types=None,\n",
            "                                          g...None,\n",
            "                                          grow_policy=None,\n",
            "                                          importance_type=None,\n",
            "                                          interaction_constraints=None,\n",
            "                                          learning_rate=0.2, max_bin=None,\n",
            "                                          max_cat_threshold=None,\n",
            "                                          max_cat_to_onehot=None,\n",
            "                                          max_delta_step=None, max_depth=None,\n",
            "                                          max_leaves=None,\n",
            "                                          min_child_weight=None, missing=nan,\n",
            "                                          monotone_constraints=None,\n",
            "                                          n_estimators=500, n_jobs=None,\n",
            "                                          num_parallel_tree=None,\n",
            "                                          predictor=None, random_state=97, ...))])  :  0.9912423136211447\n"
          ]
        }
      ],
      "source": [
        "evaluate(vot,X_test_scale,y_test,y_predict_vot,result_V)\n"
      ]
    },
    {
      "cell_type": "markdown",
      "metadata": {
        "id": "bXvIJwknlpoW"
      },
      "source": [
        "# **SCORING COMPARISON**"
      ]
    },
    {
      "cell_type": "code",
      "execution_count": 103,
      "metadata": {
        "id": "MSpKSIhglx8X",
        "colab": {
          "base_uri": "https://localhost:8080/",
          "height": 238
        },
        "outputId": "d4647792-f13f-4cfe-daed-884c0ec9660a"
      },
      "outputs": [
        {
          "output_type": "execute_result",
          "data": {
            "text/plain": [
              "                      model     score\n",
              "0         Linear regression  0.067935\n",
              "1            KNN regression  0.980300\n",
              "2  Decision tree regression  0.981014\n",
              "3   RandomForest regression  0.846851\n",
              "4        XGboost regression  0.988613\n",
              "5         voting regression  0.991242"
            ],
            "text/html": [
              "\n",
              "  <div id=\"df-6e60017a-ba78-48d9-9bb2-dc61d1ca799e\">\n",
              "    <div class=\"colab-df-container\">\n",
              "      <div>\n",
              "<style scoped>\n",
              "    .dataframe tbody tr th:only-of-type {\n",
              "        vertical-align: middle;\n",
              "    }\n",
              "\n",
              "    .dataframe tbody tr th {\n",
              "        vertical-align: top;\n",
              "    }\n",
              "\n",
              "    .dataframe thead th {\n",
              "        text-align: right;\n",
              "    }\n",
              "</style>\n",
              "<table border=\"1\" class=\"dataframe\">\n",
              "  <thead>\n",
              "    <tr style=\"text-align: right;\">\n",
              "      <th></th>\n",
              "      <th>model</th>\n",
              "      <th>score</th>\n",
              "    </tr>\n",
              "  </thead>\n",
              "  <tbody>\n",
              "    <tr>\n",
              "      <th>0</th>\n",
              "      <td>Linear regression</td>\n",
              "      <td>0.067935</td>\n",
              "    </tr>\n",
              "    <tr>\n",
              "      <th>1</th>\n",
              "      <td>KNN regression</td>\n",
              "      <td>0.980300</td>\n",
              "    </tr>\n",
              "    <tr>\n",
              "      <th>2</th>\n",
              "      <td>Decision tree regression</td>\n",
              "      <td>0.981014</td>\n",
              "    </tr>\n",
              "    <tr>\n",
              "      <th>3</th>\n",
              "      <td>RandomForest regression</td>\n",
              "      <td>0.846851</td>\n",
              "    </tr>\n",
              "    <tr>\n",
              "      <th>4</th>\n",
              "      <td>XGboost regression</td>\n",
              "      <td>0.988613</td>\n",
              "    </tr>\n",
              "    <tr>\n",
              "      <th>5</th>\n",
              "      <td>voting regression</td>\n",
              "      <td>0.991242</td>\n",
              "    </tr>\n",
              "  </tbody>\n",
              "</table>\n",
              "</div>\n",
              "      <button class=\"colab-df-convert\" onclick=\"convertToInteractive('df-6e60017a-ba78-48d9-9bb2-dc61d1ca799e')\"\n",
              "              title=\"Convert this dataframe to an interactive table.\"\n",
              "              style=\"display:none;\">\n",
              "        \n",
              "  <svg xmlns=\"http://www.w3.org/2000/svg\" height=\"24px\"viewBox=\"0 0 24 24\"\n",
              "       width=\"24px\">\n",
              "    <path d=\"M0 0h24v24H0V0z\" fill=\"none\"/>\n",
              "    <path d=\"M18.56 5.44l.94 2.06.94-2.06 2.06-.94-2.06-.94-.94-2.06-.94 2.06-2.06.94zm-11 1L8.5 8.5l.94-2.06 2.06-.94-2.06-.94L8.5 2.5l-.94 2.06-2.06.94zm10 10l.94 2.06.94-2.06 2.06-.94-2.06-.94-.94-2.06-.94 2.06-2.06.94z\"/><path d=\"M17.41 7.96l-1.37-1.37c-.4-.4-.92-.59-1.43-.59-.52 0-1.04.2-1.43.59L10.3 9.45l-7.72 7.72c-.78.78-.78 2.05 0 2.83L4 21.41c.39.39.9.59 1.41.59.51 0 1.02-.2 1.41-.59l7.78-7.78 2.81-2.81c.8-.78.8-2.07 0-2.86zM5.41 20L4 18.59l7.72-7.72 1.47 1.35L5.41 20z\"/>\n",
              "  </svg>\n",
              "      </button>\n",
              "      \n",
              "  <style>\n",
              "    .colab-df-container {\n",
              "      display:flex;\n",
              "      flex-wrap:wrap;\n",
              "      gap: 12px;\n",
              "    }\n",
              "\n",
              "    .colab-df-convert {\n",
              "      background-color: #E8F0FE;\n",
              "      border: none;\n",
              "      border-radius: 50%;\n",
              "      cursor: pointer;\n",
              "      display: none;\n",
              "      fill: #1967D2;\n",
              "      height: 32px;\n",
              "      padding: 0 0 0 0;\n",
              "      width: 32px;\n",
              "    }\n",
              "\n",
              "    .colab-df-convert:hover {\n",
              "      background-color: #E2EBFA;\n",
              "      box-shadow: 0px 1px 2px rgba(60, 64, 67, 0.3), 0px 1px 3px 1px rgba(60, 64, 67, 0.15);\n",
              "      fill: #174EA6;\n",
              "    }\n",
              "\n",
              "    [theme=dark] .colab-df-convert {\n",
              "      background-color: #3B4455;\n",
              "      fill: #D2E3FC;\n",
              "    }\n",
              "\n",
              "    [theme=dark] .colab-df-convert:hover {\n",
              "      background-color: #434B5C;\n",
              "      box-shadow: 0px 1px 3px 1px rgba(0, 0, 0, 0.15);\n",
              "      filter: drop-shadow(0px 1px 2px rgba(0, 0, 0, 0.3));\n",
              "      fill: #FFFFFF;\n",
              "    }\n",
              "  </style>\n",
              "\n",
              "      <script>\n",
              "        const buttonEl =\n",
              "          document.querySelector('#df-6e60017a-ba78-48d9-9bb2-dc61d1ca799e button.colab-df-convert');\n",
              "        buttonEl.style.display =\n",
              "          google.colab.kernel.accessAllowed ? 'block' : 'none';\n",
              "\n",
              "        async function convertToInteractive(key) {\n",
              "          const element = document.querySelector('#df-6e60017a-ba78-48d9-9bb2-dc61d1ca799e');\n",
              "          const dataTable =\n",
              "            await google.colab.kernel.invokeFunction('convertToInteractive',\n",
              "                                                     [key], {});\n",
              "          if (!dataTable) return;\n",
              "\n",
              "          const docLinkHtml = 'Like what you see? Visit the ' +\n",
              "            '<a target=\"_blank\" href=https://colab.research.google.com/notebooks/data_table.ipynb>data table notebook</a>'\n",
              "            + ' to learn more about interactive tables.';\n",
              "          element.innerHTML = '';\n",
              "          dataTable['output_type'] = 'display_data';\n",
              "          await google.colab.output.renderOutput(dataTable, element);\n",
              "          const docLink = document.createElement('div');\n",
              "          docLink.innerHTML = docLinkHtml;\n",
              "          element.appendChild(docLink);\n",
              "        }\n",
              "      </script>\n",
              "    </div>\n",
              "  </div>\n",
              "  "
            ]
          },
          "metadata": {},
          "execution_count": 103
        }
      ],
      "source": [
        "score=[score_L,score_K,score_D,score_R,score_X,score_V]\n",
        "model=['Linear regression','KNN regression','Decision tree regression','RandomForest regression','XGboost regression','voting regression']\n",
        "RESULT= pd.DataFrame({'model': model, 'score': score})\n",
        "RESULT"
      ]
    },
    {
      "cell_type": "markdown",
      "metadata": {
        "id": "wy6y9-aXsCnR"
      },
      "source": [
        "# **Model Deploying**"
      ]
    },
    {
      "cell_type": "code",
      "source": [
        "y_predict_Xgb,result_X,score_X,Xgb,MAE_X=algorithm(XGBRegressor(learning_rate=0.2,n_estimators= 500,random_state=97,objective='reg:squarederror'),X_train, X_test, y_train, y_test,0.2)"
      ],
      "metadata": {
        "colab": {
          "base_uri": "https://localhost:8080/"
        },
        "id": "X2U-F57bYvPe",
        "outputId": "75da641d-88b3-4f62-b5b9-798e9c1a19fb"
      },
      "execution_count": 105,
      "outputs": [
        {
          "output_type": "stream",
          "name": "stdout",
          "text": [
            "for  0.2  value  Train Accuracy :  1.0 Val Accuracy : 0.95\n"
          ]
        }
      ]
    },
    {
      "cell_type": "code",
      "execution_count": 109,
      "metadata": {
        "id": "sDiIRcYPKAX5"
      },
      "outputs": [],
      "source": [
        "import pickle"
      ]
    },
    {
      "cell_type": "code",
      "execution_count": 110,
      "metadata": {
        "id": "sxuXCFsdQAzz"
      },
      "outputs": [],
      "source": [
        "pickle.dump(Xgb,open(f'best_Xgb_model.pkl','wb'))"
      ]
    },
    {
      "cell_type": "code",
      "execution_count": 113,
      "metadata": {
        "id": "XWGCQVyGRrjU",
        "colab": {
          "base_uri": "https://localhost:8080/"
        },
        "outputId": "be7f4cd5-72fb-4848-f17f-ec35c0ffb81b"
      },
      "outputs": [
        {
          "output_type": "execute_result",
          "data": {
            "text/plain": [
              "array([45795.523], dtype=float32)"
            ]
          },
          "metadata": {},
          "execution_count": 113
        }
      ],
      "source": [
        "model=pickle.load(open('best_Xgb_model.pkl','rb'))\n",
        "model.predict([[92,24,206,29,6,1,7,3,2016,31,0,0,0,0,0,0]])"
      ]
    },
    {
      "cell_type": "code",
      "execution_count": 114,
      "metadata": {
        "id": "CcU6_IBEtMvB",
        "colab": {
          "base_uri": "https://localhost:8080/"
        },
        "outputId": "0398cd94-31b5-4b5b-a6a1-c3d62259d370"
      },
      "outputs": [
        {
          "output_type": "stream",
          "name": "stdout",
          "text": [
            "Looking in indexes: https://pypi.org/simple, https://us-python.pkg.dev/colab-wheels/public/simple/\n",
            "Collecting streamlit\n",
            "  Downloading streamlit-1.19.0-py2.py3-none-any.whl (9.6 MB)\n",
            "\u001b[2K     \u001b[90m━━━━━━━━━━━━━━━━━━━━━━━━━━━━━━━━━━━━━━━━\u001b[0m \u001b[32m9.6/9.6 MB\u001b[0m \u001b[31m47.9 MB/s\u001b[0m eta \u001b[36m0:00:00\u001b[0m\n",
            "\u001b[?25hRequirement already satisfied: cachetools>=4.0 in /usr/local/lib/python3.9/dist-packages (from streamlit) (5.3.0)\n",
            "Requirement already satisfied: tornado>=6.0.3 in /usr/local/lib/python3.9/dist-packages (from streamlit) (6.2)\n",
            "Requirement already satisfied: pyarrow>=4.0 in /usr/local/lib/python3.9/dist-packages (from streamlit) (9.0.0)\n",
            "Collecting pydeck>=0.1.dev5\n",
            "  Downloading pydeck-0.8.0-py2.py3-none-any.whl (4.7 MB)\n",
            "\u001b[2K     \u001b[90m━━━━━━━━━━━━━━━━━━━━━━━━━━━━━━━━━━━━━━━━\u001b[0m \u001b[32m4.7/4.7 MB\u001b[0m \u001b[31m79.2 MB/s\u001b[0m eta \u001b[36m0:00:00\u001b[0m\n",
            "\u001b[?25hRequirement already satisfied: numpy in /usr/local/lib/python3.9/dist-packages (from streamlit) (1.22.4)\n",
            "Requirement already satisfied: altair>=3.2.0 in /usr/local/lib/python3.9/dist-packages (from streamlit) (4.2.2)\n",
            "Requirement already satisfied: protobuf<4,>=3.12 in /usr/local/lib/python3.9/dist-packages (from streamlit) (3.19.6)\n",
            "Requirement already satisfied: tzlocal>=1.1 in /usr/local/lib/python3.9/dist-packages (from streamlit) (4.2)\n",
            "Collecting rich>=10.11.0\n",
            "  Downloading rich-13.3.2-py3-none-any.whl (238 kB)\n",
            "\u001b[2K     \u001b[90m━━━━━━━━━━━━━━━━━━━━━━━━━━━━━━━━━━━━━━\u001b[0m \u001b[32m238.7/238.7 KB\u001b[0m \u001b[31m21.7 MB/s\u001b[0m eta \u001b[36m0:00:00\u001b[0m\n",
            "\u001b[?25hCollecting gitpython!=3.1.19\n",
            "  Downloading GitPython-3.1.31-py3-none-any.whl (184 kB)\n",
            "\u001b[2K     \u001b[90m━━━━━━━━━━━━━━━━━━━━━━━━━━━━━━━━━━━━━━\u001b[0m \u001b[32m184.3/184.3 KB\u001b[0m \u001b[31m16.6 MB/s\u001b[0m eta \u001b[36m0:00:00\u001b[0m\n",
            "\u001b[?25hRequirement already satisfied: typing-extensions>=3.10.0.0 in /usr/local/lib/python3.9/dist-packages (from streamlit) (4.5.0)\n",
            "Requirement already satisfied: pandas>=0.25 in /usr/local/lib/python3.9/dist-packages (from streamlit) (1.3.5)\n",
            "Collecting watchdog\n",
            "  Downloading watchdog-2.3.1-py3-none-manylinux2014_x86_64.whl (80 kB)\n",
            "\u001b[2K     \u001b[90m━━━━━━━━━━━━━━━━━━━━━━━━━━━━━━━━━━━━━━━━\u001b[0m \u001b[32m80.6/80.6 KB\u001b[0m \u001b[31m8.5 MB/s\u001b[0m eta \u001b[36m0:00:00\u001b[0m\n",
            "\u001b[?25hCollecting blinker>=1.0.0\n",
            "  Downloading blinker-1.5-py2.py3-none-any.whl (12 kB)\n",
            "Collecting semver\n",
            "  Downloading semver-2.13.0-py2.py3-none-any.whl (12 kB)\n",
            "Requirement already satisfied: pillow>=6.2.0 in /usr/local/lib/python3.9/dist-packages (from streamlit) (8.4.0)\n",
            "Requirement already satisfied: click>=7.0 in /usr/local/lib/python3.9/dist-packages (from streamlit) (8.1.3)\n",
            "Requirement already satisfied: packaging>=14.1 in /usr/local/lib/python3.9/dist-packages (from streamlit) (23.0)\n",
            "Collecting pympler>=0.9\n",
            "  Downloading Pympler-1.0.1-py3-none-any.whl (164 kB)\n",
            "\u001b[2K     \u001b[90m━━━━━━━━━━━━━━━━━━━━━━━━━━━━━━━━━━━━━━\u001b[0m \u001b[32m164.8/164.8 KB\u001b[0m \u001b[31m14.2 MB/s\u001b[0m eta \u001b[36m0:00:00\u001b[0m\n",
            "\u001b[?25hRequirement already satisfied: python-dateutil in /usr/local/lib/python3.9/dist-packages (from streamlit) (2.8.2)\n",
            "Requirement already satisfied: requests>=2.4 in /usr/local/lib/python3.9/dist-packages (from streamlit) (2.25.1)\n",
            "Collecting validators>=0.2\n",
            "  Downloading validators-0.20.0.tar.gz (30 kB)\n",
            "  Preparing metadata (setup.py) ... \u001b[?25l\u001b[?25hdone\n",
            "Requirement already satisfied: importlib-metadata>=1.4 in /usr/local/lib/python3.9/dist-packages (from streamlit) (6.0.0)\n",
            "Requirement already satisfied: toml in /usr/local/lib/python3.9/dist-packages (from streamlit) (0.10.2)\n",
            "Requirement already satisfied: toolz in /usr/local/lib/python3.9/dist-packages (from altair>=3.2.0->streamlit) (0.12.0)\n",
            "Requirement already satisfied: entrypoints in /usr/local/lib/python3.9/dist-packages (from altair>=3.2.0->streamlit) (0.4)\n",
            "Requirement already satisfied: jsonschema>=3.0 in /usr/local/lib/python3.9/dist-packages (from altair>=3.2.0->streamlit) (4.3.3)\n",
            "Requirement already satisfied: jinja2 in /usr/local/lib/python3.9/dist-packages (from altair>=3.2.0->streamlit) (3.1.2)\n",
            "Collecting gitdb<5,>=4.0.1\n",
            "  Downloading gitdb-4.0.10-py3-none-any.whl (62 kB)\n",
            "\u001b[2K     \u001b[90m━━━━━━━━━━━━━━━━━━━━━━━━━━━━━━━━━━━━━━━━\u001b[0m \u001b[32m62.7/62.7 KB\u001b[0m \u001b[31m6.1 MB/s\u001b[0m eta \u001b[36m0:00:00\u001b[0m\n",
            "\u001b[?25hRequirement already satisfied: zipp>=0.5 in /usr/local/lib/python3.9/dist-packages (from importlib-metadata>=1.4->streamlit) (3.15.0)\n",
            "Requirement already satisfied: pytz>=2017.3 in /usr/local/lib/python3.9/dist-packages (from pandas>=0.25->streamlit) (2022.7.1)\n",
            "Requirement already satisfied: six>=1.5 in /usr/local/lib/python3.9/dist-packages (from python-dateutil->streamlit) (1.15.0)\n",
            "Requirement already satisfied: urllib3<1.27,>=1.21.1 in /usr/local/lib/python3.9/dist-packages (from requests>=2.4->streamlit) (1.26.14)\n",
            "Requirement already satisfied: chardet<5,>=3.0.2 in /usr/local/lib/python3.9/dist-packages (from requests>=2.4->streamlit) (4.0.0)\n",
            "Requirement already satisfied: idna<3,>=2.5 in /usr/local/lib/python3.9/dist-packages (from requests>=2.4->streamlit) (2.10)\n",
            "Requirement already satisfied: certifi>=2017.4.17 in /usr/local/lib/python3.9/dist-packages (from requests>=2.4->streamlit) (2022.12.7)\n",
            "Collecting pygments<3.0.0,>=2.13.0\n",
            "  Downloading Pygments-2.14.0-py3-none-any.whl (1.1 MB)\n",
            "\u001b[2K     \u001b[90m━━━━━━━━━━━━━━━━━━━━━━━━━━━━━━━━━━━━━━━━\u001b[0m \u001b[32m1.1/1.1 MB\u001b[0m \u001b[31m46.7 MB/s\u001b[0m eta \u001b[36m0:00:00\u001b[0m\n",
            "\u001b[?25hCollecting markdown-it-py<3.0.0,>=2.2.0\n",
            "  Downloading markdown_it_py-2.2.0-py3-none-any.whl (84 kB)\n",
            "\u001b[2K     \u001b[90m━━━━━━━━━━━━━━━━━━━━━━━━━━━━━━━━━━━━━━━━\u001b[0m \u001b[32m84.5/84.5 KB\u001b[0m \u001b[31m9.0 MB/s\u001b[0m eta \u001b[36m0:00:00\u001b[0m\n",
            "\u001b[?25hRequirement already satisfied: pytz-deprecation-shim in /usr/local/lib/python3.9/dist-packages (from tzlocal>=1.1->streamlit) (0.1.0.post0)\n",
            "Requirement already satisfied: decorator>=3.4.0 in /usr/local/lib/python3.9/dist-packages (from validators>=0.2->streamlit) (4.4.2)\n",
            "Collecting smmap<6,>=3.0.1\n",
            "  Downloading smmap-5.0.0-py3-none-any.whl (24 kB)\n",
            "Requirement already satisfied: MarkupSafe>=2.0 in /usr/local/lib/python3.9/dist-packages (from jinja2->altair>=3.2.0->streamlit) (2.1.2)\n",
            "Requirement already satisfied: pyrsistent!=0.17.0,!=0.17.1,!=0.17.2,>=0.14.0 in /usr/local/lib/python3.9/dist-packages (from jsonschema>=3.0->altair>=3.2.0->streamlit) (0.19.3)\n",
            "Requirement already satisfied: attrs>=17.4.0 in /usr/local/lib/python3.9/dist-packages (from jsonschema>=3.0->altair>=3.2.0->streamlit) (22.2.0)\n",
            "Collecting mdurl~=0.1\n",
            "  Downloading mdurl-0.1.2-py3-none-any.whl (10.0 kB)\n",
            "Requirement already satisfied: tzdata in /usr/local/lib/python3.9/dist-packages (from pytz-deprecation-shim->tzlocal>=1.1->streamlit) (2022.7)\n",
            "Building wheels for collected packages: validators\n",
            "  Building wheel for validators (setup.py) ... \u001b[?25l\u001b[?25hdone\n",
            "  Created wheel for validators: filename=validators-0.20.0-py3-none-any.whl size=19581 sha256=96dae7999c6547e0600981e5d5f7e4ea43bffd736b31004c07babeb3deb5f4b3\n",
            "  Stored in directory: /root/.cache/pip/wheels/2d/f0/a8/1094fca7a7e5d0d12ff56e0c64675d72aa5cc81a5fc200e849\n",
            "Successfully built validators\n",
            "Installing collected packages: watchdog, validators, smmap, semver, pympler, pygments, mdurl, blinker, pydeck, markdown-it-py, gitdb, rich, gitpython, streamlit\n",
            "  Attempting uninstall: pygments\n",
            "    Found existing installation: Pygments 2.6.1\n",
            "    Uninstalling Pygments-2.6.1:\n",
            "      Successfully uninstalled Pygments-2.6.1\n",
            "\u001b[31mERROR: pip's dependency resolver does not currently take into account all the packages that are installed. This behaviour is the source of the following dependency conflicts.\n",
            "ipython 7.9.0 requires jedi>=0.10, which is not installed.\u001b[0m\u001b[31m\n",
            "\u001b[0mSuccessfully installed blinker-1.5 gitdb-4.0.10 gitpython-3.1.31 markdown-it-py-2.2.0 mdurl-0.1.2 pydeck-0.8.0 pygments-2.14.0 pympler-1.0.1 rich-13.3.2 semver-2.13.0 smmap-5.0.0 streamlit-1.19.0 validators-0.20.0 watchdog-2.3.1\n",
            "Looking in indexes: https://pypi.org/simple, https://us-python.pkg.dev/colab-wheels/public/simple/\n",
            "Collecting writefile\n",
            "  Downloading writefile-0.2.tar.gz (2.4 kB)\n",
            "  Preparing metadata (setup.py) ... \u001b[?25l\u001b[?25hdone\n",
            "Building wheels for collected packages: writefile\n",
            "  Building wheel for writefile (setup.py) ... \u001b[?25l\u001b[?25hdone\n",
            "  Created wheel for writefile: filename=writefile-0.2-py3-none-any.whl size=2903 sha256=4d0a0adb949e18dc8a76c270d40fd0a562f50be26ecfc61311b240c84005f075\n",
            "  Stored in directory: /root/.cache/pip/wheels/9b/5d/bd/ab2b90c9d78568fd188039d492326ee0a1b3c65f0ea4a8c8a7\n",
            "Successfully built writefile\n",
            "Installing collected packages: writefile\n",
            "Successfully installed writefile-0.2\n"
          ]
        }
      ],
      "source": [
        "!pip install streamlit\n",
        "!pip install writefile"
      ]
    },
    {
      "cell_type": "code",
      "execution_count": 120,
      "metadata": {
        "id": "kSmR41PltXKb",
        "colab": {
          "base_uri": "https://localhost:8080/"
        },
        "outputId": "2b836ec5-571a-44ac-e8e3-fc371c2decd5"
      },
      "outputs": [
        {
          "output_type": "stream",
          "name": "stdout",
          "text": [
            "Overwriting app_idf.py\n"
          ]
        }
      ],
      "source": [
        "%%writefile app_idf.py\n",
        "\n",
        "import numpy as np\n",
        "import pickle\n",
        "import pandas as pd\n",
        "import streamlit as st\n",
        "import datetime\n",
        "\n",
        "\n",
        "\n",
        "def deploy():\n",
        "  st.set_page_config(layout='wide')\n",
        "  \n",
        "  st.title('ITEM DEMAND FORECASTING')\n",
        "  st.header('Enter the item Details')\n",
        "  date=st.date_input('which date you want to Forecast :')\n",
        "  item=st.number_input('which item you want to forecast:' , min_value=1,max_value=50)\n",
        "\n",
        "  if st.button('Demand Forecast'):\n",
        "    forecast=predict(date,item)\n",
        "    forecast=np.round_(forecast,0)\n",
        "    st.success(f'Demand of {item} Item at after 3 Months is : {forecast[0]}')\n",
        "def isweekend(data):\n",
        "  if data < 5 :\n",
        "    return 0\n",
        "  else:\n",
        "    return 1\n",
        "  \n",
        "def predict(date,item):\n",
        "  date=pd.to_datetime(date)\n",
        "  duration=(pd.to_datetime(date+pd.DateOffset(months=+3))-pd.to_datetime(date)).days\n",
        "  df=pd.DataFrame({'date':[date],'item':[item],'duration':[duration]})\n",
        "  df['day']=df['date'].dt.day\n",
        "  df['dayofyear']=df['date'].dt.dayofyear\n",
        "  df['week']=df['date'].dt.weekofyear\n",
        "  df['weekday']=df['date'].dt.weekday\n",
        "  df['weekend']=[isweekend(i) for i in df['weekday']]\n",
        "  df['month']=df['date'].dt.month\n",
        "  df['quarter']=df['date'].dt.quarter\n",
        "  df['year']=df['date'].dt.year\n",
        "  df['days_count']=df['date'].dt.days_in_month.astype(int)\n",
        "  df['month_start']=df['date'].dt.is_month_start.astype(int)\n",
        "  df['month_end']=df['date'].dt.is_month_end.astype(int)\n",
        "  df['year_start']=df['date'].dt.is_year_start.astype(int)\n",
        "  df['year_end']=df['date'].dt.is_year_end.astype(int)\n",
        "  df['quarter_start']=df['date'].dt.is_quarter_start.astype(int)\n",
        "  df['quarter_end']=df['date'].dt.is_quarter_end.astype(int)\n",
        "  X_test=df.drop(['date'],axis=1).values\n",
        "  model=pickle.load(open('best_Xgb_model.pkl','rb'))\n",
        "  prediction=model.predict(X_test)\n",
        "    \n",
        "  return prediction\n",
        "  \n",
        "\n",
        "if __name__=='__main__':\n",
        "  deploy()"
      ]
    },
    {
      "cell_type": "code",
      "execution_count": 121,
      "metadata": {
        "colab": {
          "base_uri": "https://localhost:8080/"
        },
        "id": "Clhz-t5dw0eO",
        "outputId": "22d1134a-3d74-46fc-e407-baba7a5ffd8f"
      },
      "outputs": [
        {
          "output_type": "stream",
          "name": "stdout",
          "text": [
            "\u001b[K\u001b[?25hnpx: installed 22 in 3.165s\n",
            "\n",
            "Collecting usage statistics. To deactivate, set browser.gatherUsageStats to False.\n",
            "\u001b[0m\n",
            "your url is: https://early-jars-pay-34-74-228-218.loca.lt\n",
            "\u001b[0m\n",
            "\u001b[34m\u001b[1m  You can now view your Streamlit app in your browser.\u001b[0m\n",
            "\u001b[0m\n",
            "\u001b[34m  Network URL: \u001b[0m\u001b[1mhttp://172.28.0.12:8501\u001b[0m\n",
            "\u001b[34m  External URL: \u001b[0m\u001b[1mhttp://34.74.228.218:8501\u001b[0m\n",
            "\u001b[0m\n",
            "/content/app_idf.py:34: FutureWarning: Series.dt.weekofyear and Series.dt.week have been deprecated.  Please use Series.dt.isocalendar().week instead.\n",
            "  df['week']=df['date'].dt.weekofyear\n",
            "/content/app_idf.py:34: FutureWarning: Series.dt.weekofyear and Series.dt.week have been deprecated.  Please use Series.dt.isocalendar().week instead.\n",
            "  df['week']=df['date'].dt.weekofyear\n",
            "/content/app_idf.py:34: FutureWarning: Series.dt.weekofyear and Series.dt.week have been deprecated.  Please use Series.dt.isocalendar().week instead.\n",
            "  df['week']=df['date'].dt.weekofyear\n",
            "/content/app_idf.py:34: FutureWarning: Series.dt.weekofyear and Series.dt.week have been deprecated.  Please use Series.dt.isocalendar().week instead.\n",
            "  df['week']=df['date'].dt.weekofyear\n",
            "/content/app_idf.py:34: FutureWarning: Series.dt.weekofyear and Series.dt.week have been deprecated.  Please use Series.dt.isocalendar().week instead.\n",
            "  df['week']=df['date'].dt.weekofyear\n",
            "/content/app_idf.py:34: FutureWarning: Series.dt.weekofyear and Series.dt.week have been deprecated.  Please use Series.dt.isocalendar().week instead.\n",
            "  df['week']=df['date'].dt.weekofyear\n",
            "/content/app_idf.py:34: FutureWarning: Series.dt.weekofyear and Series.dt.week have been deprecated.  Please use Series.dt.isocalendar().week instead.\n",
            "  df['week']=df['date'].dt.weekofyear\n",
            "/content/app_idf.py:34: FutureWarning: Series.dt.weekofyear and Series.dt.week have been deprecated.  Please use Series.dt.isocalendar().week instead.\n",
            "  df['week']=df['date'].dt.weekofyear\n",
            "\u001b[34m  Stopping...\u001b[0m\n",
            "^C\n"
          ]
        }
      ],
      "source": [
        "!streamlit run app_idf.py & npx localtunnel --port 8501"
      ]
    }
  ],
  "metadata": {
    "colab": {
      "provenance": [],
      "authorship_tag": "ABX9TyOokM3q7wUUtHE/kYe4GYqF",
      "include_colab_link": true
    },
    "kernelspec": {
      "display_name": "Python 3",
      "name": "python3"
    },
    "language_info": {
      "name": "python"
    }
  },
  "nbformat": 4,
  "nbformat_minor": 0
}